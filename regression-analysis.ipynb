{
 "cells": [
  {
   "cell_type": "code",
   "execution_count": 647,
   "metadata": {
    "collapsed": false
   },
   "outputs": [],
   "source": [
    "%matplotlib inline\n",
    "import pandas as pd\n",
    "import numpy as np\n",
    "from sklearn.cross_validation import train_test_split\n",
    "import statsmodels.api as sm\n",
    "from statsmodels.formula.api import glm, ols\n",
    "from sklearn.linear_model import LinearRegression\n",
    "import matplotlib.pyplot as plt\n",
    "from sklearn.metrics import mean_squared_error\n",
    "from sklearn import linear_model\n",
    "from sklearn.metrics import r2_score\n",
    "from sklearn.cross_validation import KFold\n",
    "from sklearn.linear_model import Ridge\n",
    "from sklearn.linear_model import Lasso\n"
   ]
  },
  {
   "cell_type": "code",
   "execution_count": 648,
   "metadata": {
    "collapsed": false
   },
   "outputs": [
    {
     "data": {
      "text/html": [
       "<div>\n",
       "<table border=\"1\" class=\"dataframe\">\n",
       "  <thead>\n",
       "    <tr style=\"text-align: right;\">\n",
       "      <th></th>\n",
       "      <th>company_name</th>\n",
       "      <th>Series</th>\n",
       "      <th>Total_Likes</th>\n",
       "      <th>Total_Retweets</th>\n",
       "      <th>Series_Amount</th>\n",
       "      <th>Market</th>\n",
       "      <th>tweet_count</th>\n",
       "      <th>get_dayrange</th>\n",
       "      <th>get_dayiqr</th>\n",
       "      <th>likes_mean</th>\n",
       "      <th>...</th>\n",
       "      <th>is_Mobile</th>\n",
       "      <th>is_Web Hosting</th>\n",
       "      <th>mean_neg</th>\n",
       "      <th>mean_pos</th>\n",
       "      <th>total_neg</th>\n",
       "      <th>total_pos</th>\n",
       "      <th>i_Series_A</th>\n",
       "      <th>i_Series_B</th>\n",
       "      <th>i_Series_C</th>\n",
       "      <th>i_Series_D</th>\n",
       "    </tr>\n",
       "  </thead>\n",
       "  <tbody>\n",
       "    <tr>\n",
       "      <th>1</th>\n",
       "      <td>2tor</td>\n",
       "      <td>Series_C</td>\n",
       "      <td>10</td>\n",
       "      <td>32</td>\n",
       "      <td>32500000</td>\n",
       "      <td>0</td>\n",
       "      <td>162</td>\n",
       "      <td>98</td>\n",
       "      <td>42</td>\n",
       "      <td>0.061728</td>\n",
       "      <td>...</td>\n",
       "      <td>False</td>\n",
       "      <td>False</td>\n",
       "      <td>0.018364</td>\n",
       "      <td>0.042564</td>\n",
       "      <td>0.000000</td>\n",
       "      <td>0.060606</td>\n",
       "      <td>0</td>\n",
       "      <td>0</td>\n",
       "      <td>1</td>\n",
       "      <td>0</td>\n",
       "    </tr>\n",
       "    <tr>\n",
       "      <th>2</th>\n",
       "      <td>365Scores</td>\n",
       "      <td>Series_B</td>\n",
       "      <td>15</td>\n",
       "      <td>23</td>\n",
       "      <td>5500000</td>\n",
       "      <td>Apps</td>\n",
       "      <td>163</td>\n",
       "      <td>1</td>\n",
       "      <td>1</td>\n",
       "      <td>0.092025</td>\n",
       "      <td>...</td>\n",
       "      <td>False</td>\n",
       "      <td>False</td>\n",
       "      <td>0.019701</td>\n",
       "      <td>0.046836</td>\n",
       "      <td>0.006329</td>\n",
       "      <td>0.006329</td>\n",
       "      <td>0</td>\n",
       "      <td>1</td>\n",
       "      <td>0</td>\n",
       "      <td>0</td>\n",
       "    </tr>\n",
       "    <tr>\n",
       "      <th>3</th>\n",
       "      <td>36Kr</td>\n",
       "      <td>Series_C</td>\n",
       "      <td>58</td>\n",
       "      <td>21</td>\n",
       "      <td>20000</td>\n",
       "      <td>Startups</td>\n",
       "      <td>173</td>\n",
       "      <td>83</td>\n",
       "      <td>43</td>\n",
       "      <td>1.312139</td>\n",
       "      <td>...</td>\n",
       "      <td>False</td>\n",
       "      <td>False</td>\n",
       "      <td>0.036364</td>\n",
       "      <td>0.058589</td>\n",
       "      <td>0.051546</td>\n",
       "      <td>0.077320</td>\n",
       "      <td>0</td>\n",
       "      <td>0</td>\n",
       "      <td>1</td>\n",
       "      <td>0</td>\n",
       "    </tr>\n",
       "    <tr>\n",
       "      <th>4</th>\n",
       "      <td>6fusion</td>\n",
       "      <td>Series_B</td>\n",
       "      <td>2</td>\n",
       "      <td>28</td>\n",
       "      <td>7000000</td>\n",
       "      <td>Hardware + Software</td>\n",
       "      <td>177</td>\n",
       "      <td>251</td>\n",
       "      <td>131</td>\n",
       "      <td>0.011299</td>\n",
       "      <td>...</td>\n",
       "      <td>False</td>\n",
       "      <td>False</td>\n",
       "      <td>0.021415</td>\n",
       "      <td>0.037837</td>\n",
       "      <td>0.000000</td>\n",
       "      <td>0.000000</td>\n",
       "      <td>0</td>\n",
       "      <td>1</td>\n",
       "      <td>0</td>\n",
       "      <td>0</td>\n",
       "    </tr>\n",
       "    <tr>\n",
       "      <th>5</th>\n",
       "      <td>6sense</td>\n",
       "      <td>Series_A</td>\n",
       "      <td>42</td>\n",
       "      <td>43</td>\n",
       "      <td>12000000</td>\n",
       "      <td>Invest Online</td>\n",
       "      <td>215</td>\n",
       "      <td>47</td>\n",
       "      <td>24</td>\n",
       "      <td>0.195349</td>\n",
       "      <td>...</td>\n",
       "      <td>False</td>\n",
       "      <td>False</td>\n",
       "      <td>0.032787</td>\n",
       "      <td>0.070523</td>\n",
       "      <td>0.016216</td>\n",
       "      <td>0.113514</td>\n",
       "      <td>1</td>\n",
       "      <td>0</td>\n",
       "      <td>0</td>\n",
       "      <td>0</td>\n",
       "    </tr>\n",
       "  </tbody>\n",
       "</table>\n",
       "<p>5 rows × 47 columns</p>\n",
       "</div>"
      ],
      "text/plain": [
       "  company_name    Series  Total_Likes  Total_Retweets  Series_Amount  \\\n",
       "1         2tor  Series_C           10              32       32500000   \n",
       "2    365Scores  Series_B           15              23        5500000   \n",
       "3         36Kr  Series_C           58              21          20000   \n",
       "4      6fusion  Series_B            2              28        7000000   \n",
       "5       6sense  Series_A           42              43       12000000   \n",
       "\n",
       "                Market  tweet_count  get_dayrange  get_dayiqr  likes_mean  \\\n",
       "1                    0          162            98          42    0.061728   \n",
       "2                 Apps          163             1           1    0.092025   \n",
       "3             Startups          173            83          43    1.312139   \n",
       "4  Hardware + Software          177           251         131    0.011299   \n",
       "5        Invest Online          215            47          24    0.195349   \n",
       "\n",
       "      ...      is_Mobile  is_Web Hosting  mean_neg  mean_pos  total_neg  \\\n",
       "1     ...          False           False  0.018364  0.042564   0.000000   \n",
       "2     ...          False           False  0.019701  0.046836   0.006329   \n",
       "3     ...          False           False  0.036364  0.058589   0.051546   \n",
       "4     ...          False           False  0.021415  0.037837   0.000000   \n",
       "5     ...          False           False  0.032787  0.070523   0.016216   \n",
       "\n",
       "   total_pos  i_Series_A  i_Series_B  i_Series_C  i_Series_D  \n",
       "1   0.060606           0           0           1           0  \n",
       "2   0.006329           0           1           0           0  \n",
       "3   0.077320           0           0           1           0  \n",
       "4   0.000000           0           1           0           0  \n",
       "5   0.113514           1           0           0           0  \n",
       "\n",
       "[5 rows x 47 columns]"
      ]
     },
     "execution_count": 648,
     "metadata": {},
     "output_type": "execute_result"
    }
   ],
   "source": [
    "# Creates the features\n",
    "regress_data = pd.read_csv(open(\"all_features.csv\", 'rU'), encoding='utf-8', engine='c')\n",
    "regress_data = regress_data.drop('Unnamed: 0', 1)\n",
    "regress_data = regress_data.drop('Unnamed: 0.1', 1)\n",
    "regress_data = regress_data.drop('Avg_Tweets', 1)\n",
    "regress_data = regress_data.drop('is_Series_C', 1)\n",
    "regress_data = regress_data.drop('is_Series_D', 1)\n",
    "regress_data = regress_data.drop('is_Series_B', 1)\n",
    "regress_data = regress_data.drop('is_Series_A', 1)\n",
    "regress_data['Series'] = [val[1:] for val in list(regress_data['Series'])]\n",
    "regress_data['i_Series_A'] = 1 * (regress_data.Series == 'Series_A')\n",
    "regress_data['i_Series_B'] = 1 * (regress_data.Series == 'Series_B')\n",
    "regress_data['i_Series_C'] = 1 * (regress_data.Series == 'Series_C')\n",
    "regress_data['i_Series_D'] = 1 * (regress_data.Series == 'Series_D')\n",
    "regress_data = regress_data.replace([np.inf, -np.inf], 0)\n",
    "regress_data.fillna(0, inplace=True)\n",
    "\n",
    "# Break it into test and train\n",
    "itrain, itest = train_test_split(xrange(regress_data.shape[0]), train_size=0.9)\n",
    "mask=np.ones(regress_data.shape[0], dtype='int')\n",
    "mask[itrain]=1\n",
    "mask[itest]=0\n",
    "mask=(mask==1)\n",
    "regress_train = regress_data[mask]\n",
    "regress_test = regress_data[~mask]\n",
    "\n",
    "# Break it into series A, series B, series C, series D\n",
    "regress_test_A = regress_test[regress_test['Series'] == 'Series_A']\n",
    "regress_train_A = regress_train[regress_train['Series'] == 'Series_A']\n",
    "regress_test_B = regress_test[regress_test['Series'] == 'Series_B']\n",
    "regress_train_B = regress_train[regress_train['Series'] == 'Series_B']\n",
    "regress_test_C = regress_test[regress_test['Series'] == 'Series_C']\n",
    "regress_train_C = regress_train[regress_train['Series'] == 'Series_C']\n",
    "regress_test_D = regress_test[regress_test['Series'] == 'Series_D']\n",
    "regress_train_D = regress_train[regress_train['Series'] == 'Series_D']\n",
    "\n",
    "regress_train.head()"
   ]
  },
  {
   "cell_type": "markdown",
   "metadata": {},
   "source": [
    "This is the unstandardized dataset that we will be performing the regression on. We have approximately 46 features that we're running our regression on ranging from indiciator variables on the type of startup to variables that represent the average sentiment of the tweets."
   ]
  },
  {
   "cell_type": "code",
   "execution_count": 649,
   "metadata": {
    "collapsed": false
   },
   "outputs": [],
   "source": [
    "# Create stats for each of the funding rounds\n",
    "def find_stats(funding, label):\n",
    "    print '------------------------------------'\n",
    "    print 'Round: ' + label\n",
    "    amounts = funding['Series_Amount']\n",
    "    print 'Mean ' + str(np.mean(amounts))\n",
    "    print 'StDev ' + str(np.std(amounts)) \n",
    "    \n",
    "    \n",
    "# Helps visualize the log of the funding rounds\n",
    "def create_log_plot(regress_train_A, regress_train_B, regress_train_C, regress_train_D):\n",
    "    fig, axes = plt.subplots(nrows=2, ncols=2, figsize=(15,10))\n",
    "    fig.tight_layout()\n",
    "    round_title = ['Series A Funding Amounts', 'Series B Funding Amounts', 'Series C Funding Amounts', 'Series D Funding Amounts']\n",
    "    rounds = [regress_train_A, regress_train_B, regress_train_C, regress_train_D]\n",
    "    for ax, i in zip(axes.ravel(), range(len(rounds))):\n",
    "        funding = np.log((list(rounds[i]['Series_Amount'])))\n",
    "        ax.hist(funding, color='b', alpha=0.2)\n",
    "        ax.set_title(round_title[i])\n",
    "\n",
    "# Visualizes the residuals of the funding rounds\n",
    "def plot_residuals(errors):\n",
    "    fig, axes = plt.subplots(nrows=1, ncols=1, figsize=(6,6))\n",
    "    fig.tight_layout()\n",
    "    axes.hist(errors, color='b', alpha=0.2)\n",
    "    axes.set_title('Residual Analysis')"
   ]
  },
  {
   "cell_type": "markdown",
   "metadata": {},
   "source": [
    "As we showed before in our actual analysis, the actual valuation amount is very heavily skewed right. We can help change this by applying a log transform on the output data to make the output data more normal. The data after applying the log transform is shown below. This will help improve the ability of our regressors to detect correct values."
   ]
  },
  {
   "cell_type": "code",
   "execution_count": 650,
   "metadata": {
    "collapsed": false
   },
   "outputs": [
    {
     "data": {
      "image/png": "[encoded data removed]",
      "text/plain": [
       "<matplotlib.figure.Figure at 0x1114cc290>"
      ]
     },
     "metadata": {},
     "output_type": "display_data"
    }
   ],
   "source": [
    " create_log_plot(regress_train_A, regress_train_B, regress_train_C, regress_train_D)"
   ]
  },
  {
   "cell_type": "markdown",
   "metadata": {},
   "source": [
    "We will now create our data matrices for the regressions that we run. We split the data into test and train sets. We then break the data into a data matrix and a response matrix. After this, we also transform the data matrices into float values."
   ]
  },
  {
   "cell_type": "code",
   "execution_count": 651,
   "metadata": {
    "collapsed": false
   },
   "outputs": [],
   "source": [
    "features = list(regress_train_D.columns[2:])\n",
    "features.remove('Market')\n",
    "features.remove('Series_Amount')\n",
    "\n",
    "X_train = np.asmatrix(regress_train[features].astype(np.float64))\n",
    "X_test = np.asmatrix(regress_test[features].astype(np.float64))\n",
    "y_train = np.asmatrix(regress_train['Series_Amount'].apply(lambda val: np.log(val))).T\n",
    "y_test = np.asmatrix(regress_test['Series_Amount'].apply(lambda val: np.log(val))).T"
   ]
  },
  {
   "cell_type": "markdown",
   "metadata": {},
   "source": [
    "Here we try ridge regression. As we learned in class, ridge regression has the following equation form:\n",
    "\n",
    ".....\n",
    "\n",
    "We try to determine the regularization parameters we want to use. In order to limit issues, we use KFold cross validation to find this parameter and make sure that we are not incorrectly learning parameters through regressions.\n",
    "\n",
    "After this, we apply our model to the training data and compare the RMSE generated to our baseline model. "
   ]
  },
  {
   "cell_type": "code",
   "execution_count": 675,
   "metadata": {
    "collapsed": false
   },
   "outputs": [
    {
     "name": "stdout",
     "output_type": "stream",
     "text": [
      "Cross validation MSE values: {1: 0.86330209125190971, 100: 0.86298521236834758, 0.1: 0.86844646484945787, 1000: 0.91862897822313561, 10: 0.8559995174877898, 0.001: 0.8772632633082651, 10000: 0.94433758132905887, 0.01: 0.87485828803568688}\n",
      "Best a from cross validation: 10\n"
     ]
    }
   ],
   "source": [
    "vdict = {}\n",
    "rdict = {}\n",
    "for a in [0.001, 0.01, 0.1, 1, 10, 100, 1000, 10000]:\n",
    "    for cv_train, cv_test in KFold(y_train.size, 5):\n",
    "        lin_model_r = Ridge(alpha=a)\n",
    "        lin_model_r.fit(X_train[cv_train], y_train[cv_train])\n",
    "        y_pred = np.asmatrix(lin_model_r.predict(X_train[cv_test])).T\n",
    "        mse = (mean_squared_error(y_train[cv_test], y_pred.T)**(0.5))\n",
    "        vdict[a] = mse\n",
    "        rdict[a] = lin_model_r\n",
    "        \n",
    "best_a = min(vdict, key=vdict.get)\n",
    "best_ridge_model =rdict[best_a]\n",
    "\n",
    "print 'Cross validation MSE values: ' + str(vdict)\n",
    "print 'Best a from cross validation: ' + str(best_a)"
   ]
  },
  {
   "cell_type": "code",
   "execution_count": 676,
   "metadata": {
    "collapsed": false
   },
   "outputs": [
    {
     "name": "stdout",
     "output_type": "stream",
     "text": [
      "RMSE for Ridge Regression: 0.816413409842\n",
      "Baseline by predicting averages RMSE: 0.965587980545\n"
     ]
    }
   ],
   "source": [
    "y_pred = np.asmatrix(best_ridge_model.predict(X_test)).T\n",
    "mse = (mean_squared_error(y_test, y_pred.T)**(0.5))\n",
    "baseline_mean = np.log(np.asmatrix(np.mean(regress_test['Series_Amount']) * np.ones(y_test.shape[0]))).T\n",
    "\n",
    "print 'RMSE for Ridge Regression: ' + str(mse)\n",
    "print 'Baseline by predicting averages RMSE: ' + str(mean_squared_error(y_test, baseline_mean)**(0.5))"
   ]
  },
  {
   "cell_type": "markdown",
   "metadata": {},
   "source": [
    "Let's plot the residuals to see if our assumption that the remaining noise is approximately normal is true. This is one of the key assumptions of linear regression analysis. Additionally, let's determine the R squared score. "
   ]
  },
  {
   "cell_type": "code",
   "execution_count": 677,
   "metadata": {
    "collapsed": false
   },
   "outputs": [
    {
     "name": "stdout",
     "output_type": "stream",
     "text": [
      "R Squared Score: 0.16378831318\n"
     ]
    },
    {
     "data": {
      "image/png": "[encoded data removed]",
      "text/plain": [
       "<matplotlib.figure.Figure at 0x111426f50>"
      ]
     },
     "metadata": {},
     "output_type": "display_data"
    }
   ],
   "source": [
    "plot_residuals(y_test-y_pred.T)\n",
    "print 'R Squared Score: ' + str(r2_score(y_test, y_pred.T))"
   ]
  },
  {
   "cell_type": "markdown",
   "metadata": {},
   "source": [
    "As we might expect, we can see that the residuals are approximately normal in this dataset. However, when we calculate the R squared score, its relatively low. This means that the fit of the data is not particularly great. This suggests that linear regression is probably not the best way to model this data.\n",
    "\n",
    "Using regressions, we perform better than the baseline model of simply predicting the average value. However, our relatively low R squared score suggests that linear regressions is not the most ideal way to predict these valuations.\n",
    "\n",
    "We now try LASSO regression as well. This might perform a bit better than the Ridge regression because Lasso regression. Lasso regressions help move coeffecients to exactly zero because we are shrinking the regression coeffecients to zero. Lasso regressions follow the below equation\n",
    "\n",
    "....\n",
    "\n",
    "In this case, we might want to shrink the parameter regressions to zero because we have so many features that may not necessarily be related. "
   ]
  },
  {
   "cell_type": "code",
   "execution_count": 678,
   "metadata": {
    "collapsed": false,
    "scrolled": true
   },
   "outputs": [
    {
     "name": "stdout",
     "output_type": "stream",
     "text": [
      "Cross validation MSE values: {1: 0.93827657445156609, 100: 0.95104995902476475, 0.1: 0.89967062297253808, 1000: 0.95104995902476475, 10: 0.94252105356280125, 0.001: 0.8546320590672084, 10000: 0.95104995902476475, 0.01: 0.8519369412998905}\n",
      "Best a from cross validation: 0.01\n"
     ]
    }
   ],
   "source": [
    "vdict = {}\n",
    "rdict = {}\n",
    "for a in [0.001, 0.01, 0.1, 1, 10, 100, 1000, 10000]:\n",
    "    for cv_train, cv_test in KFold(y_train.size, 5):\n",
    "        lin_model_r = Lasso(alpha=a)\n",
    "        lin_model_r.fit(X_train[cv_train], y_train[cv_train])\n",
    "        y_pred = np.asmatrix(lin_model_r.predict(X_train[cv_test])).T\n",
    "        mse = (mean_squared_error(y_train[cv_test], y_pred)**(0.5))\n",
    "        vdict[a] = mse\n",
    "        rdict[a] = lin_model_r\n",
    "        \n",
    "best_a = min(vdict, key=vdict.get)\n",
    "best_lasso_model =rdict[best_a]\n",
    "\n",
    "print 'Cross validation MSE values: ' + str(vdict)\n",
    "print 'Best a from cross validation: ' + str(best_a)"
   ]
  },
  {
   "cell_type": "code",
   "execution_count": 682,
   "metadata": {
    "collapsed": false
   },
   "outputs": [
    {
     "name": "stdout",
     "output_type": "stream",
     "text": [
      "RMSE for Lasso Regression: 0.80433407259\n",
      "Baseline by predicting averages RMSE: 0.965587980545\n"
     ]
    }
   ],
   "source": [
    "y_pred = np.asmatrix(best_lasso_model.predict(X_test)).T\n",
    "mse = (mean_squared_error(y_test, y_pred)**(0.5))\n",
    "baseline_mean = np.log(np.asmatrix(np.mean(regress_test['Series_Amount']) * np.ones(y_test.shape[0]))).T\n",
    "\n",
    "print 'RMSE for Lasso Regression: ' + str(mse)\n",
    "print 'Baseline by predicting averages RMSE: ' + str(mean_squared_error(y_test, baseline_mean)**(0.5))"
   ]
  },
  {
   "cell_type": "markdown",
   "metadata": {},
   "source": [
    "Similar to before, we can look at the residuals and determine the R squared score to see whether or not this model makes sense, and whether or not the data is fitting the model well."
   ]
  },
  {
   "cell_type": "code",
   "execution_count": 685,
   "metadata": {
    "collapsed": false
   },
   "outputs": [
    {
     "name": "stdout",
     "output_type": "stream",
     "text": [
      "R Squared Score: 0.188349787744\n"
     ]
    },
    {
     "data": {
      "image/png": "[encoded data removed]",
      "text/plain": [
       "<matplotlib.figure.Figure at 0x111379910>"
      ]
     },
     "metadata": {},
     "output_type": "display_data"
    }
   ],
   "source": [
    "plot_residuals(y_test-y_pred)\n",
    "print 'R Squared Score: ' + str(r2_score(y_test, y_pred))"
   ]
  },
  {
   "cell_type": "markdown",
   "metadata": {},
   "source": [
    "In this case, we get a better RMSE using Lasso. Similar to before, our residuals look relatively normally distributed. The R squared value also suggests that there is some signal in the twitter data. \n",
    "\n",
    "This will serve as a baseline for u"
   ]
  },
  {
   "cell_type": "code",
   "execution_count": null,
   "metadata": {
    "collapsed": true
   },
   "outputs": [],
   "source": []
  }
 ],
 "metadata": {
  "kernelspec": {
   "display_name": "Python 2",
   "language": "python",
   "name": "python2"
  },
  "language_info": {
   "codemirror_mode": {
    "name": "ipython",
    "version": 2
   },
   "file_extension": ".py",
   "mimetype": "text/x-python",
   "name": "python",
   "nbconvert_exporter": "python",
   "pygments_lexer": "ipython2",
   "version": "2.7.10"
  }
 },
 "nbformat": 4,
 "nbformat_minor": 0
}
