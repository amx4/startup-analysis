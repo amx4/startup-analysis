{
 "cells": [
  {
   "cell_type": "markdown",
   "metadata": {},
   "source": [
    "This notebook indexes other notebooks in this repo."
   ]
  },
  {
   "cell_type": "markdown",
   "metadata": {},
   "source": [
    "# Data Collection"
   ]
  },
  {
   "cell_type": "markdown",
   "metadata": {},
   "source": [
    "Scraping AngelList for startup funding data: https://github.com/kyang01/startup-analysis/blob/master/angel-scraping.ipynb\n",
    "\n",
    "Scraping Crunchbase for startup funding data: https://github.com/kyang01/startup-analysis/blob/master/cb-scraping.ipynb"
   ]
  },
  {
   "cell_type": "markdown",
   "metadata": {},
   "source": [
    "Using Twitter API to get Twitter data: https://github.com/kyang01/startup-analysis/blob/d98e6455038abec2d97097eb3009fd04c508799d/Mining-the-Social-Web-2nd-Edition/ipynb/Chapter%201%20-%20Mining%20Twitter.ipynb\n",
    "\n",
    "Because of API limitations, we decided instead to scrape Twitter directly with Selenium Webdriver browser scripts and BeautifulSoup.\n",
    "\n",
    "The python notebook for scraping Twitter is https://github.com/kyang01/startup-analysis/blob/master/twitter-scraping.ipynb\n",
    "\n",
    "The python notebook for extracting tweets from BeautifulSoup files to get relevant info is https://github.com/kyang01/startup-analysis/blob/master/twitter-extraction.ipynb\n",
    "\n",
    "The tweets are located in the tweets-data folder: https://github.com/kyang01/startup-analysis/tree/master/tweets-data"
   ]
  },
  {
   "cell_type": "markdown",
   "metadata": {},
   "source": [
    "Exploratory Analysis on startups: https://github.com/kyang01/startup-analysis/blob/master/exploratory-analysis-on-startups.ipynb"
   ]
  },
  {
   "cell_type": "markdown",
   "metadata": {},
   "source": [
    "Notebook translating non-English tweets to English: https://github.com/kyang01/startup-analysis/blob/master/translate-tweets.ipynb\n",
    "\n",
    "We need to translate to evaluate sentiment via a dictionary provided by SentiWordNet."
   ]
  },
  {
   "cell_type": "markdown",
   "metadata": {},
   "source": [
    "The python notebook that reads tweet data and compute features are here: https://github.com/kyang01/startup-analysis/blob/master/extracting-tweet-features.ipynb"
   ]
  },
  {
   "cell_type": "markdown",
   "metadata": {},
   "source": [
    "The notebook that parses and lemmatizes the tweets and evaluate sentiments using SentiWordNet dictionary is here: https://github.com/kyang01/startup-analysis/blob/master/twitter-sentiment-analysis.ipynb"
   ]
  },
  {
   "cell_type": "markdown",
   "metadata": {},
   "source": [
    "Correlation analysis: https://github.com/kyang01/startup-analysis/blob/master/correlation-analysis.ipynb"
   ]
  },
  {
   "cell_type": "markdown",
   "metadata": {},
   "source": [
    "Principal Component Analysis and Support Vector Regression: https://github.com/kyang01/startup-analysis/blob/master/pca-and-svr.ipynb"
   ]
  },
  {
   "cell_type": "markdown",
   "metadata": {},
   "source": [
    "(Regularized) Linear Regression\n",
    "on unscaled data: https://github.com/kyang01/startup-analysis/blob/master/regression-analysis.ipynb\n",
    "on scaled data: https://github.com/kyang01/startup-analysis/blob/master/regression-analysis-scaled.ipynb"
   ]
  },
  {
   "cell_type": "markdown",
   "metadata": {},
   "source": [
    "Neural Nets: https://github.com/kyang01/startup-analysis/blob/master/nnets.ipynb\n",
    "(the actual code is in MATLAB)"
   ]
  },
  {
   "cell_type": "code",
   "execution_count": null,
   "metadata": {
    "collapsed": true
   },
   "outputs": [],
   "source": []
  }
 ],
 "metadata": {
  "kernelspec": {
   "display_name": "Python 2",
   "language": "python",
   "name": "python2"
  },
  "language_info": {
   "codemirror_mode": {
    "name": "ipython",
    "version": 2
   },
   "file_extension": ".py",
   "mimetype": "text/x-python",
   "name": "python",
   "nbconvert_exporter": "python",
   "pygments_lexer": "ipython2",
   "version": "2.7.10"
  }
 },
 "nbformat": 4,
 "nbformat_minor": 0
}
