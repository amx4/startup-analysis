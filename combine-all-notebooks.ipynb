{
 "cells": [
  {
   "cell_type": "code",
   "execution_count": 25,
   "metadata": {
    "collapsed": false
   },
   "outputs": [],
   "source": [
    "import json\n",
    "import os\n",
    "\n",
    "folder = \"scraping\"\n",
    "prefix = \"\"\n",
    "paths = [os.path.join(folder, name) for name in os.listdir(folder) if name.startswith(prefix) and name.endswith(\".ipynb\")]\n",
    "result = json.loads(open(paths.pop(0), \"r\").read())\n",
    "#for path in paths:\n",
    "#    result[\"worksheets\"][0][\"cells\"].extend(json.loads(open(path, \"r\").read())[\"worksheets\"][0][\"cells\"])\n",
    "#open(os.path.join(folder, \"compil_%s.ipynb\" % prefix), \"w\").write(json.dumps(result, indent = 1))\n",
    "for path in paths:\n",
    "    result[\"cells\"].extend(json.loads(open(path, \"r\").read())[\"cells\"])\n",
    "open(os.path.join(folder, \"compil_%s.ipynb\" % prefix), \"w\").write(json.dumps(result, indent = 1))"
   ]
  },
  {
   "cell_type": "code",
   "execution_count": 20,
   "metadata": {
    "collapsed": false
   },
   "outputs": [
    {
     "data": {
      "text/plain": [
       "['scraping/cb-scraping.ipynb',\n",
       " 'scraping/twitter-extraction.ipynb',\n",
       " 'scraping/twitter-scraping.ipynb']"
      ]
     },
     "execution_count": 20,
     "metadata": {},
     "output_type": "execute_result"
    }
   ],
   "source": [
    "paths"
   ]
  },
  {
   "cell_type": "code",
   "execution_count": 24,
   "metadata": {
    "collapsed": false
   },
   "outputs": [
    {
     "data": {
      "text/plain": [
       "{u'cell_type': u'code',\n",
       " u'execution_count': 2,\n",
       " u'metadata': {u'collapsed': True},\n",
       " u'outputs': [],\n",
       " u'source': [u'from bs4 import BeautifulSoup\\n',\n",
       "  u'import urllib2\\n',\n",
       "  u'import urllib\\n',\n",
       "  u'import json\\n',\n",
       "  u'import csv\\n',\n",
       "  u'import time\\n',\n",
       "  u'import pickle\\n',\n",
       "  u'import pandas as pd']}"
      ]
     },
     "execution_count": 24,
     "metadata": {},
     "output_type": "execute_result"
    }
   ],
   "source": [
    "result['cells'][0]"
   ]
  },
  {
   "cell_type": "code",
   "execution_count": 15,
   "metadata": {
    "collapsed": false
   },
   "outputs": [
    {
     "data": {
      "text/plain": [
       "[u'nbformat_minor', u'nbformat', u'cells', u'metadata']"
      ]
     },
     "execution_count": 15,
     "metadata": {},
     "output_type": "execute_result"
    }
   ],
   "source": [
    "result.keys()"
   ]
  },
  {
   "cell_type": "code",
   "execution_count": 19,
   "metadata": {
    "collapsed": false
   },
   "outputs": [
    {
     "data": {
      "text/plain": [
       "4"
      ]
     },
     "execution_count": 19,
     "metadata": {},
     "output_type": "execute_result"
    }
   ],
   "source": [
    "result['nbformat']"
   ]
  },
  {
   "cell_type": "code",
   "execution_count": 1,
   "metadata": {
    "collapsed": true
   },
   "outputs": [],
   "source": [
    "import json\n",
    "import os"
   ]
  },
  {
   "cell_type": "code",
   "execution_count": 7,
   "metadata": {
    "collapsed": false
   },
   "outputs": [
    {
     "data": {
      "text/plain": [
       "['.DS_Store',\n",
       " '.git',\n",
       " '.gitignore',\n",
       " '.ipynb_checkpoints',\n",
       " 'combine-all-notebooks.ipynb',\n",
       " 'Correlation Analysis.ipynb',\n",
       " 'data',\n",
       " 'exploratory-analysis-on-startups.ipynb',\n",
       " 'extracting-tweet-features.ipynb',\n",
       " 'imgs',\n",
       " 'Melody Twitter Sentiment Analysis Final.ipynb',\n",
       " 'Melody Twitter Sentiment Analysis.ipynb',\n",
       " 'nnets.ipynb',\n",
       " 'pca-and-svr.ipynb',\n",
       " 'README.md',\n",
       " 'regression-analysis-scaled.ipynb',\n",
       " 'regression-analysis.ipynb',\n",
       " 'scraping',\n",
       " 'support-vector-regression.ipynb',\n",
       " 'translate-tweets.ipynb',\n",
       " 'tweets-data']"
      ]
     },
     "execution_count": 7,
     "metadata": {},
     "output_type": "execute_result"
    }
   ],
   "source": [
    "os.listdir('./')"
   ]
  },
  {
   "cell_type": "code",
   "execution_count": null,
   "metadata": {
    "collapsed": true
   },
   "outputs": [],
   "source": []
  }
 ],
 "metadata": {
  "kernelspec": {
   "display_name": "Python 2",
   "language": "python",
   "name": "python2"
  },
  "language_info": {
   "codemirror_mode": {
    "name": "ipython",
    "version": 2
   },
   "file_extension": ".py",
   "mimetype": "text/x-python",
   "name": "python",
   "nbconvert_exporter": "python",
   "pygments_lexer": "ipython2",
   "version": "2.7.10"
  }
 },
 "nbformat": 4,
 "nbformat_minor": 0
}
