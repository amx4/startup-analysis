{
 "cells": [
  {
   "cell_type": "code",
   "execution_count": 1,
   "metadata": {
    "collapsed": true
   },
   "outputs": [],
   "source": [
    "%matplotlib inline\n",
    "from bs4 import BeautifulSoup\n",
    "import urllib2\n",
    "import urllib\n",
    "import json\n",
    "import csv\n",
    "import time\n",
    "import pickle\n",
    "import pandas as pd\n",
    "import numpy as np\n",
    "import scipy as sp\n",
    "import matplotlib as mpl\n",
    "import matplotlib.cm as cm\n",
    "import matplotlib.pyplot as plt\n",
    "import pandas as pd\n",
    "pd.set_option('display.width', 500)\n",
    "pd.set_option('display.max_columns', 100)\n",
    "pd.set_option('display.notebook_repr_html', True)\n",
    "import seaborn as sns\n",
    "sns.set_style(\"whitegrid\")\n",
    "sns.set_context(\"poster\")"
   ]
  },
  {
   "cell_type": "code",
   "execution_count": 2,
   "metadata": {
    "collapsed": false
   },
   "outputs": [
    {
     "data": {
      "text/html": [
       "<div>\n",
       "<table border=\"1\" class=\"dataframe\">\n",
       "  <thead>\n",
       "    <tr style=\"text-align: right;\">\n",
       "      <th></th>\n",
       "      <th>Description</th>\n",
       "      <th>Market</th>\n",
       "      <th>Names</th>\n",
       "      <th>No_Stage_Amount</th>\n",
       "      <th>No_Stage_Date</th>\n",
       "      <th>Pitch</th>\n",
       "      <th>Seed_Amount</th>\n",
       "      <th>Seed_Date</th>\n",
       "      <th>Series_A_Amount</th>\n",
       "      <th>Series_A_Date</th>\n",
       "      <th>Series_B_Amount</th>\n",
       "      <th>Series_B_Date</th>\n",
       "      <th>Series_C_Amount</th>\n",
       "      <th>Series_C_Date</th>\n",
       "      <th>Series_D_Amount</th>\n",
       "      <th>Series_D_Date</th>\n",
       "      <th>Stage</th>\n",
       "    </tr>\n",
       "  </thead>\n",
       "  <tbody>\n",
       "    <tr>\n",
       "      <th>0</th>\n",
       "      <td></td>\n",
       "      <td>Cable</td>\n",
       "      <td>Epic-Sciences</td>\n",
       "      <td></td>\n",
       "      <td></td>\n",
       "      <td></td>\n",
       "      <td></td>\n",
       "      <td></td>\n",
       "      <td></td>\n",
       "      <td></td>\n",
       "      <td>$13,000,000</td>\n",
       "      <td>Nov 13, 2012</td>\n",
       "      <td>$30,000,000</td>\n",
       "      <td>Jul 30, 2014</td>\n",
       "      <td></td>\n",
       "      <td></td>\n",
       "      <td>Series C</td>\n",
       "    </tr>\n",
       "    <tr>\n",
       "      <th>1</th>\n",
       "      <td></td>\n",
       "      <td>All Students</td>\n",
       "      <td>Apreso-Classroom</td>\n",
       "      <td></td>\n",
       "      <td></td>\n",
       "      <td></td>\n",
       "      <td></td>\n",
       "      <td></td>\n",
       "      <td></td>\n",
       "      <td></td>\n",
       "      <td>$15,000,000</td>\n",
       "      <td>Oct 14, 2008</td>\n",
       "      <td></td>\n",
       "      <td></td>\n",
       "      <td></td>\n",
       "      <td></td>\n",
       "      <td>Series B</td>\n",
       "    </tr>\n",
       "    <tr>\n",
       "      <th>2</th>\n",
       "      <td>Visualead (视觉码) creates better interactions be...</td>\n",
       "      <td>Bridging Online and Offline</td>\n",
       "      <td>Visualead</td>\n",
       "      <td></td>\n",
       "      <td></td>\n",
       "      <td>Effective and Secure Offline to Mobile experie...</td>\n",
       "      <td>$750,000</td>\n",
       "      <td>Mar 25, 2012</td>\n",
       "      <td>$1,600,000</td>\n",
       "      <td>Aug 15, 2013</td>\n",
       "      <td></td>\n",
       "      <td>Jan 20, 2015</td>\n",
       "      <td></td>\n",
       "      <td></td>\n",
       "      <td></td>\n",
       "      <td></td>\n",
       "      <td>Series B</td>\n",
       "    </tr>\n",
       "    <tr>\n",
       "      <th>3</th>\n",
       "      <td></td>\n",
       "      <td>Food Processing</td>\n",
       "      <td>Onshift</td>\n",
       "      <td>$7,000,000</td>\n",
       "      <td>Feb  3, 2014</td>\n",
       "      <td></td>\n",
       "      <td></td>\n",
       "      <td></td>\n",
       "      <td></td>\n",
       "      <td></td>\n",
       "      <td>$3,000,000</td>\n",
       "      <td>Feb  2, 2012</td>\n",
       "      <td></td>\n",
       "      <td></td>\n",
       "      <td></td>\n",
       "      <td></td>\n",
       "      <td>Series C</td>\n",
       "    </tr>\n",
       "    <tr>\n",
       "      <th>4</th>\n",
       "      <td></td>\n",
       "      <td>-</td>\n",
       "      <td>Xendex-Holding</td>\n",
       "      <td></td>\n",
       "      <td></td>\n",
       "      <td></td>\n",
       "      <td></td>\n",
       "      <td></td>\n",
       "      <td></td>\n",
       "      <td>Jun 25, 2008</td>\n",
       "      <td>$3,500,000</td>\n",
       "      <td>Nov 30, 2009</td>\n",
       "      <td></td>\n",
       "      <td></td>\n",
       "      <td></td>\n",
       "      <td></td>\n",
       "      <td>Series A</td>\n",
       "    </tr>\n",
       "  </tbody>\n",
       "</table>\n",
       "</div>"
      ],
      "text/plain": [
       "                                         Description                       Market             Names No_Stage_Amount No_Stage_Date                                              Pitch Seed_Amount     Seed_Date Series_A_Amount Series_A_Date Series_B_Amount Series_B_Date Series_C_Amount Series_C_Date Series_D_Amount Series_D_Date     Stage\n",
       "0                                                                           Cable     Epic-Sciences                                                                                                                                              $13,000,000  Nov 13, 2012     $30,000,000  Jul 30, 2014                                Series C\n",
       "1                                                                    All Students  Apreso-Classroom                                                                                                                                              $15,000,000  Oct 14, 2008                                                              Series B\n",
       "2  Visualead (视觉码) creates better interactions be...  Bridging Online and Offline         Visualead                                Effective and Secure Offline to Mobile experie...    $750,000  Mar 25, 2012      $1,600,000  Aug 15, 2013                  Jan 20, 2015                                                              Series B\n",
       "3                                                                 Food Processing           Onshift      $7,000,000  Feb  3, 2014                                                                                                                 $3,000,000  Feb  2, 2012                                                              Series C\n",
       "4                                                                               -    Xendex-Holding                                                                                                                             Jun 25, 2008      $3,500,000  Nov 30, 2009                                                              Series A"
      ]
     },
     "execution_count": 2,
     "metadata": {},
     "output_type": "execute_result"
    }
   ],
   "source": [
    "funding_df=pd.read_csv(\"funding.csv\")\n",
    "funding_df.fillna('', inplace=True)\n",
    "funding_df = funding_df.replace(['Unknown'], [''])\n",
    "funding_df.head()"
   ]
  },
  {
   "cell_type": "code",
   "execution_count": 6,
   "metadata": {
    "collapsed": false
   },
   "outputs": [
    {
     "data": {
      "text/plain": [
       "0                             Cable\n",
       "1                      All Students\n",
       "2       Bridging Online and Offline\n",
       "3                   Food Processing\n",
       "4                                 -\n",
       "5                          Software\n",
       "6                                  \n",
       "7                                 -\n",
       "8                                  \n",
       "9                       Blockchains\n",
       "10                              B2B\n",
       "11                         Colleges\n",
       "12                      Advertising\n",
       "13                         Security\n",
       "14                 Mobile Analytics\n",
       "15                           Drones\n",
       "16         Online Video Advertising\n",
       "17                         Bicycles\n",
       "18                      Home Owners\n",
       "19                        Education\n",
       "20                                 \n",
       "21                              SEO\n",
       "22                              B2B\n",
       "23               P2P Money Transfer\n",
       "24                        Databases\n",
       "25                                -\n",
       "26                  Brand Marketing\n",
       "27                         Software\n",
       "28                      Photography\n",
       "29                    Biotechnology\n",
       "                   ...             \n",
       "3177            Health and Wellness\n",
       "3178                               \n",
       "3179                              -\n",
       "3180    Reviews and Recommendations\n",
       "3181                       Software\n",
       "3182                   Crowdfunding\n",
       "3183                     Networking\n",
       "3184                  Biotechnology\n",
       "3185                  Biotechnology\n",
       "3186              Energy Efficiency\n",
       "3187                              -\n",
       "3188            Hardware + Software\n",
       "3189                       Security\n",
       "3190                       Software\n",
       "3191                     E-Commerce\n",
       "3192              Educational Games\n",
       "3193                              -\n",
       "3194                              -\n",
       "3195                              -\n",
       "3196                       Big Data\n",
       "3197                       Software\n",
       "3198                  Crowdsourcing\n",
       "3199               Clean Technology\n",
       "3200                   Construction\n",
       "3201                 Virtualization\n",
       "3202                               \n",
       "3203                        Finance\n",
       "3204                            Men\n",
       "3205                      Analytics\n",
       "3206                          Games\n",
       "Name: Market, dtype: object"
      ]
     },
     "execution_count": 6,
     "metadata": {},
     "output_type": "execute_result"
    }
   ],
   "source": [
    "funding_df['Market']"
   ]
  },
  {
   "cell_type": "code",
   "execution_count": 95,
   "metadata": {
    "collapsed": false
   },
   "outputs": [
    {
     "data": {
      "text/plain": [
       "3207"
      ]
     },
     "execution_count": 95,
     "metadata": {},
     "output_type": "execute_result"
    }
   ],
   "source": [
    "len(funding_df['Description'] != '')\n",
    "len(funding_df['Description'])"
   ]
  },
  {
   "cell_type": "code",
   "execution_count": 33,
   "metadata": {
    "collapsed": false
   },
   "outputs": [
    {
     "data": {
      "text/plain": [
       "((5974206.0607361961, 5542666.9309859239, 76000000, 56300),\n",
       " (11512685.208875287, 9372374.3103021737, 85000000, 88900),\n",
       " (16317432.270710059, 12946385.665555209, 99000000, 45),\n",
       " (16693317.080402009, 12485770.709775113, 75000000, 100000))"
      ]
     },
     "execution_count": 33,
     "metadata": {},
     "output_type": "execute_result"
    }
   ],
   "source": [
    "def find_stats(funding):\n",
    "    amounts = filter(lambda x: x!='', list(funding))\n",
    "    amounts = map(lambda x: int(x[1:].replace(',', '')), amounts)\n",
    "    return np.mean(amounts), np.std(amounts), max(amounts), min(amounts)\n",
    "    \n",
    "(find_stats(funding_df.Series_A_Amount), find_stats(funding_df.Series_B_Amount), find_stats(funding_df.Series_C_Amount), find_stats(funding_df.Series_D_Amount))"
   ]
  },
  {
   "cell_type": "markdown",
   "metadata": {},
   "source": [
    "It looks like the average Series A funding round is approximately \\$6 million, the average Series B funding round is \\$11 million, the average Series C funding round is \\$16 million, and the average Series D funding round is around \\$17 million dollars. It is extremely clear though that there is a lot of variance in the amount of money raised for each company tohugh. Let's perform some exploratory analysis by looking at some plots. "
   ]
  },
  {
   "cell_type": "code",
   "execution_count": 58,
   "metadata": {
    "collapsed": false
   },
   "outputs": [
    {
     "data": {
      "image/png": "[encoded data removed]",
      "text/plain": [
       "<matplotlib.figure.Figure at 0x10d05e950>"
      ]
     },
     "metadata": {},
     "output_type": "display_data"
    }
   ],
   "source": [
    "def create_plot(funding_df):\n",
    "    fig, axes = plt.subplots(nrows=2, ncols=2)\n",
    "    fig.tight_layout()\n",
    "    round_title = ['Series A Funding Amounts', 'Series B Funding Amounts', 'Series C Funding Amounts', 'Series D Funding Amounts']\n",
    "    rounds = [funding_df.Series_A_Amount, funding_df.Series_B_Amount, funding_df.Series_C_Amount, funding_df.Series_D_Amount]\n",
    "    for ax, i in zip(axes.ravel(), range(len(rounds))):\n",
    "        funding = rounds[i] \n",
    "        amounts = filter(lambda x: x!='', list(funding))\n",
    "        amounts = map(lambda x: int(x[1:].replace(',', '')), amounts)\n",
    "        ax.hist(amounts, color='b', alpha=0.5)\n",
    "        ax.set_title(round_title[i])\n",
    "        ax.set_xlim(0, 1e8)\n",
    "\n",
    "create_plot(funding_df)\n",
    "    "
   ]
  },
  {
   "cell_type": "markdown",
   "metadata": {},
   "source": [
    "It seems that the funding amounts are positively skewed. The funding amounts also do not follow a normal distribution."
   ]
  },
  {
   "cell_type": "markdown",
   "metadata": {},
   "source": [
    "### Naive Methods of Prediction"
   ]
  },
  {
   "cell_type": "markdown",
   "metadata": {},
   "source": [
    "Without Twitter data, let's perform the most naive way of predicting funding round amounts by predicting the average Series amount. We'll see what the root mean squared error for this method is, and use this as a baseline. "
   ]
  },
  {
   "cell_type": "code",
   "execution_count": 101,
   "metadata": {
    "collapsed": false
   },
   "outputs": [
    {
     "data": {
      "text/html": [
       "<div>\n",
       "<table border=\"1\" class=\"dataframe\">\n",
       "  <thead>\n",
       "    <tr style=\"text-align: right;\">\n",
       "      <th></th>\n",
       "      <th>Names</th>\n",
       "      <th>Series_Amount</th>\n",
       "      <th>Market</th>\n",
       "      <th>Series_Type</th>\n",
       "    </tr>\n",
       "  </thead>\n",
       "  <tbody>\n",
       "    <tr>\n",
       "      <th>2</th>\n",
       "      <td>Visualead</td>\n",
       "      <td>$1,600,000</td>\n",
       "      <td>Bridging Online and Offline</td>\n",
       "      <td>Series_A</td>\n",
       "    </tr>\n",
       "    <tr>\n",
       "      <th>5</th>\n",
       "      <td>filmloop</td>\n",
       "      <td>$5,600,000</td>\n",
       "      <td>Software</td>\n",
       "      <td>Series_A</td>\n",
       "    </tr>\n",
       "    <tr>\n",
       "      <th>6</th>\n",
       "      <td>Mochi-Media</td>\n",
       "      <td>$4,000,000</td>\n",
       "      <td></td>\n",
       "      <td>Series_A</td>\n",
       "    </tr>\n",
       "    <tr>\n",
       "      <th>7</th>\n",
       "      <td>SkyRecon-Systems</td>\n",
       "      <td>$3,730,000</td>\n",
       "      <td>-</td>\n",
       "      <td>Series_A</td>\n",
       "    </tr>\n",
       "    <tr>\n",
       "      <th>8</th>\n",
       "      <td>Lumos-Labs</td>\n",
       "      <td>$3,100,000</td>\n",
       "      <td></td>\n",
       "      <td>Series_A</td>\n",
       "    </tr>\n",
       "  </tbody>\n",
       "</table>\n",
       "</div>"
      ],
      "text/plain": [
       "              Names Series_Amount                       Market Series_Type\n",
       "2         Visualead    $1,600,000  Bridging Online and Offline    Series_A\n",
       "5          filmloop    $5,600,000                     Software    Series_A\n",
       "6       Mochi-Media    $4,000,000                                 Series_A\n",
       "7  SkyRecon-Systems    $3,730,000                            -    Series_A\n",
       "8        Lumos-Labs    $3,100,000                                 Series_A"
      ]
     },
     "execution_count": 101,
     "metadata": {},
     "output_type": "execute_result"
    }
   ],
   "source": [
    "series_A = funding_df[funding_df['Series_A_Amount'] != ''][['Names', 'Series_A_Amount', 'Market']]\n",
    "series_A.columns = ['Names', 'Series_Amount', 'Market']\n",
    "series_A['Series_Type'] = pd.Series('Series_A', index=series_A.index)\n",
    "\n",
    "series_B = funding_df[funding_df['Series_B_Amount'] != ''][['Names', 'Series_B_Amount', 'Market']]\n",
    "series_B.columns = ['Names', 'Series_Amount', 'Market']\n",
    "series_B['Series_Type'] = pd.Series('Series_B', index=series_B.index)\n",
    "\n",
    "series_C = funding_df[funding_df['Series_C_Amount'] != ''][['Names', 'Series_C_Amount', 'Market']]\n",
    "series_C.columns = ['Names', 'Series_Amount', 'Market']\n",
    "series_C['Series_Type'] = pd.Series('Series_C', index=series_C.index)\n",
    "\n",
    "series_D = funding_df[funding_df['Series_D_Amount'] != ''][['Names', 'Series_D_Amount', 'Market']]\n",
    "series_D.columns = ['Names', 'Series_Amount', 'Market']\n",
    "series_D['Series_Type'] = pd.Series('Series_D', index=series_D.index)\n",
    "\n",
    "funding_collapsed = pd.concat([series_A, series_B, series_C, series_D])\n",
    "funding_collapsed.head()"
   ]
  },
  {
   "cell_type": "markdown",
   "metadata": {},
   "source": [
    "As usual, we also create a test and train set. We will calculate the averages based off of the train set to make sure that no leakage occurs into the test set of our data. Below, we also write a root mean squared error to determine our average error. "
   ]
  },
  {
   "cell_type": "code",
   "execution_count": 118,
   "metadata": {
    "collapsed": false
   },
   "outputs": [
    {
     "data": {
      "text/html": [
       "<div>\n",
       "<table border=\"1\" class=\"dataframe\">\n",
       "  <thead>\n",
       "    <tr style=\"text-align: right;\">\n",
       "      <th></th>\n",
       "      <th>Names</th>\n",
       "      <th>Series_Amount</th>\n",
       "      <th>Market</th>\n",
       "      <th>Series_Type</th>\n",
       "    </tr>\n",
       "  </thead>\n",
       "  <tbody>\n",
       "    <tr>\n",
       "      <th>2</th>\n",
       "      <td>Visualead</td>\n",
       "      <td>$1,600,000</td>\n",
       "      <td>Bridging Online and Offline</td>\n",
       "      <td>Series_A</td>\n",
       "    </tr>\n",
       "    <tr>\n",
       "      <th>5</th>\n",
       "      <td>filmloop</td>\n",
       "      <td>$5,600,000</td>\n",
       "      <td>Software</td>\n",
       "      <td>Series_A</td>\n",
       "    </tr>\n",
       "    <tr>\n",
       "      <th>6</th>\n",
       "      <td>Mochi-Media</td>\n",
       "      <td>$4,000,000</td>\n",
       "      <td></td>\n",
       "      <td>Series_A</td>\n",
       "    </tr>\n",
       "    <tr>\n",
       "      <th>9</th>\n",
       "      <td>ROBLOX</td>\n",
       "      <td>$2,200,000</td>\n",
       "      <td>Blockchains</td>\n",
       "      <td>Series_A</td>\n",
       "    </tr>\n",
       "    <tr>\n",
       "      <th>10</th>\n",
       "      <td>SendHub</td>\n",
       "      <td>$3,000,000</td>\n",
       "      <td>B2B</td>\n",
       "      <td>Series_A</td>\n",
       "    </tr>\n",
       "  </tbody>\n",
       "</table>\n",
       "</div>"
      ],
      "text/plain": [
       "          Names Series_Amount                       Market Series_Type\n",
       "2     Visualead    $1,600,000  Bridging Online and Offline    Series_A\n",
       "5      filmloop    $5,600,000                     Software    Series_A\n",
       "6   Mochi-Media    $4,000,000                                 Series_A\n",
       "9        ROBLOX    $2,200,000                  Blockchains    Series_A\n",
       "10      SendHub    $3,000,000                          B2B    Series_A"
      ]
     },
     "execution_count": 118,
     "metadata": {},
     "output_type": "execute_result"
    }
   ],
   "source": [
    "from sklearn.cross_validation import train_test_split\n",
    "itrain, itest = train_test_split(xrange(funding_collapsed.shape[0]), train_size=0.7)\n",
    "mask=np.ones(funding_collapsed.shape[0], dtype='int')\n",
    "mask[itrain]=1\n",
    "mask[itest]=0\n",
    "mask=(mask==1)\n",
    "funding_train = funding_collapsed[mask]\n",
    "funding_test = funding_collapsed[~mask]\n",
    "funding_train.head()"
   ]
  },
  {
   "cell_type": "code",
   "execution_count": 216,
   "metadata": {
    "collapsed": false
   },
   "outputs": [
    {
     "data": {
      "text/plain": [
       "10495839.87337919"
      ]
     },
     "execution_count": 216,
     "metadata": {},
     "output_type": "execute_result"
    }
   ],
   "source": [
    "series_a_avg = find_stats(funding_train[funding_train['Series_Type'] == 'Series_A'].Series_Amount)[0]\n",
    "series_b_avg = find_stats(funding_train[funding_train['Series_Type'] == 'Series_B'].Series_Amount)[0]\n",
    "series_c_avg = find_stats(funding_train[funding_train['Series_Type'] == 'Series_C'].Series_Amount)[0]\n",
    "series_d_avg = find_stats(funding_train[funding_train['Series_Type'] == 'Series_D'].Series_Amount)[0]\n",
    "\n",
    "def return_series_avg(stage):\n",
    "    if stage == 'Series_A':\n",
    "        return series_a_avg\n",
    "    elif stage == 'Series_B':\n",
    "        return series_b_avg\n",
    "    elif stage == 'Series_C':\n",
    "        return series_c_avg \n",
    "    elif stage == 'Series_D':\n",
    "        return series_d_avg\n",
    "    else:\n",
    "        return 1\n",
    "\n",
    "def rmse(testdf):\n",
    "    return np.sqrt(np.mean(map(lambda pred, actual: (pred-int(actual[1:].replace(',', '')))**2, testdf['Predicted_Amount'], testdf['Series_Amount'])))\n",
    "    \n",
    "rmse(funding_test)"
   ]
  },
  {
   "cell_type": "markdown",
   "metadata": {},
   "source": [
    "The root mean squared error is approximately \\$10 million. This will be the baseline for the rest of our approaches through the rest of this project."
   ]
  },
  {
   "cell_type": "code",
   "execution_count": null,
   "metadata": {
    "collapsed": true
   },
   "outputs": [],
   "source": []
  }
 ],
 "metadata": {
  "kernelspec": {
   "display_name": "Python 2",
   "language": "python",
   "name": "python2"
  },
  "language_info": {
   "codemirror_mode": {
    "name": "ipython",
    "version": 2
   },
   "file_extension": ".py",
   "mimetype": "text/x-python",
   "name": "python",
   "nbconvert_exporter": "python",
   "pygments_lexer": "ipython2",
   "version": "2.7.10"
  }
 },
 "nbformat": 4,
 "nbformat_minor": 0
}
