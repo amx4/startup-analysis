{
 "cells": [
  {
   "cell_type": "code",
   "execution_count": 145,
   "metadata": {
    "collapsed": true
   },
   "outputs": [],
   "source": [
    "%matplotlib inline\n",
    "from bs4 import BeautifulSoup\n",
    "import urllib2\n",
    "import urllib\n",
    "import json\n",
    "import csv\n",
    "import time\n",
    "import pickle\n",
    "import pandas as pd\n",
    "import numpy as np\n",
    "import scipy as sp\n",
    "import matplotlib as mpl\n",
    "import matplotlib.cm as cm\n",
    "import matplotlib.pyplot as plt\n",
    "import pandas as pd\n",
    "pd.set_option('display.width', 500)\n",
    "pd.set_option('display.max_columns', 100)\n",
    "pd.set_option('display.notebook_repr_html', True)\n",
    "import seaborn as sns\n",
    "import sys\n",
    "import os\n",
    "import time\n",
    "sns.set_style(\"whitegrid\")\n",
    "sns.set_context(\"poster\")"
   ]
  },
  {
   "cell_type": "code",
   "execution_count": 172,
   "metadata": {
    "collapsed": true
   },
   "outputs": [],
   "source": [
    "import pandas as pd\n",
    "import numpy as np\n",
    "from sklearn.cross_validation import train_test_split\n",
    "import statsmodels.api as sm\n",
    "from statsmodels.formula.api import glm, ols\n",
    "from sklearn import cross_validation, datasets, svm"
   ]
  },
  {
   "cell_type": "code",
   "execution_count": 147,
   "metadata": {
    "collapsed": true
   },
   "outputs": [],
   "source": [
    "from sklearn.svm import SVR"
   ]
  },
  {
   "cell_type": "markdown",
   "metadata": {},
   "source": [
    "Let's start over. I'll download the final features file with sentiment here."
   ]
  },
  {
   "cell_type": "code",
   "execution_count": 148,
   "metadata": {
    "collapsed": false
   },
   "outputs": [],
   "source": [
    "all_features = pd.read_csv('all_features.csv')"
   ]
  },
  {
   "cell_type": "code",
   "execution_count": 149,
   "metadata": {
    "collapsed": false
   },
   "outputs": [],
   "source": [
    "# drop the 2 unnamed columns and Avg_Tweets (this column is buggy & I already computed it)\n",
    "all_features.drop(['Unnamed: 0','Unnamed: 0.1','Avg_Tweets'], axis=1, inplace=True)\n"
   ]
  },
  {
   "cell_type": "code",
   "execution_count": 150,
   "metadata": {
    "collapsed": false
   },
   "outputs": [
    {
     "data": {
      "text/html": [
       "<div>\n",
       "<table border=\"1\" class=\"dataframe\">\n",
       "  <thead>\n",
       "    <tr style=\"text-align: right;\">\n",
       "      <th></th>\n",
       "      <th>company_name</th>\n",
       "      <th>Series</th>\n",
       "      <th>Total_Likes</th>\n",
       "      <th>Total_Retweets</th>\n",
       "      <th>Series_Amount</th>\n",
       "      <th>Market</th>\n",
       "      <th>tweet_count</th>\n",
       "      <th>get_dayrange</th>\n",
       "      <th>get_dayiqr</th>\n",
       "      <th>likes_mean</th>\n",
       "      <th>retweets_mean</th>\n",
       "      <th>persontag_count_mean</th>\n",
       "      <th>hashtag_count_mean</th>\n",
       "      <th>text_length_mean</th>\n",
       "      <th>persontags_count_mean</th>\n",
       "      <th>hashtags_count_mean</th>\n",
       "      <th>links_count_mean</th>\n",
       "      <th>self_mention_mean</th>\n",
       "      <th>self_tweet_mean</th>\n",
       "      <th>likes_std</th>\n",
       "      <th>retweets_std</th>\n",
       "      <th>persontag_count_std</th>\n",
       "      <th>hashtag_count_std</th>\n",
       "      <th>text_length_std</th>\n",
       "      <th>persontags_count_std</th>\n",
       "      <th>hashtags_count_std</th>\n",
       "      <th>links_count_std</th>\n",
       "      <th>self_mention_std</th>\n",
       "      <th>self_tweet_std</th>\n",
       "      <th>is_Biotechnology</th>\n",
       "      <th>is_Software</th>\n",
       "      <th>is_Health Care</th>\n",
       "      <th>is_Enterprise Software</th>\n",
       "      <th>is_Clean Technology</th>\n",
       "      <th>is_Hardware + Software</th>\n",
       "      <th>is_Semiconductors</th>\n",
       "      <th>is_Curated Web</th>\n",
       "      <th>is_Mobile</th>\n",
       "      <th>is_Web Hosting</th>\n",
       "      <th>is_Series_A</th>\n",
       "      <th>is_Series_B</th>\n",
       "      <th>is_Series_C</th>\n",
       "      <th>is_Series_D</th>\n",
       "      <th>mean_neg</th>\n",
       "      <th>mean_pos</th>\n",
       "      <th>total_neg</th>\n",
       "      <th>total_pos</th>\n",
       "    </tr>\n",
       "  </thead>\n",
       "  <tbody>\n",
       "    <tr>\n",
       "      <th>0</th>\n",
       "      <td>1stdibs</td>\n",
       "      <td>_Series_C</td>\n",
       "      <td>230</td>\n",
       "      <td>134</td>\n",
       "      <td>15000000</td>\n",
       "      <td>Semiconductors</td>\n",
       "      <td>213</td>\n",
       "      <td>13</td>\n",
       "      <td>7</td>\n",
       "      <td>1.863850</td>\n",
       "      <td>1.521127</td>\n",
       "      <td>0.957746</td>\n",
       "      <td>1.098592</td>\n",
       "      <td>130.516432</td>\n",
       "      <td>0.934272</td>\n",
       "      <td>1.093897</td>\n",
       "      <td>0.840376</td>\n",
       "      <td>0.436620</td>\n",
       "      <td>0.145540</td>\n",
       "      <td>5.780192</td>\n",
       "      <td>7.009816</td>\n",
       "      <td>1.087276</td>\n",
       "      <td>1.882052</td>\n",
       "      <td>38.451464</td>\n",
       "      <td>1.079570</td>\n",
       "      <td>1.876018</td>\n",
       "      <td>0.458529</td>\n",
       "      <td>0.515763</td>\n",
       "      <td>0.353475</td>\n",
       "      <td>False</td>\n",
       "      <td>False</td>\n",
       "      <td>False</td>\n",
       "      <td>False</td>\n",
       "      <td>False</td>\n",
       "      <td>False</td>\n",
       "      <td>True</td>\n",
       "      <td>False</td>\n",
       "      <td>False</td>\n",
       "      <td>False</td>\n",
       "      <td>False</td>\n",
       "      <td>False</td>\n",
       "      <td>True</td>\n",
       "      <td>False</td>\n",
       "      <td>0.038290</td>\n",
       "      <td>0.068850</td>\n",
       "      <td>0.010989</td>\n",
       "      <td>0.082418</td>\n",
       "    </tr>\n",
       "    <tr>\n",
       "      <th>1</th>\n",
       "      <td>2tor</td>\n",
       "      <td>_Series_C</td>\n",
       "      <td>10</td>\n",
       "      <td>32</td>\n",
       "      <td>32500000</td>\n",
       "      <td>NaN</td>\n",
       "      <td>162</td>\n",
       "      <td>98</td>\n",
       "      <td>42</td>\n",
       "      <td>0.061728</td>\n",
       "      <td>0.197531</td>\n",
       "      <td>0.956790</td>\n",
       "      <td>0.574074</td>\n",
       "      <td>108.623457</td>\n",
       "      <td>0.864198</td>\n",
       "      <td>0.574074</td>\n",
       "      <td>0.697531</td>\n",
       "      <td>0.185185</td>\n",
       "      <td>0.000000</td>\n",
       "      <td>0.328584</td>\n",
       "      <td>0.648357</td>\n",
       "      <td>1.287053</td>\n",
       "      <td>0.648031</td>\n",
       "      <td>34.011510</td>\n",
       "      <td>1.268374</td>\n",
       "      <td>0.648031</td>\n",
       "      <td>0.486967</td>\n",
       "      <td>0.389652</td>\n",
       "      <td>0.000000</td>\n",
       "      <td>False</td>\n",
       "      <td>False</td>\n",
       "      <td>False</td>\n",
       "      <td>False</td>\n",
       "      <td>False</td>\n",
       "      <td>False</td>\n",
       "      <td>False</td>\n",
       "      <td>False</td>\n",
       "      <td>False</td>\n",
       "      <td>False</td>\n",
       "      <td>False</td>\n",
       "      <td>False</td>\n",
       "      <td>True</td>\n",
       "      <td>False</td>\n",
       "      <td>0.018364</td>\n",
       "      <td>0.042564</td>\n",
       "      <td>0.000000</td>\n",
       "      <td>0.060606</td>\n",
       "    </tr>\n",
       "    <tr>\n",
       "      <th>2</th>\n",
       "      <td>365Scores</td>\n",
       "      <td>_Series_B</td>\n",
       "      <td>15</td>\n",
       "      <td>23</td>\n",
       "      <td>5500000</td>\n",
       "      <td>Apps</td>\n",
       "      <td>163</td>\n",
       "      <td>1</td>\n",
       "      <td>1</td>\n",
       "      <td>0.092025</td>\n",
       "      <td>0.141104</td>\n",
       "      <td>0.582822</td>\n",
       "      <td>1.515337</td>\n",
       "      <td>181.895706</td>\n",
       "      <td>0.552147</td>\n",
       "      <td>1.490798</td>\n",
       "      <td>0.914110</td>\n",
       "      <td>0.184049</td>\n",
       "      <td>0.049080</td>\n",
       "      <td>0.348007</td>\n",
       "      <td>0.656189</td>\n",
       "      <td>0.822642</td>\n",
       "      <td>1.113086</td>\n",
       "      <td>43.445668</td>\n",
       "      <td>0.771029</td>\n",
       "      <td>1.090747</td>\n",
       "      <td>0.302230</td>\n",
       "      <td>0.388718</td>\n",
       "      <td>0.216700</td>\n",
       "      <td>False</td>\n",
       "      <td>False</td>\n",
       "      <td>False</td>\n",
       "      <td>False</td>\n",
       "      <td>False</td>\n",
       "      <td>False</td>\n",
       "      <td>False</td>\n",
       "      <td>False</td>\n",
       "      <td>False</td>\n",
       "      <td>False</td>\n",
       "      <td>False</td>\n",
       "      <td>True</td>\n",
       "      <td>False</td>\n",
       "      <td>False</td>\n",
       "      <td>0.019701</td>\n",
       "      <td>0.046836</td>\n",
       "      <td>0.006329</td>\n",
       "      <td>0.006329</td>\n",
       "    </tr>\n",
       "    <tr>\n",
       "      <th>3</th>\n",
       "      <td>36Kr</td>\n",
       "      <td>_Series_C</td>\n",
       "      <td>58</td>\n",
       "      <td>21</td>\n",
       "      <td>20000</td>\n",
       "      <td>Startups</td>\n",
       "      <td>173</td>\n",
       "      <td>83</td>\n",
       "      <td>43</td>\n",
       "      <td>1.312139</td>\n",
       "      <td>0.393064</td>\n",
       "      <td>0.364162</td>\n",
       "      <td>0.520231</td>\n",
       "      <td>149.664740</td>\n",
       "      <td>0.289017</td>\n",
       "      <td>0.427746</td>\n",
       "      <td>0.630058</td>\n",
       "      <td>0.023121</td>\n",
       "      <td>0.000000</td>\n",
       "      <td>12.936146</td>\n",
       "      <td>2.761100</td>\n",
       "      <td>0.792618</td>\n",
       "      <td>1.009200</td>\n",
       "      <td>85.569792</td>\n",
       "      <td>0.680070</td>\n",
       "      <td>0.896851</td>\n",
       "      <td>0.518964</td>\n",
       "      <td>0.150725</td>\n",
       "      <td>0.000000</td>\n",
       "      <td>False</td>\n",
       "      <td>False</td>\n",
       "      <td>False</td>\n",
       "      <td>False</td>\n",
       "      <td>False</td>\n",
       "      <td>False</td>\n",
       "      <td>False</td>\n",
       "      <td>False</td>\n",
       "      <td>False</td>\n",
       "      <td>False</td>\n",
       "      <td>False</td>\n",
       "      <td>False</td>\n",
       "      <td>True</td>\n",
       "      <td>False</td>\n",
       "      <td>0.036364</td>\n",
       "      <td>0.058589</td>\n",
       "      <td>0.051546</td>\n",
       "      <td>0.077320</td>\n",
       "    </tr>\n",
       "    <tr>\n",
       "      <th>4</th>\n",
       "      <td>6fusion</td>\n",
       "      <td>_Series_B</td>\n",
       "      <td>2</td>\n",
       "      <td>28</td>\n",
       "      <td>7000000</td>\n",
       "      <td>Hardware + Software</td>\n",
       "      <td>177</td>\n",
       "      <td>251</td>\n",
       "      <td>131</td>\n",
       "      <td>0.011299</td>\n",
       "      <td>0.158192</td>\n",
       "      <td>0.593220</td>\n",
       "      <td>0.468927</td>\n",
       "      <td>108.621469</td>\n",
       "      <td>0.564972</td>\n",
       "      <td>0.463277</td>\n",
       "      <td>0.576271</td>\n",
       "      <td>0.384181</td>\n",
       "      <td>0.050847</td>\n",
       "      <td>0.105996</td>\n",
       "      <td>0.462028</td>\n",
       "      <td>0.894147</td>\n",
       "      <td>0.783636</td>\n",
       "      <td>32.634132</td>\n",
       "      <td>0.896657</td>\n",
       "      <td>0.776104</td>\n",
       "      <td>0.539467</td>\n",
       "      <td>0.487781</td>\n",
       "      <td>0.220309</td>\n",
       "      <td>False</td>\n",
       "      <td>False</td>\n",
       "      <td>False</td>\n",
       "      <td>False</td>\n",
       "      <td>False</td>\n",
       "      <td>True</td>\n",
       "      <td>False</td>\n",
       "      <td>False</td>\n",
       "      <td>False</td>\n",
       "      <td>False</td>\n",
       "      <td>False</td>\n",
       "      <td>True</td>\n",
       "      <td>False</td>\n",
       "      <td>False</td>\n",
       "      <td>0.021415</td>\n",
       "      <td>0.037837</td>\n",
       "      <td>0.000000</td>\n",
       "      <td>0.000000</td>\n",
       "    </tr>\n",
       "  </tbody>\n",
       "</table>\n",
       "</div>"
      ],
      "text/plain": [
       "  company_name     Series  Total_Likes  Total_Retweets  Series_Amount               Market  tweet_count  get_dayrange  get_dayiqr  likes_mean  retweets_mean  persontag_count_mean  hashtag_count_mean  text_length_mean  persontags_count_mean  hashtags_count_mean  links_count_mean  self_mention_mean  self_tweet_mean  likes_std  retweets_std  persontag_count_std  hashtag_count_std  text_length_std  persontags_count_std  hashtags_count_std  links_count_std  self_mention_std  self_tweet_std  \\\n",
       "0      1stdibs  _Series_C          230             134       15000000       Semiconductors          213            13           7    1.863850       1.521127              0.957746            1.098592        130.516432               0.934272             1.093897          0.840376           0.436620         0.145540   5.780192      7.009816             1.087276           1.882052        38.451464              1.079570            1.876018         0.458529          0.515763        0.353475   \n",
       "1         2tor  _Series_C           10              32       32500000                  NaN          162            98          42    0.061728       0.197531              0.956790            0.574074        108.623457               0.864198             0.574074          0.697531           0.185185         0.000000   0.328584      0.648357             1.287053           0.648031        34.011510              1.268374            0.648031         0.486967          0.389652        0.000000   \n",
       "2    365Scores  _Series_B           15              23        5500000                 Apps          163             1           1    0.092025       0.141104              0.582822            1.515337        181.895706               0.552147             1.490798          0.914110           0.184049         0.049080   0.348007      0.656189             0.822642           1.113086        43.445668              0.771029            1.090747         0.302230          0.388718        0.216700   \n",
       "3         36Kr  _Series_C           58              21          20000             Startups          173            83          43    1.312139       0.393064              0.364162            0.520231        149.664740               0.289017             0.427746          0.630058           0.023121         0.000000  12.936146      2.761100             0.792618           1.009200        85.569792              0.680070            0.896851         0.518964          0.150725        0.000000   \n",
       "4      6fusion  _Series_B            2              28        7000000  Hardware + Software          177           251         131    0.011299       0.158192              0.593220            0.468927        108.621469               0.564972             0.463277          0.576271           0.384181         0.050847   0.105996      0.462028             0.894147           0.783636        32.634132              0.896657            0.776104         0.539467          0.487781        0.220309   \n",
       "\n",
       "  is_Biotechnology is_Software is_Health Care is_Enterprise Software is_Clean Technology is_Hardware + Software is_Semiconductors is_Curated Web is_Mobile is_Web Hosting is_Series_A is_Series_B is_Series_C is_Series_D  mean_neg  mean_pos  total_neg  total_pos  \n",
       "0            False       False          False                  False               False                  False              True          False     False          False       False       False        True       False  0.038290  0.068850   0.010989   0.082418  \n",
       "1            False       False          False                  False               False                  False             False          False     False          False       False       False        True       False  0.018364  0.042564   0.000000   0.060606  \n",
       "2            False       False          False                  False               False                  False             False          False     False          False       False        True       False       False  0.019701  0.046836   0.006329   0.006329  \n",
       "3            False       False          False                  False               False                  False             False          False     False          False       False       False        True       False  0.036364  0.058589   0.051546   0.077320  \n",
       "4            False       False          False                  False               False                   True             False          False     False          False       False        True       False       False  0.021415  0.037837   0.000000   0.000000  "
      ]
     },
     "execution_count": 150,
     "metadata": {},
     "output_type": "execute_result"
    }
   ],
   "source": [
    "all_features.head()"
   ]
  },
  {
   "cell_type": "code",
   "execution_count": 151,
   "metadata": {
    "collapsed": false
   },
   "outputs": [],
   "source": [
    "INDICES = ['company_name', 'Series']\n",
    "# numerical columns\n",
    "NUMCOLS = [col for col in all_features.columns if not col in ['company_name', 'Series','Market']]\n",
    "ISCOLS = [col for col in all_features.columns if col.startswith('is_')]\n",
    "NUMCOLS_NOFUNDING = [col for col in NUMCOLS if col != 'Series_Amount']"
   ]
  },
  {
   "cell_type": "code",
   "execution_count": 175,
   "metadata": {
    "collapsed": true
   },
   "outputs": [],
   "source": [
    "#NUMCOLS_SCALED = [col for col in all_features_pca.columns if col.endswith('_scaled')]\n",
    "NUMCOLS_SCALED = [col + '_scaled' for col in NUMCOLS]\n",
    "NUMCOLS_NOFUNDING_SCALED = [col + '_scaled' for col in NUMCOLS_NOFUNDING]"
   ]
  },
  {
   "cell_type": "markdown",
   "metadata": {},
   "source": [
    "Now we standardize the dataset. We only want to do this for PCA, because when we move on to prediction, we have to break the dataset up into training set and testing set and standardize them separately. Therefore, our standardization here is only applicable to pca. (Note that the transformations we did earlier are applicable to both PCA and prediction.)"
   ]
  },
  {
   "cell_type": "code",
   "execution_count": 159,
   "metadata": {
    "collapsed": true
   },
   "outputs": [],
   "source": [
    "all_features_pca = all_features.copy()"
   ]
  },
  {
   "cell_type": "code",
   "execution_count": 160,
   "metadata": {
    "collapsed": false
   },
   "outputs": [],
   "source": [
    "from scipy.stats import boxcox\n",
    "# standardize all the numerical columns, including the boolean ones\n",
    "for col in NUMCOLS_NOFUNDING:\n",
    "    # all_features[col + '_scaled'] = (all_features[col] - np.mean(all_features[col]))/np.std(all_features[col])\n",
    "    all_features_pca[col + '_scaled'] = boxcox(all_features_pca[col]+1)[0]"
   ]
  },
  {
   "cell_type": "code",
   "execution_count": 161,
   "metadata": {
    "collapsed": true
   },
   "outputs": [],
   "source": [
    "all_features_pca['Series_Amount_scaled'] = np.log(all_features_pca['Series_Amount'])"
   ]
  },
  {
   "cell_type": "code",
   "execution_count": 162,
   "metadata": {
    "collapsed": false
   },
   "outputs": [],
   "source": [
    "# left-join leaves some sentiment features hanging, remove null\n",
    "all_features_pca.dropna(inplace=True)"
   ]
  },
  {
   "cell_type": "code",
   "execution_count": 174,
   "metadata": {
    "collapsed": false
   },
   "outputs": [
    {
     "data": {
      "text/html": [
       "<div>\n",
       "<table border=\"1\" class=\"dataframe\">\n",
       "  <thead>\n",
       "    <tr style=\"text-align: right;\">\n",
       "      <th></th>\n",
       "      <th>Total_Likes_scaled</th>\n",
       "      <th>Total_Retweets_scaled</th>\n",
       "      <th>Series_Amount_scaled</th>\n",
       "      <th>tweet_count_scaled</th>\n",
       "      <th>get_dayrange_scaled</th>\n",
       "      <th>get_dayiqr_scaled</th>\n",
       "      <th>likes_mean_scaled</th>\n",
       "      <th>retweets_mean_scaled</th>\n",
       "      <th>persontag_count_mean_scaled</th>\n",
       "      <th>hashtag_count_mean_scaled</th>\n",
       "      <th>text_length_mean_scaled</th>\n",
       "      <th>persontags_count_mean_scaled</th>\n",
       "      <th>hashtags_count_mean_scaled</th>\n",
       "      <th>links_count_mean_scaled</th>\n",
       "      <th>self_mention_mean_scaled</th>\n",
       "      <th>self_tweet_mean_scaled</th>\n",
       "      <th>likes_std_scaled</th>\n",
       "      <th>retweets_std_scaled</th>\n",
       "      <th>persontag_count_std_scaled</th>\n",
       "      <th>hashtag_count_std_scaled</th>\n",
       "      <th>text_length_std_scaled</th>\n",
       "      <th>persontags_count_std_scaled</th>\n",
       "      <th>hashtags_count_std_scaled</th>\n",
       "      <th>links_count_std_scaled</th>\n",
       "      <th>self_mention_std_scaled</th>\n",
       "      <th>self_tweet_std_scaled</th>\n",
       "      <th>is_Biotechnology_scaled</th>\n",
       "      <th>is_Software_scaled</th>\n",
       "      <th>is_Health Care_scaled</th>\n",
       "      <th>is_Enterprise Software_scaled</th>\n",
       "      <th>is_Clean Technology_scaled</th>\n",
       "      <th>is_Hardware + Software_scaled</th>\n",
       "      <th>is_Semiconductors_scaled</th>\n",
       "      <th>is_Curated Web_scaled</th>\n",
       "      <th>is_Mobile_scaled</th>\n",
       "      <th>is_Web Hosting_scaled</th>\n",
       "      <th>is_Series_A_scaled</th>\n",
       "      <th>is_Series_B_scaled</th>\n",
       "      <th>is_Series_C_scaled</th>\n",
       "      <th>is_Series_D_scaled</th>\n",
       "      <th>mean_neg_scaled</th>\n",
       "      <th>mean_pos_scaled</th>\n",
       "      <th>total_neg_scaled</th>\n",
       "      <th>total_pos_scaled</th>\n",
       "    </tr>\n",
       "  </thead>\n",
       "  <tbody>\n",
       "    <tr>\n",
       "      <th>0</th>\n",
       "      <td>5.490499</td>\n",
       "      <td>14.639506</td>\n",
       "      <td>16.523561</td>\n",
       "      <td>5.604621</td>\n",
       "      <td>2.919821</td>\n",
       "      <td>2.166753</td>\n",
       "      <td>0.277495</td>\n",
       "      <td>0.444905</td>\n",
       "      <td>0.514837</td>\n",
       "      <td>0.459289</td>\n",
       "      <td>11.352009</td>\n",
       "      <td>0.497760</td>\n",
       "      <td>0.451868</td>\n",
       "      <td>0.811684</td>\n",
       "      <td>0.130784</td>\n",
       "      <td>0.075215</td>\n",
       "      <td>0.616412</td>\n",
       "      <td>0.975505</td>\n",
       "      <td>0.571855</td>\n",
       "      <td>1.166297</td>\n",
       "      <td>1.643285</td>\n",
       "      <td>0.567140</td>\n",
       "      <td>1.198732</td>\n",
       "      <td>1.311422</td>\n",
       "      <td>0.412411</td>\n",
       "      <td>0.242416</td>\n",
       "      <td>0</td>\n",
       "      <td>0</td>\n",
       "      <td>0</td>\n",
       "      <td>0</td>\n",
       "      <td>0</td>\n",
       "      <td>0.00000</td>\n",
       "      <td>0.011027</td>\n",
       "      <td>0</td>\n",
       "      <td>0</td>\n",
       "      <td>0</td>\n",
       "      <td>0.000000</td>\n",
       "      <td>0.000000</td>\n",
       "      <td>0.14693</td>\n",
       "      <td>0</td>\n",
       "      <td>0.023806</td>\n",
       "      <td>0.041962</td>\n",
       "      <td>0.009406</td>\n",
       "      <td>0.055760</td>\n",
       "    </tr>\n",
       "    <tr>\n",
       "      <th>2</th>\n",
       "      <td>2.785031</td>\n",
       "      <td>6.249428</td>\n",
       "      <td>15.520259</td>\n",
       "      <td>5.315116</td>\n",
       "      <td>0.711572</td>\n",
       "      <td>0.702672</td>\n",
       "      <td>0.075718</td>\n",
       "      <td>0.117218</td>\n",
       "      <td>0.381770</td>\n",
       "      <td>0.515318</td>\n",
       "      <td>12.913690</td>\n",
       "      <td>0.363213</td>\n",
       "      <td>0.503921</td>\n",
       "      <td>0.880747</td>\n",
       "      <td>0.098722</td>\n",
       "      <td>0.038262</td>\n",
       "      <td>0.239491</td>\n",
       "      <td>0.410241</td>\n",
       "      <td>0.487835</td>\n",
       "      <td>0.800977</td>\n",
       "      <td>1.660524</td>\n",
       "      <td>0.467299</td>\n",
       "      <td>0.805124</td>\n",
       "      <td>0.608541</td>\n",
       "      <td>0.326192</td>\n",
       "      <td>0.169518</td>\n",
       "      <td>0</td>\n",
       "      <td>0</td>\n",
       "      <td>0</td>\n",
       "      <td>0</td>\n",
       "      <td>0</td>\n",
       "      <td>0.00000</td>\n",
       "      <td>0.000000</td>\n",
       "      <td>0</td>\n",
       "      <td>0</td>\n",
       "      <td>0</td>\n",
       "      <td>0.000000</td>\n",
       "      <td>0.533597</td>\n",
       "      <td>0.00000</td>\n",
       "      <td>0</td>\n",
       "      <td>0.015238</td>\n",
       "      <td>0.033029</td>\n",
       "      <td>0.005780</td>\n",
       "      <td>0.006125</td>\n",
       "    </tr>\n",
       "    <tr>\n",
       "      <th>3</th>\n",
       "      <td>4.104487</td>\n",
       "      <td>5.957199</td>\n",
       "      <td>9.903488</td>\n",
       "      <td>5.379401</td>\n",
       "      <td>5.260371</td>\n",
       "      <td>4.079996</td>\n",
       "      <td>0.269588</td>\n",
       "      <td>0.248310</td>\n",
       "      <td>0.273717</td>\n",
       "      <td>0.316081</td>\n",
       "      <td>11.976510</td>\n",
       "      <td>0.227012</td>\n",
       "      <td>0.277611</td>\n",
       "      <td>0.613061</td>\n",
       "      <td>0.021111</td>\n",
       "      <td>0.000000</td>\n",
       "      <td>0.639420</td>\n",
       "      <td>0.794741</td>\n",
       "      <td>0.476969</td>\n",
       "      <td>0.743543</td>\n",
       "      <td>1.739574</td>\n",
       "      <td>0.431885</td>\n",
       "      <td>0.690736</td>\n",
       "      <td>1.694232</td>\n",
       "      <td>0.139991</td>\n",
       "      <td>0.000000</td>\n",
       "      <td>0</td>\n",
       "      <td>0</td>\n",
       "      <td>0</td>\n",
       "      <td>0</td>\n",
       "      <td>0</td>\n",
       "      <td>0.00000</td>\n",
       "      <td>0.000000</td>\n",
       "      <td>0</td>\n",
       "      <td>0</td>\n",
       "      <td>0</td>\n",
       "      <td>0.000000</td>\n",
       "      <td>0.000000</td>\n",
       "      <td>0.14693</td>\n",
       "      <td>0</td>\n",
       "      <td>0.023102</td>\n",
       "      <td>0.038169</td>\n",
       "      <td>0.026871</td>\n",
       "      <td>0.053475</td>\n",
       "    </tr>\n",
       "    <tr>\n",
       "      <th>4</th>\n",
       "      <td>1.100562</td>\n",
       "      <td>6.919969</td>\n",
       "      <td>15.761421</td>\n",
       "      <td>5.404103</td>\n",
       "      <td>6.859861</td>\n",
       "      <td>5.382639</td>\n",
       "      <td>0.011017</td>\n",
       "      <td>0.128725</td>\n",
       "      <td>0.386229</td>\n",
       "      <td>0.296625</td>\n",
       "      <td>10.555337</td>\n",
       "      <td>0.368737</td>\n",
       "      <td>0.291959</td>\n",
       "      <td>0.561849</td>\n",
       "      <td>0.127480</td>\n",
       "      <td>0.039307</td>\n",
       "      <td>0.093336</td>\n",
       "      <td>0.324586</td>\n",
       "      <td>0.512519</td>\n",
       "      <td>0.609930</td>\n",
       "      <td>1.618482</td>\n",
       "      <td>0.511339</td>\n",
       "      <td>0.614898</td>\n",
       "      <td>1.841145</td>\n",
       "      <td>0.394084</td>\n",
       "      <td>0.171709</td>\n",
       "      <td>0</td>\n",
       "      <td>0</td>\n",
       "      <td>0</td>\n",
       "      <td>0</td>\n",
       "      <td>0</td>\n",
       "      <td>0.01024</td>\n",
       "      <td>0.000000</td>\n",
       "      <td>0</td>\n",
       "      <td>0</td>\n",
       "      <td>0</td>\n",
       "      <td>0.000000</td>\n",
       "      <td>0.533597</td>\n",
       "      <td>0.00000</td>\n",
       "      <td>0</td>\n",
       "      <td>0.016218</td>\n",
       "      <td>0.028414</td>\n",
       "      <td>0.000000</td>\n",
       "      <td>0.000000</td>\n",
       "    </tr>\n",
       "    <tr>\n",
       "      <th>5</th>\n",
       "      <td>3.784122</td>\n",
       "      <td>8.582139</td>\n",
       "      <td>16.300417</td>\n",
       "      <td>5.614763</td>\n",
       "      <td>4.495134</td>\n",
       "      <td>3.431288</td>\n",
       "      <td>0.132559</td>\n",
       "      <td>0.178719</td>\n",
       "      <td>0.408271</td>\n",
       "      <td>0.307725</td>\n",
       "      <td>10.393207</td>\n",
       "      <td>0.381483</td>\n",
       "      <td>0.287164</td>\n",
       "      <td>0.179790</td>\n",
       "      <td>0.070466</td>\n",
       "      <td>0.000000</td>\n",
       "      <td>0.320381</td>\n",
       "      <td>0.541618</td>\n",
       "      <td>0.473348</td>\n",
       "      <td>0.830200</td>\n",
       "      <td>1.725437</td>\n",
       "      <td>0.458708</td>\n",
       "      <td>0.791061</td>\n",
       "      <td>0.940555</td>\n",
       "      <td>0.263841</td>\n",
       "      <td>0.000000</td>\n",
       "      <td>0</td>\n",
       "      <td>0</td>\n",
       "      <td>0</td>\n",
       "      <td>0</td>\n",
       "      <td>0</td>\n",
       "      <td>0.00000</td>\n",
       "      <td>0.000000</td>\n",
       "      <td>0</td>\n",
       "      <td>0</td>\n",
       "      <td>0</td>\n",
       "      <td>0.213086</td>\n",
       "      <td>0.000000</td>\n",
       "      <td>0.00000</td>\n",
       "      <td>0</td>\n",
       "      <td>0.021695</td>\n",
       "      <td>0.042527</td>\n",
       "      <td>0.012933</td>\n",
       "      <td>0.067520</td>\n",
       "    </tr>\n",
       "  </tbody>\n",
       "</table>\n",
       "</div>"
      ],
      "text/plain": [
       "   Total_Likes_scaled  Total_Retweets_scaled  Series_Amount_scaled  tweet_count_scaled  get_dayrange_scaled  get_dayiqr_scaled  likes_mean_scaled  retweets_mean_scaled  persontag_count_mean_scaled  hashtag_count_mean_scaled  text_length_mean_scaled  persontags_count_mean_scaled  hashtags_count_mean_scaled  links_count_mean_scaled  self_mention_mean_scaled  self_tweet_mean_scaled  likes_std_scaled  retweets_std_scaled  persontag_count_std_scaled  hashtag_count_std_scaled  \\\n",
       "0            5.490499              14.639506             16.523561            5.604621             2.919821           2.166753           0.277495              0.444905                     0.514837                   0.459289                11.352009                      0.497760                    0.451868                 0.811684                  0.130784                0.075215          0.616412             0.975505                    0.571855                  1.166297   \n",
       "2            2.785031               6.249428             15.520259            5.315116             0.711572           0.702672           0.075718              0.117218                     0.381770                   0.515318                12.913690                      0.363213                    0.503921                 0.880747                  0.098722                0.038262          0.239491             0.410241                    0.487835                  0.800977   \n",
       "3            4.104487               5.957199              9.903488            5.379401             5.260371           4.079996           0.269588              0.248310                     0.273717                   0.316081                11.976510                      0.227012                    0.277611                 0.613061                  0.021111                0.000000          0.639420             0.794741                    0.476969                  0.743543   \n",
       "4            1.100562               6.919969             15.761421            5.404103             6.859861           5.382639           0.011017              0.128725                     0.386229                   0.296625                10.555337                      0.368737                    0.291959                 0.561849                  0.127480                0.039307          0.093336             0.324586                    0.512519                  0.609930   \n",
       "5            3.784122               8.582139             16.300417            5.614763             4.495134           3.431288           0.132559              0.178719                     0.408271                   0.307725                10.393207                      0.381483                    0.287164                 0.179790                  0.070466                0.000000          0.320381             0.541618                    0.473348                  0.830200   \n",
       "\n",
       "   text_length_std_scaled  persontags_count_std_scaled  hashtags_count_std_scaled  links_count_std_scaled  self_mention_std_scaled  self_tweet_std_scaled  is_Biotechnology_scaled  is_Software_scaled  is_Health Care_scaled  is_Enterprise Software_scaled  is_Clean Technology_scaled  is_Hardware + Software_scaled  is_Semiconductors_scaled  is_Curated Web_scaled  is_Mobile_scaled  is_Web Hosting_scaled  is_Series_A_scaled  is_Series_B_scaled  is_Series_C_scaled  is_Series_D_scaled  \\\n",
       "0                1.643285                     0.567140                   1.198732                1.311422                 0.412411               0.242416                        0                   0                      0                              0                           0                        0.00000                  0.011027                      0                 0                      0            0.000000            0.000000             0.14693                   0   \n",
       "2                1.660524                     0.467299                   0.805124                0.608541                 0.326192               0.169518                        0                   0                      0                              0                           0                        0.00000                  0.000000                      0                 0                      0            0.000000            0.533597             0.00000                   0   \n",
       "3                1.739574                     0.431885                   0.690736                1.694232                 0.139991               0.000000                        0                   0                      0                              0                           0                        0.00000                  0.000000                      0                 0                      0            0.000000            0.000000             0.14693                   0   \n",
       "4                1.618482                     0.511339                   0.614898                1.841145                 0.394084               0.171709                        0                   0                      0                              0                           0                        0.01024                  0.000000                      0                 0                      0            0.000000            0.533597             0.00000                   0   \n",
       "5                1.725437                     0.458708                   0.791061                0.940555                 0.263841               0.000000                        0                   0                      0                              0                           0                        0.00000                  0.000000                      0                 0                      0            0.213086            0.000000             0.00000                   0   \n",
       "\n",
       "   mean_neg_scaled  mean_pos_scaled  total_neg_scaled  total_pos_scaled  \n",
       "0         0.023806         0.041962          0.009406          0.055760  \n",
       "2         0.015238         0.033029          0.005780          0.006125  \n",
       "3         0.023102         0.038169          0.026871          0.053475  \n",
       "4         0.016218         0.028414          0.000000          0.000000  \n",
       "5         0.021695         0.042527          0.012933          0.067520  "
      ]
     },
     "execution_count": 174,
     "metadata": {},
     "output_type": "execute_result"
    }
   ],
   "source": [
    "all_features_pca[NUMCOLS_SCALED].head()"
   ]
  },
  {
   "cell_type": "code",
   "execution_count": 176,
   "metadata": {
    "collapsed": false
   },
   "outputs": [
    {
     "data": {
      "text/plain": [
       "<matplotlib.collections.PathCollection at 0x113ab2290>"
      ]
     },
     "execution_count": 176,
     "metadata": {},
     "output_type": "execute_result"
    },
    {
     "data": {
      "image/png": "[encoded data removed]",
      "text/plain": [
       "<matplotlib.figure.Figure at 0x10fc27e10>"
      ]
     },
     "metadata": {},
     "output_type": "display_data"
    }
   ],
   "source": [
    "from sklearn.decomposition import PCA\n",
    "pca = PCA()\n",
    "temp = pca.fit_transform(all_features_pca[NUMCOLS_SCALED])\n",
    "plt.scatter([point[0] for point in temp],[point[1] for point in temp])"
   ]
  },
  {
   "cell_type": "code",
   "execution_count": 167,
   "metadata": {
    "collapsed": true
   },
   "outputs": [],
   "source": [
    "# Save the resulting file to CSV\n",
    "all_features_pca.to_csv('all_features_pca.csv')"
   ]
  },
  {
   "cell_type": "code",
   "execution_count": 168,
   "metadata": {
    "collapsed": false
   },
   "outputs": [
    {
     "data": {
      "text/plain": [
       "<matplotlib.text.Text at 0x113351e10>"
      ]
     },
     "execution_count": 168,
     "metadata": {},
     "output_type": "execute_result"
    },
    {
     "data": {
      "image/png": "[encoded data removed]",
      "text/plain": [
       "<matplotlib.figure.Figure at 0x10fc90cd0>"
      ]
     },
     "metadata": {},
     "output_type": "display_data"
    }
   ],
   "source": [
    "plt.plot(np.cumsum(pca.explained_variance_ratio_))\n",
    "plt.xlabel('Number of PCA features')\n",
    "plt.ylabel('Proportion of variance explained by PCA')\n",
    "plt.title('PCA explains variance')"
   ]
  },
  {
   "cell_type": "markdown",
   "metadata": {},
   "source": [
    "After standardizing, 3 features explains 95% of the variance! 5 features explain 98% of the variance."
   ]
  },
  {
   "cell_type": "markdown",
   "metadata": {},
   "source": [
    "## Support Vector Regression"
   ]
  },
  {
   "cell_type": "markdown",
   "metadata": {},
   "source": [
    "Separate the dataset into training and testing"
   ]
  },
  {
   "cell_type": "code",
   "execution_count": 170,
   "metadata": {
    "collapsed": false
   },
   "outputs": [],
   "source": [
    "itrain, itest = train_test_split(xrange(all_features.shape[0]), train_size=0.9)\n",
    "mask=np.ones(all_features.shape[0], dtype='int')\n",
    "mask[itrain]=1\n",
    "mask[itest]=0\n",
    "mask=(mask==1)\n",
    "df_train = all_features[mask]\n",
    "df_test = all_features[~mask]"
   ]
  },
  {
   "cell_type": "markdown",
   "metadata": {},
   "source": [
    "We can see that some features are (quite intuitively) correlated. For example, below we see that log total likes and log total retweets have an approximate linear relationship. This is intuitively plausible. A popular tweet will get a lot of likes and a lot of retweets at the same time, and numbers of likes and retweets are often exponential, so we take logs."
   ]
  },
  {
   "cell_type": "code",
   "execution_count": 171,
   "metadata": {
    "collapsed": false
   },
   "outputs": [
    {
     "data": {
      "text/plain": [
       "<matplotlib.collections.PathCollection at 0x11356fb90>"
      ]
     },
     "execution_count": 171,
     "metadata": {},
     "output_type": "execute_result"
    },
    {
     "data": {
      "image/png": "[encoded data removed]",
      "text/plain": [
       "<matplotlib.figure.Figure at 0x10adef290>"
      ]
     },
     "metadata": {},
     "output_type": "display_data"
    }
   ],
   "source": [
    "plt.scatter(np.log(df_train['Total_Likes']), np.log(df_train['Total_Retweets']))"
   ]
  },
  {
   "cell_type": "markdown",
   "metadata": {},
   "source": [
    "The relationship between, say, the total number of likes, and the target variable are much more tenuous."
   ]
  },
  {
   "cell_type": "code",
   "execution_count": 68,
   "metadata": {
    "collapsed": false
   },
   "outputs": [
    {
     "data": {
      "text/plain": [
       "<matplotlib.collections.PathCollection at 0x10cf3f710>"
      ]
     },
     "execution_count": 68,
     "metadata": {},
     "output_type": "execute_result"
    },
    {
     "data": {
      "image/png": "[encoded data removed]",
      "text/plain": [
       "<matplotlib.figure.Figure at 0x109b96250>"
      ]
     },
     "metadata": {},
     "output_type": "display_data"
    }
   ],
   "source": [
    "plt.scatter(np.log(df_train['Total_Likes']), np.log(df_train['Series_Amount']))"
   ]
  },
  {
   "cell_type": "code",
   "execution_count": 277,
   "metadata": {
    "collapsed": false
   },
   "outputs": [],
   "source": [
    "def get_rmse(s, s_predict):\n",
    "    s, s_predict = pd.Series(s), pd.Series(s_predict)\n",
    "    s, s_predict = np.array(s), np.array(s_predict)\n",
    "    diff = s - s_predict\n",
    "    return np.sqrt(np.dot(diff,diff)/diff.shape[0])"
   ]
  },
  {
   "cell_type": "code",
   "execution_count": 117,
   "metadata": {
    "collapsed": true
   },
   "outputs": [],
   "source": [
    "from sklearn import cross_validation, datasets, svm"
   ]
  },
  {
   "cell_type": "code",
   "execution_count": 178,
   "metadata": {
    "collapsed": false
   },
   "outputs": [
    {
     "name": "stderr",
     "output_type": "stream",
     "text": [
      "/Users/Jerry/anaconda/lib/python2.7/site-packages/IPython/kernel/__main__.py:5: SettingWithCopyWarning: \n",
      "A value is trying to be set on a copy of a slice from a DataFrame.\n",
      "Try using .loc[row_indexer,col_indexer] = value instead\n",
      "\n",
      "See the the caveats in the documentation: http://pandas.pydata.org/pandas-docs/stable/indexing.html#indexing-view-versus-copy\n",
      "/Users/Jerry/anaconda/lib/python2.7/site-packages/IPython/kernel/__main__.py:6: SettingWithCopyWarning: \n",
      "A value is trying to be set on a copy of a slice from a DataFrame.\n",
      "Try using .loc[row_indexer,col_indexer] = value instead\n",
      "\n",
      "See the the caveats in the documentation: http://pandas.pydata.org/pandas-docs/stable/indexing.html#indexing-view-versus-copy\n"
     ]
    }
   ],
   "source": [
    "# standardize the training set and the testing set separately\n",
    "for df in [df_train, df_test]:\n",
    "    for col in NUMCOLS_NOFUNDING:\n",
    "        # all_features[col + '_scaled'] = (all_features[col] - np.mean(all_features[col]))/np.std(all_features[col])\n",
    "        df[col + '_scaled'] = boxcox(df[col]+1)[0]\n",
    "    df['Series_Amount_scaled'] = np.log(df['Series_Amount'])"
   ]
  },
  {
   "cell_type": "code",
   "execution_count": 187,
   "metadata": {
    "collapsed": true
   },
   "outputs": [],
   "source": [
    "svr_rbf = SVR(kernel='rbf')\n",
    "svr_lin = SVR(kernel='linear')\n",
    "svr_poly = SVR(kernel='poly')\n"
   ]
  },
  {
   "cell_type": "code",
   "execution_count": 189,
   "metadata": {
    "collapsed": true
   },
   "outputs": [],
   "source": [
    "# parameter grids\n",
    "Cs = [0.01, 0.1, 1, 10, 100]\n",
    "gammas = [0.01, 0.1, 1, 10, 100]\n",
    "degrees = [1, 2, 3, 4]"
   ]
  },
  {
   "cell_type": "code",
   "execution_count": 181,
   "metadata": {
    "collapsed": false
   },
   "outputs": [],
   "source": [
    "X_train = df_train[NUMCOLS_SCALED_NOFUNDING]\n",
    "X_test = df_test[NUMCOLS_SCALED_NOFUNDING]\n",
    "y_train = df_train['Series_Amount_scaled']\n",
    "y_test = df_test['Series_Amount_scaled']"
   ]
  },
  {
   "cell_type": "code",
   "execution_count": 190,
   "metadata": {
    "collapsed": false
   },
   "outputs": [
    {
     "data": {
      "text/plain": [
       "GridSearchCV(cv=None, error_score='raise',\n",
       "       estimator=SVR(C=1.0, cache_size=200, coef0=0.0, degree=3, epsilon=0.1, gamma=0.0,\n",
       "  kernel='poly', max_iter=-1, shrinking=True, tol=0.001, verbose=False),\n",
       "       fit_params={}, iid=True, loss_func=None, n_jobs=1,\n",
       "       param_grid={'C': [0.01, 0.1, 1, 10, 100], 'degree': [1, 2, 3, 4]},\n",
       "       pre_dispatch='2*n_jobs', refit=True, score_func=None, scoring=None,\n",
       "       verbose=0)"
      ]
     },
     "execution_count": 190,
     "metadata": {},
     "output_type": "execute_result"
    }
   ],
   "source": [
    "from sklearn.grid_search import GridSearchCV\n",
    "\n",
    "\n",
    "gs_rbf=GridSearchCV(svr_rbf, param_grid={'C':Cs,'gamma':gammas}, cv=5)\n",
    "gs_lin=GridSearchCV(svr_lin, param_grid={'C':Cs}, cv=5)\n",
    "gs_poly=GridSearchCV(svr_poly, param_grid={'C':Cs, 'degree':degrees})\n",
    "\n",
    "gs_rbf.fit(X_train, y_train)\n",
    "gs_lin.fit(X_train, y_train)\n",
    "gs_poly.fit(X_train, y_train)\n",
    "#print \"BEST\", gs.best_params_, gs.best_score_, gs.grid_scores_"
   ]
  },
  {
   "cell_type": "code",
   "execution_count": 192,
   "metadata": {
    "collapsed": false
   },
   "outputs": [
    {
     "name": "stdout",
     "output_type": "stream",
     "text": [
      "gs_rbf.best_params_  {'C': 10, 'gamma': 0.01}\n",
      "gs_lin.best_params_  {'C': 1}\n",
      "gs_poly.best_params_  {'C': 100, 'degree': 1}\n"
     ]
    }
   ],
   "source": [
    "print \"gs_rbf.best_params_ \", gs_rbf.best_params_\n",
    "print \"gs_lin.best_params_ \", gs_lin.best_params_\n",
    "print \"gs_poly.best_params_ \", gs_poly.best_params_"
   ]
  },
  {
   "cell_type": "markdown",
   "metadata": {},
   "source": [
    "The library method score shows that RBF gives us the best result (highest score)."
   ]
  },
  {
   "cell_type": "code",
   "execution_count": 268,
   "metadata": {
    "collapsed": false
   },
   "outputs": [
    {
     "name": "stdout",
     "output_type": "stream",
     "text": [
      "(-8.7055461087226504e-05, -96.850920546113073, -908.66624082071246)\n"
     ]
    }
   ],
   "source": [
    "print (gs_rbf.score(X_test, y_test), gs_lin.score(X_test, y_test), gs_poly.score(X_test, y_test))"
   ]
  },
  {
   "cell_type": "markdown",
   "metadata": {},
   "source": [
    "We compute RMSE on log(funding). This also shows the RBF gives us the best result."
   ]
  },
  {
   "cell_type": "code",
   "execution_count": 280,
   "metadata": {
    "collapsed": false
   },
   "outputs": [
    {
     "name": "stdout",
     "output_type": "stream",
     "text": [
      "(1.0987195854257799, 10.868019800730378, 33.136680621398973)\n"
     ]
    }
   ],
   "source": [
    "print (get_rmse(gs_rbf.predict(X_test), y_test), get_rmse(gs_lin.predict(X_test), y_test), \n",
    "       get_rmse(gs_poly.predict(X_test), y_test))"
   ]
  }
 ],
 "metadata": {
  "kernelspec": {
   "display_name": "Python 2",
   "language": "python",
   "name": "python2"
  },
  "language_info": {
   "codemirror_mode": {
    "name": "ipython",
    "version": 2
   },
   "file_extension": ".py",
   "mimetype": "text/x-python",
   "name": "python",
   "nbconvert_exporter": "python",
   "pygments_lexer": "ipython2",
   "version": "2.7.10"
  }
 },
 "nbformat": 4,
 "nbformat_minor": 0
}
