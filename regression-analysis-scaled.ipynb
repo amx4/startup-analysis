{
 "cells": [
  {
   "cell_type": "code",
   "execution_count": 1,
   "metadata": {
    "collapsed": false
   },
   "outputs": [],
   "source": [
    "%matplotlib inline\n",
    "import pandas as pd\n",
    "import numpy as np\n",
    "from sklearn.cross_validation import train_test_split\n",
    "import statsmodels.api as sm\n",
    "from statsmodels.formula.api import glm, ols\n",
    "from sklearn.linear_model import LinearRegression\n",
    "import matplotlib.pyplot as plt\n",
    "from sklearn.metrics import mean_squared_error\n",
    "from sklearn import linear_model\n",
    "from sklearn.metrics import r2_score\n",
    "from sklearn.cross_validation import KFold\n",
    "from sklearn.linear_model import Ridge\n",
    "from sklearn.linear_model import Lasso"
   ]
  },
  {
   "cell_type": "code",
   "execution_count": 2,
   "metadata": {
    "collapsed": true
   },
   "outputs": [],
   "source": [
    "regress_data = pd.read_csv(open(\"all_features_scaled.csv\", 'rU'), encoding='utf-8', engine='c')"
   ]
  },
  {
   "cell_type": "code",
   "execution_count": 3,
   "metadata": {
    "collapsed": true
   },
   "outputs": [],
   "source": [
    "# Creates the features\n",
    "regress_data = pd.read_csv(open(\"all_features_scaled.csv\", 'rU'), encoding='utf-8', engine='c')\n",
    "regress_data = regress_data.drop('Unnamed: 0', 1)\n",
    "#regress_data = regress_data.ix[0,48:]\n",
    "#regress_data = regress_data.drop('Avg_Tweets', 1)\n",
    "regress_data = regress_data.drop('is_Series_C_scaled', 1)\n",
    "regress_data = regress_data.drop('is_Series_D_scaled', 1)\n",
    "regress_data = regress_data.drop('is_Series_B_scaled', 1)\n",
    "regress_data = regress_data.drop('is_Series_A_scaled', 1)\n",
    "regress_data['Series'] = [val[1:] for val in list(regress_data['Series'])]\n",
    "regress_data['i_Series_A'] = 1 * (regress_data.Series == 'Series_A')\n",
    "regress_data['i_Series_B'] = 1 * (regress_data.Series == 'Series_B')\n",
    "regress_data['i_Series_C'] = 1 * (regress_data.Series == 'Series_C')\n",
    "regress_data['i_Series_D'] = 1 * (regress_data.Series == 'Series_D')\n",
    "regress_data = regress_data.ix[:,48:]\n",
    "regress_data = regress_data.replace([np.inf, -np.inf], 0)\n",
    "regress_data.fillna(0, inplace=True)"
   ]
  },
  {
   "cell_type": "code",
   "execution_count": 4,
   "metadata": {
    "collapsed": false
   },
   "outputs": [
    {
     "data": {
      "text/html": [
       "<div>\n",
       "<table border=\"1\" class=\"dataframe\">\n",
       "  <thead>\n",
       "    <tr style=\"text-align: right;\">\n",
       "      <th></th>\n",
       "      <th>Total_Retweets_scaled</th>\n",
       "      <th>Series_Amount_scaled</th>\n",
       "      <th>tweet_count_scaled</th>\n",
       "      <th>get_dayrange_scaled</th>\n",
       "      <th>get_dayiqr_scaled</th>\n",
       "      <th>likes_mean_scaled</th>\n",
       "      <th>retweets_mean_scaled</th>\n",
       "      <th>persontag_count_mean_scaled</th>\n",
       "      <th>hashtag_count_mean_scaled</th>\n",
       "      <th>text_length_mean_scaled</th>\n",
       "      <th>...</th>\n",
       "      <th>is_Mobile_scaled</th>\n",
       "      <th>is_Web Hosting_scaled</th>\n",
       "      <th>mean_neg_scaled</th>\n",
       "      <th>mean_pos_scaled</th>\n",
       "      <th>total_neg_scaled</th>\n",
       "      <th>total_pos_scaled</th>\n",
       "      <th>i_Series_A</th>\n",
       "      <th>i_Series_B</th>\n",
       "      <th>i_Series_C</th>\n",
       "      <th>i_Series_D</th>\n",
       "    </tr>\n",
       "  </thead>\n",
       "  <tbody>\n",
       "    <tr>\n",
       "      <th>0</th>\n",
       "      <td>14.639506</td>\n",
       "      <td>131.530705</td>\n",
       "      <td>5.604621</td>\n",
       "      <td>2.919821</td>\n",
       "      <td>2.166753</td>\n",
       "      <td>0.277495</td>\n",
       "      <td>0.444905</td>\n",
       "      <td>0.514837</td>\n",
       "      <td>0.459289</td>\n",
       "      <td>11.352009</td>\n",
       "      <td>...</td>\n",
       "      <td>0</td>\n",
       "      <td>0</td>\n",
       "      <td>0.023806</td>\n",
       "      <td>0.041962</td>\n",
       "      <td>0.009406</td>\n",
       "      <td>0.055760</td>\n",
       "      <td>0</td>\n",
       "      <td>0</td>\n",
       "      <td>1</td>\n",
       "      <td>0</td>\n",
       "    </tr>\n",
       "    <tr>\n",
       "      <th>1</th>\n",
       "      <td>6.249428</td>\n",
       "      <td>106.686057</td>\n",
       "      <td>5.315116</td>\n",
       "      <td>0.711572</td>\n",
       "      <td>0.702672</td>\n",
       "      <td>0.075718</td>\n",
       "      <td>0.117218</td>\n",
       "      <td>0.381770</td>\n",
       "      <td>0.515318</td>\n",
       "      <td>12.913690</td>\n",
       "      <td>...</td>\n",
       "      <td>0</td>\n",
       "      <td>0</td>\n",
       "      <td>0.015238</td>\n",
       "      <td>0.033029</td>\n",
       "      <td>0.005780</td>\n",
       "      <td>0.006125</td>\n",
       "      <td>0</td>\n",
       "      <td>1</td>\n",
       "      <td>0</td>\n",
       "      <td>0</td>\n",
       "    </tr>\n",
       "    <tr>\n",
       "      <th>2</th>\n",
       "      <td>5.957199</td>\n",
       "      <td>31.280916</td>\n",
       "      <td>5.379401</td>\n",
       "      <td>5.260371</td>\n",
       "      <td>4.079996</td>\n",
       "      <td>0.269588</td>\n",
       "      <td>0.248310</td>\n",
       "      <td>0.273717</td>\n",
       "      <td>0.316081</td>\n",
       "      <td>11.976510</td>\n",
       "      <td>...</td>\n",
       "      <td>0</td>\n",
       "      <td>0</td>\n",
       "      <td>0.023102</td>\n",
       "      <td>0.038169</td>\n",
       "      <td>0.026871</td>\n",
       "      <td>0.053475</td>\n",
       "      <td>0</td>\n",
       "      <td>0</td>\n",
       "      <td>1</td>\n",
       "      <td>0</td>\n",
       "    </tr>\n",
       "    <tr>\n",
       "      <th>3</th>\n",
       "      <td>6.919969</td>\n",
       "      <td>112.210509</td>\n",
       "      <td>5.404103</td>\n",
       "      <td>6.859861</td>\n",
       "      <td>5.382639</td>\n",
       "      <td>0.011017</td>\n",
       "      <td>0.128725</td>\n",
       "      <td>0.386229</td>\n",
       "      <td>0.296625</td>\n",
       "      <td>10.555337</td>\n",
       "      <td>...</td>\n",
       "      <td>0</td>\n",
       "      <td>0</td>\n",
       "      <td>0.016218</td>\n",
       "      <td>0.028414</td>\n",
       "      <td>0.000000</td>\n",
       "      <td>0.000000</td>\n",
       "      <td>0</td>\n",
       "      <td>1</td>\n",
       "      <td>0</td>\n",
       "      <td>0</td>\n",
       "    </tr>\n",
       "    <tr>\n",
       "      <th>5</th>\n",
       "      <td>8.870531</td>\n",
       "      <td>121.137001</td>\n",
       "      <td>5.260848</td>\n",
       "      <td>3.360891</td>\n",
       "      <td>2.409958</td>\n",
       "      <td>0.252293</td>\n",
       "      <td>0.371114</td>\n",
       "      <td>0.637212</td>\n",
       "      <td>0.164845</td>\n",
       "      <td>10.805700</td>\n",
       "      <td>...</td>\n",
       "      <td>0</td>\n",
       "      <td>0</td>\n",
       "      <td>0.016644</td>\n",
       "      <td>0.045336</td>\n",
       "      <td>0.011897</td>\n",
       "      <td>0.079928</td>\n",
       "      <td>0</td>\n",
       "      <td>1</td>\n",
       "      <td>0</td>\n",
       "      <td>0</td>\n",
       "    </tr>\n",
       "  </tbody>\n",
       "</table>\n",
       "<p>5 rows × 43 columns</p>\n",
       "</div>"
      ],
      "text/plain": [
       "   Total_Retweets_scaled  Series_Amount_scaled  tweet_count_scaled  \\\n",
       "0              14.639506            131.530705            5.604621   \n",
       "1               6.249428            106.686057            5.315116   \n",
       "2               5.957199             31.280916            5.379401   \n",
       "3               6.919969            112.210509            5.404103   \n",
       "5               8.870531            121.137001            5.260848   \n",
       "\n",
       "   get_dayrange_scaled  get_dayiqr_scaled  likes_mean_scaled  \\\n",
       "0             2.919821           2.166753           0.277495   \n",
       "1             0.711572           0.702672           0.075718   \n",
       "2             5.260371           4.079996           0.269588   \n",
       "3             6.859861           5.382639           0.011017   \n",
       "5             3.360891           2.409958           0.252293   \n",
       "\n",
       "   retweets_mean_scaled  persontag_count_mean_scaled  \\\n",
       "0              0.444905                     0.514837   \n",
       "1              0.117218                     0.381770   \n",
       "2              0.248310                     0.273717   \n",
       "3              0.128725                     0.386229   \n",
       "5              0.371114                     0.637212   \n",
       "\n",
       "   hashtag_count_mean_scaled  text_length_mean_scaled     ...      \\\n",
       "0                   0.459289                11.352009     ...       \n",
       "1                   0.515318                12.913690     ...       \n",
       "2                   0.316081                11.976510     ...       \n",
       "3                   0.296625                10.555337     ...       \n",
       "5                   0.164845                10.805700     ...       \n",
       "\n",
       "   is_Mobile_scaled  is_Web Hosting_scaled  mean_neg_scaled  mean_pos_scaled  \\\n",
       "0                 0                      0         0.023806         0.041962   \n",
       "1                 0                      0         0.015238         0.033029   \n",
       "2                 0                      0         0.023102         0.038169   \n",
       "3                 0                      0         0.016218         0.028414   \n",
       "5                 0                      0         0.016644         0.045336   \n",
       "\n",
       "   total_neg_scaled  total_pos_scaled  i_Series_A  i_Series_B  i_Series_C  \\\n",
       "0          0.009406          0.055760           0           0           1   \n",
       "1          0.005780          0.006125           0           1           0   \n",
       "2          0.026871          0.053475           0           0           1   \n",
       "3          0.000000          0.000000           0           1           0   \n",
       "5          0.011897          0.079928           0           1           0   \n",
       "\n",
       "   i_Series_D  \n",
       "0           0  \n",
       "1           0  \n",
       "2           0  \n",
       "3           0  \n",
       "5           0  \n",
       "\n",
       "[5 rows x 43 columns]"
      ]
     },
     "execution_count": 4,
     "metadata": {},
     "output_type": "execute_result"
    }
   ],
   "source": [
    "# Break it into test and train\n",
    "itrain, itest = train_test_split(xrange(regress_data.shape[0]), train_size=0.9)\n",
    "mask=np.ones(regress_data.shape[0], dtype='int')\n",
    "mask[itrain]=1\n",
    "mask[itest]=0\n",
    "mask=(mask==1)\n",
    "regress_train = regress_data[mask]\n",
    "regress_test = regress_data[~mask]\n",
    "\n",
    "# Break it into series A, series B, series C, series D\n",
    "regress_test_A = regress_test[regress_test['i_Series_A'] == 1]\n",
    "regress_train_A = regress_train[regress_train['i_Series_A'] == 1]\n",
    "regress_test_B = regress_test[regress_test['i_Series_B'] == 1]\n",
    "regress_train_B = regress_train[regress_train['i_Series_B'] == 1]\n",
    "regress_test_C = regress_test[regress_test['i_Series_C'] == 1]\n",
    "regress_train_C = regress_train[regress_train['i_Series_C'] == 1]\n",
    "regress_test_D = regress_test[regress_test['i_Series_D'] == 1]\n",
    "regress_train_D = regress_train[regress_train['i_Series_D'] == 1]\n",
    "\n",
    "regress_train.head()"
   ]
  },
  {
   "cell_type": "markdown",
   "metadata": {},
   "source": [
    "This is the scaled dataset that we will be performing the regression on. We have approximately 46 features that we're running our regression on ranging from indiciator variables on the type of startup to variables that represent the average sentiment of the tweets."
   ]
  },
  {
   "cell_type": "code",
   "execution_count": 5,
   "metadata": {
    "collapsed": false
   },
   "outputs": [],
   "source": [
    "# Create stats for each of the funding rounds\n",
    "def find_stats(funding, label):\n",
    "    print '------------------------------------'\n",
    "    print 'Round: ' + label\n",
    "    amounts = funding['Series_Amount_scaled']\n",
    "    print 'Mean ' + str(np.mean(amounts))\n",
    "    print 'StDev ' + str(np.std(amounts))    \n",
    "    \n",
    "# Helps visualize the log of the funding rounds\n",
    "def create_log_plot(regress_train_A, regress_train_B, regress_train_C, regress_train_D):\n",
    "    fig, axes = plt.subplots(nrows=2, ncols=2, figsize=(15,10))\n",
    "    fig.tight_layout()\n",
    "    round_title = ['Series A Funding Amounts', 'Series B Funding Amounts', 'Series C Funding Amounts', 'Series D Funding Amounts']\n",
    "    rounds = [regress_train_A, regress_train_B, regress_train_C, regress_train_D]\n",
    "    for ax, i in zip(axes.ravel(), range(len(rounds))):\n",
    "        funding = np.log((list(rounds[i]['Series_Amount_scaled'])))\n",
    "        ax.hist(funding, color='b', alpha=0.2)\n",
    "        ax.set_title(round_title[i])\n",
    "\n",
    "# Visualizes the residuals of the funding rounds\n",
    "def plot_residuals(errors):\n",
    "    fig, axes = plt.subplots(nrows=1, ncols=1, figsize=(6,6))\n",
    "    fig.tight_layout()\n",
    "    axes.hist(errors, color='b', alpha=0.2)\n",
    "    axes.set_title('Residual Analysis')"
   ]
  },
  {
   "cell_type": "markdown",
   "metadata": {},
   "source": [
    "As we showed before in our actual analysis, the actual valuation amount is very heavily skewed right. We can help change this by applying a log transform on the output data to make the output data more normal. The data after applying the log transform is shown below. This will help improve the ability of our regressors to detect correct values. The remaining numerical features were transformed using boxcox."
   ]
  },
  {
   "cell_type": "code",
   "execution_count": 6,
   "metadata": {
    "collapsed": false
   },
   "outputs": [
    {
     "data": {
      "image/png": "[encoded data removed]",
      "text/plain": [
       "<matplotlib.figure.Figure at 0x103bf7a90>"
      ]
     },
     "metadata": {},
     "output_type": "display_data"
    }
   ],
   "source": [
    " create_log_plot(regress_train_A, regress_train_B, regress_train_C, regress_train_D)"
   ]
  },
  {
   "cell_type": "markdown",
   "metadata": {},
   "source": [
    "We will now create our data matrices for the regressions that we run. We split the data into test and train sets. We then break the data into a data matrix and a response matrix. After this, we also transform the data matrices into float values."
   ]
  },
  {
   "cell_type": "code",
   "execution_count": 7,
   "metadata": {
    "collapsed": false
   },
   "outputs": [],
   "source": [
    "features = list(regress_train_D.columns)\n",
    "#features.remove('Market')\n",
    "features.remove('Series_Amount_scaled')\n",
    "\n",
    "X_train = np.asmatrix(regress_train[features].astype(np.float64))\n",
    "X_test = np.asmatrix(regress_test[features].astype(np.float64))\n",
    "y_train = np.asmatrix(regress_train['Series_Amount_scaled'].apply(lambda val: val)).T\n",
    "y_test = np.asmatrix(regress_test['Series_Amount_scaled'].apply(lambda val: val)).T"
   ]
  },
  {
   "cell_type": "markdown",
   "metadata": {},
   "source": [
    "Here we try ridge regression. As we learned in class, ridge regression has the following equation form:\n",
    "\n",
    ".....\n",
    "\n",
    "We try to determine the regularization parameters we want to use using 5-fold cross validation, taking care to avoid leakage of information from the test set.\n",
    "\n",
    "After this, we apply our model to the training data and compare the RMSE generated to our baseline model. "
   ]
  },
  {
   "cell_type": "code",
   "execution_count": 8,
   "metadata": {
    "collapsed": false
   },
   "outputs": [
    {
     "name": "stdout",
     "output_type": "stream",
     "text": [
      "Cross validation MSE values: {1: 20.944230417127105, 100: 21.113888895248543, 0.1: 21.05079166765567, 1000: 22.182454848293116, 10: 20.846211556744016, 0.001: 21.596921444925076, 10000: 22.645633382830034, 0.01: 21.347412535824599}\n",
      "Best a from cross validation: 10\n"
     ]
    }
   ],
   "source": [
    "vdict = {}\n",
    "rdict = {}\n",
    "for a in [0.001, 0.01, 0.1, 1, 10, 100, 1000, 10000]:\n",
    "    for cv_train, cv_test in KFold(y_train.size, 5):\n",
    "        lin_model_r = Ridge(alpha=a)\n",
    "        lin_model_r.fit(X_train[cv_train], y_train[cv_train])\n",
    "        y_pred = np.asmatrix(lin_model_r.predict(X_train[cv_test])).T\n",
    "        mse = (mean_squared_error(y_train[cv_test], y_pred.T)**(0.5))\n",
    "        vdict[a] = mse\n",
    "        rdict[a] = lin_model_r\n",
    "        \n",
    "best_a = min(vdict, key=vdict.get)\n",
    "best_ridge_model =rdict[best_a]\n",
    "\n",
    "print 'Cross validation MSE values: ' + str(vdict)\n",
    "print 'Best a from cross validation: ' + str(best_a)"
   ]
  },
  {
   "cell_type": "code",
   "execution_count": 11,
   "metadata": {
    "collapsed": false
   },
   "outputs": [
    {
     "data": {
      "text/plain": [
       "158"
      ]
     },
     "execution_count": 11,
     "metadata": {},
     "output_type": "execute_result"
    }
   ],
   "source": [
    "len(y_pred.T)"
   ]
  },
  {
   "cell_type": "code",
   "execution_count": 56,
   "metadata": {
    "collapsed": false
   },
   "outputs": [
    {
     "name": "stdout",
     "output_type": "stream",
     "text": [
      "RMSE for Ridge Regression: 18.2859361992\n",
      "Baseline by predicting averages RMSE: 113.232832654\n"
     ]
    }
   ],
   "source": [
    "y_pred = np.asmatrix(best_ridge_model.predict(X_test)).T\n",
    "mse = (mean_squared_error(y_test, y_pred.T)**(0.5))\n",
    "baseline_mean = np.log(np.asmatrix(np.mean(regress_test['Series_Amount_scaled']) * np.ones(y_test.shape[0]))).T\n",
    "\n",
    "print 'RMSE for Ridge Regression: ' + str(mse)\n",
    "print 'Baseline by predicting averages RMSE: ' + str(mean_squared_error(y_test, baseline_mean)**(0.5))"
   ]
  },
  {
   "cell_type": "markdown",
   "metadata": {},
   "source": [
    "Let's plot the residuals to see if our assumption that the remaining noise is approximately normal is true. This is one of the key assumptions of linear regression analysis. Additionally, let's determine the R squared score. "
   ]
  },
  {
   "cell_type": "code",
   "execution_count": 57,
   "metadata": {
    "collapsed": false
   },
   "outputs": [
    {
     "name": "stdout",
     "output_type": "stream",
     "text": [
      "R Squared Score: 0.336485963639\n"
     ]
    },
    {
     "data": {
      "image/png": "[encoded data removed]",
      "text/plain": [
       "<matplotlib.figure.Figure at 0x10c687ed0>"
      ]
     },
     "metadata": {},
     "output_type": "display_data"
    }
   ],
   "source": [
    "plot_residuals(y_test-y_pred.T)\n",
    "print 'R Squared Score: ' + str(r2_score(y_test, y_pred.T))"
   ]
  },
  {
   "cell_type": "markdown",
   "metadata": {},
   "source": [
    "As we might expect, we can see that the residuals are approximately normal in this dataset. The R squared score is relatively low but not so bad as a predictive signal, especially if we combine Twitter with other signals.\n",
    "\n",
    "Using regressions, we perform better than the baseline model of simply predicting the average value. However, our relatively low R squared score suggests that linear regressions is not the most ideal way to predict these valuations.\n",
    "\n",
    "We now try LASSO regression as well. This might perform a bit better than the Ridge regression because Lasso regression. Lasso regressions help move coeffecients to exactly zero because we are shrinking the regression coeffecients to zero. Lasso regressions follow the below equation\n",
    "\n",
    "....\n",
    "\n",
    "In this case, we might want to shrink the parameter regressions to zero because we have so many features that may not necessarily be related. "
   ]
  },
  {
   "cell_type": "code",
   "execution_count": 58,
   "metadata": {
    "collapsed": false,
    "scrolled": true
   },
   "outputs": [
    {
     "name": "stdout",
     "output_type": "stream",
     "text": [
      "Cross validation MSE values: {1: 20.954546176962868, 100: 22.841658150334439, 0.1: 20.661506659914245, 1000: 22.841658150334439, 10: 22.557184685708009, 0.001: 21.437731673418234, 10000: 22.841658150334439, 0.01: 20.852576061275037}\n",
      "Best a from cross validation: 0.1\n"
     ]
    },
    {
     "name": "stderr",
     "output_type": "stream",
     "text": [
      "//anaconda/lib/python2.7/site-packages/sklearn/linear_model/coordinate_descent.py:444: ConvergenceWarning: Objective did not converge. You might want to increase the number of iterations\n",
      "  ConvergenceWarning)\n"
     ]
    }
   ],
   "source": [
    "vdict = {}\n",
    "rdict = {}\n",
    "for a in [0.001, 0.01, 0.1, 1, 10, 100, 1000, 10000]:\n",
    "    for cv_train, cv_test in KFold(y_train.size, 5):\n",
    "        lin_model_r = Lasso(alpha=a)\n",
    "        lin_model_r.fit(X_train[cv_train], y_train[cv_train])\n",
    "        y_pred = np.asmatrix(lin_model_r.predict(X_train[cv_test])).T\n",
    "        mse = (mean_squared_error(y_train[cv_test], y_pred)**(0.5))\n",
    "        vdict[a] = mse\n",
    "        rdict[a] = lin_model_r\n",
    "        \n",
    "best_a = min(vdict, key=vdict.get)\n",
    "best_lasso_model =rdict[best_a]\n",
    "\n",
    "print 'Cross validation MSE values: ' + str(vdict)\n",
    "print 'Best a from cross validation: ' + str(best_a)"
   ]
  },
  {
   "cell_type": "code",
   "execution_count": 59,
   "metadata": {
    "collapsed": false
   },
   "outputs": [
    {
     "name": "stdout",
     "output_type": "stream",
     "text": [
      "RMSE for Lasso Regression: 18.6250179642\n",
      "Baseline by predicting averages RMSE: 113.232832654\n"
     ]
    }
   ],
   "source": [
    "y_pred = np.asmatrix(best_lasso_model.predict(X_test)).T\n",
    "mse = (mean_squared_error(y_test, y_pred)**(0.5))\n",
    "baseline_mean = np.log(np.asmatrix(np.mean(regress_test['Series_Amount_scaled']) * np.ones(y_test.shape[0]))).T\n",
    "\n",
    "print 'RMSE for Lasso Regression: ' + str(mse)\n",
    "print 'Baseline by predicting averages RMSE: ' + str(mean_squared_error(y_test, baseline_mean)**(0.5))"
   ]
  },
  {
   "cell_type": "markdown",
   "metadata": {},
   "source": [
    "Similar to before, we can look at the residuals and determine the R squared score to see whether or not this model makes sense, and whether or not the data is fitting the model well."
   ]
  },
  {
   "cell_type": "code",
   "execution_count": 60,
   "metadata": {
    "collapsed": false
   },
   "outputs": [
    {
     "name": "stdout",
     "output_type": "stream",
     "text": [
      "R Squared Score: 0.311650319895\n"
     ]
    },
    {
     "data": {
      "image/png": "[encoded data removed]",
      "text/plain": [
       "<matplotlib.figure.Figure at 0x10a7a5f90>"
      ]
     },
     "metadata": {},
     "output_type": "display_data"
    }
   ],
   "source": [
    "plot_residuals(y_test-y_pred)\n",
    "print 'R Squared Score: ' + str(r2_score(y_test, y_pred))"
   ]
  },
  {
   "cell_type": "markdown",
   "metadata": {},
   "source": [
    "In this case, we get a better RMSE using Lasso. Similar to before, our residuals look relatively normally distributed. The R squared value also suggests that there is some signal in the twitter data. \n",
    "\n",
    "This will serve as a baseline for more complex models later."
   ]
  }
 ],
 "metadata": {
  "kernelspec": {
   "display_name": "Python 2",
   "language": "python",
   "name": "python2"
  },
  "language_info": {
   "codemirror_mode": {
    "name": "ipython",
    "version": 2
   },
   "file_extension": ".py",
   "mimetype": "text/x-python",
   "name": "python",
   "nbconvert_exporter": "python",
   "pygments_lexer": "ipython2",
   "version": "2.7.10"
  }
 },
 "nbformat": 4,
 "nbformat_minor": 0
}
