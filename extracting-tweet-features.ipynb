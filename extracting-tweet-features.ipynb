{
 "cells": [
  {
   "cell_type": "code",
   "execution_count": 1,
   "metadata": {
    "collapsed": true
   },
   "outputs": [],
   "source": [
    "%matplotlib inline\n",
    "import numpy as np\n",
    "import scipy as sp\n",
    "import matplotlib as mpl\n",
    "import matplotlib.cm as cm\n",
    "import matplotlib.pyplot as plt\n",
    "import pandas as pd\n",
    "pd.set_option('display.width', 500)\n",
    "pd.set_option('display.max_columns', 100)\n",
    "pd.set_option('display.notebook_repr_html', True)\n",
    "import seaborn as sns\n",
    "sns.set_style(\"whitegrid\")\n",
    "sns.set_context(\"poster\")"
   ]
  },
  {
   "cell_type": "code",
   "execution_count": 2,
   "metadata": {
    "collapsed": true
   },
   "outputs": [],
   "source": [
    "tweets_csv = pd.read_csv(\"startups/tweets.csv\")"
   ]
  },
  {
   "cell_type": "code",
   "execution_count": 5,
   "metadata": {
    "collapsed": false
   },
   "outputs": [
    {
     "data": {
      "text/plain": [
       "(387847, 8)"
      ]
     },
     "execution_count": 5,
     "metadata": {},
     "output_type": "execute_result"
    }
   ],
   "source": [
    "tweets_csv.shape"
   ]
  },
  {
   "cell_type": "code",
   "execution_count": 13,
   "metadata": {
    "collapsed": false
   },
   "outputs": [
    {
     "data": {
      "text/html": [
       "<div>\n",
       "<table border=\"1\" class=\"dataframe\">\n",
       "  <thead>\n",
       "    <tr style=\"text-align: right;\">\n",
       "      <th></th>\n",
       "      <th>Company</th>\n",
       "      <th>Href</th>\n",
       "      <th>Likes</th>\n",
       "      <th>Name</th>\n",
       "      <th>Retweets</th>\n",
       "      <th>Series</th>\n",
       "      <th>Text</th>\n",
       "      <th>Time</th>\n",
       "    </tr>\n",
       "  </thead>\n",
       "  <tbody>\n",
       "    <tr>\n",
       "      <th>196</th>\n",
       "      <td>Occipital</td>\n",
       "      <td>/naomicostantino</td>\n",
       "      <td>0 likes</td>\n",
       "      <td>Naomi Costantino</td>\n",
       "      <td>0 retweets</td>\n",
       "      <td>_Series_A</td>\n",
       "      <td>releasing the occipital muscles @stefanwarth @...</td>\n",
       "      <td>28 Jun 2011</td>\n",
       "    </tr>\n",
       "    <tr>\n",
       "      <th>197</th>\n",
       "      <td>Occipital</td>\n",
       "      <td>/scottbalster</td>\n",
       "      <td>0 likes</td>\n",
       "      <td>Scott Balster</td>\n",
       "      <td>0 retweets</td>\n",
       "      <td>_Series_A</td>\n",
       "      <td>@vikasreddy You're welcome! Completely amazed ...</td>\n",
       "      <td>27 Jun 2011</td>\n",
       "    </tr>\n",
       "    <tr>\n",
       "      <th>198</th>\n",
       "      <td>MyEdu</td>\n",
       "      <td>/koalialoalo</td>\n",
       "      <td>0 likes</td>\n",
       "      <td>Victoria</td>\n",
       "      <td>0 retweets</td>\n",
       "      <td>_Series_A</td>\n",
       "      <td>wth? why is myedu so expensive? wasn't pickapr...</td>\n",
       "      <td>13 Dec 2009</td>\n",
       "    </tr>\n",
       "    <tr>\n",
       "      <th>199</th>\n",
       "      <td>MyEdu</td>\n",
       "      <td>/myedu_hiroba</td>\n",
       "      <td>0 likes</td>\n",
       "      <td>マイエデュグローバルひろば情報</td>\n",
       "      <td>0 retweets</td>\n",
       "      <td>_Series_A</td>\n",
       "      <td>本日のグローバルキャリア塾終了！Pacific Gatewayのサミー校長はいつものように熱...</td>\n",
       "      <td>11 Dec 2009</td>\n",
       "    </tr>\n",
       "  </tbody>\n",
       "</table>\n",
       "</div>"
      ],
      "text/plain": [
       "       Company              Href    Likes              Name    Retweets     Series                                               Text         Time\n",
       "196  Occipital  /naomicostantino  0 likes  Naomi Costantino  0 retweets  _Series_A  releasing the occipital muscles @stefanwarth @...  28 Jun 2011\n",
       "197  Occipital     /scottbalster  0 likes     Scott Balster  0 retweets  _Series_A  @vikasreddy You're welcome! Completely amazed ...  27 Jun 2011\n",
       "198      MyEdu      /koalialoalo  0 likes          Victoria  0 retweets  _Series_A  wth? why is myedu so expensive? wasn't pickapr...  13 Dec 2009\n",
       "199      MyEdu     /myedu_hiroba  0 likes   マイエデュグローバルひろば情報  0 retweets  _Series_A  本日のグローバルキャリア塾終了！Pacific Gatewayのサミー校長はいつものように熱...  11 Dec 2009"
      ]
     },
     "execution_count": 13,
     "metadata": {},
     "output_type": "execute_result"
    }
   ],
   "source": [
    "tweets_csv[196:200]"
   ]
  },
  {
   "cell_type": "code",
   "execution_count": 289,
   "metadata": {
    "collapsed": false
   },
   "outputs": [
    {
     "data": {
      "text/plain": [
       "6"
      ]
     },
     "execution_count": 289,
     "metadata": {},
     "output_type": "execute_result"
    }
   ],
   "source": [
    "len('本日')"
   ]
  },
  {
   "cell_type": "code",
   "execution_count": 17,
   "metadata": {
    "collapsed": false
   },
   "outputs": [
    {
     "data": {
      "text/plain": [
       "Counter({'_Series_B': 173305, '_Series_A': 91071, '_Series_C': 90223, '_Series_D': 33135, nan: 113})"
      ]
     },
     "execution_count": 17,
     "metadata": {},
     "output_type": "execute_result"
    }
   ],
   "source": [
    "from collections import Counter\n",
    "Counter(tweets_csv.Series)"
   ]
  },
  {
   "cell_type": "code",
   "execution_count": 24,
   "metadata": {
    "collapsed": false
   },
   "outputs": [
    {
     "data": {
      "text/plain": [
       "0"
      ]
     },
     "execution_count": 24,
     "metadata": {},
     "output_type": "execute_result"
    }
   ],
   "source": [
    "int(tweets_csv['Likes'][0].split()[0])"
   ]
  },
  {
   "cell_type": "code",
   "execution_count": 32,
   "metadata": {
    "collapsed": false
   },
   "outputs": [
    {
     "data": {
      "text/plain": [
       "0    8\n",
       "1    8\n",
       "2    8\n",
       "3    8\n",
       "dtype: int64"
      ]
     },
     "execution_count": 32,
     "metadata": {},
     "output_type": "execute_result"
    }
   ],
   "source": [
    "tweets_csv[:4].apply(lambda x: len(x), axis=1)"
   ]
  },
  {
   "cell_type": "code",
   "execution_count": 37,
   "metadata": {
    "collapsed": false
   },
   "outputs": [
    {
     "data": {
      "text/plain": [
       "0    0\n",
       "1    0\n",
       "2    0\n",
       "3    0\n",
       "4    0\n",
       "5    0\n",
       "6    0\n",
       "7    0\n",
       "8    0\n",
       "9    0\n",
       "dtype: int64"
      ]
     },
     "execution_count": 37,
     "metadata": {},
     "output_type": "execute_result"
    }
   ],
   "source": [
    "tweets_csv[:10].apply(lambda row: int(row[2].split()[0]), axis=1)"
   ]
  },
  {
   "cell_type": "markdown",
   "metadata": {},
   "source": [
    "Average tweet length\n",
    "average tweet per day\n",
    "proportion of tweets from companies\n",
    "number of likes/retweets\n"
   ]
  },
  {
   "cell_type": "code",
   "execution_count": 19,
   "metadata": {
    "collapsed": false
   },
   "outputs": [
    {
     "data": {
      "text/plain": [
       "Company                                             Occipital\n",
       "Href                                         /naomicostantino\n",
       "Likes                                                 0 likes\n",
       "Name                                         Naomi Costantino\n",
       "Retweets                                           0 retweets\n",
       "Series                                              _Series_A\n",
       "Text        releasing the occipital muscles @stefanwarth @...\n",
       "Time                                              28 Jun 2011\n",
       "Name: 196, dtype: object"
      ]
     },
     "execution_count": 19,
     "metadata": {},
     "output_type": "execute_result"
    }
   ],
   "source": [
    "tweets_csv.ix[196]"
   ]
  },
  {
   "cell_type": "code",
   "execution_count": null,
   "metadata": {
    "collapsed": true
   },
   "outputs": [],
   "source": [
    "def get_num_first(text):\n",
    "    try:\n",
    "        "
   ]
  },
  {
   "cell_type": "code",
   "execution_count": 41,
   "metadata": {
    "collapsed": false
   },
   "outputs": [
    {
     "ename": "NameError",
     "evalue": "name 'likes' is not defined",
     "output_type": "error",
     "traceback": [
      "\u001b[0;31m---------------------------------------------------------------------------\u001b[0m",
      "\u001b[0;31mNameError\u001b[0m                                 Traceback (most recent call last)",
      "\u001b[0;32m<ipython-input-41-6c8f0fc43fd3>\u001b[0m in \u001b[0;36m<module>\u001b[0;34m()\u001b[0m\n\u001b[0;32m----> 1\u001b[0;31m \u001b[0mlikes\u001b[0m\u001b[0;34m\u001b[0m\u001b[0m\n\u001b[0m",
      "\u001b[0;31mNameError\u001b[0m: name 'likes' is not defined"
     ]
    }
   ],
   "source": [
    "'0 Likes'"
   ]
  },
  {
   "cell_type": "code",
   "execution_count": 47,
   "metadata": {
    "collapsed": false
   },
   "outputs": [
    {
     "data": {
      "text/plain": [
       "0"
      ]
     },
     "execution_count": 47,
     "metadata": {},
     "output_type": "execute_result"
    }
   ],
   "source": [
    "int(tweets_csv['Likes'][0].split()[0])"
   ]
  },
  {
   "cell_type": "code",
   "execution_count": 80,
   "metadata": {
    "collapsed": false
   },
   "outputs": [],
   "source": [
    "def get_num_first(text):\n",
    "    try:\n",
    "        return int(text.split()[0])\n",
    "    except:\n",
    "        return 0\n"
   ]
  },
  {
   "cell_type": "code",
   "execution_count": 66,
   "metadata": {
    "collapsed": false
   },
   "outputs": [
    {
     "data": {
      "text/plain": [
       "True"
      ]
     },
     "execution_count": 66,
     "metadata": {},
     "output_type": "execute_result"
    }
   ],
   "source": [
    "isinstance('0 Likes', basestring)"
   ]
  },
  {
   "cell_type": "code",
   "execution_count": 75,
   "metadata": {
    "collapsed": false
   },
   "outputs": [],
   "source": [
    "likes_nan_index = []\n",
    "for i in xrange(len(tweets_csv['Likes'])):\n",
    "    if not isinstance(tweets_csv['Likes'][i], basestring):\n",
    "        #print i\n",
    "        #print tweets_csv['Likes'][i]\n",
    "        likes_nan_index.append(i)\n",
    "        "
   ]
  },
  {
   "cell_type": "code",
   "execution_count": 76,
   "metadata": {
    "collapsed": true
   },
   "outputs": [],
   "source": [
    "retweets_nan_index = []\n",
    "for i in xrange(len(tweets_csv['Likes'])):\n",
    "    if not isinstance(tweets_csv['Likes'][i], basestring):\n",
    "        #print i\n",
    "        #print tweets_csv['Likes'][i]\n",
    "        retweets_nan_index.append(i)"
   ]
  },
  {
   "cell_type": "code",
   "execution_count": 77,
   "metadata": {
    "collapsed": false
   },
   "outputs": [
    {
     "data": {
      "text/plain": [
       "111"
      ]
     },
     "execution_count": 77,
     "metadata": {},
     "output_type": "execute_result"
    }
   ],
   "source": [
    "len(retweets_nan_index)"
   ]
  },
  {
   "cell_type": "code",
   "execution_count": 101,
   "metadata": {
    "collapsed": false
   },
   "outputs": [
    {
     "data": {
      "text/plain": [
       "387847"
      ]
     },
     "execution_count": 101,
     "metadata": {},
     "output_type": "execute_result"
    }
   ],
   "source": [
    "len(retweets)"
   ]
  },
  {
   "cell_type": "code",
   "execution_count": 82,
   "metadata": {
    "collapsed": false
   },
   "outputs": [],
   "source": [
    "likes = tweets_csv.apply(lambda row: get_num_first(row[2]), axis=1)\n",
    "retweets = tweets_csv.apply(lambda row: get_num_first(row[4]), axis=1)"
   ]
  },
  {
   "cell_type": "code",
   "execution_count": 93,
   "metadata": {
    "collapsed": false
   },
   "outputs": [],
   "source": [
    "dates = tweets_csv.apply(lambda row: get_date(row[7]), axis=1)"
   ]
  },
  {
   "cell_type": "code",
   "execution_count": 90,
   "metadata": {
    "collapsed": true
   },
   "outputs": [],
   "source": [
    "from datetime import datetime\n",
    "def get_date(text):\n",
    "    try:\n",
    "        return datetime.date(datetime.strptime(text, '%d %b %Y'))\n",
    "    except:\n",
    "        return 0"
   ]
  },
  {
   "cell_type": "code",
   "execution_count": 150,
   "metadata": {
    "collapsed": false
   },
   "outputs": [],
   "source": [
    "tweets_df = pd.DataFrame({    \n",
    "                  'company_name': tweets_csv['Company'], \n",
    "                  'tweeter_href': tweets_csv['Href'],\n",
    "                  'likes'       : likes,\n",
    "                  'tweeter_name': tweets_csv['Name'],\n",
    "                  'retweets'    : retweets,\n",
    "                  'Series'      : tweets_csv['Series'],\n",
    "                  'text'        : tweets_csv['Text'],\n",
    "                  'date'        : dates\n",
    "             })"
   ]
  },
  {
   "cell_type": "code",
   "execution_count": 106,
   "metadata": {
    "collapsed": false
   },
   "outputs": [
    {
     "data": {
      "text/html": [
       "<div>\n",
       "<table border=\"1\" class=\"dataframe\">\n",
       "  <thead>\n",
       "    <tr style=\"text-align: right;\">\n",
       "      <th></th>\n",
       "      <th>Series</th>\n",
       "      <th>company_name</th>\n",
       "      <th>date</th>\n",
       "      <th>likes</th>\n",
       "      <th>retweets</th>\n",
       "      <th>text</th>\n",
       "      <th>tweeter_href</th>\n",
       "      <th>tweeter_name</th>\n",
       "    </tr>\n",
       "  </thead>\n",
       "  <tbody>\n",
       "    <tr>\n",
       "      <th>0</th>\n",
       "      <td>_Series_A</td>\n",
       "      <td>Occipital</td>\n",
       "      <td>2011-07-14</td>\n",
       "      <td>0</td>\n",
       "      <td>0</td>\n",
       "      <td>@rubaums2 mira no frontal  até o occipital e f...</td>\n",
       "      <td>/yehyehgluglu</td>\n",
       "      <td>Maria Melo</td>\n",
       "    </tr>\n",
       "    <tr>\n",
       "      <th>1</th>\n",
       "      <td>_Series_A</td>\n",
       "      <td>Occipital</td>\n",
       "      <td>2011-07-14</td>\n",
       "      <td>0</td>\n",
       "      <td>1</td>\n",
       "      <td>Cats out of the bag, we're excited! RT @savvys...</td>\n",
       "      <td>/occipital</td>\n",
       "      <td>Occipital</td>\n",
       "    </tr>\n",
       "    <tr>\n",
       "      <th>2</th>\n",
       "      <td>_Series_A</td>\n",
       "      <td>Occipital</td>\n",
       "      <td>2011-07-14</td>\n",
       "      <td>0</td>\n",
       "      <td>0</td>\n",
       "      <td>me duele la cabeza a la altura del occipital -...</td>\n",
       "      <td>/ArturoMisifu</td>\n",
       "      <td>Arturo Quijano</td>\n",
       "    </tr>\n",
       "    <tr>\n",
       "      <th>3</th>\n",
       "      <td>_Series_A</td>\n",
       "      <td>Occipital</td>\n",
       "      <td>2011-07-14</td>\n",
       "      <td>0</td>\n",
       "      <td>0</td>\n",
       "      <td>No matter what happens, I always have the Occi...</td>\n",
       "      <td>/ortidog</td>\n",
       "      <td>Paul White</td>\n",
       "    </tr>\n",
       "    <tr>\n",
       "      <th>4</th>\n",
       "      <td>_Series_A</td>\n",
       "      <td>Occipital</td>\n",
       "      <td>2011-07-14</td>\n",
       "      <td>0</td>\n",
       "      <td>0</td>\n",
       "      <td>Headaches are mostly caused by adhesions in th...</td>\n",
       "      <td>/durlancastro</td>\n",
       "      <td>Durlan Castro</td>\n",
       "    </tr>\n",
       "  </tbody>\n",
       "</table>\n",
       "</div>"
      ],
      "text/plain": [
       "      Series company_name        date  likes  retweets                                               text   tweeter_href    tweeter_name\n",
       "0  _Series_A    Occipital  2011-07-14      0         0  @rubaums2 mira no frontal  até o occipital e f...  /yehyehgluglu      Maria Melo\n",
       "1  _Series_A    Occipital  2011-07-14      0         1  Cats out of the bag, we're excited! RT @savvys...     /occipital       Occipital\n",
       "2  _Series_A    Occipital  2011-07-14      0         0  me duele la cabeza a la altura del occipital -...  /ArturoMisifu  Arturo Quijano\n",
       "3  _Series_A    Occipital  2011-07-14      0         0  No matter what happens, I always have the Occi...       /ortidog      Paul White\n",
       "4  _Series_A    Occipital  2011-07-14      0         0  Headaches are mostly caused by adhesions in th...  /durlancastro   Durlan Castro"
      ]
     },
     "execution_count": 106,
     "metadata": {},
     "output_type": "execute_result"
    }
   ],
   "source": [
    "tweets_df.groupby()"
   ]
  },
  {
   "cell_type": "code",
   "execution_count": 290,
   "metadata": {
    "collapsed": false
   },
   "outputs": [
    {
     "data": {
      "text/plain": [
       "2088"
      ]
     },
     "execution_count": 290,
     "metadata": {},
     "output_type": "execute_result"
    }
   ],
   "source": [
    "len(tweets_df.company_name.unique())"
   ]
  },
  {
   "cell_type": "code",
   "execution_count": 291,
   "metadata": {
    "collapsed": false
   },
   "outputs": [
    {
     "data": {
      "text/plain": [
       "<pandas.core.groupby.DataFrameGroupBy object at 0x12fb27d10>"
      ]
     },
     "execution_count": 291,
     "metadata": {},
     "output_type": "execute_result"
    }
   ],
   "source": [
    "tweets_df.groupby(['company_name','Series'])"
   ]
  },
  {
   "cell_type": "code",
   "execution_count": 285,
   "metadata": {
    "collapsed": false
   },
   "outputs": [
    {
     "data": {
      "text/html": [
       "<div>\n",
       "<table border=\"1\" class=\"dataframe\">\n",
       "  <thead>\n",
       "    <tr style=\"text-align: right;\">\n",
       "      <th></th>\n",
       "      <th>Series</th>\n",
       "      <th>company_name</th>\n",
       "      <th>date</th>\n",
       "      <th>likes</th>\n",
       "      <th>retweets</th>\n",
       "      <th>text</th>\n",
       "      <th>tweeter_href</th>\n",
       "      <th>tweeter_name</th>\n",
       "      <th>persontag_count</th>\n",
       "      <th>hashtag_count</th>\n",
       "      <th>text_length</th>\n",
       "      <th>persontags</th>\n",
       "      <th>hashtags</th>\n",
       "      <th>links</th>\n",
       "      <th>persontags_count</th>\n",
       "      <th>hashtags_count</th>\n",
       "      <th>links_count</th>\n",
       "    </tr>\n",
       "  </thead>\n",
       "  <tbody>\n",
       "    <tr>\n",
       "      <th>0</th>\n",
       "      <td>_Series_A</td>\n",
       "      <td>Occipital</td>\n",
       "      <td>2011-07-14</td>\n",
       "      <td>0</td>\n",
       "      <td>0</td>\n",
       "      <td>@rubaums2 mira no frontal  até o occipital e f...</td>\n",
       "      <td>/yehyehgluglu</td>\n",
       "      <td>Maria Melo</td>\n",
       "      <td>1</td>\n",
       "      <td>0</td>\n",
       "      <td>72</td>\n",
       "      <td>[@rubaums2]</td>\n",
       "      <td>[]</td>\n",
       "      <td>[]</td>\n",
       "      <td>1</td>\n",
       "      <td>0</td>\n",
       "      <td>0</td>\n",
       "    </tr>\n",
       "    <tr>\n",
       "      <th>1</th>\n",
       "      <td>_Series_A</td>\n",
       "      <td>Occipital</td>\n",
       "      <td>2011-07-14</td>\n",
       "      <td>0</td>\n",
       "      <td>1</td>\n",
       "      <td>Cats out of the bag, we're excited! RT @savvys...</td>\n",
       "      <td>/occipital</td>\n",
       "      <td>Occipital</td>\n",
       "      <td>1</td>\n",
       "      <td>0</td>\n",
       "      <td>138</td>\n",
       "      <td>[@savvysarahjane]</td>\n",
       "      <td>[]</td>\n",
       "      <td>[]</td>\n",
       "      <td>1</td>\n",
       "      <td>0</td>\n",
       "      <td>0</td>\n",
       "    </tr>\n",
       "    <tr>\n",
       "      <th>2</th>\n",
       "      <td>_Series_A</td>\n",
       "      <td>Occipital</td>\n",
       "      <td>2011-07-14</td>\n",
       "      <td>0</td>\n",
       "      <td>0</td>\n",
       "      <td>me duele la cabeza a la altura del occipital -...</td>\n",
       "      <td>/ArturoMisifu</td>\n",
       "      <td>Arturo Quijano</td>\n",
       "      <td>0</td>\n",
       "      <td>0</td>\n",
       "      <td>67</td>\n",
       "      <td>[]</td>\n",
       "      <td>[]</td>\n",
       "      <td>[]</td>\n",
       "      <td>0</td>\n",
       "      <td>0</td>\n",
       "      <td>0</td>\n",
       "    </tr>\n",
       "    <tr>\n",
       "      <th>3</th>\n",
       "      <td>_Series_A</td>\n",
       "      <td>Occipital</td>\n",
       "      <td>2011-07-14</td>\n",
       "      <td>0</td>\n",
       "      <td>0</td>\n",
       "      <td>No matter what happens, I always have the Occi...</td>\n",
       "      <td>/ortidog</td>\n",
       "      <td>Paul White</td>\n",
       "      <td>0</td>\n",
       "      <td>0</td>\n",
       "      <td>82</td>\n",
       "      <td>[]</td>\n",
       "      <td>[]</td>\n",
       "      <td>[]</td>\n",
       "      <td>0</td>\n",
       "      <td>0</td>\n",
       "      <td>0</td>\n",
       "    </tr>\n",
       "    <tr>\n",
       "      <th>4</th>\n",
       "      <td>_Series_A</td>\n",
       "      <td>Occipital</td>\n",
       "      <td>2011-07-14</td>\n",
       "      <td>0</td>\n",
       "      <td>0</td>\n",
       "      <td>Headaches are mostly caused by adhesions in th...</td>\n",
       "      <td>/durlancastro</td>\n",
       "      <td>Durlan Castro</td>\n",
       "      <td>0</td>\n",
       "      <td>0</td>\n",
       "      <td>117</td>\n",
       "      <td>[]</td>\n",
       "      <td>[]</td>\n",
       "      <td>[]</td>\n",
       "      <td>0</td>\n",
       "      <td>0</td>\n",
       "      <td>0</td>\n",
       "    </tr>\n",
       "  </tbody>\n",
       "</table>\n",
       "</div>"
      ],
      "text/plain": [
       "      Series company_name        date  likes  retweets                                               text   tweeter_href    tweeter_name  persontag_count  hashtag_count  text_length         persontags hashtags links  persontags_count  hashtags_count  links_count\n",
       "0  _Series_A    Occipital  2011-07-14      0         0  @rubaums2 mira no frontal  até o occipital e f...  /yehyehgluglu      Maria Melo                1              0           72        [@rubaums2]       []    []                 1               0            0\n",
       "1  _Series_A    Occipital  2011-07-14      0         1  Cats out of the bag, we're excited! RT @savvys...     /occipital       Occipital                1              0          138  [@savvysarahjane]       []    []                 1               0            0\n",
       "2  _Series_A    Occipital  2011-07-14      0         0  me duele la cabeza a la altura del occipital -...  /ArturoMisifu  Arturo Quijano                0              0           67                 []       []    []                 0               0            0\n",
       "3  _Series_A    Occipital  2011-07-14      0         0  No matter what happens, I always have the Occi...       /ortidog      Paul White                0              0           82                 []       []    []                 0               0            0\n",
       "4  _Series_A    Occipital  2011-07-14      0         0  Headaches are mostly caused by adhesions in th...  /durlancastro   Durlan Castro                0              0          117                 []       []    []                 0               0            0"
      ]
     },
     "execution_count": 285,
     "metadata": {},
     "output_type": "execute_result"
    }
   ],
   "source": [
    "tweets_df.head()"
   ]
  },
  {
   "cell_type": "code",
   "execution_count": 248,
   "metadata": {
    "collapsed": true
   },
   "outputs": [],
   "source": [
    "# drop all the missing values\n",
    "tweets_df = tweets_df[tweets_df['text'].notnull()]\n",
    "tweets_df = tweets_df[tweets_df['date'] != 0] # we mark 0 above for missing dates\n"
   ]
  },
  {
   "cell_type": "code",
   "execution_count": 263,
   "metadata": {
    "collapsed": true
   },
   "outputs": [],
   "source": [
    "tweets_df['text_length'] = tweets_df['text'].apply(lambda text: len(text))"
   ]
  },
  {
   "cell_type": "code",
   "execution_count": 232,
   "metadata": {
    "collapsed": false
   },
   "outputs": [],
   "source": [
    "tweet_count = tweets_df.groupby(['company_name','Series']).likes.count()"
   ]
  },
  {
   "cell_type": "code",
   "execution_count": 254,
   "metadata": {
    "collapsed": false
   },
   "outputs": [
    {
     "data": {
      "text/plain": [
       "\"Cats out of the bag, we're excited! RT @savvysarahjane Up next: a 3 day weekend to get myself in gear to start my sweet new job on Monday.\""
      ]
     },
     "execution_count": 254,
     "metadata": {},
     "output_type": "execute_result"
    }
   ],
   "source": [
    "tweets_df['text'][1]"
   ]
  },
  {
   "cell_type": "code",
   "execution_count": 282,
   "metadata": {
    "collapsed": false
   },
   "outputs": [
    {
     "data": {
      "text/plain": [
       "{'hashtags': ['#win'], 'links': [], 'persontags': ['@Melody', '@Kevin']}"
      ]
     },
     "execution_count": 282,
     "metadata": {},
     "output_type": "execute_result"
    }
   ],
   "source": [
    "temp = 'hooray @Melody @Kevin #win'\n",
    "get_tags(temp)"
   ]
  },
  {
   "cell_type": "code",
   "execution_count": 281,
   "metadata": {
    "collapsed": true
   },
   "outputs": [],
   "source": [
    "# count @ (person tags) and # (hashtags) and links (http...)\n",
    "def get_tags(text):\n",
    "    persontags = []\n",
    "    hashtags = []\n",
    "    links = []\n",
    "    wordlist = text.split()\n",
    "    for word in wordlist:\n",
    "        if len(word) >= 2 and word[0] == '@':\n",
    "            persontags.append(word)\n",
    "        if len(word) >= 2 and word[0] == '#':\n",
    "            hashtags.append(word)\n",
    "        if len(word) >= 5 and word.startswith('http'):\n",
    "            links.append(word)\n",
    "    return {'persontags': persontags, 'hashtags': hashtags, 'links': links}\n",
    "        \n",
    "    "
   ]
  },
  {
   "cell_type": "code",
   "execution_count": 284,
   "metadata": {
    "collapsed": false
   },
   "outputs": [],
   "source": [
    "tweets_df['persontags'] = tweets_df['text'].apply(lambda text: get_tags(text)['persontags'])\n",
    "tweets_df['hashtags'] = tweets_df['text'].apply(lambda text: get_tags(text)['hashtags'])\n",
    "tweets_df['links'] = tweets_df['text'].apply(lambda text: get_tags(text)['links'])\n",
    "tweets_df['persontags_count'] = tweets_df['text'].apply(lambda text: len(get_tags(text)['persontags']))\n",
    "tweets_df['hashtags_count'] = tweets_df['text'].apply(lambda text: len(get_tags(text)['hashtags']))\n",
    "tweets_df['links_count'] = tweets_df['text'].apply(lambda text: len(get_tags(text)['links']))"
   ]
  },
  {
   "cell_type": "code",
   "execution_count": 287,
   "metadata": {
    "collapsed": false
   },
   "outputs": [
    {
     "data": {
      "text/plain": [
       "(array([  6.17090000e+04,   2.04501000e+05,   9.55160000e+04,\n",
       "          7.22200000e+03,   1.49800000e+03,   4.27000000e+02,\n",
       "          4.10000000e+01,   1.50000000e+01,   2.00000000e+00,\n",
       "          2.00000000e+00,   2.00000000e+00,   0.00000000e+00,\n",
       "          1.00000000e+00,   0.00000000e+00,   1.00000000e+00]),\n",
       " array([    2.        ,    68.53333333,   135.06666667,   201.6       ,\n",
       "          268.13333333,   334.66666667,   401.2       ,   467.73333333,\n",
       "          534.26666667,   600.8       ,   667.33333333,   733.86666667,\n",
       "          800.4       ,   866.93333333,   933.46666667,  1000.        ]),\n",
       " <a list of 15 Patch objects>)"
      ]
     },
     "execution_count": 287,
     "metadata": {},
     "output_type": "execute_result"
    },
    {
     "data": {
      "image/png": "[encoded data removed]",
      "text/plain": [
       "<matplotlib.figure.Figure at 0x117a46350>"
      ]
     },
     "metadata": {},
     "output_type": "display_data"
    }
   ],
   "source": [
    "plt.hist(tweets_df['text_length'], bins=15)"
   ]
  },
  {
   "cell_type": "code",
   "execution_count": 233,
   "metadata": {
    "collapsed": false
   },
   "outputs": [
    {
     "data": {
      "text/plain": [
       "(array([ 928.,  220.,  163.,  113.,   94.,  110.,  104.,  148.,  201.,\n",
       "         179.,  251.,  322.,  407.,  345.,   43.,    2.,    0.,    0.,\n",
       "           0.,    0.,    0.,    0.,    0.,    0.,    1.]),\n",
       " array([   1. ,   16.8,   32.6,   48.4,   64.2,   80. ,   95.8,  111.6,\n",
       "         127.4,  143.2,  159. ,  174.8,  190.6,  206.4,  222.2,  238. ,\n",
       "         253.8,  269.6,  285.4,  301.2,  317. ,  332.8,  348.6,  364.4,\n",
       "         380.2,  396. ]),\n",
       " <a list of 25 Patch objects>)"
      ]
     },
     "execution_count": 233,
     "metadata": {},
     "output_type": "execute_result"
    },
    {
     "data": {
      "image/png": "[encoded data removed]",
      "text/plain": [
       "<matplotlib.figure.Figure at 0x1104d2990>"
      ]
     },
     "metadata": {},
     "output_type": "display_data"
    }
   ],
   "source": [
    "plt.hist(tweet_count, bins=25)"
   ]
  },
  {
   "cell_type": "code",
   "execution_count": 230,
   "metadata": {
    "collapsed": false
   },
   "outputs": [
    {
     "data": {
      "text/plain": [
       "MultiIndex(levels=[[u'    * 2010 Innovations Design & Engin (cont) http://tl.gd/1cbs5', u'  #nswdec', u'  #vsphere #rsac #vmware #cloud', u' #Cloud #AriaSystems', u' <<', u' Apprenda's SaaSGrid Cloud Application Server Announced .. http://cli.gs/1y49U', u' JAKARTA – Morphlabs Inc dan PT Pratesis melalui un... http://bit.ly/11kPx1t ', u' Take your passion and share it with the world. Creativi… (cont) http://deck.ly/~8BCMJ', u' from $1319* http://ow.ly/18VrLp', u' from $1435* http://ow.ly/18YOo5', u' from $1759* http://ow.ly/18UHxh', u' from $1949* http://ow.ly/18YdXZ', u' from $2189* http://ow.ly/18Zo6v', u' from $2195* http://ow.ly/18WPUi', u' from $3... http://ow.ly/18Ws85', u' http://bit.ly/1WDGwkx ', u' http://bit.ly/edPsJp', u' http://bit.ly/jzH6QL', u' http://is.gd/ArEIeG ', u' http://mwne.ws/t7SlbY ', u' http://tinyurl.com/54nyzt', u' let's see some fancy do's!!', u' pitcher Josh Fields from Oklahoma City (PCL).', u' placed pitcher Zac Rosscup on the 15-day disabled list.', u' ps. this took me like 5 minutes', u' what's my... http://dailybooth.com/u/2jzx6', u' xml:lang=”en” lang=”en” xmlns=”http://www.w3.org/1... http://bit.ly/jDulUR', u'#FeelingGreat', u'#LimeRoadMidWeekWin', u'#RurouniKenshin', u'#healthwarrior @ Life Changing Central http://instagram.com/p/kevcMERoz5/ ', u'#instapets #silleykitteh http://instagram.com/p/wjJgfJK0ko/ ', u'***Slim_Gem**', u'*facepalm. Orange biscuit-smelling palm*', u'*remembers my aftersun has tan maintainer in*', u'*shelli*', u'- Re: prince_aries: @errybody Battle of the Barbers on D2S? Wutchyathank?', u'- Re: prince_aries: got a story to t ...', u'---', u'.. http://tinyurl.com/4ffdmv', u'...', u'... http://bit.ly/k7D18C', u'... http://is.gd/8Tq3c', u'140Proof', u'1stdibs', u'2C2P', u'2tor', u'365DataCenters', u'365Scores', u'36Kr', u'3Drobotics', u'41stParameter', u'42Floors', u'4Home', u'500friends', u'5MinMedia', u'6fusion', u'6sense', u'8DWorld', u'8Securities', u'8thBridge', u'908Devices', u'91JinRong', u'99Bill', u'<ActivePath>.\\iconset\\main\\btn_s_on_bg.png</ActivePath>でフォルダ内でさらにフォルダ分け。名前は全てコピペ', u'@5starfoodie', u'@Rouxbe_foodie', u'@annalumor', u'@cardamomaddict @glmark', u'@nadimahossain on keys @alwayson', u'@pandafoodie @RosasYummyYums', u'@travelblggr @cardamomaddict @glmark', u'ABODO', u'AHAlife', u'ALL RIGHTS RESERVED', u'AMEC', u'AVMBiotechnology', u'AbilTo', u'Abiquo', u'AblativeSolutions', u'AbleLending', u'AblePlanet', u'Accellion', u'Accelops', u'Accertify', u'AccessPharmaceuticals', u'AccioEnergy', u'AccuVein', u'AceMetrix', u'AchatesPower', u'AchieveFinancialServices', u'Achievers', u'ActOnSoftware', u'Activepath', u'ActonSoftware', u'Acumatica', u'AcumenHoldings', u'AcutusMedical', u'AdKeeper', u'AdMeld', u'AdReady', u'AdRoll', u'AdScale', u'AdXpose', u'AdaptiveComputing', u'AdaptivePlanning', u'Adaptiveblue', u'Adaptivity', u'Adaptly', u'AdaraGlobal', u'Adbrite', u'Addepar', u'Adometry', u'AdultSpace', u'AdvanDx', u'AdvancedICUCare', u'AdzCentral', u'Aereo', u'Affectiva', u'AffimedTherapeutics', u'AffineSystems', u'AgInfoLink', u'AgilOne', u'AgileTherapeutics', u'Agiliance', u'Agilyx', u'Agnitio', u'Agrivida', u'Aicent', u'Aipai', u'Airgain', u'AirshipVentures', u'Airspan', u'Airware', u'AitoBV', u'Akimbo', u'Aktino', u'Alcresta', u'AlcyoneLifesciences', u'AlertEnterprise', u'AlertLogic', u'AlertMe', u'Alfresco', u'AlienVault', u'Allegiance', u'AlloCure', u'Allylix', u'AlphabetEnergy', u'AlpineDataLabs', u'Also known as the pistol in #halo:ce', u'AltairSemiconductor', u'AltairTherapeutics', u'Altobeam', u'Altruik', u'Amazing mobile testing platform on real devices @perfectomobile pic.twitter.com/y4P0GBLijz', u'AmieStreet', u'Amplience', u'Amplifinity', u'Amprius', u'Ampulse', u'Anagran', u'AnchorFree', u'Andera', u'AngioSlide', u'Aniboom', u'Animoto', u'AnthemisGroup', u'Apalya', u'AplosSoftware', u'AppAnnie', u'AppFirst', u'AppFog', u'AppZero', u'Appcelerator', u'Appconomy', u'Appfolio', u'Appirio', u'Appirio delivers products and professional services th.. http://tinyurl.com/5s2h7g', u'Appistry', u'Applause', u'AppliedDNASciences', u'AppliedLogic', u'AppliedProteomics', u'Appneta', u'AppnomicSystems', u'Apprenda', u'Aptana', u'Aptera', u'AptusEndosystems', u'AqueSys', u'Aquto', u'AratanaTherapeutics', u'Ardelyx', u'Area1Security', u'ArgyleData', u'ArgyleSocial', u'AriaSystems', u'AristotleCircle', u'Arrayent', u'Arsanis', u'Arteris', u'ArticleOnePartners', u'Artspace', u'Artsy', u'Artwise', u'AryakaNetworks', u'Asana', u'Asetek', u'AspireHealth', u'Assistly', u'AssurexHealth', u'AstuteNetworks', u'AtHoc', u'Atempo', u'Aternity', u'AtlantisComputing', u'Attributor', u'AttuneFoods', u'AudaxHealthSolutions', u'Augmenix', u'AuroraBiofuels', u'Authentix', u'AutoVirt', u'AutoVirt.com - Automating Data Migrat ...', u'AutomatedInsights', u'Automatic', u'AutonomicTechnologies', u'Autoquake', u'Avaak', u'AvalancheBiotech', u'Avedro', u'Avegant', u'Aveksa', u'AvelasBiosciences', u'AvereSystems', u'Aviir', u'Avogy', u'Awareness', u'AwoX', u'Axial', u'Axxana', u'Ayasdi', u'AylaNetworks', u'AylusNetworks', u'Azaleos', u'B5M', u'BDNA', u'BLiNQNetworks', u'BOKU', u'BPLGlobal', u'BVINetworks', u'Backupify', u'Baifendian', u'Balihoo', u'Balluun', u'BandPage', u'Banjo', u'Baronova', u'BaseCRM', u'BaubleBar', u'BayRu', u'Baynote', u'Beckon', u'Become', u'Become a VIP at Beyond Alabang. Get your class pass… http://instagram.com/p/roDGF-O9Qm/ ', u'Beepi', u'Bellabox', u'Belly', u'BeneChill', u'Betaworks', u'BetterCloud', u'Betterment', u'Between', u'BeyondtheRack', u'BigDoor', u'BigfootNetworks', u'BillGuard', u'Billeo', u'Billtrust', u'BioCept', u'BioConsortia', u'BioVascular', u'Birchbox', u'BitSightTechnologies', u'BitStewSystems', u'BitWave', u'Bitglass', u'Bitly', u'Bizanga', u'Bizible', u'Bizo', u'Blackwave', u'BlendTherapeutics', u'BlogHer', u'BlogTalkRadio', u'BloomHealth', u'BloomSpot', u'Bloomreach', u'BlueApron', u'BlueDataSoftware', u'BluePillar', u'BlueSparkTechnologies', u'Bluebox', u'Bluecava', u'Bluestacks', u'BodyShopBids', u'BookShout', u'BookingBug', u'Boomi', u'BoostMedia', u'Booyah', u'BoulderWindPower', u'BountyJobs', u'Boxee', u'Boxfish', u'Boxtone', u'Brammo', u'BranchOut', u'BrandAffinityTechnologies', u'Brandwatch', u'BreaktimeStudios', u'Breather', u'Brickstream', u'Bridgevine', u'Bright', u'BrightComputing', u'BrightRoll', u'BrightScope', u'BrightTag', u'Brightedge', u'Brighter', u'Brightpearl', u'Brightwhistle', u'BroadReachHealthcare', u'BroadSoft', u'Bromium', u'BuddyTV', u'BumpTechnologies', u'Bunchball', u'BungeeLabs', u'BusinessInsider', u'BusyEventMobile', u'ButterflyHealth', u'BuyVIP', u'BuyWithMe', u'BuzzFeed', u'Buzzwire', u'ByAllAccounts', u'C2FO', u'C3Nano', u'CAWI', u'CSAMedical', u'Cabify', u'Cafemom', u'Calsys', u'Camiant', u'CantaloupeSystems', u'CapThat', u'Capriza', u'Captricity', u'CardioFocus', u'Cardiosonic', u'Cardiox', u'Cardlytics', u'CareKinesis', u'CarnegieSpeech', u'CarrierIQ', u'CarticeptMedical', u'Casabi', u'Cash4Gold', u'CashStar', u'CatalystMobile', u'Catavolt', u'CatchpointSystems', u'Causata', u'Causes', u'CeQur', u'Cebix', u'Cellscape', u'CentriTechnology', u'Centrify', u'Ceregene', u'Cernostics', u'Certivox', u'ChaCha', u'Chango', u'ChannelIQ', u'Channelinsight', u'CharSoftware', u'Chargebee', u'CharlesSchwab', u'Chartbeat', u'Chartboost', u'CheckpointSurgical', u'CheetahMedical', u'ChipIn', u'ChooseEnergy', u'ChukongTechnologies', u'Chunyu', u'CiRBA', u'CiannaMedical', u'CiaoTelecom', u'Ciespace', u'CimaNanoTech', u'Cinchcast', u'Circle', u'CircleUp', u'CircuLite', u'CirisEnergy', u'CirtasSystems', u'Cityvoter', u'ClaretMedical', u'ClassPass', u'CleanPowerFinance', u'ClearDATANetworks', u'ClearSlide', u'ClearStoryData', u'ClearsideBiomedical', u'ClevelandHeartLab', u'Clever', u'ClickFuel', u'Clickatell', u'Clicker', u'Clickfox', u'Clicksquared', u'Clinicient', u'Clinverse', u'CloudBees', u'CloudCrowd', u'CloudCruiser', u'CloudFlare', u'CloudMade', u'CloudOn', u'CloudOneServices', u'CloudPhysics', u'CloudShare', u'CloudSherpas', u'CloudSwitch', u'CloudVelocity', u'Cloudian', u'CloudnineHospitals', u'Cloudscaling', u'Clustrix', u'Coalfire', u'CodeRyte', u'Codecademy', u'Coferon', u'Coghead', u'CognitiveMatch', u'CohoData', u'Collarity', u'CollectiveHealth', u'CollectiveIntellect', u'ColorLabs', u'Colorescience', u'CometSolutions', u'CommonFloor', u'ComparaOnline', u'Comprehend', u'Conductor', u'Conductor de mi desestresante visual favorito. Feliz  fin @contodoypenzini', u'ConduitLabs', u'Confidela', u'ConjuGon', u'ConnectAndSell', u'ConnectEdu', u'Connotate', u'ConsensusPoint', u'ConteXtream', u'ContextRelevant', u'ContextWeb', u'ContourEnergySystems', u'ControlScan', u'Conviva', u'CoolITSystems', u'CoolPlanetBiofuels', u'Coolerado', u'Cooliris', u'CorNova', u'Coraid', u'CoreTrace', u'Correx', u'Corventis', u'Coskata', u'Cotap', u'Coub', u'CoupaSoftware', u'CovenantSurgicalPartners', u'Covestor', u'CreditBenchmark', u'CreditKarma', u'CreditSesame', u'Credorax', u'CrimeReports', u'CrimsonHexagon', u'CrispMedia', u'Criteo', u'Crittercism', u'CrocusTechnology', u'CrossLoop', u'CrowdFlower', u'CrowdTwist', u'Crowdcube', u'Crowdpark', u'Crowdtap', u'Crownbioscience', u'CubicTelecom', u'CumulusNetworks', u'CurrencyCloud', u'CustomMade', u'CyberCity3D', u'CyberHeart', u'CyberRain', u'Cylance', u'Cyphort', u'Cytodyn', u'D2S', u'DATAllegro', u'DHgate', u'DNAnexus', u'DREAMLINES', u'DachisGroup', u'DaemonicLabs', u'DailySecret', u'Dailymotion', u'DanceJam', u'Daojia', u'DataGravity', u'DataPop', u'DataSift', u'DataSphere', u'Datadog', u'Dataguise', u'Datalogix', u'Datameer', u'Datorama', u'Dayima', u'Daylife', u'DaylightSolutions', u'De follow x follow', u'DealsAndYou', u'Decide', u'Decisyon', u'Deliveroo', u'Delphix', u'DemandEnergyNetworks', u'Descomplica', u'DesiHits', u'Desktone', u'DeviantArt', u'DewMobile', u'Diagnosoft', u'Dianwoba', u'Digabit', u'Digg', u'DigitalBridgeCommunications', u'DigitalChocolate', u'DigitalSignal', u'Dimdim', u'DiscoveryBayGames', u'Disqus', u'DistilNetworks', u'Divante', u'Divergence', u'Divide', u'Dizzywood', u'Dobleas', u'DocPlanner', u'Docstoc', u'DocuTAP', u'DogVacay', u'DomainSurgical', u'DoorDash', u'DotBlu', u'DotCloud', u'DoubleVerify', u'Doximity', u'Doxo', u'DramaFever', u'Drawbridge', u'DriveCam', u'DriverSide', u'Drobo', u'DueDil', u'Duetto', u'DuneMedicalDevices', u'DuoSecurity', u'Duolingo', u'Dwolla', u'Dxterity', u'DynamicSignal', u'E4Health', u'EATClub', u'ESOSolutions', u'ESTECH', u'EarlySense', u'EasyTaxi', u'EchoFirst', u'Echonest', u'EcoFactor', u'EcoMotors', u'EcosenseLighting', u'EdeniQ', u'EdgarOnline', u'Edgeware', u'Edmodo', u'Egalet', u'EightfoldLogic', u'Ektron', u'ElaCarte', u'Elastra', u'ElementalTechnologies', u'Elonics', u'Eloqua', u'EmSense', u'Embotics', u'EmeraldTherapeutics', u'Eminor', u'Enclarity', u'EndPlay', u'EndoEvolution', u'Endocyte', u'Enecsys', u'EnerVault', u'EnergyHub', u'Enevo', u'Enforta', u'EngineYard', u'EnglishCentral', u'Engrade', u'EnterpriseDB', u'Enverv', u'EnviaSystems', u'Eons', u'EosEnergyStorage', u'EpicSciences', u'EquityLock', u'EquityforAfrica', u'EspressoCapital', u'Etaoshi', u'Etouches', u'Etsy', u'EucalyptusSystems', u'Euclid', u'EverTrue', u'EveryScape', u'EverythingMe', u'Evogene', u'EvolvonDemand', u'Exit41', u'ExosomeDiagnostics', u'ExperienceProject', u'Explorys', u'ExtraHopNetworks', u'EyeEm', u'EyeFi', u'FASTTAC', u'Facishare', u'Familylink', u'Fancy', u'Fanduel', u'Fanzter', u'FarmLink', u'FastLaneVentures', u'FateTherapeutics', u'FederatedMedia', u'FeeX', u'Fiksu', u'Finestrella', u'FireBlade', u'FireHost', u'FirespotterLabs', u'Firm58', u'FirstFuelSoftware', u'FirstInsight', u'FiscalNote', u'Fitbit', u'Five9', u'FiveStars', u'Fix8', u'Fixmo', u'Fixya', u'Flashnotes', u'FlatWorldKnowledge', u'FleetMatics', u'FlexEnergy', u'FlightCar', u'Flipswap', u'Flite', u'Flixster', u'FloDesignWindTurbine', u'Flock', u'FluidNet', u'Flurry', u'Flypaper', u'Focus', u'Foliodynamix', u'Fonemine', u'ForgeRock', u'FormatDynamics', u'ForsightLabs', u'ForusHealth', u'FreedomMeditech', u'Freemonee', u'Freewheel', u'Frengo', u'Friendster', u'From: Andera', u'Fuhu', u'FulcrumBioenergy', u'FullContact', u'FunPlus', u'Fundera', u'FunnyOrDie', u'FutureAdvisor', u'Fynanz', u'GNSHealthcare', u'Gaikai', u'GainSpan', u'Gainsight', u'Gainspeed', u'GameGround', u'GameSkinny', u'GamefaceMedia', u'Gamervision', u'Games2Win', u'Garlik', u'Gather', u'GehryTechnologies', u'GemmusPharma', u'Gemvara', u'Genalyte', u'Genapsys', u'GeneWEAVE', u'GeneralAssembly', u'GenesisMedia', u'Geni', u'GenoLogics', u'GeoVax', u'Get A Sneak Peek At The Summer’s Indie Blockbuster. Gamervision’s follow-up to th... http://bit.ly/9DBme9', u'GetJar', u'GetOneRewards', u'GetSatisfaction', u'Getaround', u'Getglue', u'Giftango', u'Gigaom', u'Gigwalk', u'Gild', u'GinkgoBioworks', u'GlacierBay', u'Glassdoor', u'GlassesDirect', u'Glaxstar', u'GliaCure', u'Gliknik', u'GlobalFitnessMedia', u'GlobalGrind', u'Globant', u'GloriEnergy', u'GlycoMimetics', u'Glyde', u'Glympse', u'Gogobot', u'GoldSpotMedia', u'GoodEggs', u'GoodStartGenetics', u'Goodguide', u'Gradalis', u'GreatBasin', u'GreenMountainDigital', u'GreenSQL', u'GreenVolts', u'GreenWizard', u'GreencloudTechnologies', u'Greenext', u'GreenlightPlanet', u'Greenling', u'Greenphire', u'GreentechMedia', u'GridGainSystems', u'Gridstore', u'Grockit', u'GroundworkOpenSource', u'GroupCommerce', u'Grovo', u'GrubHub', u'GuardantHealth', u'GuardianAnalytics', u'Guidespark', u'GumGum', u'Gutcheck', u'Guys it has to be me bcz  i love myself and limeroad awesum products', u'Hailo', u'HandmadeMobile', u'HarQen', u'HealthGuru', u'HealthMarketScience', u'HealthTap', u'HealthWarrior', u'HealthclubTV', u'HealthiNation', u'HearsaySocial', u'HeartlandRobotics', u'Hedvig', u'Heliatek', u'HelloFresh', u'HelloWallet', u'HemoShear', u'Heyzap', u'HiWiFi', u'HighGearMedia', u'HighRoads', u'HighStreetPartners', u'Hightail', u'Hightower', u'Hiplogiq', u'Hipmunk', u'HireVue', u'HistoSonics', u'Histogenics', u'Homejoy', u'HoneyBook', u'HookLogic', u'HookipaBiotech', u'Hopper', u'Hotelicopter', u'HourlyNerd', u'HouseParty', u'HouseTrip', u'HubPages', u'Huddle', u'Huddler', u'Hupu', u'HuyVietnam', u'Hycrete', u'HydroNovation', u'Hyperic', u'Hytrust', u'I best be on my way out', u'IFTTT', u'IGAWorks', u'IGLOOSoftware', u'IMVU', u'Iamcompany', u'Icebreaker', u'Icetana', u'Id90t', u'Idbyme', u'IdeaPaint', u'Identified', u'Idleair', u'Ifbyphone', u'Ignorance is your new best friend...', u'Ignyta', u'Illumio', u'Illumitex', u'ImageMetrics', u'ImageSpan', u'ImmuneDesign', u'ImmuneXcite', u'Imperva', u'Impeva', u'InContextSolutions', u'InVision', u'Inadco', u'Indiegogo', u'InedaSystems', u'InfinetaSystems', u'InfinitePowerSolutions', u'InfoNow', u'InfoScout', u'Infobright', u'Infolinks', u'Infopia', u'IngramMedical', u'Inmagic', u'InnRoad', u'Inneractive', u'Innography', u'Innolight', u'Innotas', u'Innovectra', u'Innovid', u'InovaLabs', u'InsightSquared', u'Insightec', u'Inspirato', u'Instantly', u'InstartLogic', u'Instromedix', u'Instructure', u'Intalio', u'IntegralAdScience', u'Integrate', u'Intelepeer', u'Intelliworks', u'IntentMedia', u'Interana', u'Intercom', u'Intermolecular', u'InterradMedical', u'Intradigm', u'InvenSense', u'Inventables', u'Invincea', u'Invision.com', u'Invoca', u'Invodo', u'Involver', u'Invuity', u'IonicSecurity', u'IoraHealth', u'Irise', u'IronKey', u'Issuu', u'ItzCashCard', u'JHLBiotech', u'JOOR', u'JackBe', u'JamaSoftware', u'Jambool', u'Jana', u'JasperSoft', u'Jaunt', u'Jaxtr', u'Jelastic', u'JiWire', u'JibJab', u'Jiff', u'JikeXueyuan', u'JimuBox', u'JiveSoftware', u'Jivox', u'Jobaline', u'Jobfox', u'Jobster', u'Joyus', u'Jumio', u'JumpRampGames', u'Justworks', u'KIXEYE', u'KOTURA', u'Kaazing', u'Kaboodle', u'Kaiam', u'Kamcord', u'Kaminario', u'Kantox', u'Kapitall', u'Kapost', u'Kareo', u'Karmasphere', u'KeaholeSolarPower', u'KellBenx', u'Kenandy', u'Kewego', u'KickApps', u'Kickfire', u'KidZui', u'Kidaptive', u'Kiip', u'Kimbia', u'Kindling', u'Kinnek', u'Kinvey', u'Kissmetrics', u'KitCheck', u'Klout', u'KnoaSoftware', u'KnowledgeTree', u'Kobalt', u'Koding', u'KonaMedical', u'Kontagent', u'Kontera', u'Kontiki', u'KoolSpan', u'Kosmix', u'KouponMedia', u'Krossover', u'KruxDigital', u'KumuNetworks', u'Kupivip', u'KuponGid', u'KyribaJapan', u'Kyruus', u'LPAmina', u'Lagotek', u'Lagou', u'LakewoodAmedex', u'LantosTechnologies', u'Lastline', u'LaszloSystems', u'LatticeEngines', u'LaunchPoint', u'Lavante', u'LeVisionPictures', u'Leaf', u'LeapMotion', u'Leapset', u'Learn how to set up a new campaign on GetJar to attract millions o... http://bit.ly/chfoih', u'LearnVest', u'Legend3D', u'LegolasMedia', u'LeisureLink', u'Lemko', u'Lendio', u'Lengow', u'LesConcierges', u'LevelUp', u'Librato', u'Libredigital', u'Life360', u'LifeBond', u'Light', u'LightspeedRetail', u'LikewiseSoftware', u'LimeMicrosystems', u'LimeRoad', u'Limeade', u'Link_A_Media', u'LiquidHub', u'LiquidPlanner', u'LiquidRobotics', u'LittleBlackBag', u'LiveGamer', u'LiveIntent', u'LiveRail', u'LiveU', u'Livemocha', u'LivingProof', u'LoadDynamiX', u'Localytics', u'Lockerz', u'Lockpath', u'LogMeIn', u'LogRhythm', u'Loggly', u'LonestarHeart', u'LoopCommerce', u'Loopt', u'Lot18', u'Lotame', u'LoxoOncology', u'Lucid', u'LucidDesignGroup', u'LucidMedia', u'LucidityLights', u'Lucidworks', u'LumenaPharmaceuticals', u'Luminal', u'Luminate', u'LumosLabs', u'Lutonix', u'Lyst', u'Lytro', u'MDIT', u'MIOX', u'MUBI', u'MUJIN', u'MYSQL ERROR', u'Macheen', u'MachineZone', u'Madvertise', u'Magisto', u'MagmaGlobal', u'MagnetSystems', u'Magnetic', u'Mahalo', u'Maimaicha', u'MakaniPower', u'MakeMyTrip', u'MalauzaiSoftware', u'Mantara', u'MarkLogic', u'MarroneBioInnovations', u'MartiniMediaNetwork', u'Mashable', u'Mashery', u'Massdrop', u'MasteryConnect', u'Mavenlink', u'MaxPointInteractive', u'Maxta', u'MaxwellHealth', u'Maxymiser', u'MediaBank', u'MediaBoost', u'MediaBrix', u'MediaPlatform', u'Medialets', u'Mediastay', u'MedicalDirectClub', u'Medivo', u'MeeVee', u'Meebo', u'MeetMoi', u'Meetup', u'Melodis', u'MemSQL', u'Memento', u'Memeo', u'Mendix', u'MendorOy', u'MercatorMedSystems', u'Mercent', u'MerchantCircle', u'MesMateriaux', u'MeshSystems', u'MessageSystems', u'Metaboli', u'Metabolon', u'Metamarkets', u'Mevio', u'Miaopai', u'MicroInterventionalDevices', u'MicronTechnology', u'Mig33', u'Milyoni', u'Mimecast', u'MindMixer', u'MinervaProject', u'Mintigo', u'MinuteKey', u'MiramarLabs', u'MirnaTherapeutics', u'Misfit', u'Miso', u'MissionMotors', u'Mithridion', u'Mixamo', u'Mixbook', u'Mixercast', u'Mixpanel', u'Mixpo', u'Miyowa', u'Moat', u'MobStac', u'Mobango', u'MobilePosse', u'MobileSpaces', u'Moblyng', u'MochiMedia', u'ModaOperandi', u'Modcloth', u'ModivMedia', u'Modu', u'Mogl', u'Mojiva', u'MokaFive', u'MolecularBiometrics', u'MolecularMD', u'Mongolab', u'MontageTalent', u'Moogsoft', u'Morphlabs', u'Mosaic', u'Motionbox', u'Motionsoft', u'MovableInk', u'Movableink', u'Moz', u'Mozes', u'Msg: FWD: FWD: FWD: FWD: FWD: FWD:   --ORIGINAL MSG:  FWD:  Aww ii LOVE yuu... && yuu mean  ...', u'Multigig', u'Mxp4', u'MyBuys', u'MyCheck', u'MyDamnChannel', u'MyDocket', u'MyEdu', u'MyHealthDirect', u'MyHeritage', u'MyPublisher', u'MyThings', u'Myoscience', u'NABsys', u'NEXAGE', u'NHS could save millions by switching cervical cancer vax allegience; NIH and NanoBio fig… (cont) http://deck.ly/~YtxCP', u'NTRglobal', u'Namely', u'Namshi', u'Nanigans', u'NanoBio', u'Nanomech', u'Nantero', u'NarrativeScience', u'NastyGal', u'Nasuni', u'NationBuilder', u'NatureBox', u'Naurex', u'Navigenics', u'NearbyNow', u'NeatoRobotics', u'NebuAd', u'Nebula', u'Needle', u'NeoTechnology', u'Neocleus', u'NetSocket', u'NetStreams', u'Netbooks', u'NetmagicSolutions', u'Netpulse', u'Netsertive', u'NeuWaveMedical', u'Neuroptix', u'NewLeafSymbiotics', u'Newcomlink', u'Newforma', u'Newlans', u'Newmerix', u'NewsCred', u'NewsHunt', u'NexPlanar', u'NexawebTechnologies', u'NexentaSystems', u'NextDocs', u'NextGxDx', u'NextImageMedical', u'NextNewNetworks', u'NextStepLiving', u'Nextbio', u'Nextio', u'NimbleStorage', u'Nimbula', u'Nimbuzz', u'Nimsoft', u'NinePointMedical', u'NiteRoll', u'No rights granted unless in writing by Tim Waterman http://fb.me/28hthnXwm ', u'NoWait', u'NoesisEnergy', u'NokNokLabs', u'Nomadesk', u'NonProfitEasy', u'Nor1', u'NordicWindpower', u'NormOxys', u'Notonthehighstreet', u'Novinda', u'Novomer', u'Numerate', u'Numerify', u'NuoDB', u'Nurix', u'NxThera', u'OLX', u'OPXBiotechnologies', u'OUYA', u'OVGuide', u'ObjectLabs', u'OcarinaNetworks', u'Occipital', u'OcimumBiosolutions', u'OfferWire', u'OhMyGlasses', u'Olacabs', u'Oligomerix', u'OmekInteractive', u'OnNetworks', u'Onavo', u'OneRiot', u'OnestopInternet', u'Onlive', u'Onqity', u'Onshape', u'Onshift', u'Oodle', u'Ookbee', u'OpGen', u'OpTier', u'OpenGamma', u'OpenGov', u'OpenMile', u'OpenQ', u'OpenRoadIntegratedMedia', u'OpenSky', u'OpenX', u'OpenXchange', u'Openbravo', u'Opendoor', u'OpposingViews', u'OptiMedica', u'Optify', u'Optimal', u'Optimizely', u'Optoro', u'OrbisEducation', u'Orbotix', u'Origami', u'OrthAlign', u'OrthoKinematics', u'OrtivaWireless', u'Ostrovok', u'OurStage', u'OutSmartPowerSystems', u'Outbrain', u'Outspark', u'OvaScience', u'Oversi', u'Overtone', u'OvertureNetworks', u'Oxagen', u'PEXCard', u'PNMsoft', u'POPSUGAR', u'Packlink', u'Paddle8', u'PagerDuty', u'Palamida', u'PanOptica', u'Panaya', u'PanoLogic', u'Pantheon', u'Panzura', u'PapayaMobile', u'PaperlessPost', u'ParAccel', u'ParStream', u'Parature', u'ParkWhiz', u'Path', u'Paxata', u'PayNearMe', u'Paydiant', u'Payfone', u'Paymetric', u'Payoneer', u'Payvment', u'PeakGames', u'Peatix', u'Peel', u'Peer39', u'PeerApp', u'Pelago', u'Peloton', u'PenguinComputing', u'Pentaho', u'Pepperdata', u'Perceptis', u'Percolate', u'PerfectMarket', u'PerfectServe', u'PerfectoMobile', u'PerkStreetFinancial', u'PermissionTV', u'Pernixdata', u'Pero Jayce déjame hacerte follow y no me bloques tío yo no digo ', u'Petflow', u'PetraSolar', u'Philo', u'PhilzCoffee', u'PhishMe', u'PhononicDevices', u'Photobox', u'Phunware', u'Phylogy', u'Phyzios', u'Piazza', u'Pickspal', u'Piczo', u'PindropSecurity', u'PingMD', u'PinpointSoftware', u'PistonCloudComputing', u'Pitoyable -_- ', u'PivotLink', u'PixSense', u'Pixable', u'Placed', u'Placeiq', u'PlainVanillaGames', u'PlanetSoho', u'PlasticJungle', u'Plastiq', u'Plastyc', u'Platfora', u'PlayFirst', u'PlayerX', u'Plexxi', u'Pley', u'PlumTV', u'PlumTv', u'Plumchoice', u'Plumgrid', u'Pneuron', u'Pocket', u'PokitDok', u'PolarisWireless', u'PolyTherics', u'Polyera', u'Polyvore', u'PopularMedia', u'Portero', u'Poshmark', u'PositScience', u'PostPath', u'Posterous', u'PowaTechnologies', u'Power2SME', u'PowerCloudSystems', u'PowerReviews', u'PowerhouseDynamics', u'Poxel', u'PrecisionHawk', u'Precyse', u'Predilytics', u'PredixionSoftware', u'Premise', u'PressPlane', u'PressureBioSciences', u'PrestaShop', u'Prezi', u'Pricelock', u'PrimeSense', u'PrimusPower', u'PrioriaRobotics', u'PrismSkylabs', u'ProStorSystems', u'ProclivitySystems', u'Profitably', u'ProjectFrog', u'ProjectPlaylist', u'ProlexicTechnologies', u'Promosome', u'Pronutria', u'PropelFuels', u'ProspX', u'ProtonMedia', u'ProvidenceMedicalTechnology', u'ProviderTrust', u'ProximalData', u'PrudentEnergy', u'PsiKick', u'PubNub', u'Pubmatic', u'PuddingMedia', u'Pulmonx', u'PunchTab', u'PuppetLabs', u'PureCars', u'PurePlay', u'PureWaveNetworks', u'Purfresh', u'Putney', u'Q2ebanking', u'QDVision', u'QLayer', u'QPIDHealth', u'Qlusters', u'Qosmos', u'Qteros', u'QuadLearning', u'QualVu', u'Qualtre', u'Quandoo', u'QuantaLife', u'Quantance', u'Quantason', u'Quantcast', u'Quanterix', u'QuantiaMD', u'Quantopian', u'QuarriTechnologies', u'QuickPlayMedia', u'Quickoffice', u'Quofore', u'Qwilt', u'RELDATA', u'REMOTV', u'RFNano', u'ROAMData', u'ROBLOX', u'Racktivity', u'RadarNetworks', u'Radialpoint', u'RadiateMedia', u'RadioFrame', u'RadiumOne', u'Raise', u'Rapid7', u'RapidMicroBiosystems', u'Rapport', u'Raptr', u'RayV', u'Rayspan', u'ReShapeMedical', u'Reachable', u'RealIntent', u'RealPage', u'Realmatch', u'Rebit', u'Recommind', u'Recyclebank', u'Red5Studios', u'RedBrickHealth', u'RedMart', u'RedShiftSystems', u'Redfin', u'Redux', u'RedwoodBioscience', u'RedwoodSystems', u'Refinery29', u'Reflektion', u'ReflexSystems', u'RegenesisBiomedical', u'RelievantMedsystems', u'Remind', u'Renkoo', u'Renmatix', u'RenovoRx', u'RenttheRunway', u'Reonomy', u'ResearchGate', u'RespiratoryMotion', u'Restorando', u'RestorationRobotics', u'Retailigence', u'Retrevo', u'Retrofit', u'Reveal', u'ReverbNation', u'Revision3', u'RevivaPharmaceuticals', u'RevoltTechnology', u'Rheonix', u'RhythmNewMedia', u'RicPic nothin' but a picture http://fb.me/2cHU55EHt ', u'Richrelevance', u'RideCharge', u'Ridemakerz', u'RightCareSolutions', u'RightHemisphere', u'RightScale', u'RingCentral', u'RingRevenue', u'RiotGames', u'RipCode', u'RippleTV', u'RiskIQ', u'Robinhood', u'Rocketick', u'Rockmelt', u'Room77', u'RootstockSoftware', u'RotationMedical', u'RotoHog', u'Roundbox', u'Routehappy', u'Rouxbe', u'RubyRibbon', u'RuiYi', u'SCIenergy', u'SGBiofuels', u'SIPX', u'SLYCE', u'SOLREPUBLIC', u'SOLSSystems', u'Safend', u'SageCloud', u'Sailthru', u'Sakti3', u'Salsify', u'Sample6', u'SamplifySystems', u'Samsoft', u'Sanovia', u'SapienceAnalytics', u'Satoris', u'SauceLabs', u'Savingstar', u'ScaleBase', u'ScaleComputing', u'ScaleXtreme', u'Scality', u'ScanCafe', u'Scarosso', u'Schoology', u'ScienceLogic', u'ScientificConservation', u'Scoreloop', u'Scoutmob', u'ScribbleLive', u'Scribd', u'Scripted', u'ScrollMotion', u'SearchMe', u'Seatwave', u'SecondMarket', u'Secret', u'SecureAuth', u'SeeChangeHealth', u'SeekingAlpha', u'Segment', u'SelectableMedia', u'Semantra', u'Sencha', u'SendHub', u'SendMe', u'Sendio', u'SenoMedicalInstruments', u'Senscient', u'SenseNetworks', u'Senseg', u'Sent: Aug 08  6:42PM', u'Sentilla', u'SentreHEART', u'Sentrigo', u'Sequella', u'SequentMedical', u'SequentSoftware', u'Sequenta', u'SeresHealth', u'Sermo', u'Servergy', u'ShapeUp', u'ShareThis', u'ShareholderInsite', u'Sharethrough', u'Shocase', u'Shoedazzle', u'ShoesofPrey', u'ShopIgniter', u'Shoutlet', u'Showpad', u'Si todos moláis ', u'Sialix', u'Sidense', u'SiftScience', u'Sifteo', u'Signostics', u'SiliconBlueTechnologies', u'SilverTailSystems', u'SilverlinkCommunications', u'SilverrailTechnologies', u'Simbionix', u'SimpleEnergy', u'SimpleTuition', u'Simplee', u'Simplilearn', u'SimplyCast', u'SimplyHired', u'SimplyMeasured', u'Sionyx', u'Siri', u'Sittercity', u'Skillz', u'Skimlinks', u'SkyGrid', u'SkyboxImaging', u'Skyera', u'SkyhighNetworks', u'Skyhook', u'Skyrider', u'Skyroam', u'Slack', u'Smaato', u'SmartLunches', u'SmartRecruiters', u'SmartSheet', u'SmartZip', u'Smartling', u'SmithElectricVehicles', u'Smule', u'Snapeee', u'Snapvine', u'SnowballFinance', u'SocialFlow', u'SocialPoint', u'SocialWare', u'Socialcast', u'Socialtext', u'Socrata', u'SodaHead', u'Sofatutor', u'SolaisLighting', u'SolarEdge', u'SolarJunction', u'SolarUniverse', u'Solidfire', u'Solum', u'Soluto', u'Sonatype', u'Sonian', u'Soonr', u'SophiaGenetics', u'Sophono', u'Sosh', u'SoundPharmaceuticals', u'SpaceClaim', u'SpaceCurve', u'Spanning', u'Sparkcentral', u'Spartoo', u'Speeddate', u'Spigit', u'SpineGuard', u'SpireGlobal', u'Splashtop', u'Splunk', u'Spongecell', u'Spoqa', u'SportPursuit', u'Sportgenic', u'SpotHero', u'Spredfast', u'Sprig', u'SpringWireless', u'Sprinklr', u'SproutSocial', u'Squarespace', u'Stackdriver', u'StarWindSoftware', u'StartWire', u'Startforce', u'Steelhouse', u'Stellaris', u'Stentys', u'StepOut', u'StitchFix', u'StitchLabs', u'StorSimple', u'StoredIQ', u'StormWindStudios', u'Strava', u'Streetline', u'StrikeIron', u'StrongMail', u'StumbleUpon', u'Stylistpick', u'Sulia', u'SumoLogic', u'SunCatalytix', u'SundaySky', u'SunevaMedical', u'SunvergeEnergy', u'Superfish', u'Superpedestrian', u'Superprotonic', u'Supplyframe', u'SurefireMedical', u'SurfAir', u'SurgiQuest', u'Swaptree', u'SweetLabs', u'SwiftBiosciences', u'Swiftype', u'Swipely', u'Swoopo', u'Swrve', u'Syapse', u'Symplified', u'Sympoz', u'Synack', u'Syncbak', u'Synchroneuron', u'Synerchip', u'Synfora', u'T2Biosystems', u'TARISBiomedical', u'TELiBrahma', u'THERAVECTYS', u'TIPSolutions', u'TRA', u'TRUSTe', u'TSTMedia', u'TVtrip', u'TableauSoftware', u'Tablus', u'TactusTechnology', u'TakeLessons', u'TalariNetworks', u'TangoHealth', u'TangoNetworks', u'Tantaline', u'Taodangpu', u'TapInfluence', u'Tapingo', u'Tapjoy', u'TargetSpot', u'TaskRabbit', u'Tastemade', u'TeachScape', u'TeamPages', u'TechForward', u'TegileSystems', u'TelaDoc', u'Teleflip', u'TellApart', u'TelltaleGames', u'Telovations', u'TempoPayments', u'TemporalPower', u'TenXer', u'Teneros', u'Teradici', u'Teradiode', u'Terascala', u'Terrafugia', u'Tervela', u'TextMaster', u'TheAmericanAcademy', u'TheClymb', u'TheFilter', u'TheKingofShavesCompany', u'TheMadVideo', u'TheReceivablesExchange', u'TheResumator', u'ThermoEnergy', u'ThesanPharmaceuticals', u'ThetaRay', u'Thingworx', u'ThinkingPhones', u'Thinkvine', u'ThirdMotion', u'ThisNext', u'Thismoment', u'ThoughtSpot', u'Threadsy', u'Threatmetrix', u'Ticketbis', u'Ticketfly', u'Tidemark', u'Tideway', u'Tier3', u'TigerText', u'Tilt', u'Timebridge', u'Timehop', u'TinderBox', u'TinyCo', u'TinyPictures', u'TobiiTechnology', u'Tocagen', u'TokBox', u'Tongal', u'Tongbanjie', u'Top10', u'TopHat', u'TopSchool', u'TopTenREVIEWS', u'TopsyLabs', u'ToraxMedical', u'TotalImmersion', u'Totango', u'TouchOfModern', u'TouchPal', u'TouchType', u'Townhog', u'Tracevector', u'TraconPharmaceuticals', u'Tracx', u'Trada', u'Tradesy', u'TransferWise', u'Transgenomic', u'Transpera', u'TravelBird', u'TravelMuse', u'Travelata', u'Travelshark', u'Traxpay', u'TreasureData', u'Treato', u'Treehouse', u'Trendyol', u'TriCipher', u'TrialPay', u'TrialReach', u'Tributes', u'Trifacta', u'Triggit', u'Trilibis', u'Triplay', u'TripleLift', u'TriremeMedical', u'Trusper', u'TrustDigital', u'Trusteer', u'Truveris', u'Truviso', u'Tumri', u'TuneUp', u'TuneWiki', u'TurnHere', u'Tweetdeck', u'Twice', u'TwinStrata', u'TwistBioscience', u'TxVia', u'Txteagle', u'Tyfone', u'Typesafe', u'UGOBE', u'UUCun', u'UberMedia', u'Ubidyne', u'UbiquityGlobalServices', u'UltraSoCTechnologies', u'UnboundID', u'UndergroundSolutions', u'Unidesk', u'Unigo', u'UniversityNow', u'Unmetric', u'Untangle', u'UpStartMobile', u'UpTake', u'UpdateLogic', u'Uplogix', u'Upstart', u'UptakeMedical', u'UrbanSitter', u'UserTesting', u'UtiliData', u'VHX', u'VMTurbo', u'VOSSSolutions', u'VTS', u'ValenTx', u'Valencell', u'ValenciaTechnologies', u'ValiditySensors', u'VanDyneSuperTurbo', u'Vanilla Shako+Strawberries+Ice = PERFECTION', u'Vapotherm', u'Varentec', u'VasonaNetworks', u'VaxInnate', u'Vdopia', u'VectraNetworks', u'VelaSystems', u'Velomedix', u'Vend', u'Veracyte', u'Verastem', u'Verdasys', u'Verdeeco', u'VeriTeQ', u'VeriVue', u'VerivoSoftware', u'VertoAnalytics', u'VerveMobile', u'Vestaron', u'VestiaireCollective', u'Viableware', u'Viadeo', u'Viewdle', u'Viewfinity', u'Viewglass', u'Viki', u'Vindicia', u'Vinfolio', u'ViridityEnergy', u'Virobay', u'VirtuOz', u'VirtualComputer', u'VirtualInstruments', u'VisageMobile', u'VisiQuate', u'VisibleBrands', u'Visier', u'VisualIQ', u'Visualase', u'Visualead', u'VitaPathGenetics', u'VitaPortal', u'Vitriflex', u'Vitrue', u'VivaReal', u'Vivox', u'Vixar', u'Voalte', u'Vobile', u'Vocalocity', u'VoloMedia', u'VoltDB', u'Vontoo', u'Vostu', u'Vovici', u'VoxPopNetwork', u'Voxer', u'Vringo', u'Vuclip', u'Vungle', u'Vyatta', u'WHOOP', u'WOWIO', u'Wanova', u'WatchDox', u'WatermarkMedical', u'Wattpad', u'WaveAccounting', u'Wavemark', u'Wayin', u'WePlay', u'WeSpeke', u'Wealthengine', u'Webvanta', u'WedPics', u'WeddingWire', u'Weebly', u'Wellfount', u'WellnessFX', u'Welltok', u'Wetpaint', u'WhalebackSystems', u'Whisper', u'WhoSay', u'WiSpry', u'WiTricity', u'WibiData', u'Wickr', u'WideOrbit', u'Widgetbox', u'Wikinvest', u'WiserTogether', u'Wize', u'Wochit', u'Wonga', u'WooMe', u'Wooga', u'Woozworld', u'Wordnik', u'WorkFlexSolutions', u'WorkMarket', u'Workiva', u'Workshare', u'Worktopia', u'WorldGolfTour', u'WorldMate', u'WorldofGood', u'WrapMedia', u'Wrightspeed', u'XAware', u'XCORAerospace', u'XLHybrids', u'Xactly', u'Xagenic', u'Xamarin', u'XerisPharmaceuticals', u'Xeround', u'Xhale', u'Xignite', u'Xkoto', u'Xlerant', u'Xlumena', u'XunLight', u'YCDMultimedia', u'Yashi', u'Yesware', u'Yext', u'YieldBuild', u'Yieldmo', u'Yipit', u'Yola', u'Yoolink', u'Yotpo', u'YottaMark', u'Yottaa', u'YouNow', u'YuMe', u'Yuantiku', u'ZEFR', u'ZIMPERIUM', u'ZINKImaging', u'ZIRX', u'ZOZI', u'ZadaraStorage', u'Zadspace', u'Zanbato', u'Zannel', u'Zapproved', u'Zattoo', u'Zazzle', u'ZeRTO', u'ZeaChem', u'Zecco', u'Zendesk', u'Zenoss', u'Zettaset', u'Zettics', u'Zhihu', u'ZiftenTechnologies', u'ZignalLabs', u'Zillow', u'ZipitWireless', u'ZiplineMedical', u'Zmags', u'ZocDoc', u'ZooZ', u'Zoomdata', u'Zoosk', u'Zoove', u'Zuberance', u'Zubie', u'Zumigo', u'ZurexPharma', u'Zvents', u'Zya', u'ZymeSolutions', u'Zymeworks', u'Zyncro', u'Zynstra', u'Zyomyx', u'__Chillin: #DontHate  http://lockerz.c', u'adeven', u'admantx', u'aihuishou', u'auxmoney', u'azetiNetworksAG', u'cFares', u'cVidya', u'cicayda', u'clypd', u'convercent', u'eBureau', u'eMeter', u'eSentire', u'eShares', u'eVariant', u'eXelate', u'eYeka', u'ebyline', u'ecobee', u'elenza', u'enVista', u'epacube', u'ezCater', u'foodpanda', u'gloStream', u'healthrageous', u'http://awe.sm/5ah4G . Brought to you by @groupcommerce', u'http://github.com/rachelreese/tasky …', u'http://linkd.in/UpXKBt  @northsocial @sproutsocial @moontoast @socialflow @wildfireapp', u'http://tinyurl.com/6cbz65', u'http://tinyurl.com/6e9owy', u'http://tinyurl.com/7jg8f9z  #health', u'http://tinyurl.com/83spwpv  #BlendTherapeutics', u'http://twitpic.com/6kybrq ', u'http://www.riccardopiccirillo.com . ', u'http://www.windowsphone.com/s?appid=5360760b-dfc8-4282-a8e2-285cf490c8d9 …', u'iCapitalNetwork', u'iCopyright', u'iCreateSoftware', u'iLike', u'iMemories', u'iMoney', u'iMoneyGroup', u'iPierian', u'iSkoot', u'iSpecimen', u'iWalk', u'iZettle', u'ibotta', u'inDplay.com - Marketplace For Film & Video Rights', u'inoe girrrrrl. i'm stuck at my granna's and she don't have cable. i'm bouta hightail it outta here.', u'ixigo.com', u'lit at night. #Rome http://yfrog.com/khkgiwvj  http://yfrog.com/h6jh9ozj ', u'littleBits', u'littlepim', u'lmbang', u'm6d', u'mFoundry', u'mVia', u'maniaTV', u'mate-who?--------- ', u'mobiustherapeutics', u'myDocket', u'myhomemove', u'nanoMR', u'natera', u'neohapsis', u'oDesk', u'oimotomeru tsuyosa ga', u'onefinestay', u'plzzz', u'qinec', u'scanR', u'sliceX', u'thredUP', u'uCirrus', u'uzabase', u'vArmourNetworks', u'vWise', u'validitysensors.com/', u'viagogo', u'yami wo terashite yuku ANGELUS ♫', u'~Wefad ~', u'®ŧz̲̅', u'С праздничком!И с пятницей!#sledui', u'تطبيق BlueStacks برنامج جديد يمكن المستخدمين من تشغيل نظ… (cont) http://deck.ly/~RSvw5 ', u'•got a nose job by the ball', u'•got elbowed twice', u'•got my right ankle kicked', u'•got sore', u'•twisted my left ankle', u'プラネテスのOP思い出す', u'山利喜行ってみたいんだよなー。RT @yukkysnowy: 山利喜すきー“@masa_xxx: な、なに！！たべたいねー！！！'], [u'_Series_A', u'_Series_B', u'_Series_C', u'_Series_D']],\n",
       "           labels=[[43, 44, 45, 45, 45, 46, 46, 46, 47, 48, 49, 50, 50, 51, 52, 52, 53, 53, 54, 55, 56, 56, 57, 57, 58, 59, 59, 60, 60, 61, 62, 63, 72, 73, 73, 75, 76, 77, 77, 78, 78, 79, 80, 81, 82, 83, 84, 84, 85, 86, 86, 87, 88, 88, 89, 89, 90, 91, 91, 92, 92, 92, 93, 94, 94, 94, 95, 96, 97, 98, 98, 99, 99, 99, 100, 100, 100, 101, 101, 102, 103, 104, 104, 105, 106, 107, 107, 108, 108, 109, 109, 110, 110, 111, 111, 112, 112, 113, 113, 114, 114, 115, 116, 116, 117, 117, 117, 118, 118, 118, 119, 120, 121, 122, 122, 122, 123, 124, 125, 125, 126, 127, 128, 129, 129, 130, 131, 132, 133, 133, 134, 135, 136, 137, 138, 139, 139, 140, 140, 141, 142, 142, 143, 143, 143, 143, 144, 145, 146, 147, 147, 148, 150, 151, 152, 152, 153, 153, 155, 156, 157, 157, 158, 159, 159, 160, 161, 161, 162, 163, 163, 164, 164, 165, 165, 166, 166, 167, 167, 167, 168, 168, 169, 169, 169, 169, 170, 170, 171, 171, 172, 173, 173, 173, 173, 174, 174, 175, 176, 176, 176, 176, 178, 178, 178, 179, 179, 179, 179, 180, 180, 181, 182, 183, 184, 185, 185, 185, 186, 187, 188, 189, 189, 190, 190, 191, 192, 193, 193, 194, 195, 196, 196, 196, 197, 197, 198, 199, 199, 200, 201, 201, 202, 202, 203, 203, 203, 204, 204, 205, 206, 206, 207, 208, 209, 209, 210, 210, 211, 212, 213, 214, 215, 215, 216, 216, 217, 218, 219, 219, 220, 221, 222, 222, 224, 225, 225, 226, 227, 228, 229, 230, 230, 231, 231, 232, 232, 233, 234, 234, 235, 236, 237, 237, 238, 239, 239, 240, 241, 241, 242, 242, 243, 244, 245, 245, 246, 247, 248, 248, 249, 250, 250, 250, 251, 251, 251, 252, 252, 253, 253, 253, 254, 254, 255, 255, 255, 256, 256, 257, 257, 258, 258, 259, 260, 261, 262, 262, 263, 263, 265, 265, 266, 266, 267, 267, 268, 269, 269, 270, 270, 270, 270, 271, 271, 271, 272, 273, 274, 275, 276, 276, 277, 278, 279, 279, 280, 281, 282, 282, 283, 284, 285, 285, 286, 287, 287, 288, 289, 289, 290, 291, 292, 292, 293, 293, 293, 294, 294, 295, 295, 296, 296, 297, 297, 298, 298, 298, 299, 300, 301, 302, 303, 303, 304, 304, 305, 305, 306, 306, 307, 308, 309, 309, 309, 310, 310, 310, 311, 311, 312, 312, 312, 313, 313, 313, 314, 314, 315, 316, 316, 316, 316, 317, 317, 317, 318, 319, 319, 320, 320, 321, 321, 322, 323, 324, 324, 325, 326, 326, 326, 327, 327, 328, 329, 329, 329, 330, 330, 330, 331, 331, 331, 332, 333, 334, 335, 335, 335, 336, 336, 337, 337, 338, 339, 340, 340, 341, 342, 343, 344, 344, 344, 345, 345, 345, 345, 346, 347, 348, 348, 348, 349, 349, 350, 351, 351, 351, 352, 352, 353, 353, 354, 355, 356, 357, 357, 358, 358, 359, 359, 360, 361, 362, 363, 364, 364, 365, 365, 366, 366, 367, 368, 369, 369, 370, 370, 371, 372, 372, 373, 374, 374, 375, 375, 375, 376, 376, 377, 378, 378, 379, 379, 380, 380, 381, 382, 383, 384, 384, 384, 385, 385, 386, 387, 387, 388, 388, 389, 389, 390, 391, 392, 392, 393, 394, 395, 396, 396, 396, 397, 398, 398, 398, 399, 399, 400, 401, 402, 402, 403, 404, 405, 405, 405, 406, 406, 407, 407, 408, 408, 409, 410, 411, 412, 412, 413, 413, 414, 415, 415, 415, 416, 416, 417, 418, 419, 419, 420, 421, 422, 422, 423, 424, 425, 425, 425, 426, 426, 427, 427, 427, 428, 429, 430, 430, 430, 431, 431, 432, 432, 433, 433, 434, 434, 434, 435, 436, 436, 436, 437, 437, 438, 439, 439, 439, 440, 441, 441, 442, 442, 442, 443, 443, 444, 445, 446, 447, 448, 448, 448, 449, 450, 451, 451, 452, 453, 453, 454, 454, 455, 455, 456, 456, 457, 457, 458, 458, 459, 459, 461, 461, 462, 462, 463, 464, 465, 465, 466, 466, 467, 468, 469, 469, 470, 471, 472, 473, 473, 473, 474, 474, 475, 476, 477, 477, 477, 478, 479, 479, 479, 480, 481, 482, 483, 483, 483, 484, 484, 485, 485, 486, 487, 488, 488, 489, 489, 490, 490, 490, 490, 491, 491, 491, 492, 493, 494, 495, 496, 496, 496, 497, 497, 498, 499, 499, 499, 500, 500, 500, 501, 501, 502, 503, 504, 504, 505, 505, 506, 507, 507, 508, 508, 509, 509, 509, 510, 511, 512, 512, 513, 513, 514, 514, 514, 515, 516, 517, 518, 518, 519, 519, 519, 520, 520, 520, 521, 521, 522, 523, 524, 524, 525, 526, 526, 526, 527, 528, 528, 529, 529, 529, 530, 530, 530, 531, 531, 532, 532, 533, 533, 533, 534, 534, 534, 534, 535, 535, 536, 536, 536, 537, 537, 538, 540, 540, 541, 541, 542, 542, 543, 543, 543, 544, 544, 544, 545, 546, 546, 546, 547, 548, 549, 549, 550, 551, 552, 553, 553, 553, 553, 554, 554, 554, 555, 556, 557, 558, 559, 560, 560, 561, 561, 562, 562, 563, 564, 564, 565, 565, 566, 567, 567, 568, 568, 569, 569, 570, 570, 571, 572, 572, 573, 573, 574, 574, 575, 575, 576, 576, 576, 577, 577, 578, 579, 579, 580, 581, 581, 581, 582, 583, 583, 584, 584, 585, 586, 586, 587, 587, 587, 588, 588, 588, 588, 589, 589, 590, 590, 590, 591, 592, 592, 593, 594, 594, 595, 596, 596, 596, 596, 597, 598, 598, 599, 600, 600, 601, 602, 603, 604, 605, 605, 605, 606, 607, 607, 608, 609, 609, 610, 611, 611, 612, 613, 614, 615, 616, 616, 617, 618, 619, 620, 621, 622, 623, 623, 624, 625, 625, 626, 627, 627, 627, 628, 628, 628, 629, 629, 630, 631, 631, 632, 633, 634, 635, 635, 636, 636, 637, 638, 638, 638, 639, 640, 641, 641, 641, 642, 643, 643, 644, 644, 645, 645, 646, 646, 646, 647, 648, 648, 649, 649, 650, 651, 651, 651, 651, 652, 652, 653, 654, 654, 655, 655, 655, 656, 657, 658, 659, 659, 659, 660, 660, 660, 660, 661, 661, 662, 663, 664, 665, 665, 666, 666, 667, 667, 668, 669, 670, 670, 670, 670, 671, 672, 673, 674, 674, 675, 675, 676, 676, 676, 676, 677, 677, 678, 678, 679, 679, 680, 680, 681, 681, 682, 683, 683, 684, 685, 686, 687, 688, 688, 689, 690, 691, 692, 693, 693, 693, 693, 694, 694, 695, 696, 697, 698, 698, 698, 699, 700, 700, 701, 701, 702, 702, 703, 703, 703, 704, 705, 706, 708, 708, 708, 709, 710, 710, 711, 712, 712, 713, 714, 714, 715, 715, 716, 717, 717, 717, 718, 718, 719, 719, 719, 720, 720, 721, 721, 722, 723, 724, 725, 726, 726, 727, 727, 728, 729, 730, 730, 730, 731, 732, 732, 733, 733, 734, 734, 734, 735, 735, 736, 736, 737, 737, 738, 740, 740, 740, 741, 742, 742, 743, 743, 744, 744, 744, 745, 745, 746, 746, 746, 747, 747, 748, 748, 749, 749, 750, 751, 751, 751, 751, 752, 753, 753, 754, 754, 755, 755, 756, 757, 758, 759, 760, 761, 762, 762, 763, 763, 763, 764, 765, 765, 766, 767, 767, 768, 769, 769, 770, 770, 771, 771, 771, 772, 772, 773, 773, 774, 775, 776, 777, 778, 778, 779, 779, 780, 780, 781, 781, 782, 782, 782, 782, 783, 784, 784, 785, 785, 786, 786, 786, 786, 787, 787, 788, 788, 789, 789, 790, 790, 790, 791, 791, 793, 793, 794, 795, 795, 796, 796, 796, 797, 798, 798, 799, 800, 801, 802, 802, 802, 803, 803, 804, 805, 805, 806, 806, 806, 807, 807, 808, 808, 809, 809, 810, 811, 812, 813, 813, 814, 814, 815, 815, 816, 816, 817, 817, 817, 818, 818, 818, 818, 819, 819, 820, 821, 822, 822, 823, 823, 824, 825, 825, 826, 827, 828, 828, 828, 829, 829, 829, 830, 830, 831, 831, 831, 832, 832, 833, 834, 835, 836, 837, 838, 838, 838, 840, 840, 841, 842, 843, 843, 844, 844, 845, 846, 847, 848, 848, 849, 849, 850, 850, 851, 852, 852, 854, 855, 855, 856, 857, 858, 859, 859, 860, 860, 861, 862, 863, 863, 864, 865, 865, 866, 866, 867, 868, 869, 869, 870, 871, 871, 872, 873, 873, 874, 875, 876, 876, 877, 877, 878, 878, 879, 880, 880, 881, 882, 883, 883, 883, 884, 884, 885, 885, 885, 886, 886, 887, 887, 888, 888, 888, 888, 889, 889, 890, 891, 891, 891, 892, 893, 894, 894, 895, 896, 896, 897, 897, 897, 898, 898, 899, 899, 899, 900, 901, 902, 903, 903, 904, 904, 905, 905, 906, 907, 907, 907, 908, 909, 909, 909, 910, 910, 911, 912, 913, 914, 915, 916, 917, 918, 918, 918, 919, 919, 920, 921, 921, 922, 922, 923, 924, 924, 925, 925, 926, 926, 927, 928, 928, 929, 929, 930, 931, 931, 932, 932, 932, 933, 933, 934, 934, 935, 936, 937, 938, 938, 939, 940, 940, 941, 942, 942, 943, 943, 944, 945, 945, 945, 946, 946, 947, 947, 948, 948, 949, 949, 950, 950, 950, 951, 952, 952, 953, 953, 954, 955, 955, 956, 956, 957, 958, 959, 960, 960, 961, 961, 962, 963, 964, 964, 965, 965, 966, 966, 967, 967, 968, 968, 968, 969, 969, 970, 970, 971, 972, 972, 973, 973, 974, 974, 975, 975, 976, 976, 977, 978, 978, 979, 979, 980, 980, 981, 981, 982, 983, 983, 984, 984, 984, 984, 985, 986, 986, 986, 987, 988, 989, 990, 991, 991, 992, 992, 993, 994, 994, 994, 995, 996, 997, 998, 999, 999, 1000, 1000, 1002, 1002, 1002, 1002, 1003, 1003, 1004, 1004, 1005, 1006, 1007, 1007, 1008, 1008, 1009, 1010, 1010, 1010, 1010, 1011, 1012, 1012, 1013, 1013, 1013, 1014, 1014, 1014, 1015, 1015, 1016, 1016, 1017, 1018, 1019, 1019, 1019, 1020, 1020, 1021, 1021, 1021, 1022, 1023, 1024, 1025, 1025, 1026, 1027, 1027, 1027, 1028, 1028, 1028, 1029, 1029, 1029, 1030, 1030, 1030, 1031, 1031, 1031, 1032, 1033, 1033, 1034, 1035, 1035, 1036, 1037, 1037, 1037, 1037, 1038, 1038, 1038, 1039, 1039, 1040, 1040, 1041, 1041, 1042, 1042, 1042, 1043, 1043, 1043, 1043, 1044, 1044, 1045, 1045, 1046, 1046, 1047, 1047, 1048, 1049, 1049, 1050, 1051, 1051, 1052, 1052, 1052, 1053, 1053, 1054, 1055, 1055, 1055, 1056, 1056, 1057, 1058, 1059, 1059, 1059, 1060, 1060, 1062, 1062, 1063, 1063, 1064, 1065, 1065, 1066, 1067, 1068, 1068, 1069, 1069, 1070, 1071, 1072, 1073, 1074, 1075, 1075, 1076, 1077, 1077, 1078, 1078, 1079, 1079, 1079, 1079, 1080, 1080, 1081, 1081, 1082, 1083, 1084, 1084, 1085, 1085, 1086, 1087, 1088, 1089, 1090, 1091, 1091, 1091, 1092, 1093, 1094, 1094, 1095, 1096, 1096, 1096, 1097, 1097, 1098, 1099, 1100, 1100, 1101, 1102, 1102, 1103, 1103, 1104, 1105, 1106, 1107, 1108, 1108, 1109, 1110, 1110, 1111, 1112, 1112, 1113, 1113, 1114, 1115, 1116, 1117, 1118, 1118, 1118, 1119, 1119, 1120, 1120, 1121, 1121, 1121, 1122, 1123, 1123, 1124, 1124, 1125, 1126, 1126, 1126, 1127, 1127, 1127, 1128, 1128, 1129, 1130, 1131, 1131, 1132, 1132, 1133, 1133, 1134, 1134, 1135, 1136, 1137, 1138, 1139, 1140, 1141, 1141, 1142, 1143, 1143, 1144, 1144, 1144, 1145, 1145, 1145, 1146, 1147, 1147, 1148, 1148, 1149, 1149, 1150, 1151, 1152, 1153, 1153, 1154, 1155, 1155, 1156, 1156, 1156, 1157, 1157, 1158, 1158, 1159, 1160, 1160, 1161, 1161, 1162, 1162, 1163, 1163, 1165, 1165, 1166, 1167, 1168, 1168, 1169, 1169, 1170, 1170, 1171, 1171, 1172, 1173, 1173, 1174, 1175, 1175, 1175, 1176, 1176, 1177, 1177, 1177, 1178, 1178, 1180, 1181, 1181, 1181, 1182, 1183, 1183, 1184, 1184, 1185, 1186, 1187, 1188, 1188, 1189, 1189, 1189, 1190, 1190, 1191, 1191, 1192, 1192, 1192, 1193, 1194, 1195, 1195, 1195, 1196, 1196, 1197, 1197, 1198, 1199, 1199, 1200, 1201, 1202, 1203, 1203, 1204, 1205, 1205, 1205, 1205, 1206, 1206, 1206, 1207, 1208, 1209, 1209, 1210, 1211, 1212, 1213, 1214, 1214, 1214, 1214, 1215, 1216, 1217, 1218, 1218, 1219, 1219, 1219, 1220, 1221, 1222, 1222, 1222, 1223, 1223, 1223, 1224, 1225, 1226, 1226, 1227, 1227, 1228, 1228, 1229, 1230, 1231, 1233, 1233, 1234, 1234, 1235, 1235, 1235, 1236, 1237, 1237, 1238, 1239, 1240, 1241, 1242, 1243, 1244, 1245, 1245, 1246, 1246, 1246, 1247, 1248, 1248, 1249, 1249, 1249, 1250, 1251, 1251, 1252, 1252, 1253, 1253, 1254, 1255, 1255, 1256, 1257, 1258, 1258, 1259, 1259, 1259, 1260, 1260, 1261, 1261, 1262, 1263, 1263, 1264, 1265, 1266, 1267, 1267, 1268, 1268, 1269, 1270, 1270, 1271, 1271, 1272, 1272, 1272, 1273, 1274, 1274, 1275, 1275, 1276, 1277, 1278, 1279, 1279, 1279, 1280, 1280, 1280, 1281, 1281, 1282, 1283, 1283, 1284, 1285, 1286, 1287, 1287, 1288, 1288, 1289, 1289, 1289, 1290, 1291, 1291, 1291, 1292, 1292, 1293, 1293, 1294, 1295, 1296, 1296, 1296, 1297, 1297, 1298, 1299, 1299, 1299, 1299, 1300, 1300, 1301, 1301, 1301, 1301, 1302, 1303, 1303, 1304, 1305, 1306, 1307, 1308, 1308, 1309, 1309, 1310, 1310, 1311, 1311, 1312, 1313, 1313, 1314, 1314, 1314, 1315, 1315, 1315, 1316, 1316, 1317, 1317, 1317, 1318, 1319, 1319, 1320, 1321, 1321, 1322, 1323, 1323, 1324, 1324, 1324, 1325, 1326, 1327, 1327, 1327, 1328, 1329, 1330, 1330, 1331, 1331, 1332, 1332, 1333, 1333, 1334, 1334, 1335, 1336, 1337, 1338, 1338, 1338, 1339, 1340, 1341, 1342, 1343, 1343, 1343, 1344, 1344, 1344, 1345, 1346, 1346, 1346, 1347, 1348, 1349, 1349, 1349, 1351, 1351, 1352, 1353, 1353, 1354, 1354, 1355, 1355, 1356, 1356, 1357, 1358, 1358, 1358, 1359, 1360, 1361, 1361, 1362, 1363, 1364, 1365, 1366, 1367, 1369, 1370, 1371, 1371, 1372, 1372, 1373, 1373, 1373, 1374, 1374, 1375, 1376, 1376, 1376, 1377, 1377, 1378, 1379, 1379, 1379, 1380, 1381, 1382, 1382, 1382, 1383, 1383, 1384, 1385, 1386, 1387, 1387, 1388, 1388, 1389, 1389, 1390, 1390, 1391, 1392, 1393, 1394, 1394, 1394, 1395, 1396, 1397, 1397, 1397, 1398, 1399, 1400, 1400, 1401, 1402, 1402, 1402, 1403, 1404, 1404, 1405, 1405, 1406, 1406, 1407, 1408, 1408, 1409, 1410, 1410, 1410, 1411, 1412, 1413, 1414, 1414, 1415, 1416, 1417, 1418, 1419, 1420, 1420, 1421, 1422, 1422, 1423, 1423, 1424, 1425, 1425, 1426, 1427, 1428, 1428, 1429, 1430, 1431, 1431, 1432, 1433, 1434, 1435, 1436, 1436, 1437, 1437, 1438, 1438, 1438, 1438, 1439, 1439, 1440, 1441, 1441, 1442, 1442, 1442, 1442, 1443, 1444, 1445, 1446, 1447, 1447, 1448, 1449, 1449, 1450, 1451, 1451, 1452, 1453, 1453, 1454, 1455, 1455, 1456, 1457, 1458, 1458, 1458, 1459, 1460, 1460, 1460, 1461, 1462, 1462, 1463, 1464, 1464, 1464, 1465, 1465, 1466, 1467, 1468, 1469, 1470, 1470, 1471, 1472, 1473, 1474, 1475, 1475, 1476, 1477, 1478, 1479, 1480, 1481, 1482, 1482, 1483, 1483, 1483, 1484, 1485, 1486, 1486, 1487, 1488, 1489, 1490, 1490, 1491, 1492, 1493, 1493, 1493, 1494, 1494, 1495, 1496, 1496, 1497, 1498, 1498, 1499, 1500, 1500, 1501, 1501, 1502, 1502, 1503, 1504, 1504, 1505, 1505, 1506, 1506, 1507, 1507, 1508, 1509, 1510, 1510, 1510, 1511, 1512, 1513, 1514, 1514, 1514, 1515, 1515, 1516, 1517, 1517, 1518, 1518, 1519, 1520, 1520, 1521, 1522, 1522, 1523, 1524, 1524, 1525, 1526, 1527, 1528, 1528, 1529, 1531, 1532, 1532, 1532, 1533, 1534, 1534, 1535, 1536, 1536, 1536, 1536, 1537, 1537, 1537, 1537, 1538, 1538, 1538, 1539, 1540, 1541, 1541, 1541, 1542, 1542, 1543, 1543, 1544, 1545, 1545, 1546, 1546, 1547, 1547, 1548, 1549, 1550, 1551, 1551, 1552, 1552, 1553, 1554, 1555, 1555, 1556, 1556, 1556, 1557, 1557, 1558, 1558, 1559, 1559, 1560, 1561, 1562, 1562, 1563, 1563, 1563, 1564, 1564, 1565, 1565, 1566, 1566, 1567, 1568, 1568, 1569, 1570, 1571, 1572, 1572, 1572, 1573, 1573, 1573, 1573, 1574, 1575, 1575, 1575, 1575, 1576, 1577, 1577, 1577, 1578, 1579, 1580, 1580, 1580, 1581, 1582, 1582, 1583, 1584, 1584, 1585, 1586, 1586, 1586, 1587, 1587, 1588, 1588, 1588, 1588, 1589, 1589, 1590, 1590, 1591, 1591, 1592, 1592, 1593, 1594, 1594, 1595, 1596, 1596, 1597, 1598, 1599, 1599, 1600, 1600, 1601, 1601, 1602, 1603, 1604, 1605, 1606, 1608, 1608, 1609, 1610, 1611, 1611, 1612, 1613, 1614, 1614, 1615, 1616, 1616, 1617, 1618, 1618, 1619, 1619, 1619, 1620, 1621, 1621, 1622, 1623, 1623, 1623, 1624, 1624, 1625, 1625, 1626, 1626, 1626, 1627, 1627, 1629, 1629, 1630, 1631, 1631, 1632, 1632, 1633, 1633, 1634, 1635, 1636, 1637, 1637, 1638, 1639, 1639, 1640, 1640, 1641, 1641, 1642, 1642, 1643, 1643, 1644, 1644, 1645, 1645, 1646, 1647, 1647, 1648, 1648, 1648, 1649, 1649, 1650, 1650, 1650, 1651, 1652, 1653, 1654, 1654, 1655, 1656, 1657, 1658, 1658, 1658, 1659, 1659, 1659, 1660, 1660, 1661, 1661, 1662, 1662, 1662, 1662, 1663, 1663, 1664, 1664, 1664, 1664, 1665, 1666, 1666, 1667, 1668, 1669, 1669, 1669, 1670, 1670, 1671, 1671, 1671, 1672, 1673, 1673, 1674, 1674, 1675, 1675, 1676, 1676, 1677, 1678, 1679, 1679, 1679, 1680, 1681, 1682, 1682, 1682, 1683, 1684, 1684, 1685, 1685, 1685, 1686, 1686, 1686, 1687, 1687, 1687, 1688, 1689, 1690, 1690, 1691, 1692, 1692, 1693, 1693, 1694, 1695, 1695, 1696, 1697, 1697, 1698, 1699, 1699, 1700, 1700, 1701, 1701, 1702, 1703, 1704, 1705, 1706, 1706, 1707, 1708, 1708, 1708, 1708, 1709, 1709, 1710, 1711, 1711, 1711, 1711, 1712, 1713, 1713, 1714, 1714, 1715, 1716, 1716, 1717, 1717, 1718, 1719, 1720, 1721, 1721, 1722, 1722, 1722, 1723, 1723, 1724, 1724, 1725, 1725, 1726, 1727, 1727, 1727, 1728, 1728, 1728, 1729, 1730, 1731, 1732, 1732, 1733, 1733, 1734, 1734, 1734, 1735, 1735, 1736, 1736, 1737, 1738, 1739, 1739, 1739, 1740, 1741, 1742, 1743, 1744, 1744, 1745, 1745, 1745, 1746, 1747, 1748, 1749, 1749, 1750, 1750, 1750, 1751, 1752, 1752, 1753, 1753, 1754, 1754, 1754, 1755, 1755, 1755, 1756, 1756, 1757, 1757, 1757, 1758, 1759, 1760, 1761, 1761, 1762, 1763, 1764, 1764, 1765, 1765, 1765, 1766, 1766, 1767, 1767, 1767, 1768, 1769, 1769, 1770, 1771, 1772, 1772, 1773, 1773, 1773, 1774, 1774, 1774, 1774, 1775, 1775, 1776, 1777, 1778, 1779, 1779, 1780, 1780, 1781, 1781, 1781, 1782, 1782, 1783, 1783, 1783, 1784, 1784, 1784, 1785, 1786, 1787, 1787, 1788, 1788, 1789, 1790, 1791, 1791, 1792, 1792, 1793, 1794, 1795, 1796, 1796, 1797, 1798, 1798, 1799, 1800, 1801, 1801, 1801, 1802, 1802, 1803, 1803, 1804, 1804, 1805, 1805, 1806, 1806, 1807, 1807, 1808, 1808, 1809, 1810, 1810, 1811, 1812, 1813, 1814, 1815, 1815, 1815, 1816, 1817, 1817, 1818, 1818, 1819, 1819, 1820, 1820, 1821, 1821, 1822, 1822, 1822, 1823, 1823, 1823, 1823, 1824, 1824, 1824, 1824, 1825, 1825, 1825, 1825, 1826, 1827, 1827, 1828, 1828, 1829, 1829, 1830, 1831, 1831, 1832, 1832, 1833, 1833, 1834, 1834, 1835, 1835, 1836, 1837, 1837, 1837, 1838, 1839, 1839, 1840, 1840, 1841, 1841, 1842, 1842, 1843, 1843, 1844, 1845, 1846, 1847, 1847, 1848, 1848, 1849, 1849, 1850, 1850, 1851, 1852, 1852, 1852, 1853, 1854, 1855, 1855, 1855, 1856, 1856, 1856, 1857, 1857, 1857, 1858, 1859, 1859, 1860, 1860, 1861, 1861, 1862, 1862, 1863, 1864, 1865, 1865, 1866, 1867, 1867, 1868, 1868, 1869, 1870, 1870, 1871, 1871, 1872, 1872, 1873, 1873, 1873, 1874, 1875, 1876, 1877, 1877, 1878, 1879, 1879, 1880, 1881, 1882, 1882, 1883, 1883, 1884, 1885, 1885, 1886, 1886, 1887, 1887, 1888, 1889, 1889, 1890, 1891, 1891, 1892, 1892, 1893, 1893, 1894, 1895, 1895, 1896, 1897, 1897, 1898, 1898, 1899, 1900, 1901, 1902, 1903, 1904, 1904, 1904, 1905, 1905, 1905, 1906, 1906, 1906, 1907, 1907, 1908, 1909, 1909, 1910, 1910, 1911, 1912, 1913, 1913, 1913, 1914, 1914, 1915, 1915, 1916, 1917, 1918, 1918, 1919, 1920, 1921, 1921, 1922, 1923, 1923, 1924, 1925, 1925, 1926, 1928, 1928, 1929, 1929, 1930, 1931, 1932, 1932, 1933, 1934, 1935, 1936, 1936, 1937, 1938, 1938, 1939, 1939, 1940, 1940, 1941, 1942, 1943, 1943, 1944, 1944, 1945, 1946, 1946, 1947, 1948, 1949, 1950, 1950, 1951, 1951, 1952, 1953, 1953, 1954, 1955, 1955, 1956, 1956, 1957, 1957, 1958, 1959, 1960, 1960, 1960, 1960, 1961, 1962, 1963, 1963, 1964, 1964, 1964, 1965, 1965, 1966, 1966, 1967, 1968, 1969, 1969, 1970, 1971, 1971, 1971, 1972, 1973, 1973, 1974, 1975, 1976, 1976, 1977, 1977, 1978, 1979, 1979, 1979, 1980, 1981, 1981, 1981, 1982, 1982, 1983, 1983, 1984, 1984, 1985, 1986, 1986, 1986, 1987, 1987, 1988, 1988, 1989, 1989, 1990, 1990, 1991, 1992, 1992, 1993, 1994, 1994, 1994, 1995, 1995, 1996, 1997, 1997, 1998, 1998, 1999, 2000, 2000, 2001, 2001, 2002, 2002, 2003, 2003, 2004, 2005, 2005, 2006, 2006, 2007, 2007, 2008, 2008, 2009, 2010, 2010, 2010, 2011, 2011, 2012, 2013, 2014, 2014, 2015, 2015, 2016, 2016, 2017, 2017, 2018, 2018, 2019, 2019, 2020, 2020, 2021, 2021, 2022, 2022, 2023, 2023, 2024, 2024, 2025, 2025, 2026, 2026, 2027, 2028, 2028, 2028, 2029, 2030, 2031, 2032, 2032, 2033, 2033, 2034, 2035, 2036, 2036, 2036, 2036, 2037, 2038, 2039, 2040, 2040, 2041, 2041, 2042, 2042, 2042, 2043, 2044, 2044, 2045, 2045, 2046, 2047, 2048, 2048, 2049, 2049, 2049, 2050, 2051, 2052, 2052, 2052, 2053, 2053, 2054, 2054, 2054, 2054, 2055, 2056, 2056, 2056, 2057, 2057, 2058, 2058, 2059, 2060, 2061, 2061, 2062, 2062, 2062, 2063, 2064, 2064, 2064, 2065, 2065, 2066, 2066, 2066, 2067, 2067, 2068, 2069, 2069, 2070, 2070, 2070, 2071, 2071, 2072, 2073, 2073, 2074, 2075, 2076, 2077, 2078, 2078, 2078, 2079, 2080, 2080, 2081, 2081, 2081, 2082, 2082, 2083, 2083, 2084, 2085, 2085, 2086, 2087, 2087, 2088, 2089, 2089, 2090, 2091, 2092, 2092, 2092, 2093, 2093, 2094, 2094, 2095, 2095, 2095, 2096, 2096, 2097, 2097, 2098, 2099, 2099, 2100, 2101, 2102, 2102, 2103, 2104, 2104, 2105, 2105, 2106, 2106, 2107, 2109, 2110, 2110, 2111, 2111, 2112, 2113, 2114, 2114, 2115, 2116, 2117, 2117, 2118, 2118, 2119, 2119, 2120, 2121, 2122, 2122, 2123, 2123, 2124, 2124, 2125, 2126, 2126, 2127, 2128, 2129, 2129, 2130, 2130, 2131, 2131, 2132, 2132, 2133, 2134, 2134, 2145, 2146, 2147, 2147, 2148, 2148, 2149, 2149, 2150, 2150, 2151, 2151, 2152, 2152, 2153, 2153, 2154, 2154, 2155, 2155, 2155, 2156, 2156, 2157, 2160, 2162, 2162, 2163, 2164, 2164, 2165, 2165, 2165, 2166, 2167, 2168, 2170, 2171, 2171, 2172, 2173, 2174, 2174, 2174, 2175, 2175, 2175, 2176, 2176, 2178, 2178, 2180, 2181, 2182, 2183, 2183, 2183, 2184, 2184, 2184, 2185, 2186, 2186, 2186, 2187, 2187, 2189], [1, 2, 0, 1, 2, 0, 1, 2, 1, 1, 2, 0, 1, 3, 0, 1, 1, 2, 0, 1, 0, 1, 0, 1, 1, 0, 1, 0, 1, 1, 1, 2, 1, 0, 1, 2, 1, 0, 1, 0, 1, 1, 1, 1, 2, 1, 0, 1, 1, 0, 1, 1, 1, 2, 1, 2, 1, 0, 2, 1, 2, 3, 1, 1, 2, 3, 2, 1, 1, 0, 1, 0, 1, 2, 0, 1, 2, 0, 2, 1, 2, 0, 1, 3, 1, 0, 1, 0, 1, 0, 1, 2, 3, 0, 1, 2, 3, 0, 1, 1, 2, 3, 0, 1, 0, 1, 2, 0, 1, 2, 3, 1, 2, 0, 1, 2, 2, 1, 1, 2, 1, 2, 3, 0, 2, 2, 1, 2, 0, 1, 1, 3, 2, 1, 1, 0, 1, 2, 3, 0, 2, 3, 0, 1, 2, 3, 1, 1, 2, 0, 1, 1, 3, 1, 2, 3, 0, 1, 1, 1, 0, 1, 2, 0, 1, 3, 1, 2, 1, 2, 3, 0, 1, 1, 2, 0, 1, 0, 1, 2, 0, 1, 0, 1, 2, 3, 0, 1, 0, 1, 1, 0, 1, 2, 3, 0, 1, 1, 0, 1, 2, 3, 1, 2, 3, 0, 1, 2, 3, 0, 1, 1, 2, 0, 2, 0, 1, 2, 1, 2, 1, 2, 3, 0, 1, 2, 1, 0, 1, 2, 1, 1, 2, 3, 0, 1, 1, 0, 1, 3, 0, 1, 0, 1, 0, 1, 2, 0, 1, 1, 0, 1, 1, 1, 0, 1, 1, 2, 1, 1, 1, 3, 2, 3, 2, 3, 2, 1, 1, 3, 2, 2, 0, 1, 1, 0, 1, 2, 2, 1, 1, 2, 3, 0, 1, 1, 2, 1, 1, 3, 1, 1, 0, 1, 2, 0, 1, 1, 0, 1, 0, 1, 3, 2, 0, 1, 3, 1, 0, 2, 3, 1, 2, 3, 0, 1, 2, 1, 2, 0, 1, 2, 0, 1, 0, 1, 2, 0, 1, 1, 2, 0, 1, 1, 2, 2, 0, 1, 2, 3, 0, 1, 0, 1, 0, 1, 2, 0, 1, 0, 1, 2, 3, 0, 1, 2, 0, 2, 2, 1, 0, 1, 1, 1, 0, 1, 1, 2, 0, 1, 1, 1, 1, 2, 1, 0, 1, 1, 0, 1, 1, 2, 0, 1, 0, 1, 2, 0, 1, 0, 1, 0, 1, 1, 2, 0, 1, 2, 1, 1, 1, 1, 0, 1, 0, 1, 0, 1, 0, 1, 1, 1, 0, 1, 2, 0, 1, 2, 0, 1, 1, 2, 3, 0, 1, 2, 0, 1, 1, 0, 1, 2, 3, 0, 1, 2, 3, 0, 1, 0, 1, 0, 1, 2, 2, 0, 1, 1, 0, 1, 2, 1, 2, 2, 1, 2, 3, 0, 1, 2, 0, 1, 2, 0, 1, 3, 0, 1, 2, 0, 1, 0, 1, 1, 2, 2, 3, 1, 1, 2, 0, 1, 2, 0, 1, 2, 3, 1, 1, 0, 1, 2, 0, 1, 1, 0, 1, 2, 0, 1, 0, 1, 1, 2, 2, 0, 1, 0, 1, 0, 1, 2, 1, 1, 2, 0, 1, 0, 1, 2, 3, 2, 2, 0, 1, 1, 2, 1, 0, 1, 2, 0, 1, 0, 1, 2, 0, 1, 2, 0, 1, 1, 2, 2, 3, 3, 1, 1, 1, 2, 3, 0, 1, 1, 2, 3, 0, 1, 0, 1, 1, 1, 0, 1, 1, 2, 1, 0, 1, 2, 3, 0, 1, 2, 1, 2, 1, 1, 0, 1, 2, 1, 0, 1, 2, 0, 1, 2, 3, 1, 2, 1, 1, 1, 0, 1, 0, 1, 1, 0, 1, 2, 0, 1, 1, 1, 0, 1, 1, 1, 0, 1, 2, 1, 0, 1, 2, 1, 2, 0, 1, 2, 1, 1, 0, 1, 2, 0, 1, 0, 1, 1, 2, 0, 1, 2, 1, 0, 1, 2, 0, 1, 1, 0, 1, 2, 1, 0, 1, 1, 2, 3, 0, 1, 3, 1, 1, 1, 0, 1, 2, 1, 1, 0, 1, 1, 0, 1, 0, 1, 2, 3, 2, 3, 0, 1, 0, 1, 1, 2, 0, 1, 0, 1, 1, 2, 2, 3, 0, 1, 1, 1, 0, 1, 3, 2, 1, 1, 2, 3, 0, 1, 1, 1, 0, 1, 2, 1, 0, 1, 2, 1, 1, 2, 1, 2, 3, 0, 1, 0, 1, 3, 2, 0, 1, 0, 1, 0, 1, 2, 3, 0, 2, 3, 2, 1, 1, 2, 1, 2, 3, 0, 1, 3, 0, 1, 2, 0, 1, 2, 0, 1, 1, 1, 0, 1, 2, 3, 1, 0, 1, 0, 1, 0, 1, 2, 1, 1, 0, 1, 0, 1, 0, 1, 2, 1, 1, 3, 2, 3, 0, 1, 2, 0, 1, 2, 1, 2, 1, 1, 1, 2, 1, 1, 2, 3, 1, 0, 1, 0, 1, 2, 1, 2, 3, 0, 1, 0, 1, 0, 1, 2, 0, 1, 2, 3, 0, 1, 0, 1, 2, 1, 2, 2, 0, 1, 0, 1, 0, 1, 0, 1, 2, 0, 1, 2, 1, 0, 1, 2, 1, 1, 0, 1, 1, 1, 1, 0, 1, 2, 3, 1, 2, 3, 1, 3, 2, 1, 1, 1, 2, 0, 1, 0, 1, 2, 0, 1, 0, 1, 1, 0, 1, 0, 1, 0, 1, 0, 1, 2, 0, 1, 0, 1, 0, 1, 0, 1, 0, 1, 2, 0, 1, 1, 0, 1, 3, 0, 1, 2, 3, 0, 1, 0, 1, 2, 0, 1, 0, 1, 2, 0, 1, 2, 3, 0, 1, 0, 1, 2, 1, 0, 1, 1, 1, 3, 2, 0, 1, 2, 3, 1, 2, 3, 1, 1, 2, 1, 1, 1, 1, 1, 2, 3, 1, 2, 3, 2, 1, 2, 1, 1, 2, 1, 2, 2, 1, 1, 2, 1, 2, 2, 2, 2, 1, 0, 1, 1, 0, 1, 2, 0, 1, 2, 0, 1, 2, 0, 1, 2, 1, 2, 2, 1, 1, 1, 2, 0, 1, 1, 0, 1, 2, 1, 1, 0, 2, 3, 2, 0, 1, 0, 1, 1, 2, 0, 1, 2, 1, 2, 3, 0, 2, 1, 0, 1, 2, 3, 1, 2, 2, 0, 1, 0, 1, 3, 1, 1, 1, 0, 1, 2, 0, 1, 2, 3, 0, 1, 1, 2, 1, 1, 2, 0, 1, 0, 1, 1, 1, 0, 1, 2, 3, 1, 2, 1, 1, 2, 0, 1, 0, 1, 2, 3, 2, 3, 0, 1, 0, 1, 1, 2, 0, 1, 0, 0, 1, 2, 1, 1, 1, 2, 3, 1, 1, 3, 2, 0, 1, 2, 3, 0, 1, 2, 1, 1, 0, 1, 2, 1, 1, 2, 0, 1, 0, 1, 0, 1, 2, 2, 1, 3, 1, 2, 3, 2, 0, 1, 1, 0, 1, 1, 0, 1, 0, 1, 1, 0, 1, 2, 2, 3, 0, 1, 2, 0, 1, 0, 1, 1, 1, 2, 1, 1, 2, 2, 3, 1, 1, 1, 2, 3, 1, 0, 1, 0, 1, 0, 1, 2, 0, 1, 1, 2, 2, 3, 1, 0, 1, 2, 1, 0, 1, 0, 1, 1, 2, 3, 0, 1, 1, 2, 3, 0, 1, 0, 1, 0, 1, 1, 0, 1, 2, 3, 1, 0, 1, 0, 1, 0, 1, 1, 1, 1, 2, 2, 1, 1, 2, 0, 1, 2, 1, 0, 1, 1, 0, 1, 1, 0, 1, 0, 1, 0, 1, 2, 1, 2, 0, 1, 2, 1, 1, 1, 0, 1, 1, 2, 0, 1, 0, 1, 0, 1, 2, 3, 3, 1, 2, 0, 1, 0, 1, 2, 3, 0, 1, 2, 3, 0, 1, 0, 1, 2, 0, 1, 0, 1, 2, 0, 1, 0, 2, 3, 1, 0, 1, 1, 1, 1, 0, 1, 2, 0, 1, 1, 1, 2, 1, 2, 3, 0, 1, 2, 3, 0, 1, 1, 1, 2, 2, 3, 2, 3, 0, 1, 0, 1, 0, 1, 2, 0, 1, 2, 3, 0, 1, 2, 1, 0, 1, 0, 1, 1, 0, 1, 1, 1, 0, 1, 2, 0, 1, 2, 0, 1, 0, 1, 2, 0, 1, 2, 1, 2, 1, 1, 0, 1, 2, 0, 1, 1, 1, 1, 3, 0, 1, 1, 1, 1, 0, 1, 0, 2, 0, 1, 1, 1, 3, 1, 0, 1, 1, 1, 1, 1, 2, 0, 1, 3, 1, 2, 3, 1, 0, 1, 0, 1, 1, 1, 2, 3, 1, 0, 1, 2, 0, 1, 2, 1, 0, 1, 0, 1, 1, 2, 1, 1, 2, 2, 2, 0, 1, 2, 1, 2, 0, 1, 2, 2, 3, 0, 1, 0, 1, 2, 3, 1, 2, 2, 0, 1, 3, 3, 3, 0, 1, 2, 2, 3, 0, 1, 2, 0, 1, 0, 1, 2, 3, 3, 1, 1, 2, 0, 1, 1, 2, 1, 0, 1, 2, 1, 0, 1, 2, 2, 3, 1, 1, 2, 1, 1, 2, 1, 0, 1, 2, 2, 3, 1, 0, 1, 0, 1, 3, 0, 1, 0, 1, 1, 2, 1, 1, 2, 0, 1, 1, 0, 1, 0, 1, 2, 0, 2, 0, 1, 2, 3, 1, 0, 1, 1, 0, 1, 2, 2, 3, 0, 1, 2, 0, 1, 2, 0, 1, 2, 3, 0, 1, 0, 1, 0, 1, 2, 3, 0, 1, 1, 2, 2, 0, 1, 1, 2, 1, 1, 2, 0, 1, 0, 1, 1, 1, 0, 1, 0, 1, 0, 1, 0, 1, 0, 1, 2, 0, 1, 0, 1, 2, 0, 1, 2, 3, 0, 1, 1, 2, 1, 2, 2, 2, 3, 0, 1, 0, 1, 0, 1, 1, 1, 2, 0, 1, 2, 3, 1, 0, 1, 2, 2, 1, 1, 2, 0, 1, 0, 1, 2, 1, 2, 3, 1, 2, 1, 1, 0, 1, 0, 1, 0, 1, 2, 3, 1, 2, 0, 1, 2, 2, 0, 1, 0, 1, 3, 0, 1, 2, 3, 0, 1, 2, 0, 1, 2, 1, 2, 3, 0, 1, 0, 1, 2, 2, 0, 1, 2, 0, 1, 1, 2, 3, 1, 1, 3, 0, 1, 2, 0, 1, 2, 0, 1, 2, 1, 2, 3, 0, 1, 2, 0, 1, 2, 2, 0, 1, 2, 0, 1, 2, 0, 1, 2, 3, 0, 1, 2, 1, 2, 0, 1, 1, 2, 0, 1, 2, 0, 1, 2, 3, 0, 1, 0, 1, 0, 1, 2, 3, 1, 2, 3, 1, 0, 1, 0, 1, 2, 2, 3, 2, 0, 1, 2, 0, 1, 1, 2, 1, 2, 3, 0, 1, 0, 1, 0, 1, 1, 1, 2, 1, 1, 0, 1, 0, 1, 1, 1, 2, 1, 2, 2, 3, 2, 1, 3, 0, 1, 0, 1, 2, 3, 0, 1, 0, 1, 2, 1, 0, 1, 0, 1, 1, 1, 1, 1, 1, 0, 1, 2, 1, 1, 0, 1, 3, 1, 2, 3, 1, 2, 3, 1, 0, 1, 3, 1, 2, 0, 1, 1, 1, 1, 1, 0, 1, 1, 0, 1, 2, 2, 3, 0, 1, 2, 2, 1, 2, 0, 1, 2, 0, 1, 1, 2, 0, 1, 2, 1, 1, 2, 0, 1, 3, 1, 2, 3, 0, 1, 2, 0, 1, 1, 2, 0, 1, 0, 1, 1, 2, 0, 1, 1, 1, 1, 1, 1, 2, 0, 1, 2, 0, 1, 1, 2, 3, 0, 1, 2, 1, 0, 1, 0, 1, 0, 1, 2, 1, 1, 0, 1, 2, 0, 1, 1, 2, 3, 0, 1, 1, 2, 1, 0, 1, 0, 1, 0, 1, 0, 1, 1, 2, 2, 2, 0, 1, 0, 1, 0, 1, 0, 1, 1, 2, 3, 1, 1, 2, 3, 2, 3, 1, 2, 3, 0, 1, 2, 0, 1, 2, 2, 0, 1, 1, 2, 1, 3, 2, 0, 1, 0, 1, 2, 0, 1, 0, 1, 0, 1, 2, 2, 2, 1, 2, 3, 0, 1, 0, 1, 1, 0, 1, 1, 1, 1, 0, 1, 2, 0, 1, 2, 3, 0, 1, 2, 1, 2, 0, 1, 1, 3, 1, 2, 0, 1, 2, 3, 1, 3, 2, 2, 3, 0, 1, 2, 1, 1, 0, 1, 2, 1, 2, 3, 2, 3, 2, 3, 0, 1, 0, 1, 1, 1, 1, 0, 1, 1, 2, 0, 1, 2, 1, 0, 1, 1, 2, 1, 2, 2, 1, 1, 0, 1, 0, 1, 2, 1, 1, 2, 0, 1, 2, 2, 0, 1, 0, 1, 0, 1, 1, 0, 1, 2, 2, 0, 1, 0, 1, 2, 0, 1, 1, 2, 1, 0, 1, 2, 1, 1, 0, 1, 0, 1, 1, 1, 2, 0, 1, 0, 1, 2, 3, 0, 1, 0, 1, 1, 1, 2, 0, 1, 2, 1, 2, 3, 1, 2, 1, 0, 1, 1, 2, 1, 0, 1, 0, 1, 0, 1, 2, 1, 1, 2, 3, 0, 1, 0, 1, 0, 2, 0, 1, 2, 0, 1, 0, 0, 1, 2, 3, 1, 2, 0, 1, 2, 3, 2, 1, 2, 3, 2, 1, 1, 1, 2, 0, 1, 0, 1, 0, 1, 2, 0, 1, 1, 2, 3, 0, 1, 2, 0, 1, 1, 2, 3, 1, 0, 2, 2, 0, 1, 1, 0, 1, 0, 1, 2, 1, 3, 0, 1, 2, 1, 1, 1, 3, 0, 1, 0, 1, 0, 1, 1, 2, 2, 0, 1, 0, 1, 2, 3, 2, 1, 1, 0, 1, 2, 0, 2, 3, 2, 1, 2, 3, 1, 2, 0, 1, 2, 0, 1, 1, 0, 1, 0, 1, 0, 1, 2, 3, 1, 1, 2, 3, 2, 1, 0, 1, 2, 2, 1, 1, 1, 1, 2, 1, 0, 1, 0, 1, 0, 1, 2, 0, 1, 1, 0, 1, 2, 0, 1, 1, 0, 1, 2, 2, 1, 0, 1, 2, 0, 1, 1, 1, 3, 0, 1, 0, 1, 0, 1, 0, 1, 2, 2, 2, 0, 1, 2, 2, 1, 0, 1, 2, 2, 2, 0, 1, 1, 0, 1, 2, 1, 1, 2, 0, 1, 0, 1, 1, 0, 1, 1, 0, 1, 2, 1, 1, 2, 0, 1, 1, 1, 1, 2, 2, 0, 1, 2, 1, 2, 0, 1, 3, 0, 1, 2, 2, 0, 1, 2, 1, 1, 2, 2, 1, 1, 2, 0, 1, 0, 1, 0, 1, 2, 3, 0, 1, 2, 0, 1, 0, 1, 2, 3, 1, 2, 2, 3, 1, 2, 2, 2, 3, 1, 0, 1, 2, 2, 3, 2, 0, 1, 1, 2, 0, 1, 2, 1, 1, 2, 3, 1, 1, 2, 2, 0, 1, 3, 0, 1, 2, 3, 2, 1, 0, 2, 1, 1, 1, 1, 0, 1, 1, 1, 2, 1, 1, 1, 0, 1, 0, 1, 2, 1, 2, 0, 1, 1, 1, 2, 0, 1, 1, 2, 0, 1, 2, 1, 2, 2, 1, 2, 1, 2, 3, 1, 1, 2, 2, 3, 0, 1, 1, 1, 2, 1, 2, 0, 1, 0, 1, 2, 3, 0, 1, 2, 1, 2, 1, 0, 1, 2, 0, 1, 2, 1, 2, 0, 1, 2, 0, 1, 1, 0, 1, 1, 1, 2, 1, 3, 1, 0, 2, 2, 3, 0, 1, 2, 1, 0, 1, 2, 0, 1, 2, 3, 0, 1, 2, 3, 0, 1, 2, 2, 2, 0, 2, 3, 0, 1, 0, 1, 1, 0, 1, 1, 2, 0, 2, 1, 1, 2, 0, 1, 0, 1, 1, 1, 1, 2, 0, 1, 2, 0, 1, 0, 1, 1, 2, 1, 2, 0, 1, 0, 1, 2, 0, 1, 0, 1, 0, 1, 1, 0, 1, 2, 1, 1, 0, 1, 2, 0, 1, 2, 3, 1, 0, 1, 2, 3, 1, 0, 1, 2, 1, 1, 0, 1, 2, 1, 1, 2, 1, 0, 1, 1, 0, 1, 2, 0, 1, 0, 1, 2, 3, 2, 3, 2, 3, 1, 2, 0, 1, 2, 1, 2, 1, 0, 1, 0, 2, 0, 1, 0, 1, 2, 3, 1, 2, 1, 1, 1, 1, 2, 2, 2, 1, 2, 3, 1, 1, 2, 1, 1, 2, 2, 0, 1, 0, 1, 2, 2, 1, 2, 1, 0, 1, 2, 0, 1, 0, 1, 0, 1, 2, 0, 1, 0, 1, 2, 0, 1, 0, 1, 0, 1, 3, 1, 3, 1, 2, 2, 0, 1, 2, 3, 0, 1, 0, 1, 0, 1, 2, 3, 1, 2, 1, 0, 1, 0, 1, 2, 0, 1, 0, 1, 2, 1, 2, 1, 1, 2, 2, 2, 1, 0, 1, 2, 0, 1, 3, 0, 1, 0, 1, 0, 1, 2, 3, 0, 1, 0, 1, 2, 3, 1, 0, 2, 2, 1, 0, 1, 2, 0, 1, 0, 1, 2, 2, 0, 1, 2, 3, 1, 2, 0, 1, 2, 1, 1, 2, 3, 3, 1, 0, 1, 2, 1, 0, 1, 0, 1, 2, 0, 1, 2, 1, 2, 3, 1, 1, 0, 1, 2, 2, 3, 0, 1, 0, 0, 1, 0, 0, 1, 2, 0, 1, 0, 1, 2, 3, 2, 1, 1, 1, 0, 1, 1, 0, 1, 2, 3, 0, 1, 3, 0, 1, 2, 3, 1, 0, 1, 0, 1, 1, 0, 1, 0, 1, 1, 1, 1, 0, 1, 0, 1, 2, 0, 1, 1, 2, 1, 2, 2, 0, 1, 2, 1, 2, 3, 3, 3, 1, 0, 1, 0, 1, 1, 2, 3, 1, 2, 0, 1, 1, 1, 1, 2, 3, 1, 2, 2, 1, 0, 1, 1, 2, 3, 2, 2, 1, 0, 1, 0, 1, 2, 1, 0, 1, 0, 1, 0, 1, 2, 0, 1, 2, 0, 1, 0, 1, 2, 1, 2, 3, 2, 3, 1, 1, 2, 3, 0, 1, 2, 1, 2, 0, 1, 2, 1, 0, 1, 1, 1, 0, 1, 0, 1, 2, 0, 1, 2, 3, 1, 2, 1, 1, 1, 0, 1, 0, 1, 1, 2, 3, 1, 2, 0, 1, 2, 0, 1, 2, 2, 0, 0, 1, 1, 2, 2, 1, 0, 1, 1, 2, 1, 3, 1, 0, 1, 3, 0, 2, 1, 1, 0, 1, 3, 2, 3, 0, 1, 1, 2, 0, 1, 0, 1, 0, 1, 0, 1, 2, 1, 2, 1, 1, 1, 1, 1, 2, 3, 2, 0, 1, 1, 2, 0, 2, 0, 1, 0, 1, 1, 2, 3, 0, 1, 2, 3, 0, 1, 2, 3, 0, 1, 2, 3, 2, 0, 1, 0, 1, 0, 1, 1, 0, 1, 1, 2, 0, 1, 0, 1, 2, 3, 3, 0, 1, 2, 1, 0, 1, 0, 1, 0, 1, 1, 2, 0, 1, 2, 3, 3, 0, 1, 0, 1, 0, 2, 0, 1, 1, 0, 1, 2, 1, 1, 0, 2, 3, 0, 1, 2, 0, 1, 2, 1, 1, 2, 0, 1, 0, 1, 0, 1, 1, 1, 0, 1, 1, 0, 1, 1, 2, 3, 1, 2, 0, 1, 0, 1, 0, 1, 2, 1, 1, 2, 0, 1, 3, 0, 1, 2, 1, 0, 1, 0, 1, 1, 0, 2, 0, 1, 0, 1, 1, 0, 1, 1, 0, 1, 2, 3, 0, 1, 1, 0, 1, 2, 1, 2, 0, 1, 1, 1, 1, 1, 2, 1, 2, 3, 0, 1, 2, 0, 1, 2, 0, 1, 1, 0, 1, 0, 1, 2, 3, 0, 1, 2, 1, 2, 0, 1, 2, 1, 0, 1, 1, 2, 0, 1, 1, 1, 2, 3, 2, 3, 2, 0, 1, 0, 1, 1, 3, 0, 1, 2, 1, 1, 0, 1, 2, 1, 2, 2, 3, 0, 1, 2, 2, 2, 3, 0, 1, 2, 1, 2, 2, 1, 1, 0, 1, 1, 2, 1, 0, 1, 3, 0, 1, 1, 2, 0, 1, 1, 1, 0, 1, 2, 3, 1, 2, 0, 1, 0, 1, 2, 0, 1, 0, 1, 0, 2, 0, 1, 1, 0, 1, 2, 1, 1, 2, 1, 2, 0, 2, 1, 2, 2, 0, 1, 2, 1, 0, 1, 2, 1, 2, 0, 1, 1, 2, 1, 1, 2, 3, 0, 1, 2, 3, 0, 1, 0, 1, 1, 1, 2, 1, 0, 1, 2, 0, 1, 2, 1, 2, 0, 1, 1, 0, 1, 0, 1, 0, 1, 0, 1, 2, 0, 1, 0, 1, 1, 2, 1, 2, 3, 0, 1, 2, 0, 2, 2, 1, 0, 1, 0, 1, 2, 3, 0, 1, 0, 1, 0, 1, 0, 1, 0, 1, 0, 1, 0, 1, 0, 1, 0, 1, 0, 2, 1, 0, 1, 2, 1, 1, 1, 1, 2, 2, 3, 2, 1, 0, 1, 2, 3, 1, 1, 1, 2, 3, 0, 1, 0, 1, 2, 1, 2, 3, 1, 2, 1, 2, 1, 2, 0, 1, 2, 1, 1, 0, 1, 2, 0, 1, 0, 1, 2, 3, 1, 0, 1, 2, 0, 1, 0, 1, 1, 1, 2, 3, 0, 1, 2, 1, 0, 1, 2, 1, 2, 0, 1, 2, 0, 1, 1, 0, 1, 0, 1, 2, 0, 1, 1, 0, 1, 1, 1, 1, 1, 1, 2, 3, 2, 0, 1, 1, 2, 3, 1, 2, 0, 1, 3, 0, 1, 1, 0, 1, 2, 1, 2, 2, 0, 0, 1, 2, 0, 1, 0, 1, 1, 2, 3, 2, 3, 0, 1, 1, 0, 1, 1, 1, 0, 1, 1, 2, 3, 0, 1, 0, 1, 1, 1, 0, 1, 0, 1, 1, 1, 0, 1, 3, 1, 0, 1, 0, 1, 1, 2, 2, 2, 0, 1, 0, 1, 1, 2, 2, 0, 1, 1, 1, 0, 1, 0, 2, 0, 2, 2, 3, 1, 0, 1, 1, 3, 0, 1, 0, 1, 1, 2, 0, 1, 0, 1, 0, 1, 1, 2, 0, 1, 1, 2, 3, 1, 2, 1, 0, 0, 1, 2, 0, 1, 0, 1, 2, 2, 2, 2, 1, 0, 1, 2, 1, 0, 1, 2, 0, 1, 2, 2, 3, 0, 1, 1, 1, 1, 1, 2, 3, 0, 1, 2, 2, 0, 1, 2, 2, 3, 3]],\n",
       "           names=[u'company_name', u'Series'])"
      ]
     },
     "execution_count": 230,
     "metadata": {},
     "output_type": "execute_result"
    }
   ],
   "source": [
    "likes_count.index"
   ]
  },
  {
   "cell_type": "code",
   "execution_count": 234,
   "metadata": {
    "collapsed": false
   },
   "outputs": [
    {
     "data": {
      "text/html": [
       "<div>\n",
       "<table border=\"1\" class=\"dataframe\">\n",
       "  <thead>\n",
       "    <tr style=\"text-align: right;\">\n",
       "      <th></th>\n",
       "      <th></th>\n",
       "      <th>likes</th>\n",
       "    </tr>\n",
       "    <tr>\n",
       "      <th>company_name</th>\n",
       "      <th>Series</th>\n",
       "      <th></th>\n",
       "    </tr>\n",
       "  </thead>\n",
       "  <tbody>\n",
       "    <tr>\n",
       "      <th>140Proof</th>\n",
       "      <th>_Series_B</th>\n",
       "      <td>162</td>\n",
       "    </tr>\n",
       "    <tr>\n",
       "      <th>1stdibs</th>\n",
       "      <th>_Series_C</th>\n",
       "      <td>213</td>\n",
       "    </tr>\n",
       "    <tr>\n",
       "      <th rowspan=\"3\" valign=\"top\">2C2P</th>\n",
       "      <th>_Series_A</th>\n",
       "      <td>57</td>\n",
       "    </tr>\n",
       "    <tr>\n",
       "      <th>_Series_B</th>\n",
       "      <td>113</td>\n",
       "    </tr>\n",
       "    <tr>\n",
       "      <th>_Series_C</th>\n",
       "      <td>115</td>\n",
       "    </tr>\n",
       "  </tbody>\n",
       "</table>\n",
       "</div>"
      ],
      "text/plain": [
       "                        likes\n",
       "company_name Series          \n",
       "140Proof     _Series_B    162\n",
       "1stdibs      _Series_C    213\n",
       "2C2P         _Series_A     57\n",
       "             _Series_B    113\n",
       "             _Series_C    115"
      ]
     },
     "execution_count": 234,
     "metadata": {},
     "output_type": "execute_result"
    }
   ],
   "source": [
    "pd.DataFrame(tweet_count).head()"
   ]
  },
  {
   "cell_type": "code",
   "execution_count": 238,
   "metadata": {
    "collapsed": false
   },
   "outputs": [],
   "source": [
    "likes_mean = tweets_df.groupby(['company_name','Series']).likes.mean()\n",
    "retweets_mean = tweets_df.groupby(['company_name','Series']).retweets.mean()"
   ]
  },
  {
   "cell_type": "code",
   "execution_count": 236,
   "metadata": {
    "collapsed": false
   },
   "outputs": [
    {
     "data": {
      "text/plain": [
       "(array([  3.62600000e+03,   3.00000000e+00,   0.00000000e+00,\n",
       "          0.00000000e+00,   1.00000000e+00,   0.00000000e+00,\n",
       "          0.00000000e+00,   0.00000000e+00,   0.00000000e+00,\n",
       "          1.00000000e+00]),\n",
       " array([  0.        ,   8.37580645,  16.7516129 ,  25.12741935,\n",
       "         33.50322581,  41.87903226,  50.25483871,  58.63064516,\n",
       "         67.00645161,  75.38225806,  83.75806452]),\n",
       " <a list of 10 Patch objects>)"
      ]
     },
     "execution_count": 236,
     "metadata": {},
     "output_type": "execute_result"
    },
    {
     "data": {
      "image/png": "[encoded data removed]",
      "text/plain": [
       "<matplotlib.figure.Figure at 0x11feef2d0>"
      ]
     },
     "metadata": {},
     "output_type": "display_data"
    }
   ],
   "source": [
    "plt.hist(likes_count)"
   ]
  },
  {
   "cell_type": "code",
   "execution_count": 143,
   "metadata": {
    "collapsed": false
   },
   "outputs": [
    {
     "ename": "KeyError",
     "evalue": "'company_name'",
     "output_type": "error",
     "traceback": [
      "\u001b[0;31m---------------------------------------------------------------------------\u001b[0m",
      "\u001b[0;31mKeyError\u001b[0m                                  Traceback (most recent call last)",
      "\u001b[0;32m<ipython-input-143-2b206f40271f>\u001b[0m in \u001b[0;36m<module>\u001b[0;34m()\u001b[0m\n\u001b[1;32m      1\u001b[0m \u001b[0mtweets_df\u001b[0m\u001b[0;34m.\u001b[0m\u001b[0mset_index\u001b[0m\u001b[0;34m(\u001b[0m\u001b[0;34m[\u001b[0m\u001b[0;34m'company_name'\u001b[0m\u001b[0;34m,\u001b[0m\u001b[0;34m'Series'\u001b[0m\u001b[0;34m]\u001b[0m\u001b[0;34m,\u001b[0m \u001b[0minplace\u001b[0m\u001b[0;34m=\u001b[0m\u001b[0mTrue\u001b[0m\u001b[0;34m)\u001b[0m\u001b[0;34m\u001b[0m\u001b[0m\n\u001b[0;32m----> 2\u001b[0;31m \u001b[0mtweets_df\u001b[0m\u001b[0;34m[\u001b[0m\u001b[0;34m'tweet_count'\u001b[0m\u001b[0;34m]\u001b[0m \u001b[0;34m=\u001b[0m \u001b[0mtweets_df\u001b[0m\u001b[0;34m.\u001b[0m\u001b[0mgroupby\u001b[0m\u001b[0;34m(\u001b[0m\u001b[0;34m[\u001b[0m\u001b[0;34m'company_name'\u001b[0m\u001b[0;34m,\u001b[0m\u001b[0;34m'Series'\u001b[0m\u001b[0;34m]\u001b[0m\u001b[0;34m)\u001b[0m\u001b[0;34m.\u001b[0m\u001b[0mlikes\u001b[0m\u001b[0;34m.\u001b[0m\u001b[0mcount\u001b[0m\u001b[0;34m(\u001b[0m\u001b[0;34m)\u001b[0m\u001b[0;34m\u001b[0m\u001b[0m\n\u001b[0m",
      "\u001b[0;32m/Users/Jerry/anaconda/lib/python2.7/site-packages/pandas/core/generic.pyc\u001b[0m in \u001b[0;36mgroupby\u001b[0;34m(self, by, axis, level, as_index, sort, group_keys, squeeze)\u001b[0m\n\u001b[1;32m   3157\u001b[0m         \u001b[0maxis\u001b[0m \u001b[0;34m=\u001b[0m \u001b[0mself\u001b[0m\u001b[0;34m.\u001b[0m\u001b[0m_get_axis_number\u001b[0m\u001b[0;34m(\u001b[0m\u001b[0maxis\u001b[0m\u001b[0;34m)\u001b[0m\u001b[0;34m\u001b[0m\u001b[0m\n\u001b[1;32m   3158\u001b[0m         return groupby(self, by=by, axis=axis, level=level, as_index=as_index,\n\u001b[0;32m-> 3159\u001b[0;31m                        sort=sort, group_keys=group_keys, squeeze=squeeze)\n\u001b[0m\u001b[1;32m   3160\u001b[0m \u001b[0;34m\u001b[0m\u001b[0m\n\u001b[1;32m   3161\u001b[0m     \u001b[0;32mdef\u001b[0m \u001b[0masfreq\u001b[0m\u001b[0;34m(\u001b[0m\u001b[0mself\u001b[0m\u001b[0;34m,\u001b[0m \u001b[0mfreq\u001b[0m\u001b[0;34m,\u001b[0m \u001b[0mmethod\u001b[0m\u001b[0;34m=\u001b[0m\u001b[0mNone\u001b[0m\u001b[0;34m,\u001b[0m \u001b[0mhow\u001b[0m\u001b[0;34m=\u001b[0m\u001b[0mNone\u001b[0m\u001b[0;34m,\u001b[0m \u001b[0mnormalize\u001b[0m\u001b[0;34m=\u001b[0m\u001b[0mFalse\u001b[0m\u001b[0;34m)\u001b[0m\u001b[0;34m:\u001b[0m\u001b[0;34m\u001b[0m\u001b[0m\n",
      "\u001b[0;32m/Users/Jerry/anaconda/lib/python2.7/site-packages/pandas/core/groupby.pyc\u001b[0m in \u001b[0;36mgroupby\u001b[0;34m(obj, by, **kwds)\u001b[0m\n\u001b[1;32m   1197\u001b[0m         \u001b[0;32mraise\u001b[0m \u001b[0mTypeError\u001b[0m\u001b[0;34m(\u001b[0m\u001b[0;34m'invalid type: %s'\u001b[0m \u001b[0;34m%\u001b[0m \u001b[0mtype\u001b[0m\u001b[0;34m(\u001b[0m\u001b[0mobj\u001b[0m\u001b[0;34m)\u001b[0m\u001b[0;34m)\u001b[0m\u001b[0;34m\u001b[0m\u001b[0m\n\u001b[1;32m   1198\u001b[0m \u001b[0;34m\u001b[0m\u001b[0m\n\u001b[0;32m-> 1199\u001b[0;31m     \u001b[0;32mreturn\u001b[0m \u001b[0mklass\u001b[0m\u001b[0;34m(\u001b[0m\u001b[0mobj\u001b[0m\u001b[0;34m,\u001b[0m \u001b[0mby\u001b[0m\u001b[0;34m,\u001b[0m \u001b[0;34m**\u001b[0m\u001b[0mkwds\u001b[0m\u001b[0;34m)\u001b[0m\u001b[0;34m\u001b[0m\u001b[0m\n\u001b[0m\u001b[1;32m   1200\u001b[0m \u001b[0;34m\u001b[0m\u001b[0m\n\u001b[1;32m   1201\u001b[0m \u001b[0;34m\u001b[0m\u001b[0m\n",
      "\u001b[0;32m/Users/Jerry/anaconda/lib/python2.7/site-packages/pandas/core/groupby.pyc\u001b[0m in \u001b[0;36m__init__\u001b[0;34m(self, obj, keys, axis, level, grouper, exclusions, selection, as_index, sort, group_keys, squeeze)\u001b[0m\n\u001b[1;32m    386\u001b[0m         \u001b[0;32mif\u001b[0m \u001b[0mgrouper\u001b[0m \u001b[0;32mis\u001b[0m \u001b[0mNone\u001b[0m\u001b[0;34m:\u001b[0m\u001b[0;34m\u001b[0m\u001b[0m\n\u001b[1;32m    387\u001b[0m             grouper, exclusions, obj = _get_grouper(obj, keys, axis=axis,\n\u001b[0;32m--> 388\u001b[0;31m                                                     level=level, sort=sort)\n\u001b[0m\u001b[1;32m    389\u001b[0m \u001b[0;34m\u001b[0m\u001b[0m\n\u001b[1;32m    390\u001b[0m         \u001b[0mself\u001b[0m\u001b[0;34m.\u001b[0m\u001b[0mobj\u001b[0m \u001b[0;34m=\u001b[0m \u001b[0mobj\u001b[0m\u001b[0;34m\u001b[0m\u001b[0m\n",
      "\u001b[0;32m/Users/Jerry/anaconda/lib/python2.7/site-packages/pandas/core/groupby.pyc\u001b[0m in \u001b[0;36m_get_grouper\u001b[0;34m(obj, key, axis, level, sort)\u001b[0m\n\u001b[1;32m   2146\u001b[0m \u001b[0;34m\u001b[0m\u001b[0m\n\u001b[1;32m   2147\u001b[0m         \u001b[0;32melif\u001b[0m \u001b[0mis_in_axis\u001b[0m\u001b[0;34m(\u001b[0m\u001b[0mgpr\u001b[0m\u001b[0;34m)\u001b[0m\u001b[0;34m:\u001b[0m  \u001b[0;31m# df.groupby('name')\u001b[0m\u001b[0;34m\u001b[0m\u001b[0m\n\u001b[0;32m-> 2148\u001b[0;31m             \u001b[0min_axis\u001b[0m\u001b[0;34m,\u001b[0m \u001b[0mname\u001b[0m\u001b[0;34m,\u001b[0m \u001b[0mgpr\u001b[0m \u001b[0;34m=\u001b[0m \u001b[0mTrue\u001b[0m\u001b[0;34m,\u001b[0m \u001b[0mgpr\u001b[0m\u001b[0;34m,\u001b[0m \u001b[0mobj\u001b[0m\u001b[0;34m[\u001b[0m\u001b[0mgpr\u001b[0m\u001b[0;34m]\u001b[0m\u001b[0;34m\u001b[0m\u001b[0m\n\u001b[0m\u001b[1;32m   2149\u001b[0m             \u001b[0mexclusions\u001b[0m\u001b[0;34m.\u001b[0m\u001b[0mappend\u001b[0m\u001b[0;34m(\u001b[0m\u001b[0mname\u001b[0m\u001b[0;34m)\u001b[0m\u001b[0;34m\u001b[0m\u001b[0m\n\u001b[1;32m   2150\u001b[0m \u001b[0;34m\u001b[0m\u001b[0m\n",
      "\u001b[0;32m/Users/Jerry/anaconda/lib/python2.7/site-packages/pandas/core/frame.pyc\u001b[0m in \u001b[0;36m__getitem__\u001b[0;34m(self, key)\u001b[0m\n\u001b[1;32m   1795\u001b[0m             \u001b[0;32mreturn\u001b[0m \u001b[0mself\u001b[0m\u001b[0;34m.\u001b[0m\u001b[0m_getitem_multilevel\u001b[0m\u001b[0;34m(\u001b[0m\u001b[0mkey\u001b[0m\u001b[0;34m)\u001b[0m\u001b[0;34m\u001b[0m\u001b[0m\n\u001b[1;32m   1796\u001b[0m         \u001b[0;32melse\u001b[0m\u001b[0;34m:\u001b[0m\u001b[0;34m\u001b[0m\u001b[0m\n\u001b[0;32m-> 1797\u001b[0;31m             \u001b[0;32mreturn\u001b[0m \u001b[0mself\u001b[0m\u001b[0;34m.\u001b[0m\u001b[0m_getitem_column\u001b[0m\u001b[0;34m(\u001b[0m\u001b[0mkey\u001b[0m\u001b[0;34m)\u001b[0m\u001b[0;34m\u001b[0m\u001b[0m\n\u001b[0m\u001b[1;32m   1798\u001b[0m \u001b[0;34m\u001b[0m\u001b[0m\n\u001b[1;32m   1799\u001b[0m     \u001b[0;32mdef\u001b[0m \u001b[0m_getitem_column\u001b[0m\u001b[0;34m(\u001b[0m\u001b[0mself\u001b[0m\u001b[0;34m,\u001b[0m \u001b[0mkey\u001b[0m\u001b[0;34m)\u001b[0m\u001b[0;34m:\u001b[0m\u001b[0;34m\u001b[0m\u001b[0m\n",
      "\u001b[0;32m/Users/Jerry/anaconda/lib/python2.7/site-packages/pandas/core/frame.pyc\u001b[0m in \u001b[0;36m_getitem_column\u001b[0;34m(self, key)\u001b[0m\n\u001b[1;32m   1802\u001b[0m         \u001b[0;31m# get column\u001b[0m\u001b[0;34m\u001b[0m\u001b[0;34m\u001b[0m\u001b[0m\n\u001b[1;32m   1803\u001b[0m         \u001b[0;32mif\u001b[0m \u001b[0mself\u001b[0m\u001b[0;34m.\u001b[0m\u001b[0mcolumns\u001b[0m\u001b[0;34m.\u001b[0m\u001b[0mis_unique\u001b[0m\u001b[0;34m:\u001b[0m\u001b[0;34m\u001b[0m\u001b[0m\n\u001b[0;32m-> 1804\u001b[0;31m             \u001b[0;32mreturn\u001b[0m \u001b[0mself\u001b[0m\u001b[0;34m.\u001b[0m\u001b[0m_get_item_cache\u001b[0m\u001b[0;34m(\u001b[0m\u001b[0mkey\u001b[0m\u001b[0;34m)\u001b[0m\u001b[0;34m\u001b[0m\u001b[0m\n\u001b[0m\u001b[1;32m   1805\u001b[0m \u001b[0;34m\u001b[0m\u001b[0m\n\u001b[1;32m   1806\u001b[0m         \u001b[0;31m# duplicate columns & possible reduce dimensionaility\u001b[0m\u001b[0;34m\u001b[0m\u001b[0;34m\u001b[0m\u001b[0m\n",
      "\u001b[0;32m/Users/Jerry/anaconda/lib/python2.7/site-packages/pandas/core/generic.pyc\u001b[0m in \u001b[0;36m_get_item_cache\u001b[0;34m(self, item)\u001b[0m\n\u001b[1;32m   1082\u001b[0m         \u001b[0mres\u001b[0m \u001b[0;34m=\u001b[0m \u001b[0mcache\u001b[0m\u001b[0;34m.\u001b[0m\u001b[0mget\u001b[0m\u001b[0;34m(\u001b[0m\u001b[0mitem\u001b[0m\u001b[0;34m)\u001b[0m\u001b[0;34m\u001b[0m\u001b[0m\n\u001b[1;32m   1083\u001b[0m         \u001b[0;32mif\u001b[0m \u001b[0mres\u001b[0m \u001b[0;32mis\u001b[0m \u001b[0mNone\u001b[0m\u001b[0;34m:\u001b[0m\u001b[0;34m\u001b[0m\u001b[0m\n\u001b[0;32m-> 1084\u001b[0;31m             \u001b[0mvalues\u001b[0m \u001b[0;34m=\u001b[0m \u001b[0mself\u001b[0m\u001b[0;34m.\u001b[0m\u001b[0m_data\u001b[0m\u001b[0;34m.\u001b[0m\u001b[0mget\u001b[0m\u001b[0;34m(\u001b[0m\u001b[0mitem\u001b[0m\u001b[0;34m)\u001b[0m\u001b[0;34m\u001b[0m\u001b[0m\n\u001b[0m\u001b[1;32m   1085\u001b[0m             \u001b[0mres\u001b[0m \u001b[0;34m=\u001b[0m \u001b[0mself\u001b[0m\u001b[0;34m.\u001b[0m\u001b[0m_box_item_values\u001b[0m\u001b[0;34m(\u001b[0m\u001b[0mitem\u001b[0m\u001b[0;34m,\u001b[0m \u001b[0mvalues\u001b[0m\u001b[0;34m)\u001b[0m\u001b[0;34m\u001b[0m\u001b[0m\n\u001b[1;32m   1086\u001b[0m             \u001b[0mcache\u001b[0m\u001b[0;34m[\u001b[0m\u001b[0mitem\u001b[0m\u001b[0;34m]\u001b[0m \u001b[0;34m=\u001b[0m \u001b[0mres\u001b[0m\u001b[0;34m\u001b[0m\u001b[0m\n",
      "\u001b[0;32m/Users/Jerry/anaconda/lib/python2.7/site-packages/pandas/core/internals.pyc\u001b[0m in \u001b[0;36mget\u001b[0;34m(self, item, fastpath)\u001b[0m\n\u001b[1;32m   2849\u001b[0m \u001b[0;34m\u001b[0m\u001b[0m\n\u001b[1;32m   2850\u001b[0m             \u001b[0;32mif\u001b[0m \u001b[0;32mnot\u001b[0m \u001b[0misnull\u001b[0m\u001b[0;34m(\u001b[0m\u001b[0mitem\u001b[0m\u001b[0;34m)\u001b[0m\u001b[0;34m:\u001b[0m\u001b[0;34m\u001b[0m\u001b[0m\n\u001b[0;32m-> 2851\u001b[0;31m                 \u001b[0mloc\u001b[0m \u001b[0;34m=\u001b[0m \u001b[0mself\u001b[0m\u001b[0;34m.\u001b[0m\u001b[0mitems\u001b[0m\u001b[0;34m.\u001b[0m\u001b[0mget_loc\u001b[0m\u001b[0;34m(\u001b[0m\u001b[0mitem\u001b[0m\u001b[0;34m)\u001b[0m\u001b[0;34m\u001b[0m\u001b[0m\n\u001b[0m\u001b[1;32m   2852\u001b[0m             \u001b[0;32melse\u001b[0m\u001b[0;34m:\u001b[0m\u001b[0;34m\u001b[0m\u001b[0m\n\u001b[1;32m   2853\u001b[0m                 \u001b[0mindexer\u001b[0m \u001b[0;34m=\u001b[0m \u001b[0mnp\u001b[0m\u001b[0;34m.\u001b[0m\u001b[0marange\u001b[0m\u001b[0;34m(\u001b[0m\u001b[0mlen\u001b[0m\u001b[0;34m(\u001b[0m\u001b[0mself\u001b[0m\u001b[0;34m.\u001b[0m\u001b[0mitems\u001b[0m\u001b[0;34m)\u001b[0m\u001b[0;34m)\u001b[0m\u001b[0;34m[\u001b[0m\u001b[0misnull\u001b[0m\u001b[0;34m(\u001b[0m\u001b[0mself\u001b[0m\u001b[0;34m.\u001b[0m\u001b[0mitems\u001b[0m\u001b[0;34m)\u001b[0m\u001b[0;34m]\u001b[0m\u001b[0;34m\u001b[0m\u001b[0m\n",
      "\u001b[0;32m/Users/Jerry/anaconda/lib/python2.7/site-packages/pandas/core/index.pyc\u001b[0m in \u001b[0;36mget_loc\u001b[0;34m(self, key, method)\u001b[0m\n\u001b[1;32m   1570\u001b[0m         \"\"\"\n\u001b[1;32m   1571\u001b[0m         \u001b[0;32mif\u001b[0m \u001b[0mmethod\u001b[0m \u001b[0;32mis\u001b[0m \u001b[0mNone\u001b[0m\u001b[0;34m:\u001b[0m\u001b[0;34m\u001b[0m\u001b[0m\n\u001b[0;32m-> 1572\u001b[0;31m             \u001b[0;32mreturn\u001b[0m \u001b[0mself\u001b[0m\u001b[0;34m.\u001b[0m\u001b[0m_engine\u001b[0m\u001b[0;34m.\u001b[0m\u001b[0mget_loc\u001b[0m\u001b[0;34m(\u001b[0m\u001b[0m_values_from_object\u001b[0m\u001b[0;34m(\u001b[0m\u001b[0mkey\u001b[0m\u001b[0;34m)\u001b[0m\u001b[0;34m)\u001b[0m\u001b[0;34m\u001b[0m\u001b[0m\n\u001b[0m\u001b[1;32m   1573\u001b[0m \u001b[0;34m\u001b[0m\u001b[0m\n\u001b[1;32m   1574\u001b[0m         \u001b[0mindexer\u001b[0m \u001b[0;34m=\u001b[0m \u001b[0mself\u001b[0m\u001b[0;34m.\u001b[0m\u001b[0mget_indexer\u001b[0m\u001b[0;34m(\u001b[0m\u001b[0;34m[\u001b[0m\u001b[0mkey\u001b[0m\u001b[0;34m]\u001b[0m\u001b[0;34m,\u001b[0m \u001b[0mmethod\u001b[0m\u001b[0;34m=\u001b[0m\u001b[0mmethod\u001b[0m\u001b[0;34m)\u001b[0m\u001b[0;34m\u001b[0m\u001b[0m\n",
      "\u001b[0;32mpandas/index.pyx\u001b[0m in \u001b[0;36mpandas.index.IndexEngine.get_loc (pandas/index.c:3824)\u001b[0;34m()\u001b[0m\n",
      "\u001b[0;32mpandas/index.pyx\u001b[0m in \u001b[0;36mpandas.index.IndexEngine.get_loc (pandas/index.c:3704)\u001b[0;34m()\u001b[0m\n",
      "\u001b[0;32mpandas/hashtable.pyx\u001b[0m in \u001b[0;36mpandas.hashtable.PyObjectHashTable.get_item (pandas/hashtable.c:12280)\u001b[0;34m()\u001b[0m\n",
      "\u001b[0;32mpandas/hashtable.pyx\u001b[0m in \u001b[0;36mpandas.hashtable.PyObjectHashTable.get_item (pandas/hashtable.c:12231)\u001b[0;34m()\u001b[0m\n",
      "\u001b[0;31mKeyError\u001b[0m: 'company_name'"
     ]
    }
   ],
   "source": [
    "#tweets_df.set_index(['company_name','Series'], inplace=True)\n",
    "tweets_df['tweet_count'] = tweets_df.groupby(['company_name','Series']).likes.count()"
   ]
  },
  {
   "cell_type": "code",
   "execution_count": 138,
   "metadata": {
    "collapsed": false
   },
   "outputs": [
    {
     "data": {
      "text/plain": [
       "162"
      ]
     },
     "execution_count": 138,
     "metadata": {},
     "output_type": "execute_result"
    }
   ],
   "source": [
    "tweets_df.groupby(['company_name','Series']).likes.count()['140Proof']['_Series_B']"
   ]
  },
  {
   "cell_type": "code",
   "execution_count": 135,
   "metadata": {
    "collapsed": false
   },
   "outputs": [
    {
     "ename": "TypeError",
     "evalue": "incompatible index of inserted column with frame index",
     "output_type": "error",
     "traceback": [
      "\u001b[0;31m---------------------------------------------------------------------------\u001b[0m",
      "\u001b[0;31mTypeError\u001b[0m                                 Traceback (most recent call last)",
      "\u001b[0;32m<ipython-input-135-9b20a0a2ce6f>\u001b[0m in \u001b[0;36m<module>\u001b[0;34m()\u001b[0m\n\u001b[0;32m----> 1\u001b[0;31m \u001b[0mtweets_df\u001b[0m\u001b[0;34m[\u001b[0m\u001b[0;34m'tweet_count'\u001b[0m\u001b[0;34m]\u001b[0m \u001b[0;34m=\u001b[0m \u001b[0mtweets_df\u001b[0m\u001b[0;34m.\u001b[0m\u001b[0mgroupby\u001b[0m\u001b[0;34m(\u001b[0m\u001b[0;34m[\u001b[0m\u001b[0;34m'company_name'\u001b[0m\u001b[0;34m,\u001b[0m\u001b[0;34m'Series'\u001b[0m\u001b[0;34m]\u001b[0m\u001b[0;34m)\u001b[0m\u001b[0;34m.\u001b[0m\u001b[0mlikes\u001b[0m\u001b[0;34m.\u001b[0m\u001b[0mcount\u001b[0m\u001b[0;34m(\u001b[0m\u001b[0;34m)\u001b[0m\u001b[0;34m\u001b[0m\u001b[0m\n\u001b[0m",
      "\u001b[0;32m/Users/Jerry/anaconda/lib/python2.7/site-packages/pandas/core/frame.pyc\u001b[0m in \u001b[0;36m__setitem__\u001b[0;34m(self, key, value)\u001b[0m\n\u001b[1;32m   2125\u001b[0m         \u001b[0;32melse\u001b[0m\u001b[0;34m:\u001b[0m\u001b[0;34m\u001b[0m\u001b[0m\n\u001b[1;32m   2126\u001b[0m             \u001b[0;31m# set column\u001b[0m\u001b[0;34m\u001b[0m\u001b[0;34m\u001b[0m\u001b[0m\n\u001b[0;32m-> 2127\u001b[0;31m             \u001b[0mself\u001b[0m\u001b[0;34m.\u001b[0m\u001b[0m_set_item\u001b[0m\u001b[0;34m(\u001b[0m\u001b[0mkey\u001b[0m\u001b[0;34m,\u001b[0m \u001b[0mvalue\u001b[0m\u001b[0;34m)\u001b[0m\u001b[0;34m\u001b[0m\u001b[0m\n\u001b[0m\u001b[1;32m   2128\u001b[0m \u001b[0;34m\u001b[0m\u001b[0m\n\u001b[1;32m   2129\u001b[0m     \u001b[0;32mdef\u001b[0m \u001b[0m_setitem_slice\u001b[0m\u001b[0;34m(\u001b[0m\u001b[0mself\u001b[0m\u001b[0;34m,\u001b[0m \u001b[0mkey\u001b[0m\u001b[0;34m,\u001b[0m \u001b[0mvalue\u001b[0m\u001b[0;34m)\u001b[0m\u001b[0;34m:\u001b[0m\u001b[0;34m\u001b[0m\u001b[0m\n",
      "\u001b[0;32m/Users/Jerry/anaconda/lib/python2.7/site-packages/pandas/core/frame.pyc\u001b[0m in \u001b[0;36m_set_item\u001b[0;34m(self, key, value)\u001b[0m\n\u001b[1;32m   2202\u001b[0m \u001b[0;34m\u001b[0m\u001b[0m\n\u001b[1;32m   2203\u001b[0m         \u001b[0mself\u001b[0m\u001b[0;34m.\u001b[0m\u001b[0m_ensure_valid_index\u001b[0m\u001b[0;34m(\u001b[0m\u001b[0mvalue\u001b[0m\u001b[0;34m)\u001b[0m\u001b[0;34m\u001b[0m\u001b[0m\n\u001b[0;32m-> 2204\u001b[0;31m         \u001b[0mvalue\u001b[0m \u001b[0;34m=\u001b[0m \u001b[0mself\u001b[0m\u001b[0;34m.\u001b[0m\u001b[0m_sanitize_column\u001b[0m\u001b[0;34m(\u001b[0m\u001b[0mkey\u001b[0m\u001b[0;34m,\u001b[0m \u001b[0mvalue\u001b[0m\u001b[0;34m)\u001b[0m\u001b[0;34m\u001b[0m\u001b[0m\n\u001b[0m\u001b[1;32m   2205\u001b[0m         \u001b[0mNDFrame\u001b[0m\u001b[0;34m.\u001b[0m\u001b[0m_set_item\u001b[0m\u001b[0;34m(\u001b[0m\u001b[0mself\u001b[0m\u001b[0;34m,\u001b[0m \u001b[0mkey\u001b[0m\u001b[0;34m,\u001b[0m \u001b[0mvalue\u001b[0m\u001b[0;34m)\u001b[0m\u001b[0;34m\u001b[0m\u001b[0m\n\u001b[1;32m   2206\u001b[0m \u001b[0;34m\u001b[0m\u001b[0m\n",
      "\u001b[0;32m/Users/Jerry/anaconda/lib/python2.7/site-packages/pandas/core/frame.pyc\u001b[0m in \u001b[0;36m_sanitize_column\u001b[0;34m(self, key, value)\u001b[0m\n\u001b[1;32m   2339\u001b[0m \u001b[0;34m\u001b[0m\u001b[0m\n\u001b[1;32m   2340\u001b[0m         \u001b[0;32mif\u001b[0m \u001b[0misinstance\u001b[0m\u001b[0;34m(\u001b[0m\u001b[0mvalue\u001b[0m\u001b[0;34m,\u001b[0m \u001b[0mSeries\u001b[0m\u001b[0;34m)\u001b[0m\u001b[0;34m:\u001b[0m\u001b[0;34m\u001b[0m\u001b[0m\n\u001b[0;32m-> 2341\u001b[0;31m             \u001b[0mvalue\u001b[0m \u001b[0;34m=\u001b[0m \u001b[0mreindexer\u001b[0m\u001b[0;34m(\u001b[0m\u001b[0mvalue\u001b[0m\u001b[0;34m)\u001b[0m\u001b[0;34m\u001b[0m\u001b[0m\n\u001b[0m\u001b[1;32m   2342\u001b[0m \u001b[0;34m\u001b[0m\u001b[0m\n\u001b[1;32m   2343\u001b[0m         \u001b[0;32melif\u001b[0m \u001b[0misinstance\u001b[0m\u001b[0;34m(\u001b[0m\u001b[0mvalue\u001b[0m\u001b[0;34m,\u001b[0m \u001b[0mDataFrame\u001b[0m\u001b[0;34m)\u001b[0m\u001b[0;34m:\u001b[0m\u001b[0;34m\u001b[0m\u001b[0m\n",
      "\u001b[0;32m/Users/Jerry/anaconda/lib/python2.7/site-packages/pandas/core/frame.pyc\u001b[0m in \u001b[0;36mreindexer\u001b[0;34m(value)\u001b[0m\n\u001b[1;32m   2334\u001b[0m \u001b[0;34m\u001b[0m\u001b[0m\n\u001b[1;32m   2335\u001b[0m                     \u001b[0;31m# other\u001b[0m\u001b[0;34m\u001b[0m\u001b[0;34m\u001b[0m\u001b[0m\n\u001b[0;32m-> 2336\u001b[0;31m                     raise TypeError('incompatible index of inserted column '\n\u001b[0m\u001b[1;32m   2337\u001b[0m                                     'with frame index')\n\u001b[1;32m   2338\u001b[0m             \u001b[0;32mreturn\u001b[0m \u001b[0mvalue\u001b[0m\u001b[0;34m\u001b[0m\u001b[0m\n",
      "\u001b[0;31mTypeError\u001b[0m: incompatible index of inserted column with frame index"
     ]
    }
   ],
   "source": [
    "tweets_df['tweet_count'] = tweets_df.groupby(['company_name','Series']).likes.count()"
   ]
  },
  {
   "cell_type": "code",
   "execution_count": 139,
   "metadata": {
    "collapsed": false
   },
   "outputs": [
    {
     "ename": "KeyError",
     "evalue": "('_Series_A', u'occurred at index Series')",
     "output_type": "error",
     "traceback": [
      "\u001b[0;31m---------------------------------------------------------------------------\u001b[0m",
      "\u001b[0;31mKeyError\u001b[0m                                  Traceback (most recent call last)",
      "\u001b[0;32m<ipython-input-139-62268aa37e42>\u001b[0m in \u001b[0;36m<module>\u001b[0;34m()\u001b[0m\n\u001b[1;32m      1\u001b[0m \u001b[0mgroupby\u001b[0m \u001b[0;34m=\u001b[0m \u001b[0mtweets_df\u001b[0m\u001b[0;34m.\u001b[0m\u001b[0mgroupby\u001b[0m\u001b[0;34m(\u001b[0m\u001b[0;34m[\u001b[0m\u001b[0;34m'company_name'\u001b[0m\u001b[0;34m,\u001b[0m\u001b[0;34m'Series'\u001b[0m\u001b[0;34m]\u001b[0m\u001b[0;34m)\u001b[0m\u001b[0;34m.\u001b[0m\u001b[0mlikes\u001b[0m\u001b[0;34m.\u001b[0m\u001b[0mcount\u001b[0m\u001b[0;34m(\u001b[0m\u001b[0;34m)\u001b[0m\u001b[0;34m\u001b[0m\u001b[0m\n\u001b[0;32m----> 2\u001b[0;31m \u001b[0mtweets_df\u001b[0m\u001b[0;34m.\u001b[0m\u001b[0mapply\u001b[0m\u001b[0;34m(\u001b[0m\u001b[0;32mlambda\u001b[0m \u001b[0mrow\u001b[0m\u001b[0;34m:\u001b[0m \u001b[0mgroupby\u001b[0m\u001b[0;34m[\u001b[0m\u001b[0mrow\u001b[0m\u001b[0;34m[\u001b[0m\u001b[0;36m1\u001b[0m\u001b[0;34m]\u001b[0m\u001b[0;34m]\u001b[0m\u001b[0;34m[\u001b[0m\u001b[0mrow\u001b[0m\u001b[0;34m[\u001b[0m\u001b[0;36m0\u001b[0m\u001b[0;34m]\u001b[0m\u001b[0;34m]\u001b[0m\u001b[0;34m)\u001b[0m\u001b[0;34m\u001b[0m\u001b[0m\n\u001b[0m",
      "\u001b[0;32m/Users/Jerry/anaconda/lib/python2.7/site-packages/pandas/core/frame.pyc\u001b[0m in \u001b[0;36mapply\u001b[0;34m(self, func, axis, broadcast, raw, reduce, args, **kwds)\u001b[0m\n\u001b[1;32m   3716\u001b[0m                     \u001b[0;32mif\u001b[0m \u001b[0mreduce\u001b[0m \u001b[0;32mis\u001b[0m \u001b[0mNone\u001b[0m\u001b[0;34m:\u001b[0m\u001b[0;34m\u001b[0m\u001b[0m\n\u001b[1;32m   3717\u001b[0m                         \u001b[0mreduce\u001b[0m \u001b[0;34m=\u001b[0m \u001b[0mTrue\u001b[0m\u001b[0;34m\u001b[0m\u001b[0m\n\u001b[0;32m-> 3718\u001b[0;31m                     \u001b[0;32mreturn\u001b[0m \u001b[0mself\u001b[0m\u001b[0;34m.\u001b[0m\u001b[0m_apply_standard\u001b[0m\u001b[0;34m(\u001b[0m\u001b[0mf\u001b[0m\u001b[0;34m,\u001b[0m \u001b[0maxis\u001b[0m\u001b[0;34m,\u001b[0m \u001b[0mreduce\u001b[0m\u001b[0;34m=\u001b[0m\u001b[0mreduce\u001b[0m\u001b[0;34m)\u001b[0m\u001b[0;34m\u001b[0m\u001b[0m\n\u001b[0m\u001b[1;32m   3719\u001b[0m             \u001b[0;32melse\u001b[0m\u001b[0;34m:\u001b[0m\u001b[0;34m\u001b[0m\u001b[0m\n\u001b[1;32m   3720\u001b[0m                 \u001b[0;32mreturn\u001b[0m \u001b[0mself\u001b[0m\u001b[0;34m.\u001b[0m\u001b[0m_apply_broadcast\u001b[0m\u001b[0;34m(\u001b[0m\u001b[0mf\u001b[0m\u001b[0;34m,\u001b[0m \u001b[0maxis\u001b[0m\u001b[0;34m)\u001b[0m\u001b[0;34m\u001b[0m\u001b[0m\n",
      "\u001b[0;32m/Users/Jerry/anaconda/lib/python2.7/site-packages/pandas/core/frame.pyc\u001b[0m in \u001b[0;36m_apply_standard\u001b[0;34m(self, func, axis, ignore_failures, reduce)\u001b[0m\n\u001b[1;32m   3806\u001b[0m             \u001b[0;32mtry\u001b[0m\u001b[0;34m:\u001b[0m\u001b[0;34m\u001b[0m\u001b[0m\n\u001b[1;32m   3807\u001b[0m                 \u001b[0;32mfor\u001b[0m \u001b[0mi\u001b[0m\u001b[0;34m,\u001b[0m \u001b[0mv\u001b[0m \u001b[0;32min\u001b[0m \u001b[0menumerate\u001b[0m\u001b[0;34m(\u001b[0m\u001b[0mseries_gen\u001b[0m\u001b[0;34m)\u001b[0m\u001b[0;34m:\u001b[0m\u001b[0;34m\u001b[0m\u001b[0m\n\u001b[0;32m-> 3808\u001b[0;31m                     \u001b[0mresults\u001b[0m\u001b[0;34m[\u001b[0m\u001b[0mi\u001b[0m\u001b[0;34m]\u001b[0m \u001b[0;34m=\u001b[0m \u001b[0mfunc\u001b[0m\u001b[0;34m(\u001b[0m\u001b[0mv\u001b[0m\u001b[0;34m)\u001b[0m\u001b[0;34m\u001b[0m\u001b[0m\n\u001b[0m\u001b[1;32m   3809\u001b[0m                     \u001b[0mkeys\u001b[0m\u001b[0;34m.\u001b[0m\u001b[0mappend\u001b[0m\u001b[0;34m(\u001b[0m\u001b[0mv\u001b[0m\u001b[0;34m.\u001b[0m\u001b[0mname\u001b[0m\u001b[0;34m)\u001b[0m\u001b[0;34m\u001b[0m\u001b[0m\n\u001b[1;32m   3810\u001b[0m             \u001b[0;32mexcept\u001b[0m \u001b[0mException\u001b[0m \u001b[0;32mas\u001b[0m \u001b[0me\u001b[0m\u001b[0;34m:\u001b[0m\u001b[0;34m\u001b[0m\u001b[0m\n",
      "\u001b[0;32m<ipython-input-139-62268aa37e42>\u001b[0m in \u001b[0;36m<lambda>\u001b[0;34m(row)\u001b[0m\n\u001b[1;32m      1\u001b[0m \u001b[0mgroupby\u001b[0m \u001b[0;34m=\u001b[0m \u001b[0mtweets_df\u001b[0m\u001b[0;34m.\u001b[0m\u001b[0mgroupby\u001b[0m\u001b[0;34m(\u001b[0m\u001b[0;34m[\u001b[0m\u001b[0;34m'company_name'\u001b[0m\u001b[0;34m,\u001b[0m\u001b[0;34m'Series'\u001b[0m\u001b[0;34m]\u001b[0m\u001b[0;34m)\u001b[0m\u001b[0;34m.\u001b[0m\u001b[0mlikes\u001b[0m\u001b[0;34m.\u001b[0m\u001b[0mcount\u001b[0m\u001b[0;34m(\u001b[0m\u001b[0;34m)\u001b[0m\u001b[0;34m\u001b[0m\u001b[0m\n\u001b[0;32m----> 2\u001b[0;31m \u001b[0mtweets_df\u001b[0m\u001b[0;34m.\u001b[0m\u001b[0mapply\u001b[0m\u001b[0;34m(\u001b[0m\u001b[0;32mlambda\u001b[0m \u001b[0mrow\u001b[0m\u001b[0;34m:\u001b[0m \u001b[0mgroupby\u001b[0m\u001b[0;34m[\u001b[0m\u001b[0mrow\u001b[0m\u001b[0;34m[\u001b[0m\u001b[0;36m1\u001b[0m\u001b[0;34m]\u001b[0m\u001b[0;34m]\u001b[0m\u001b[0;34m[\u001b[0m\u001b[0mrow\u001b[0m\u001b[0;34m[\u001b[0m\u001b[0;36m0\u001b[0m\u001b[0;34m]\u001b[0m\u001b[0;34m]\u001b[0m\u001b[0;34m)\u001b[0m\u001b[0;34m\u001b[0m\u001b[0m\n\u001b[0m",
      "\u001b[0;32m/Users/Jerry/anaconda/lib/python2.7/site-packages/pandas/core/series.pyc\u001b[0m in \u001b[0;36m__getitem__\u001b[0;34m(self, key)\u001b[0m\n\u001b[1;32m    519\u001b[0m     \u001b[0;32mdef\u001b[0m \u001b[0m__getitem__\u001b[0m\u001b[0;34m(\u001b[0m\u001b[0mself\u001b[0m\u001b[0;34m,\u001b[0m \u001b[0mkey\u001b[0m\u001b[0;34m)\u001b[0m\u001b[0;34m:\u001b[0m\u001b[0;34m\u001b[0m\u001b[0m\n\u001b[1;32m    520\u001b[0m         \u001b[0;32mtry\u001b[0m\u001b[0;34m:\u001b[0m\u001b[0;34m\u001b[0m\u001b[0m\n\u001b[0;32m--> 521\u001b[0;31m             \u001b[0mresult\u001b[0m \u001b[0;34m=\u001b[0m \u001b[0mself\u001b[0m\u001b[0;34m.\u001b[0m\u001b[0mindex\u001b[0m\u001b[0;34m.\u001b[0m\u001b[0mget_value\u001b[0m\u001b[0;34m(\u001b[0m\u001b[0mself\u001b[0m\u001b[0;34m,\u001b[0m \u001b[0mkey\u001b[0m\u001b[0;34m)\u001b[0m\u001b[0;34m\u001b[0m\u001b[0m\n\u001b[0m\u001b[1;32m    522\u001b[0m \u001b[0;34m\u001b[0m\u001b[0m\n\u001b[1;32m    523\u001b[0m             \u001b[0;32mif\u001b[0m \u001b[0;32mnot\u001b[0m \u001b[0mnp\u001b[0m\u001b[0;34m.\u001b[0m\u001b[0misscalar\u001b[0m\u001b[0;34m(\u001b[0m\u001b[0mresult\u001b[0m\u001b[0;34m)\u001b[0m\u001b[0;34m:\u001b[0m\u001b[0;34m\u001b[0m\u001b[0m\n",
      "\u001b[0;32m/Users/Jerry/anaconda/lib/python2.7/site-packages/pandas/core/index.pyc\u001b[0m in \u001b[0;36mget_value\u001b[0;34m(self, series, key)\u001b[0m\n\u001b[1;32m   4198\u001b[0m                     \u001b[0;32mraise\u001b[0m \u001b[0mInvalidIndexError\u001b[0m\u001b[0;34m(\u001b[0m\u001b[0mkey\u001b[0m\u001b[0;34m)\u001b[0m\u001b[0;34m\u001b[0m\u001b[0m\n\u001b[1;32m   4199\u001b[0m                 \u001b[0;32melse\u001b[0m\u001b[0;34m:\u001b[0m\u001b[0;34m\u001b[0m\u001b[0m\n\u001b[0;32m-> 4200\u001b[0;31m                     \u001b[0;32mraise\u001b[0m \u001b[0me1\u001b[0m\u001b[0;34m\u001b[0m\u001b[0m\n\u001b[0m\u001b[1;32m   4201\u001b[0m             \u001b[0;32mexcept\u001b[0m \u001b[0mException\u001b[0m\u001b[0;34m:\u001b[0m  \u001b[0;31m# pragma: no cover\u001b[0m\u001b[0;34m\u001b[0m\u001b[0m\n\u001b[1;32m   4202\u001b[0m                 \u001b[0;32mraise\u001b[0m \u001b[0me1\u001b[0m\u001b[0;34m\u001b[0m\u001b[0m\n",
      "\u001b[0;31mKeyError\u001b[0m: ('_Series_A', u'occurred at index Series')"
     ]
    }
   ],
   "source": [
    "groupby = tweets_df.groupby(['company_name','Series']).likes.count()\n",
    "tweets_df.apply(lambda row: groupby[row[1]][row[0]])"
   ]
  },
  {
   "cell_type": "code",
   "execution_count": 141,
   "metadata": {
    "collapsed": false
   },
   "outputs": [
    {
     "data": {
      "text/plain": [
       "(370937, 9)"
      ]
     },
     "execution_count": 141,
     "metadata": {},
     "output_type": "execute_result"
    }
   ],
   "source": [
    "tweets_df.shape"
   ]
  },
  {
   "cell_type": "code",
   "execution_count": 142,
   "metadata": {
    "collapsed": false
   },
   "outputs": [
    {
     "name": "stdout",
     "output_type": "stream",
     "text": [
      "370937\n"
     ]
    }
   ],
   "source": [
    "x=0\n",
    "for row in tweets_df.iterrows():\n",
    "    x = x+1\n",
    "print x"
   ]
  },
  {
   "cell_type": "code",
   "execution_count": 134,
   "metadata": {
    "collapsed": false
   },
   "outputs": [
    {
     "ename": "KeyError",
     "evalue": "(('_Series_A', '_Series_A'), u'occurred at index Series')",
     "output_type": "error",
     "traceback": [
      "\u001b[0;31m---------------------------------------------------------------------------\u001b[0m",
      "\u001b[0;31mKeyError\u001b[0m                                  Traceback (most recent call last)",
      "\u001b[0;32m<ipython-input-134-6740994c7ec9>\u001b[0m in \u001b[0;36m<module>\u001b[0;34m()\u001b[0m\n\u001b[1;32m      1\u001b[0m \u001b[0mname_series_dict\u001b[0m \u001b[0;34m=\u001b[0m \u001b[0mdict\u001b[0m\u001b[0;34m(\u001b[0m\u001b[0mtweets_df\u001b[0m\u001b[0;34m.\u001b[0m\u001b[0mgroupby\u001b[0m\u001b[0;34m(\u001b[0m\u001b[0;34m[\u001b[0m\u001b[0;34m'company_name'\u001b[0m\u001b[0;34m,\u001b[0m\u001b[0;34m'Series'\u001b[0m\u001b[0;34m]\u001b[0m\u001b[0;34m)\u001b[0m\u001b[0;34m.\u001b[0m\u001b[0mlikes\u001b[0m\u001b[0;34m.\u001b[0m\u001b[0mcount\u001b[0m\u001b[0;34m(\u001b[0m\u001b[0;34m)\u001b[0m\u001b[0;34m)\u001b[0m\u001b[0;34m\u001b[0m\u001b[0m\n\u001b[0;32m----> 2\u001b[0;31m \u001b[0mname_series_count\u001b[0m \u001b[0;34m=\u001b[0m \u001b[0mtweets_df\u001b[0m\u001b[0;34m.\u001b[0m\u001b[0mapply\u001b[0m\u001b[0;34m(\u001b[0m\u001b[0;32mlambda\u001b[0m \u001b[0mrow\u001b[0m\u001b[0;34m:\u001b[0m \u001b[0mname_series_dict\u001b[0m\u001b[0;34m[\u001b[0m\u001b[0;34m(\u001b[0m\u001b[0mrow\u001b[0m\u001b[0;34m[\u001b[0m\u001b[0;36m1\u001b[0m\u001b[0;34m]\u001b[0m\u001b[0;34m,\u001b[0m \u001b[0mrow\u001b[0m\u001b[0;34m[\u001b[0m\u001b[0;36m0\u001b[0m\u001b[0;34m]\u001b[0m\u001b[0;34m)\u001b[0m\u001b[0;34m]\u001b[0m\u001b[0;34m)\u001b[0m\u001b[0;34m\u001b[0m\u001b[0m\n\u001b[0m\u001b[1;32m      3\u001b[0m \u001b[0;31m#int(name_series_groupby[[row[1], row[0]]])\u001b[0m\u001b[0;34m\u001b[0m\u001b[0;34m\u001b[0m\u001b[0m\n",
      "\u001b[0;32m/Users/Jerry/anaconda/lib/python2.7/site-packages/pandas/core/frame.pyc\u001b[0m in \u001b[0;36mapply\u001b[0;34m(self, func, axis, broadcast, raw, reduce, args, **kwds)\u001b[0m\n\u001b[1;32m   3716\u001b[0m                     \u001b[0;32mif\u001b[0m \u001b[0mreduce\u001b[0m \u001b[0;32mis\u001b[0m \u001b[0mNone\u001b[0m\u001b[0;34m:\u001b[0m\u001b[0;34m\u001b[0m\u001b[0m\n\u001b[1;32m   3717\u001b[0m                         \u001b[0mreduce\u001b[0m \u001b[0;34m=\u001b[0m \u001b[0mTrue\u001b[0m\u001b[0;34m\u001b[0m\u001b[0m\n\u001b[0;32m-> 3718\u001b[0;31m                     \u001b[0;32mreturn\u001b[0m \u001b[0mself\u001b[0m\u001b[0;34m.\u001b[0m\u001b[0m_apply_standard\u001b[0m\u001b[0;34m(\u001b[0m\u001b[0mf\u001b[0m\u001b[0;34m,\u001b[0m \u001b[0maxis\u001b[0m\u001b[0;34m,\u001b[0m \u001b[0mreduce\u001b[0m\u001b[0;34m=\u001b[0m\u001b[0mreduce\u001b[0m\u001b[0;34m)\u001b[0m\u001b[0;34m\u001b[0m\u001b[0m\n\u001b[0m\u001b[1;32m   3719\u001b[0m             \u001b[0;32melse\u001b[0m\u001b[0;34m:\u001b[0m\u001b[0;34m\u001b[0m\u001b[0m\n\u001b[1;32m   3720\u001b[0m                 \u001b[0;32mreturn\u001b[0m \u001b[0mself\u001b[0m\u001b[0;34m.\u001b[0m\u001b[0m_apply_broadcast\u001b[0m\u001b[0;34m(\u001b[0m\u001b[0mf\u001b[0m\u001b[0;34m,\u001b[0m \u001b[0maxis\u001b[0m\u001b[0;34m)\u001b[0m\u001b[0;34m\u001b[0m\u001b[0m\n",
      "\u001b[0;32m/Users/Jerry/anaconda/lib/python2.7/site-packages/pandas/core/frame.pyc\u001b[0m in \u001b[0;36m_apply_standard\u001b[0;34m(self, func, axis, ignore_failures, reduce)\u001b[0m\n\u001b[1;32m   3806\u001b[0m             \u001b[0;32mtry\u001b[0m\u001b[0;34m:\u001b[0m\u001b[0;34m\u001b[0m\u001b[0m\n\u001b[1;32m   3807\u001b[0m                 \u001b[0;32mfor\u001b[0m \u001b[0mi\u001b[0m\u001b[0;34m,\u001b[0m \u001b[0mv\u001b[0m \u001b[0;32min\u001b[0m \u001b[0menumerate\u001b[0m\u001b[0;34m(\u001b[0m\u001b[0mseries_gen\u001b[0m\u001b[0;34m)\u001b[0m\u001b[0;34m:\u001b[0m\u001b[0;34m\u001b[0m\u001b[0m\n\u001b[0;32m-> 3808\u001b[0;31m                     \u001b[0mresults\u001b[0m\u001b[0;34m[\u001b[0m\u001b[0mi\u001b[0m\u001b[0;34m]\u001b[0m \u001b[0;34m=\u001b[0m \u001b[0mfunc\u001b[0m\u001b[0;34m(\u001b[0m\u001b[0mv\u001b[0m\u001b[0;34m)\u001b[0m\u001b[0;34m\u001b[0m\u001b[0m\n\u001b[0m\u001b[1;32m   3809\u001b[0m                     \u001b[0mkeys\u001b[0m\u001b[0;34m.\u001b[0m\u001b[0mappend\u001b[0m\u001b[0;34m(\u001b[0m\u001b[0mv\u001b[0m\u001b[0;34m.\u001b[0m\u001b[0mname\u001b[0m\u001b[0;34m)\u001b[0m\u001b[0;34m\u001b[0m\u001b[0m\n\u001b[1;32m   3810\u001b[0m             \u001b[0;32mexcept\u001b[0m \u001b[0mException\u001b[0m \u001b[0;32mas\u001b[0m \u001b[0me\u001b[0m\u001b[0;34m:\u001b[0m\u001b[0;34m\u001b[0m\u001b[0m\n",
      "\u001b[0;32m<ipython-input-134-6740994c7ec9>\u001b[0m in \u001b[0;36m<lambda>\u001b[0;34m(row)\u001b[0m\n\u001b[1;32m      1\u001b[0m \u001b[0mname_series_dict\u001b[0m \u001b[0;34m=\u001b[0m \u001b[0mdict\u001b[0m\u001b[0;34m(\u001b[0m\u001b[0mtweets_df\u001b[0m\u001b[0;34m.\u001b[0m\u001b[0mgroupby\u001b[0m\u001b[0;34m(\u001b[0m\u001b[0;34m[\u001b[0m\u001b[0;34m'company_name'\u001b[0m\u001b[0;34m,\u001b[0m\u001b[0;34m'Series'\u001b[0m\u001b[0;34m]\u001b[0m\u001b[0;34m)\u001b[0m\u001b[0;34m.\u001b[0m\u001b[0mlikes\u001b[0m\u001b[0;34m.\u001b[0m\u001b[0mcount\u001b[0m\u001b[0;34m(\u001b[0m\u001b[0;34m)\u001b[0m\u001b[0;34m)\u001b[0m\u001b[0;34m\u001b[0m\u001b[0m\n\u001b[0;32m----> 2\u001b[0;31m \u001b[0mname_series_count\u001b[0m \u001b[0;34m=\u001b[0m \u001b[0mtweets_df\u001b[0m\u001b[0;34m.\u001b[0m\u001b[0mapply\u001b[0m\u001b[0;34m(\u001b[0m\u001b[0;32mlambda\u001b[0m \u001b[0mrow\u001b[0m\u001b[0;34m:\u001b[0m \u001b[0mname_series_dict\u001b[0m\u001b[0;34m[\u001b[0m\u001b[0;34m(\u001b[0m\u001b[0mrow\u001b[0m\u001b[0;34m[\u001b[0m\u001b[0;36m1\u001b[0m\u001b[0;34m]\u001b[0m\u001b[0;34m,\u001b[0m \u001b[0mrow\u001b[0m\u001b[0;34m[\u001b[0m\u001b[0;36m0\u001b[0m\u001b[0;34m]\u001b[0m\u001b[0;34m)\u001b[0m\u001b[0;34m]\u001b[0m\u001b[0;34m)\u001b[0m\u001b[0;34m\u001b[0m\u001b[0m\n\u001b[0m\u001b[1;32m      3\u001b[0m \u001b[0;31m#int(name_series_groupby[[row[1], row[0]]])\u001b[0m\u001b[0;34m\u001b[0m\u001b[0;34m\u001b[0m\u001b[0m\n",
      "\u001b[0;31mKeyError\u001b[0m: (('_Series_A', '_Series_A'), u'occurred at index Series')"
     ]
    }
   ],
   "source": [
    "name_series_dict = dict(tweets_df.groupby(['company_name','Series']).likes.count())\n",
    "name_series_count = tweets_df.apply(lambda row: name_series_dict[(row[1], row[0])])\n",
    "#int(name_series_groupby[[row[1], row[0]]])"
   ]
  },
  {
   "cell_type": "code",
   "execution_count": 112,
   "metadata": {
    "collapsed": false
   },
   "outputs": [
    {
     "data": {
      "text/plain": [
       "16903"
      ]
     },
     "execution_count": 112,
     "metadata": {},
     "output_type": "execute_result"
    }
   ],
   "source": [
    "sum(tweets_df.date == 0)"
   ]
  },
  {
   "cell_type": "code",
   "execution_count": 113,
   "metadata": {
    "collapsed": false
   },
   "outputs": [],
   "source": [
    "# drop rows with null values\n",
    "tweets_df = tweets_df[tweets_df.text.notnull()]\n",
    "tweets_df = tweets_df[tweets_df.date != 0]"
   ]
  },
  {
   "cell_type": "code",
   "execution_count": 118,
   "metadata": {
    "collapsed": false
   },
   "outputs": [],
   "source": [
    "tweets_df['text_length'] = [len(text) for text in tweets_df.text]"
   ]
  },
  {
   "cell_type": "code",
   "execution_count": 174,
   "metadata": {
    "collapsed": false
   },
   "outputs": [],
   "source": [
    "temp = tweets_df.groupby(['company_name','Series']).likes.count()"
   ]
  },
  {
   "cell_type": "code",
   "execution_count": 133,
   "metadata": {
    "collapsed": false
   },
   "outputs": [
    {
     "data": {
      "text/plain": [
       "12"
      ]
     },
     "execution_count": 133,
     "metadata": {},
     "output_type": "execute_result"
    }
   ],
   "source": [
    "dict(temp)[('Rheonix', '_Series_A')]"
   ]
  },
  {
   "cell_type": "code",
   "execution_count": 129,
   "metadata": {
    "collapsed": false
   },
   "outputs": [
    {
     "data": {
      "text/plain": [
       "162"
      ]
     },
     "execution_count": 129,
     "metadata": {},
     "output_type": "execute_result"
    }
   ],
   "source": [
    "int(temp[['140Proof', '_Series_B']])"
   ]
  },
  {
   "cell_type": "code",
   "execution_count": 178,
   "metadata": {
    "collapsed": false
   },
   "outputs": [],
   "source": [
    "mean_groupby = tweets_df.groupby(['company_name','Series']).mean()"
   ]
  },
  {
   "cell_type": "code",
   "execution_count": 191,
   "metadata": {
    "collapsed": true
   },
   "outputs": [],
   "source": [
    "count_groupby = tweets_df.groupby(['company_name','Series']).likes.count()"
   ]
  },
  {
   "cell_type": "code",
   "execution_count": 188,
   "metadata": {
    "collapsed": false
   },
   "outputs": [
    {
     "data": {
      "text/plain": [
       "(array([  3.87270000e+05,   3.17000000e+02,   9.30000000e+01,\n",
       "          3.80000000e+01,   3.20000000e+01,   1.60000000e+01,\n",
       "          9.00000000e+00,   1.20000000e+01,   8.00000000e+00,\n",
       "          4.00000000e+00,   6.00000000e+00,   5.00000000e+00,\n",
       "          6.00000000e+00,   1.00000000e+00,   3.00000000e+00,\n",
       "          4.00000000e+00,   5.00000000e+00,   2.00000000e+00,\n",
       "          1.00000000e+00,   2.00000000e+00,   1.00000000e+00,\n",
       "          2.00000000e+00,   0.00000000e+00,   0.00000000e+00,\n",
       "          0.00000000e+00,   1.00000000e+00,   3.00000000e+00,\n",
       "          0.00000000e+00,   0.00000000e+00,   0.00000000e+00,\n",
       "          0.00000000e+00,   1.00000000e+00,   0.00000000e+00,\n",
       "          1.00000000e+00,   1.00000000e+00,   0.00000000e+00,\n",
       "          0.00000000e+00,   1.00000000e+00,   0.00000000e+00,\n",
       "          0.00000000e+00,   0.00000000e+00,   0.00000000e+00,\n",
       "          0.00000000e+00,   0.00000000e+00,   0.00000000e+00,\n",
       "          0.00000000e+00,   0.00000000e+00,   1.00000000e+00,\n",
       "          0.00000000e+00,   1.00000000e+00]),\n",
       " array([   0.  ,   18.14,   36.28,   54.42,   72.56,   90.7 ,  108.84,\n",
       "         126.98,  145.12,  163.26,  181.4 ,  199.54,  217.68,  235.82,\n",
       "         253.96,  272.1 ,  290.24,  308.38,  326.52,  344.66,  362.8 ,\n",
       "         380.94,  399.08,  417.22,  435.36,  453.5 ,  471.64,  489.78,\n",
       "         507.92,  526.06,  544.2 ,  562.34,  580.48,  598.62,  616.76,\n",
       "         634.9 ,  653.04,  671.18,  689.32,  707.46,  725.6 ,  743.74,\n",
       "         761.88,  780.02,  798.16,  816.3 ,  834.44,  852.58,  870.72,\n",
       "         888.86,  907.  ]),\n",
       " <a list of 50 Patch objects>)"
      ]
     },
     "execution_count": 188,
     "metadata": {},
     "output_type": "execute_result"
    },
    {
     "data": {
      "image/png": "[encoded data removed]",
      "text/plain": [
       "<matplotlib.figure.Figure at 0x122c38dd0>"
      ]
     },
     "metadata": {},
     "output_type": "display_data"
    }
   ],
   "source": [
    "plt.hist(tweets_df['likes'],bins=50)"
   ]
  },
  {
   "cell_type": "code",
   "execution_count": 203,
   "metadata": {
    "collapsed": false
   },
   "outputs": [
    {
     "data": {
      "text/plain": [
       "3631"
      ]
     },
     "execution_count": 203,
     "metadata": {},
     "output_type": "execute_result"
    }
   ],
   "source": [
    "#count_groupby\n",
    "len(mean_groupby)"
   ]
  },
  {
   "cell_type": "code",
   "execution_count": 210,
   "metadata": {
    "collapsed": false
   },
   "outputs": [],
   "source": [
    "count_groupby = pd.DataFrame(count_groupby)\n",
    "count_groupby.columns = ['count']"
   ]
  },
  {
   "cell_type": "code",
   "execution_count": 215,
   "metadata": {
    "collapsed": false
   },
   "outputs": [
    {
     "data": {
      "text/html": [
       "<div>\n",
       "<table border=\"1\" class=\"dataframe\">\n",
       "  <thead>\n",
       "    <tr style=\"text-align: right;\">\n",
       "      <th></th>\n",
       "      <th></th>\n",
       "      <th>count</th>\n",
       "      <th>likes</th>\n",
       "      <th>retweets</th>\n",
       "    </tr>\n",
       "    <tr>\n",
       "      <th>company_name</th>\n",
       "      <th>Series</th>\n",
       "      <th></th>\n",
       "      <th></th>\n",
       "      <th></th>\n",
       "    </tr>\n",
       "  </thead>\n",
       "  <tbody>\n",
       "    <tr>\n",
       "      <th>140Proof</th>\n",
       "      <th>_Series_B</th>\n",
       "      <td>NaN</td>\n",
       "      <td>0.086420</td>\n",
       "      <td>0.055556</td>\n",
       "    </tr>\n",
       "    <tr>\n",
       "      <th>1stdibs</th>\n",
       "      <th>_Series_C</th>\n",
       "      <td>NaN</td>\n",
       "      <td>1.863850</td>\n",
       "      <td>1.521127</td>\n",
       "    </tr>\n",
       "    <tr>\n",
       "      <th rowspan=\"3\" valign=\"top\">2C2P</th>\n",
       "      <th>_Series_A</th>\n",
       "      <td>NaN</td>\n",
       "      <td>0.035088</td>\n",
       "      <td>0.070175</td>\n",
       "    </tr>\n",
       "    <tr>\n",
       "      <th>_Series_B</th>\n",
       "      <td>NaN</td>\n",
       "      <td>0.274336</td>\n",
       "      <td>0.292035</td>\n",
       "    </tr>\n",
       "    <tr>\n",
       "      <th>_Series_C</th>\n",
       "      <td>NaN</td>\n",
       "      <td>0.513043</td>\n",
       "      <td>0.286957</td>\n",
       "    </tr>\n",
       "    <tr>\n",
       "      <th rowspan=\"3\" valign=\"top\">2tor</th>\n",
       "      <th>_Series_A</th>\n",
       "      <td>NaN</td>\n",
       "      <td>0.000000</td>\n",
       "      <td>0.000000</td>\n",
       "    </tr>\n",
       "    <tr>\n",
       "      <th>_Series_B</th>\n",
       "      <td>NaN</td>\n",
       "      <td>0.124088</td>\n",
       "      <td>0.000000</td>\n",
       "    </tr>\n",
       "    <tr>\n",
       "      <th>_Series_C</th>\n",
       "      <td>NaN</td>\n",
       "      <td>0.061728</td>\n",
       "      <td>0.197531</td>\n",
       "    </tr>\n",
       "    <tr>\n",
       "      <th>365DataCenters</th>\n",
       "      <th>_Series_B</th>\n",
       "      <td>NaN</td>\n",
       "      <td>0.663158</td>\n",
       "      <td>0.642105</td>\n",
       "    </tr>\n",
       "    <tr>\n",
       "      <th>365Scores</th>\n",
       "      <th>_Series_B</th>\n",
       "      <td>NaN</td>\n",
       "      <td>0.092025</td>\n",
       "      <td>0.141104</td>\n",
       "    </tr>\n",
       "    <tr>\n",
       "      <th>36Kr</th>\n",
       "      <th>_Series_C</th>\n",
       "      <td>NaN</td>\n",
       "      <td>1.171717</td>\n",
       "      <td>0.343434</td>\n",
       "    </tr>\n",
       "    <tr>\n",
       "      <th rowspan=\"2\" valign=\"top\">3Drobotics</th>\n",
       "      <th>_Series_A</th>\n",
       "      <td>NaN</td>\n",
       "      <td>0.223958</td>\n",
       "      <td>0.406250</td>\n",
       "    </tr>\n",
       "    <tr>\n",
       "      <th>_Series_B</th>\n",
       "      <td>NaN</td>\n",
       "      <td>1.500000</td>\n",
       "      <td>2.000000</td>\n",
       "    </tr>\n",
       "    <tr>\n",
       "      <th>41stParameter</th>\n",
       "      <th>_Series_D</th>\n",
       "      <td>NaN</td>\n",
       "      <td>0.000000</td>\n",
       "      <td>0.195122</td>\n",
       "    </tr>\n",
       "    <tr>\n",
       "      <th rowspan=\"2\" valign=\"top\">42Floors</th>\n",
       "      <th>_Series_A</th>\n",
       "      <td>NaN</td>\n",
       "      <td>0.850467</td>\n",
       "      <td>1.514019</td>\n",
       "    </tr>\n",
       "    <tr>\n",
       "      <th>_Series_B</th>\n",
       "      <td>NaN</td>\n",
       "      <td>1.470588</td>\n",
       "      <td>0.926471</td>\n",
       "    </tr>\n",
       "    <tr>\n",
       "      <th rowspan=\"2\" valign=\"top\">4Home</th>\n",
       "      <th>_Series_B</th>\n",
       "      <td>NaN</td>\n",
       "      <td>0.000000</td>\n",
       "      <td>0.000000</td>\n",
       "    </tr>\n",
       "    <tr>\n",
       "      <th>_Series_C</th>\n",
       "      <td>NaN</td>\n",
       "      <td>0.062500</td>\n",
       "      <td>0.000000</td>\n",
       "    </tr>\n",
       "    <tr>\n",
       "      <th>500friends</th>\n",
       "      <th>_Series_A</th>\n",
       "      <td>NaN</td>\n",
       "      <td>0.010309</td>\n",
       "      <td>0.175258</td>\n",
       "    </tr>\n",
       "    <tr>\n",
       "      <th>5MinMedia</th>\n",
       "      <th>_Series_B</th>\n",
       "      <td>NaN</td>\n",
       "      <td>0.000000</td>\n",
       "      <td>0.000000</td>\n",
       "    </tr>\n",
       "    <tr>\n",
       "      <th rowspan=\"2\" valign=\"top\">6fusion</th>\n",
       "      <th>_Series_A</th>\n",
       "      <td>NaN</td>\n",
       "      <td>0.010204</td>\n",
       "      <td>0.020408</td>\n",
       "    </tr>\n",
       "    <tr>\n",
       "      <th>_Series_B</th>\n",
       "      <td>NaN</td>\n",
       "      <td>0.011299</td>\n",
       "      <td>0.158192</td>\n",
       "    </tr>\n",
       "    <tr>\n",
       "      <th rowspan=\"2\" valign=\"top\">6sense</th>\n",
       "      <th>_Series_A</th>\n",
       "      <td>NaN</td>\n",
       "      <td>0.195349</td>\n",
       "      <td>0.241860</td>\n",
       "    </tr>\n",
       "    <tr>\n",
       "      <th>_Series_B</th>\n",
       "      <td>NaN</td>\n",
       "      <td>0.606742</td>\n",
       "      <td>0.561798</td>\n",
       "    </tr>\n",
       "    <tr>\n",
       "      <th>8DWorld</th>\n",
       "      <th>_Series_B</th>\n",
       "      <td>NaN</td>\n",
       "      <td>0.000000</td>\n",
       "      <td>0.000000</td>\n",
       "    </tr>\n",
       "    <tr>\n",
       "      <th rowspan=\"2\" valign=\"top\">8Securities</th>\n",
       "      <th>_Series_A</th>\n",
       "      <td>NaN</td>\n",
       "      <td>0.139785</td>\n",
       "      <td>0.629032</td>\n",
       "    </tr>\n",
       "    <tr>\n",
       "      <th>_Series_B</th>\n",
       "      <td>NaN</td>\n",
       "      <td>0.446043</td>\n",
       "      <td>1.079137</td>\n",
       "    </tr>\n",
       "    <tr>\n",
       "      <th rowspan=\"2\" valign=\"top\">8thBridge</th>\n",
       "      <th>_Series_A</th>\n",
       "      <td>NaN</td>\n",
       "      <td>0.500000</td>\n",
       "      <td>2.500000</td>\n",
       "    </tr>\n",
       "    <tr>\n",
       "      <th>_Series_B</th>\n",
       "      <td>NaN</td>\n",
       "      <td>0.081081</td>\n",
       "      <td>0.432432</td>\n",
       "    </tr>\n",
       "    <tr>\n",
       "      <th>908Devices</th>\n",
       "      <th>_Series_B</th>\n",
       "      <td>NaN</td>\n",
       "      <td>0.000000</td>\n",
       "      <td>1.666667</td>\n",
       "    </tr>\n",
       "    <tr>\n",
       "      <th>...</th>\n",
       "      <th>...</th>\n",
       "      <td>...</td>\n",
       "      <td>...</td>\n",
       "      <td>...</td>\n",
       "    </tr>\n",
       "    <tr>\n",
       "      <th rowspan=\"2\" valign=\"top\">myDocket</th>\n",
       "      <th>_Series_A</th>\n",
       "      <td>2</td>\n",
       "      <td>NaN</td>\n",
       "      <td>NaN</td>\n",
       "    </tr>\n",
       "    <tr>\n",
       "      <th>_Series_B</th>\n",
       "      <td>23</td>\n",
       "      <td>NaN</td>\n",
       "      <td>NaN</td>\n",
       "    </tr>\n",
       "    <tr>\n",
       "      <th>myhomemove</th>\n",
       "      <th>_Series_C</th>\n",
       "      <td>13</td>\n",
       "      <td>NaN</td>\n",
       "      <td>NaN</td>\n",
       "    </tr>\n",
       "    <tr>\n",
       "      <th>nanoMR</th>\n",
       "      <th>_Series_B</th>\n",
       "      <td>8</td>\n",
       "      <td>NaN</td>\n",
       "      <td>NaN</td>\n",
       "    </tr>\n",
       "    <tr>\n",
       "      <th rowspan=\"3\" valign=\"top\">natera</th>\n",
       "      <th>_Series_A</th>\n",
       "      <td>16</td>\n",
       "      <td>NaN</td>\n",
       "      <td>NaN</td>\n",
       "    </tr>\n",
       "    <tr>\n",
       "      <th>_Series_B</th>\n",
       "      <td>197</td>\n",
       "      <td>NaN</td>\n",
       "      <td>NaN</td>\n",
       "    </tr>\n",
       "    <tr>\n",
       "      <th>_Series_C</th>\n",
       "      <td>213</td>\n",
       "      <td>NaN</td>\n",
       "      <td>NaN</td>\n",
       "    </tr>\n",
       "    <tr>\n",
       "      <th rowspan=\"3\" valign=\"top\">neohapsis</th>\n",
       "      <th>_Series_A</th>\n",
       "      <td>66</td>\n",
       "      <td>NaN</td>\n",
       "      <td>NaN</td>\n",
       "    </tr>\n",
       "    <tr>\n",
       "      <th>_Series_B</th>\n",
       "      <td>66</td>\n",
       "      <td>NaN</td>\n",
       "      <td>NaN</td>\n",
       "    </tr>\n",
       "    <tr>\n",
       "      <th>_Series_C</th>\n",
       "      <td>155</td>\n",
       "      <td>NaN</td>\n",
       "      <td>NaN</td>\n",
       "    </tr>\n",
       "    <tr>\n",
       "      <th rowspan=\"2\" valign=\"top\">oDesk</th>\n",
       "      <th>_Series_C</th>\n",
       "      <td>122</td>\n",
       "      <td>NaN</td>\n",
       "      <td>NaN</td>\n",
       "    </tr>\n",
       "    <tr>\n",
       "      <th>_Series_D</th>\n",
       "      <td>208</td>\n",
       "      <td>NaN</td>\n",
       "      <td>NaN</td>\n",
       "    </tr>\n",
       "    <tr>\n",
       "      <th rowspan=\"2\" valign=\"top\">onefinestay</th>\n",
       "      <th>_Series_A</th>\n",
       "      <td>202</td>\n",
       "      <td>NaN</td>\n",
       "      <td>NaN</td>\n",
       "    </tr>\n",
       "    <tr>\n",
       "      <th>_Series_B</th>\n",
       "      <td>194</td>\n",
       "      <td>NaN</td>\n",
       "      <td>NaN</td>\n",
       "    </tr>\n",
       "    <tr>\n",
       "      <th>qinec</th>\n",
       "      <th>_Series_B</th>\n",
       "      <td>4</td>\n",
       "      <td>NaN</td>\n",
       "      <td>NaN</td>\n",
       "    </tr>\n",
       "    <tr>\n",
       "      <th>scanR</th>\n",
       "      <th>_Series_B</th>\n",
       "      <td>2</td>\n",
       "      <td>NaN</td>\n",
       "      <td>NaN</td>\n",
       "    </tr>\n",
       "    <tr>\n",
       "      <th>sliceX</th>\n",
       "      <th>_Series_B</th>\n",
       "      <td>1</td>\n",
       "      <td>NaN</td>\n",
       "      <td>NaN</td>\n",
       "    </tr>\n",
       "    <tr>\n",
       "      <th rowspan=\"3\" valign=\"top\">thredUP</th>\n",
       "      <th>_Series_B</th>\n",
       "      <td>175</td>\n",
       "      <td>NaN</td>\n",
       "      <td>NaN</td>\n",
       "    </tr>\n",
       "    <tr>\n",
       "      <th>_Series_C</th>\n",
       "      <td>177</td>\n",
       "      <td>NaN</td>\n",
       "      <td>NaN</td>\n",
       "    </tr>\n",
       "    <tr>\n",
       "      <th>_Series_D</th>\n",
       "      <td>196</td>\n",
       "      <td>NaN</td>\n",
       "      <td>NaN</td>\n",
       "    </tr>\n",
       "    <tr>\n",
       "      <th rowspan=\"3\" valign=\"top\">uCirrus</th>\n",
       "      <th>_Series_A</th>\n",
       "      <td>1</td>\n",
       "      <td>NaN</td>\n",
       "      <td>NaN</td>\n",
       "    </tr>\n",
       "    <tr>\n",
       "      <th>_Series_B</th>\n",
       "      <td>13</td>\n",
       "      <td>NaN</td>\n",
       "      <td>NaN</td>\n",
       "    </tr>\n",
       "    <tr>\n",
       "      <th>_Series_C</th>\n",
       "      <td>78</td>\n",
       "      <td>NaN</td>\n",
       "      <td>NaN</td>\n",
       "    </tr>\n",
       "    <tr>\n",
       "      <th>uzabase</th>\n",
       "      <th>_Series_C</th>\n",
       "      <td>116</td>\n",
       "      <td>NaN</td>\n",
       "      <td>NaN</td>\n",
       "    </tr>\n",
       "    <tr>\n",
       "      <th rowspan=\"3\" valign=\"top\">vArmourNetworks</th>\n",
       "      <th>_Series_A</th>\n",
       "      <td>3</td>\n",
       "      <td>NaN</td>\n",
       "      <td>NaN</td>\n",
       "    </tr>\n",
       "    <tr>\n",
       "      <th>_Series_B</th>\n",
       "      <td>3</td>\n",
       "      <td>NaN</td>\n",
       "      <td>NaN</td>\n",
       "    </tr>\n",
       "    <tr>\n",
       "      <th>_Series_C</th>\n",
       "      <td>17</td>\n",
       "      <td>NaN</td>\n",
       "      <td>NaN</td>\n",
       "    </tr>\n",
       "    <tr>\n",
       "      <th rowspan=\"2\" valign=\"top\">vWise</th>\n",
       "      <th>_Series_C</th>\n",
       "      <td>61</td>\n",
       "      <td>NaN</td>\n",
       "      <td>NaN</td>\n",
       "    </tr>\n",
       "    <tr>\n",
       "      <th>_Series_D</th>\n",
       "      <td>153</td>\n",
       "      <td>NaN</td>\n",
       "      <td>NaN</td>\n",
       "    </tr>\n",
       "    <tr>\n",
       "      <th>viagogo</th>\n",
       "      <th>_Series_D</th>\n",
       "      <td>33</td>\n",
       "      <td>NaN</td>\n",
       "      <td>NaN</td>\n",
       "    </tr>\n",
       "  </tbody>\n",
       "</table>\n",
       "<p>7262 rows × 3 columns</p>\n",
       "</div>"
      ],
      "text/plain": [
       "                           count     likes  retweets\n",
       "company_name    Series                              \n",
       "140Proof        _Series_B    NaN  0.086420  0.055556\n",
       "1stdibs         _Series_C    NaN  1.863850  1.521127\n",
       "2C2P            _Series_A    NaN  0.035088  0.070175\n",
       "                _Series_B    NaN  0.274336  0.292035\n",
       "                _Series_C    NaN  0.513043  0.286957\n",
       "2tor            _Series_A    NaN  0.000000  0.000000\n",
       "                _Series_B    NaN  0.124088  0.000000\n",
       "                _Series_C    NaN  0.061728  0.197531\n",
       "365DataCenters  _Series_B    NaN  0.663158  0.642105\n",
       "365Scores       _Series_B    NaN  0.092025  0.141104\n",
       "36Kr            _Series_C    NaN  1.171717  0.343434\n",
       "3Drobotics      _Series_A    NaN  0.223958  0.406250\n",
       "                _Series_B    NaN  1.500000  2.000000\n",
       "41stParameter   _Series_D    NaN  0.000000  0.195122\n",
       "42Floors        _Series_A    NaN  0.850467  1.514019\n",
       "                _Series_B    NaN  1.470588  0.926471\n",
       "4Home           _Series_B    NaN  0.000000  0.000000\n",
       "                _Series_C    NaN  0.062500  0.000000\n",
       "500friends      _Series_A    NaN  0.010309  0.175258\n",
       "5MinMedia       _Series_B    NaN  0.000000  0.000000\n",
       "6fusion         _Series_A    NaN  0.010204  0.020408\n",
       "                _Series_B    NaN  0.011299  0.158192\n",
       "6sense          _Series_A    NaN  0.195349  0.241860\n",
       "                _Series_B    NaN  0.606742  0.561798\n",
       "8DWorld         _Series_B    NaN  0.000000  0.000000\n",
       "8Securities     _Series_A    NaN  0.139785  0.629032\n",
       "                _Series_B    NaN  0.446043  1.079137\n",
       "8thBridge       _Series_A    NaN  0.500000  2.500000\n",
       "                _Series_B    NaN  0.081081  0.432432\n",
       "908Devices      _Series_B    NaN  0.000000  1.666667\n",
       "...                          ...       ...       ...\n",
       "myDocket        _Series_A      2       NaN       NaN\n",
       "                _Series_B     23       NaN       NaN\n",
       "myhomemove      _Series_C     13       NaN       NaN\n",
       "nanoMR          _Series_B      8       NaN       NaN\n",
       "natera          _Series_A     16       NaN       NaN\n",
       "                _Series_B    197       NaN       NaN\n",
       "                _Series_C    213       NaN       NaN\n",
       "neohapsis       _Series_A     66       NaN       NaN\n",
       "                _Series_B     66       NaN       NaN\n",
       "                _Series_C    155       NaN       NaN\n",
       "oDesk           _Series_C    122       NaN       NaN\n",
       "                _Series_D    208       NaN       NaN\n",
       "onefinestay     _Series_A    202       NaN       NaN\n",
       "                _Series_B    194       NaN       NaN\n",
       "qinec           _Series_B      4       NaN       NaN\n",
       "scanR           _Series_B      2       NaN       NaN\n",
       "sliceX          _Series_B      1       NaN       NaN\n",
       "thredUP         _Series_B    175       NaN       NaN\n",
       "                _Series_C    177       NaN       NaN\n",
       "                _Series_D    196       NaN       NaN\n",
       "uCirrus         _Series_A      1       NaN       NaN\n",
       "                _Series_B     13       NaN       NaN\n",
       "                _Series_C     78       NaN       NaN\n",
       "uzabase         _Series_C    116       NaN       NaN\n",
       "vArmourNetworks _Series_A      3       NaN       NaN\n",
       "                _Series_B      3       NaN       NaN\n",
       "                _Series_C     17       NaN       NaN\n",
       "vWise           _Series_C     61       NaN       NaN\n",
       "                _Series_D    153       NaN       NaN\n",
       "viagogo         _Series_D     33       NaN       NaN\n",
       "\n",
       "[7262 rows x 3 columns]"
      ]
     },
     "execution_count": 215,
     "metadata": {},
     "output_type": "execute_result"
    }
   ],
   "source": [
    "pd.concat([mean_groupby, count_groupby])"
   ]
  },
  {
   "cell_type": "code",
   "execution_count": 211,
   "metadata": {
    "collapsed": false
   },
   "outputs": [
    {
     "data": {
      "text/html": [
       "<div>\n",
       "<table border=\"1\" class=\"dataframe\">\n",
       "  <thead>\n",
       "    <tr style=\"text-align: right;\">\n",
       "      <th></th>\n",
       "      <th></th>\n",
       "      <th>count</th>\n",
       "    </tr>\n",
       "    <tr>\n",
       "      <th>company_name</th>\n",
       "      <th>Series</th>\n",
       "      <th></th>\n",
       "    </tr>\n",
       "  </thead>\n",
       "  <tbody>\n",
       "    <tr>\n",
       "      <th>140Proof</th>\n",
       "      <th>_Series_B</th>\n",
       "      <td>162</td>\n",
       "    </tr>\n",
       "    <tr>\n",
       "      <th>1stdibs</th>\n",
       "      <th>_Series_C</th>\n",
       "      <td>213</td>\n",
       "    </tr>\n",
       "    <tr>\n",
       "      <th rowspan=\"3\" valign=\"top\">2C2P</th>\n",
       "      <th>_Series_A</th>\n",
       "      <td>57</td>\n",
       "    </tr>\n",
       "    <tr>\n",
       "      <th>_Series_B</th>\n",
       "      <td>113</td>\n",
       "    </tr>\n",
       "    <tr>\n",
       "      <th>_Series_C</th>\n",
       "      <td>115</td>\n",
       "    </tr>\n",
       "    <tr>\n",
       "      <th rowspan=\"3\" valign=\"top\">2tor</th>\n",
       "      <th>_Series_A</th>\n",
       "      <td>17</td>\n",
       "    </tr>\n",
       "    <tr>\n",
       "      <th>_Series_B</th>\n",
       "      <td>137</td>\n",
       "    </tr>\n",
       "    <tr>\n",
       "      <th>_Series_C</th>\n",
       "      <td>162</td>\n",
       "    </tr>\n",
       "    <tr>\n",
       "      <th>365DataCenters</th>\n",
       "      <th>_Series_B</th>\n",
       "      <td>95</td>\n",
       "    </tr>\n",
       "    <tr>\n",
       "      <th>365Scores</th>\n",
       "      <th>_Series_B</th>\n",
       "      <td>163</td>\n",
       "    </tr>\n",
       "    <tr>\n",
       "      <th>36Kr</th>\n",
       "      <th>_Series_C</th>\n",
       "      <td>198</td>\n",
       "    </tr>\n",
       "    <tr>\n",
       "      <th rowspan=\"2\" valign=\"top\">3Drobotics</th>\n",
       "      <th>_Series_A</th>\n",
       "      <td>192</td>\n",
       "    </tr>\n",
       "    <tr>\n",
       "      <th>_Series_B</th>\n",
       "      <td>56</td>\n",
       "    </tr>\n",
       "    <tr>\n",
       "      <th>41stParameter</th>\n",
       "      <th>_Series_D</th>\n",
       "      <td>41</td>\n",
       "    </tr>\n",
       "    <tr>\n",
       "      <th rowspan=\"2\" valign=\"top\">42Floors</th>\n",
       "      <th>_Series_A</th>\n",
       "      <td>107</td>\n",
       "    </tr>\n",
       "    <tr>\n",
       "      <th>_Series_B</th>\n",
       "      <td>136</td>\n",
       "    </tr>\n",
       "    <tr>\n",
       "      <th rowspan=\"2\" valign=\"top\">4Home</th>\n",
       "      <th>_Series_B</th>\n",
       "      <td>2</td>\n",
       "    </tr>\n",
       "    <tr>\n",
       "      <th>_Series_C</th>\n",
       "      <td>32</td>\n",
       "    </tr>\n",
       "    <tr>\n",
       "      <th>500friends</th>\n",
       "      <th>_Series_A</th>\n",
       "      <td>97</td>\n",
       "    </tr>\n",
       "    <tr>\n",
       "      <th>5MinMedia</th>\n",
       "      <th>_Series_B</th>\n",
       "      <td>2</td>\n",
       "    </tr>\n",
       "    <tr>\n",
       "      <th rowspan=\"2\" valign=\"top\">6fusion</th>\n",
       "      <th>_Series_A</th>\n",
       "      <td>98</td>\n",
       "    </tr>\n",
       "    <tr>\n",
       "      <th>_Series_B</th>\n",
       "      <td>177</td>\n",
       "    </tr>\n",
       "    <tr>\n",
       "      <th rowspan=\"2\" valign=\"top\">6sense</th>\n",
       "      <th>_Series_A</th>\n",
       "      <td>215</td>\n",
       "    </tr>\n",
       "    <tr>\n",
       "      <th>_Series_B</th>\n",
       "      <td>178</td>\n",
       "    </tr>\n",
       "    <tr>\n",
       "      <th>8DWorld</th>\n",
       "      <th>_Series_B</th>\n",
       "      <td>5</td>\n",
       "    </tr>\n",
       "    <tr>\n",
       "      <th rowspan=\"2\" valign=\"top\">8Securities</th>\n",
       "      <th>_Series_A</th>\n",
       "      <td>186</td>\n",
       "    </tr>\n",
       "    <tr>\n",
       "      <th>_Series_B</th>\n",
       "      <td>139</td>\n",
       "    </tr>\n",
       "    <tr>\n",
       "      <th rowspan=\"2\" valign=\"top\">8thBridge</th>\n",
       "      <th>_Series_A</th>\n",
       "      <td>2</td>\n",
       "    </tr>\n",
       "    <tr>\n",
       "      <th>_Series_B</th>\n",
       "      <td>37</td>\n",
       "    </tr>\n",
       "    <tr>\n",
       "      <th>908Devices</th>\n",
       "      <th>_Series_B</th>\n",
       "      <td>6</td>\n",
       "    </tr>\n",
       "    <tr>\n",
       "      <th>...</th>\n",
       "      <th>...</th>\n",
       "      <td>...</td>\n",
       "    </tr>\n",
       "    <tr>\n",
       "      <th rowspan=\"2\" valign=\"top\">myDocket</th>\n",
       "      <th>_Series_A</th>\n",
       "      <td>2</td>\n",
       "    </tr>\n",
       "    <tr>\n",
       "      <th>_Series_B</th>\n",
       "      <td>23</td>\n",
       "    </tr>\n",
       "    <tr>\n",
       "      <th>myhomemove</th>\n",
       "      <th>_Series_C</th>\n",
       "      <td>13</td>\n",
       "    </tr>\n",
       "    <tr>\n",
       "      <th>nanoMR</th>\n",
       "      <th>_Series_B</th>\n",
       "      <td>8</td>\n",
       "    </tr>\n",
       "    <tr>\n",
       "      <th rowspan=\"3\" valign=\"top\">natera</th>\n",
       "      <th>_Series_A</th>\n",
       "      <td>16</td>\n",
       "    </tr>\n",
       "    <tr>\n",
       "      <th>_Series_B</th>\n",
       "      <td>197</td>\n",
       "    </tr>\n",
       "    <tr>\n",
       "      <th>_Series_C</th>\n",
       "      <td>213</td>\n",
       "    </tr>\n",
       "    <tr>\n",
       "      <th rowspan=\"3\" valign=\"top\">neohapsis</th>\n",
       "      <th>_Series_A</th>\n",
       "      <td>66</td>\n",
       "    </tr>\n",
       "    <tr>\n",
       "      <th>_Series_B</th>\n",
       "      <td>66</td>\n",
       "    </tr>\n",
       "    <tr>\n",
       "      <th>_Series_C</th>\n",
       "      <td>155</td>\n",
       "    </tr>\n",
       "    <tr>\n",
       "      <th rowspan=\"2\" valign=\"top\">oDesk</th>\n",
       "      <th>_Series_C</th>\n",
       "      <td>122</td>\n",
       "    </tr>\n",
       "    <tr>\n",
       "      <th>_Series_D</th>\n",
       "      <td>208</td>\n",
       "    </tr>\n",
       "    <tr>\n",
       "      <th rowspan=\"2\" valign=\"top\">onefinestay</th>\n",
       "      <th>_Series_A</th>\n",
       "      <td>202</td>\n",
       "    </tr>\n",
       "    <tr>\n",
       "      <th>_Series_B</th>\n",
       "      <td>194</td>\n",
       "    </tr>\n",
       "    <tr>\n",
       "      <th>qinec</th>\n",
       "      <th>_Series_B</th>\n",
       "      <td>4</td>\n",
       "    </tr>\n",
       "    <tr>\n",
       "      <th>scanR</th>\n",
       "      <th>_Series_B</th>\n",
       "      <td>2</td>\n",
       "    </tr>\n",
       "    <tr>\n",
       "      <th>sliceX</th>\n",
       "      <th>_Series_B</th>\n",
       "      <td>1</td>\n",
       "    </tr>\n",
       "    <tr>\n",
       "      <th rowspan=\"3\" valign=\"top\">thredUP</th>\n",
       "      <th>_Series_B</th>\n",
       "      <td>175</td>\n",
       "    </tr>\n",
       "    <tr>\n",
       "      <th>_Series_C</th>\n",
       "      <td>177</td>\n",
       "    </tr>\n",
       "    <tr>\n",
       "      <th>_Series_D</th>\n",
       "      <td>196</td>\n",
       "    </tr>\n",
       "    <tr>\n",
       "      <th rowspan=\"3\" valign=\"top\">uCirrus</th>\n",
       "      <th>_Series_A</th>\n",
       "      <td>1</td>\n",
       "    </tr>\n",
       "    <tr>\n",
       "      <th>_Series_B</th>\n",
       "      <td>13</td>\n",
       "    </tr>\n",
       "    <tr>\n",
       "      <th>_Series_C</th>\n",
       "      <td>78</td>\n",
       "    </tr>\n",
       "    <tr>\n",
       "      <th>uzabase</th>\n",
       "      <th>_Series_C</th>\n",
       "      <td>116</td>\n",
       "    </tr>\n",
       "    <tr>\n",
       "      <th rowspan=\"3\" valign=\"top\">vArmourNetworks</th>\n",
       "      <th>_Series_A</th>\n",
       "      <td>3</td>\n",
       "    </tr>\n",
       "    <tr>\n",
       "      <th>_Series_B</th>\n",
       "      <td>3</td>\n",
       "    </tr>\n",
       "    <tr>\n",
       "      <th>_Series_C</th>\n",
       "      <td>17</td>\n",
       "    </tr>\n",
       "    <tr>\n",
       "      <th rowspan=\"2\" valign=\"top\">vWise</th>\n",
       "      <th>_Series_C</th>\n",
       "      <td>61</td>\n",
       "    </tr>\n",
       "    <tr>\n",
       "      <th>_Series_D</th>\n",
       "      <td>153</td>\n",
       "    </tr>\n",
       "    <tr>\n",
       "      <th>viagogo</th>\n",
       "      <th>_Series_D</th>\n",
       "      <td>33</td>\n",
       "    </tr>\n",
       "  </tbody>\n",
       "</table>\n",
       "<p>3631 rows × 1 columns</p>\n",
       "</div>"
      ],
      "text/plain": [
       "                           count\n",
       "company_name    Series          \n",
       "140Proof        _Series_B    162\n",
       "1stdibs         _Series_C    213\n",
       "2C2P            _Series_A     57\n",
       "                _Series_B    113\n",
       "                _Series_C    115\n",
       "2tor            _Series_A     17\n",
       "                _Series_B    137\n",
       "                _Series_C    162\n",
       "365DataCenters  _Series_B     95\n",
       "365Scores       _Series_B    163\n",
       "36Kr            _Series_C    198\n",
       "3Drobotics      _Series_A    192\n",
       "                _Series_B     56\n",
       "41stParameter   _Series_D     41\n",
       "42Floors        _Series_A    107\n",
       "                _Series_B    136\n",
       "4Home           _Series_B      2\n",
       "                _Series_C     32\n",
       "500friends      _Series_A     97\n",
       "5MinMedia       _Series_B      2\n",
       "6fusion         _Series_A     98\n",
       "                _Series_B    177\n",
       "6sense          _Series_A    215\n",
       "                _Series_B    178\n",
       "8DWorld         _Series_B      5\n",
       "8Securities     _Series_A    186\n",
       "                _Series_B    139\n",
       "8thBridge       _Series_A      2\n",
       "                _Series_B     37\n",
       "908Devices      _Series_B      6\n",
       "...                          ...\n",
       "myDocket        _Series_A      2\n",
       "                _Series_B     23\n",
       "myhomemove      _Series_C     13\n",
       "nanoMR          _Series_B      8\n",
       "natera          _Series_A     16\n",
       "                _Series_B    197\n",
       "                _Series_C    213\n",
       "neohapsis       _Series_A     66\n",
       "                _Series_B     66\n",
       "                _Series_C    155\n",
       "oDesk           _Series_C    122\n",
       "                _Series_D    208\n",
       "onefinestay     _Series_A    202\n",
       "                _Series_B    194\n",
       "qinec           _Series_B      4\n",
       "scanR           _Series_B      2\n",
       "sliceX          _Series_B      1\n",
       "thredUP         _Series_B    175\n",
       "                _Series_C    177\n",
       "                _Series_D    196\n",
       "uCirrus         _Series_A      1\n",
       "                _Series_B     13\n",
       "                _Series_C     78\n",
       "uzabase         _Series_C    116\n",
       "vArmourNetworks _Series_A      3\n",
       "                _Series_B      3\n",
       "                _Series_C     17\n",
       "vWise           _Series_C     61\n",
       "                _Series_D    153\n",
       "viagogo         _Series_D     33\n",
       "\n",
       "[3631 rows x 1 columns]"
      ]
     },
     "execution_count": 211,
     "metadata": {},
     "output_type": "execute_result"
    }
   ],
   "source": [
    "count_groupby"
   ]
  },
  {
   "cell_type": "code",
   "execution_count": 195,
   "metadata": {
    "collapsed": false
   },
   "outputs": [
    {
     "data": {
      "text/html": [
       "<div>\n",
       "<table border=\"1\" class=\"dataframe\">\n",
       "  <thead>\n",
       "    <tr style=\"text-align: right;\">\n",
       "      <th></th>\n",
       "      <th></th>\n",
       "      <th>likes</th>\n",
       "      <th>retweets</th>\n",
       "    </tr>\n",
       "    <tr>\n",
       "      <th>company_name</th>\n",
       "      <th>Series</th>\n",
       "      <th></th>\n",
       "      <th></th>\n",
       "    </tr>\n",
       "  </thead>\n",
       "  <tbody>\n",
       "    <tr>\n",
       "      <th>140Proof</th>\n",
       "      <th>_Series_B</th>\n",
       "      <td>0.086420</td>\n",
       "      <td>0.055556</td>\n",
       "    </tr>\n",
       "    <tr>\n",
       "      <th>1stdibs</th>\n",
       "      <th>_Series_C</th>\n",
       "      <td>1.863850</td>\n",
       "      <td>1.521127</td>\n",
       "    </tr>\n",
       "    <tr>\n",
       "      <th rowspan=\"3\" valign=\"top\">2C2P</th>\n",
       "      <th>_Series_A</th>\n",
       "      <td>0.035088</td>\n",
       "      <td>0.070175</td>\n",
       "    </tr>\n",
       "    <tr>\n",
       "      <th>_Series_B</th>\n",
       "      <td>0.274336</td>\n",
       "      <td>0.292035</td>\n",
       "    </tr>\n",
       "    <tr>\n",
       "      <th>_Series_C</th>\n",
       "      <td>0.513043</td>\n",
       "      <td>0.286957</td>\n",
       "    </tr>\n",
       "    <tr>\n",
       "      <th rowspan=\"3\" valign=\"top\">2tor</th>\n",
       "      <th>_Series_A</th>\n",
       "      <td>0.000000</td>\n",
       "      <td>0.000000</td>\n",
       "    </tr>\n",
       "    <tr>\n",
       "      <th>_Series_B</th>\n",
       "      <td>0.124088</td>\n",
       "      <td>0.000000</td>\n",
       "    </tr>\n",
       "    <tr>\n",
       "      <th>_Series_C</th>\n",
       "      <td>0.061728</td>\n",
       "      <td>0.197531</td>\n",
       "    </tr>\n",
       "    <tr>\n",
       "      <th>365DataCenters</th>\n",
       "      <th>_Series_B</th>\n",
       "      <td>0.663158</td>\n",
       "      <td>0.642105</td>\n",
       "    </tr>\n",
       "    <tr>\n",
       "      <th>365Scores</th>\n",
       "      <th>_Series_B</th>\n",
       "      <td>0.092025</td>\n",
       "      <td>0.141104</td>\n",
       "    </tr>\n",
       "    <tr>\n",
       "      <th>36Kr</th>\n",
       "      <th>_Series_C</th>\n",
       "      <td>1.171717</td>\n",
       "      <td>0.343434</td>\n",
       "    </tr>\n",
       "    <tr>\n",
       "      <th rowspan=\"2\" valign=\"top\">3Drobotics</th>\n",
       "      <th>_Series_A</th>\n",
       "      <td>0.223958</td>\n",
       "      <td>0.406250</td>\n",
       "    </tr>\n",
       "    <tr>\n",
       "      <th>_Series_B</th>\n",
       "      <td>1.500000</td>\n",
       "      <td>2.000000</td>\n",
       "    </tr>\n",
       "    <tr>\n",
       "      <th>41stParameter</th>\n",
       "      <th>_Series_D</th>\n",
       "      <td>0.000000</td>\n",
       "      <td>0.195122</td>\n",
       "    </tr>\n",
       "    <tr>\n",
       "      <th rowspan=\"2\" valign=\"top\">42Floors</th>\n",
       "      <th>_Series_A</th>\n",
       "      <td>0.850467</td>\n",
       "      <td>1.514019</td>\n",
       "    </tr>\n",
       "    <tr>\n",
       "      <th>_Series_B</th>\n",
       "      <td>1.470588</td>\n",
       "      <td>0.926471</td>\n",
       "    </tr>\n",
       "    <tr>\n",
       "      <th rowspan=\"2\" valign=\"top\">4Home</th>\n",
       "      <th>_Series_B</th>\n",
       "      <td>0.000000</td>\n",
       "      <td>0.000000</td>\n",
       "    </tr>\n",
       "    <tr>\n",
       "      <th>_Series_C</th>\n",
       "      <td>0.062500</td>\n",
       "      <td>0.000000</td>\n",
       "    </tr>\n",
       "    <tr>\n",
       "      <th>500friends</th>\n",
       "      <th>_Series_A</th>\n",
       "      <td>0.010309</td>\n",
       "      <td>0.175258</td>\n",
       "    </tr>\n",
       "    <tr>\n",
       "      <th>5MinMedia</th>\n",
       "      <th>_Series_B</th>\n",
       "      <td>0.000000</td>\n",
       "      <td>0.000000</td>\n",
       "    </tr>\n",
       "    <tr>\n",
       "      <th rowspan=\"2\" valign=\"top\">6fusion</th>\n",
       "      <th>_Series_A</th>\n",
       "      <td>0.010204</td>\n",
       "      <td>0.020408</td>\n",
       "    </tr>\n",
       "    <tr>\n",
       "      <th>_Series_B</th>\n",
       "      <td>0.011299</td>\n",
       "      <td>0.158192</td>\n",
       "    </tr>\n",
       "    <tr>\n",
       "      <th rowspan=\"2\" valign=\"top\">6sense</th>\n",
       "      <th>_Series_A</th>\n",
       "      <td>0.195349</td>\n",
       "      <td>0.241860</td>\n",
       "    </tr>\n",
       "    <tr>\n",
       "      <th>_Series_B</th>\n",
       "      <td>0.606742</td>\n",
       "      <td>0.561798</td>\n",
       "    </tr>\n",
       "    <tr>\n",
       "      <th>8DWorld</th>\n",
       "      <th>_Series_B</th>\n",
       "      <td>0.000000</td>\n",
       "      <td>0.000000</td>\n",
       "    </tr>\n",
       "    <tr>\n",
       "      <th rowspan=\"2\" valign=\"top\">8Securities</th>\n",
       "      <th>_Series_A</th>\n",
       "      <td>0.139785</td>\n",
       "      <td>0.629032</td>\n",
       "    </tr>\n",
       "    <tr>\n",
       "      <th>_Series_B</th>\n",
       "      <td>0.446043</td>\n",
       "      <td>1.079137</td>\n",
       "    </tr>\n",
       "    <tr>\n",
       "      <th rowspan=\"2\" valign=\"top\">8thBridge</th>\n",
       "      <th>_Series_A</th>\n",
       "      <td>0.500000</td>\n",
       "      <td>2.500000</td>\n",
       "    </tr>\n",
       "    <tr>\n",
       "      <th>_Series_B</th>\n",
       "      <td>0.081081</td>\n",
       "      <td>0.432432</td>\n",
       "    </tr>\n",
       "    <tr>\n",
       "      <th>908Devices</th>\n",
       "      <th>_Series_B</th>\n",
       "      <td>0.000000</td>\n",
       "      <td>1.666667</td>\n",
       "    </tr>\n",
       "    <tr>\n",
       "      <th>...</th>\n",
       "      <th>...</th>\n",
       "      <td>...</td>\n",
       "      <td>...</td>\n",
       "    </tr>\n",
       "    <tr>\n",
       "      <th rowspan=\"2\" valign=\"top\">myDocket</th>\n",
       "      <th>_Series_A</th>\n",
       "      <td>0.000000</td>\n",
       "      <td>0.000000</td>\n",
       "    </tr>\n",
       "    <tr>\n",
       "      <th>_Series_B</th>\n",
       "      <td>1.347826</td>\n",
       "      <td>1.000000</td>\n",
       "    </tr>\n",
       "    <tr>\n",
       "      <th>myhomemove</th>\n",
       "      <th>_Series_C</th>\n",
       "      <td>0.000000</td>\n",
       "      <td>0.076923</td>\n",
       "    </tr>\n",
       "    <tr>\n",
       "      <th>nanoMR</th>\n",
       "      <th>_Series_B</th>\n",
       "      <td>0.000000</td>\n",
       "      <td>0.000000</td>\n",
       "    </tr>\n",
       "    <tr>\n",
       "      <th rowspan=\"3\" valign=\"top\">natera</th>\n",
       "      <th>_Series_A</th>\n",
       "      <td>0.000000</td>\n",
       "      <td>0.000000</td>\n",
       "    </tr>\n",
       "    <tr>\n",
       "      <th>_Series_B</th>\n",
       "      <td>0.020305</td>\n",
       "      <td>0.025381</td>\n",
       "    </tr>\n",
       "    <tr>\n",
       "      <th>_Series_C</th>\n",
       "      <td>0.004695</td>\n",
       "      <td>0.061033</td>\n",
       "    </tr>\n",
       "    <tr>\n",
       "      <th rowspan=\"3\" valign=\"top\">neohapsis</th>\n",
       "      <th>_Series_A</th>\n",
       "      <td>0.075758</td>\n",
       "      <td>0.030303</td>\n",
       "    </tr>\n",
       "    <tr>\n",
       "      <th>_Series_B</th>\n",
       "      <td>0.075758</td>\n",
       "      <td>0.030303</td>\n",
       "    </tr>\n",
       "    <tr>\n",
       "      <th>_Series_C</th>\n",
       "      <td>0.135484</td>\n",
       "      <td>0.341935</td>\n",
       "    </tr>\n",
       "    <tr>\n",
       "      <th rowspan=\"2\" valign=\"top\">oDesk</th>\n",
       "      <th>_Series_C</th>\n",
       "      <td>0.000000</td>\n",
       "      <td>0.000000</td>\n",
       "    </tr>\n",
       "    <tr>\n",
       "      <th>_Series_D</th>\n",
       "      <td>0.009615</td>\n",
       "      <td>0.038462</td>\n",
       "    </tr>\n",
       "    <tr>\n",
       "      <th rowspan=\"2\" valign=\"top\">onefinestay</th>\n",
       "      <th>_Series_A</th>\n",
       "      <td>0.069307</td>\n",
       "      <td>0.207921</td>\n",
       "    </tr>\n",
       "    <tr>\n",
       "      <th>_Series_B</th>\n",
       "      <td>0.123711</td>\n",
       "      <td>0.541237</td>\n",
       "    </tr>\n",
       "    <tr>\n",
       "      <th>qinec</th>\n",
       "      <th>_Series_B</th>\n",
       "      <td>0.000000</td>\n",
       "      <td>0.000000</td>\n",
       "    </tr>\n",
       "    <tr>\n",
       "      <th>scanR</th>\n",
       "      <th>_Series_B</th>\n",
       "      <td>0.000000</td>\n",
       "      <td>0.000000</td>\n",
       "    </tr>\n",
       "    <tr>\n",
       "      <th>sliceX</th>\n",
       "      <th>_Series_B</th>\n",
       "      <td>0.000000</td>\n",
       "      <td>0.000000</td>\n",
       "    </tr>\n",
       "    <tr>\n",
       "      <th rowspan=\"3\" valign=\"top\">thredUP</th>\n",
       "      <th>_Series_B</th>\n",
       "      <td>0.165714</td>\n",
       "      <td>0.308571</td>\n",
       "    </tr>\n",
       "    <tr>\n",
       "      <th>_Series_C</th>\n",
       "      <td>0.062147</td>\n",
       "      <td>0.141243</td>\n",
       "    </tr>\n",
       "    <tr>\n",
       "      <th>_Series_D</th>\n",
       "      <td>0.270408</td>\n",
       "      <td>0.163265</td>\n",
       "    </tr>\n",
       "    <tr>\n",
       "      <th rowspan=\"3\" valign=\"top\">uCirrus</th>\n",
       "      <th>_Series_A</th>\n",
       "      <td>0.000000</td>\n",
       "      <td>0.000000</td>\n",
       "    </tr>\n",
       "    <tr>\n",
       "      <th>_Series_B</th>\n",
       "      <td>0.307692</td>\n",
       "      <td>0.000000</td>\n",
       "    </tr>\n",
       "    <tr>\n",
       "      <th>_Series_C</th>\n",
       "      <td>0.102564</td>\n",
       "      <td>0.192308</td>\n",
       "    </tr>\n",
       "    <tr>\n",
       "      <th>uzabase</th>\n",
       "      <th>_Series_C</th>\n",
       "      <td>0.715517</td>\n",
       "      <td>0.568966</td>\n",
       "    </tr>\n",
       "    <tr>\n",
       "      <th rowspan=\"3\" valign=\"top\">vArmourNetworks</th>\n",
       "      <th>_Series_A</th>\n",
       "      <td>0.000000</td>\n",
       "      <td>0.333333</td>\n",
       "    </tr>\n",
       "    <tr>\n",
       "      <th>_Series_B</th>\n",
       "      <td>0.000000</td>\n",
       "      <td>0.333333</td>\n",
       "    </tr>\n",
       "    <tr>\n",
       "      <th>_Series_C</th>\n",
       "      <td>0.529412</td>\n",
       "      <td>0.705882</td>\n",
       "    </tr>\n",
       "    <tr>\n",
       "      <th rowspan=\"2\" valign=\"top\">vWise</th>\n",
       "      <th>_Series_C</th>\n",
       "      <td>0.065574</td>\n",
       "      <td>0.114754</td>\n",
       "    </tr>\n",
       "    <tr>\n",
       "      <th>_Series_D</th>\n",
       "      <td>0.385621</td>\n",
       "      <td>0.457516</td>\n",
       "    </tr>\n",
       "    <tr>\n",
       "      <th>viagogo</th>\n",
       "      <th>_Series_D</th>\n",
       "      <td>0.000000</td>\n",
       "      <td>0.000000</td>\n",
       "    </tr>\n",
       "  </tbody>\n",
       "</table>\n",
       "<p>3631 rows × 2 columns</p>\n",
       "</div>"
      ],
      "text/plain": [
       "                              likes  retweets\n",
       "company_name    Series                       \n",
       "140Proof        _Series_B  0.086420  0.055556\n",
       "1stdibs         _Series_C  1.863850  1.521127\n",
       "2C2P            _Series_A  0.035088  0.070175\n",
       "                _Series_B  0.274336  0.292035\n",
       "                _Series_C  0.513043  0.286957\n",
       "2tor            _Series_A  0.000000  0.000000\n",
       "                _Series_B  0.124088  0.000000\n",
       "                _Series_C  0.061728  0.197531\n",
       "365DataCenters  _Series_B  0.663158  0.642105\n",
       "365Scores       _Series_B  0.092025  0.141104\n",
       "36Kr            _Series_C  1.171717  0.343434\n",
       "3Drobotics      _Series_A  0.223958  0.406250\n",
       "                _Series_B  1.500000  2.000000\n",
       "41stParameter   _Series_D  0.000000  0.195122\n",
       "42Floors        _Series_A  0.850467  1.514019\n",
       "                _Series_B  1.470588  0.926471\n",
       "4Home           _Series_B  0.000000  0.000000\n",
       "                _Series_C  0.062500  0.000000\n",
       "500friends      _Series_A  0.010309  0.175258\n",
       "5MinMedia       _Series_B  0.000000  0.000000\n",
       "6fusion         _Series_A  0.010204  0.020408\n",
       "                _Series_B  0.011299  0.158192\n",
       "6sense          _Series_A  0.195349  0.241860\n",
       "                _Series_B  0.606742  0.561798\n",
       "8DWorld         _Series_B  0.000000  0.000000\n",
       "8Securities     _Series_A  0.139785  0.629032\n",
       "                _Series_B  0.446043  1.079137\n",
       "8thBridge       _Series_A  0.500000  2.500000\n",
       "                _Series_B  0.081081  0.432432\n",
       "908Devices      _Series_B  0.000000  1.666667\n",
       "...                             ...       ...\n",
       "myDocket        _Series_A  0.000000  0.000000\n",
       "                _Series_B  1.347826  1.000000\n",
       "myhomemove      _Series_C  0.000000  0.076923\n",
       "nanoMR          _Series_B  0.000000  0.000000\n",
       "natera          _Series_A  0.000000  0.000000\n",
       "                _Series_B  0.020305  0.025381\n",
       "                _Series_C  0.004695  0.061033\n",
       "neohapsis       _Series_A  0.075758  0.030303\n",
       "                _Series_B  0.075758  0.030303\n",
       "                _Series_C  0.135484  0.341935\n",
       "oDesk           _Series_C  0.000000  0.000000\n",
       "                _Series_D  0.009615  0.038462\n",
       "onefinestay     _Series_A  0.069307  0.207921\n",
       "                _Series_B  0.123711  0.541237\n",
       "qinec           _Series_B  0.000000  0.000000\n",
       "scanR           _Series_B  0.000000  0.000000\n",
       "sliceX          _Series_B  0.000000  0.000000\n",
       "thredUP         _Series_B  0.165714  0.308571\n",
       "                _Series_C  0.062147  0.141243\n",
       "                _Series_D  0.270408  0.163265\n",
       "uCirrus         _Series_A  0.000000  0.000000\n",
       "                _Series_B  0.307692  0.000000\n",
       "                _Series_C  0.102564  0.192308\n",
       "uzabase         _Series_C  0.715517  0.568966\n",
       "vArmourNetworks _Series_A  0.000000  0.333333\n",
       "                _Series_B  0.000000  0.333333\n",
       "                _Series_C  0.529412  0.705882\n",
       "vWise           _Series_C  0.065574  0.114754\n",
       "                _Series_D  0.385621  0.457516\n",
       "viagogo         _Series_D  0.000000  0.000000\n",
       "\n",
       "[3631 rows x 2 columns]"
      ]
     },
     "execution_count": 195,
     "metadata": {},
     "output_type": "execute_result"
    }
   ],
   "source": [
    "mean_groupby"
   ]
  },
  {
   "cell_type": "code",
   "execution_count": 202,
   "metadata": {
    "collapsed": false
   },
   "outputs": [
    {
     "data": {
      "text/plain": [
       "7262"
      ]
     },
     "execution_count": 202,
     "metadata": {},
     "output_type": "execute_result"
    }
   ],
   "source": [
    "len(pd.concat([mean_groupby, count_groupby])[0])"
   ]
  },
  {
   "cell_type": "code",
   "execution_count": 200,
   "metadata": {
    "collapsed": false
   },
   "outputs": [
    {
     "data": {
      "text/plain": [
       "company_name     Series   \n",
       "140Proof         _Series_B     True\n",
       "1stdibs          _Series_C     True\n",
       "2C2P             _Series_A     True\n",
       "                 _Series_B     True\n",
       "                 _Series_C     True\n",
       "2tor             _Series_A     True\n",
       "                 _Series_B     True\n",
       "                 _Series_C     True\n",
       "365DataCenters   _Series_B     True\n",
       "365Scores        _Series_B     True\n",
       "36Kr             _Series_C     True\n",
       "3Drobotics       _Series_A     True\n",
       "                 _Series_B     True\n",
       "41stParameter    _Series_D     True\n",
       "42Floors         _Series_A     True\n",
       "                 _Series_B     True\n",
       "4Home            _Series_B     True\n",
       "                 _Series_C     True\n",
       "500friends       _Series_A     True\n",
       "5MinMedia        _Series_B     True\n",
       "6fusion          _Series_A     True\n",
       "                 _Series_B     True\n",
       "6sense           _Series_A     True\n",
       "                 _Series_B     True\n",
       "8DWorld          _Series_B     True\n",
       "8Securities      _Series_A     True\n",
       "                 _Series_B     True\n",
       "8thBridge        _Series_A     True\n",
       "                 _Series_B     True\n",
       "908Devices       _Series_B     True\n",
       "                              ...  \n",
       "myDocket         _Series_A    False\n",
       "                 _Series_B    False\n",
       "myhomemove       _Series_C    False\n",
       "nanoMR           _Series_B    False\n",
       "natera           _Series_A    False\n",
       "                 _Series_B    False\n",
       "                 _Series_C    False\n",
       "neohapsis        _Series_A    False\n",
       "                 _Series_B    False\n",
       "                 _Series_C    False\n",
       "oDesk            _Series_C    False\n",
       "                 _Series_D    False\n",
       "onefinestay      _Series_A    False\n",
       "                 _Series_B    False\n",
       "qinec            _Series_B    False\n",
       "scanR            _Series_B    False\n",
       "sliceX           _Series_B    False\n",
       "thredUP          _Series_B    False\n",
       "                 _Series_C    False\n",
       "                 _Series_D    False\n",
       "uCirrus          _Series_A    False\n",
       "                 _Series_B    False\n",
       "                 _Series_C    False\n",
       "uzabase          _Series_C    False\n",
       "vArmourNetworks  _Series_A    False\n",
       "                 _Series_B    False\n",
       "                 _Series_C    False\n",
       "vWise            _Series_C    False\n",
       "                 _Series_D    False\n",
       "viagogo          _Series_D    False\n",
       "Name: 0, dtype: bool"
      ]
     },
     "execution_count": 200,
     "metadata": {},
     "output_type": "execute_result"
    }
   ],
   "source": [
    "pd.concat([mean_groupby, count_groupby])[0].isnull()"
   ]
  },
  {
   "cell_type": "code",
   "execution_count": 179,
   "metadata": {
    "collapsed": false
   },
   "outputs": [
    {
     "data": {
      "text/html": [
       "<div>\n",
       "<table border=\"1\" class=\"dataframe\">\n",
       "  <thead>\n",
       "    <tr style=\"text-align: right;\">\n",
       "      <th></th>\n",
       "      <th></th>\n",
       "      <th>likes</th>\n",
       "      <th>retweets</th>\n",
       "    </tr>\n",
       "    <tr>\n",
       "      <th>company_name</th>\n",
       "      <th>Series</th>\n",
       "      <th></th>\n",
       "      <th></th>\n",
       "    </tr>\n",
       "  </thead>\n",
       "  <tbody>\n",
       "    <tr>\n",
       "      <th>140Proof</th>\n",
       "      <th>_Series_B</th>\n",
       "      <td>0.086420</td>\n",
       "      <td>0.055556</td>\n",
       "    </tr>\n",
       "    <tr>\n",
       "      <th>1stdibs</th>\n",
       "      <th>_Series_C</th>\n",
       "      <td>1.863850</td>\n",
       "      <td>1.521127</td>\n",
       "    </tr>\n",
       "    <tr>\n",
       "      <th rowspan=\"3\" valign=\"top\">2C2P</th>\n",
       "      <th>_Series_A</th>\n",
       "      <td>0.035088</td>\n",
       "      <td>0.070175</td>\n",
       "    </tr>\n",
       "    <tr>\n",
       "      <th>_Series_B</th>\n",
       "      <td>0.274336</td>\n",
       "      <td>0.292035</td>\n",
       "    </tr>\n",
       "    <tr>\n",
       "      <th>_Series_C</th>\n",
       "      <td>0.513043</td>\n",
       "      <td>0.286957</td>\n",
       "    </tr>\n",
       "    <tr>\n",
       "      <th rowspan=\"3\" valign=\"top\">2tor</th>\n",
       "      <th>_Series_A</th>\n",
       "      <td>0.000000</td>\n",
       "      <td>0.000000</td>\n",
       "    </tr>\n",
       "    <tr>\n",
       "      <th>_Series_B</th>\n",
       "      <td>0.124088</td>\n",
       "      <td>0.000000</td>\n",
       "    </tr>\n",
       "    <tr>\n",
       "      <th>_Series_C</th>\n",
       "      <td>0.061728</td>\n",
       "      <td>0.197531</td>\n",
       "    </tr>\n",
       "    <tr>\n",
       "      <th>365DataCenters</th>\n",
       "      <th>_Series_B</th>\n",
       "      <td>0.663158</td>\n",
       "      <td>0.642105</td>\n",
       "    </tr>\n",
       "    <tr>\n",
       "      <th>365Scores</th>\n",
       "      <th>_Series_B</th>\n",
       "      <td>0.092025</td>\n",
       "      <td>0.141104</td>\n",
       "    </tr>\n",
       "    <tr>\n",
       "      <th>36Kr</th>\n",
       "      <th>_Series_C</th>\n",
       "      <td>1.171717</td>\n",
       "      <td>0.343434</td>\n",
       "    </tr>\n",
       "    <tr>\n",
       "      <th rowspan=\"2\" valign=\"top\">3Drobotics</th>\n",
       "      <th>_Series_A</th>\n",
       "      <td>0.223958</td>\n",
       "      <td>0.406250</td>\n",
       "    </tr>\n",
       "    <tr>\n",
       "      <th>_Series_B</th>\n",
       "      <td>1.500000</td>\n",
       "      <td>2.000000</td>\n",
       "    </tr>\n",
       "    <tr>\n",
       "      <th>41stParameter</th>\n",
       "      <th>_Series_D</th>\n",
       "      <td>0.000000</td>\n",
       "      <td>0.195122</td>\n",
       "    </tr>\n",
       "    <tr>\n",
       "      <th rowspan=\"2\" valign=\"top\">42Floors</th>\n",
       "      <th>_Series_A</th>\n",
       "      <td>0.850467</td>\n",
       "      <td>1.514019</td>\n",
       "    </tr>\n",
       "    <tr>\n",
       "      <th>_Series_B</th>\n",
       "      <td>1.470588</td>\n",
       "      <td>0.926471</td>\n",
       "    </tr>\n",
       "    <tr>\n",
       "      <th rowspan=\"2\" valign=\"top\">4Home</th>\n",
       "      <th>_Series_B</th>\n",
       "      <td>0.000000</td>\n",
       "      <td>0.000000</td>\n",
       "    </tr>\n",
       "    <tr>\n",
       "      <th>_Series_C</th>\n",
       "      <td>0.062500</td>\n",
       "      <td>0.000000</td>\n",
       "    </tr>\n",
       "    <tr>\n",
       "      <th>500friends</th>\n",
       "      <th>_Series_A</th>\n",
       "      <td>0.010309</td>\n",
       "      <td>0.175258</td>\n",
       "    </tr>\n",
       "    <tr>\n",
       "      <th>5MinMedia</th>\n",
       "      <th>_Series_B</th>\n",
       "      <td>0.000000</td>\n",
       "      <td>0.000000</td>\n",
       "    </tr>\n",
       "    <tr>\n",
       "      <th rowspan=\"2\" valign=\"top\">6fusion</th>\n",
       "      <th>_Series_A</th>\n",
       "      <td>0.010204</td>\n",
       "      <td>0.020408</td>\n",
       "    </tr>\n",
       "    <tr>\n",
       "      <th>_Series_B</th>\n",
       "      <td>0.011299</td>\n",
       "      <td>0.158192</td>\n",
       "    </tr>\n",
       "    <tr>\n",
       "      <th rowspan=\"2\" valign=\"top\">6sense</th>\n",
       "      <th>_Series_A</th>\n",
       "      <td>0.195349</td>\n",
       "      <td>0.241860</td>\n",
       "    </tr>\n",
       "    <tr>\n",
       "      <th>_Series_B</th>\n",
       "      <td>0.606742</td>\n",
       "      <td>0.561798</td>\n",
       "    </tr>\n",
       "    <tr>\n",
       "      <th>8DWorld</th>\n",
       "      <th>_Series_B</th>\n",
       "      <td>0.000000</td>\n",
       "      <td>0.000000</td>\n",
       "    </tr>\n",
       "    <tr>\n",
       "      <th rowspan=\"2\" valign=\"top\">8Securities</th>\n",
       "      <th>_Series_A</th>\n",
       "      <td>0.139785</td>\n",
       "      <td>0.629032</td>\n",
       "    </tr>\n",
       "    <tr>\n",
       "      <th>_Series_B</th>\n",
       "      <td>0.446043</td>\n",
       "      <td>1.079137</td>\n",
       "    </tr>\n",
       "    <tr>\n",
       "      <th rowspan=\"2\" valign=\"top\">8thBridge</th>\n",
       "      <th>_Series_A</th>\n",
       "      <td>0.500000</td>\n",
       "      <td>2.500000</td>\n",
       "    </tr>\n",
       "    <tr>\n",
       "      <th>_Series_B</th>\n",
       "      <td>0.081081</td>\n",
       "      <td>0.432432</td>\n",
       "    </tr>\n",
       "    <tr>\n",
       "      <th>908Devices</th>\n",
       "      <th>_Series_B</th>\n",
       "      <td>0.000000</td>\n",
       "      <td>1.666667</td>\n",
       "    </tr>\n",
       "    <tr>\n",
       "      <th>...</th>\n",
       "      <th>...</th>\n",
       "      <td>...</td>\n",
       "      <td>...</td>\n",
       "    </tr>\n",
       "    <tr>\n",
       "      <th rowspan=\"2\" valign=\"top\">myDocket</th>\n",
       "      <th>_Series_A</th>\n",
       "      <td>0.000000</td>\n",
       "      <td>0.000000</td>\n",
       "    </tr>\n",
       "    <tr>\n",
       "      <th>_Series_B</th>\n",
       "      <td>1.347826</td>\n",
       "      <td>1.000000</td>\n",
       "    </tr>\n",
       "    <tr>\n",
       "      <th>myhomemove</th>\n",
       "      <th>_Series_C</th>\n",
       "      <td>0.000000</td>\n",
       "      <td>0.076923</td>\n",
       "    </tr>\n",
       "    <tr>\n",
       "      <th>nanoMR</th>\n",
       "      <th>_Series_B</th>\n",
       "      <td>0.000000</td>\n",
       "      <td>0.000000</td>\n",
       "    </tr>\n",
       "    <tr>\n",
       "      <th rowspan=\"3\" valign=\"top\">natera</th>\n",
       "      <th>_Series_A</th>\n",
       "      <td>0.000000</td>\n",
       "      <td>0.000000</td>\n",
       "    </tr>\n",
       "    <tr>\n",
       "      <th>_Series_B</th>\n",
       "      <td>0.020305</td>\n",
       "      <td>0.025381</td>\n",
       "    </tr>\n",
       "    <tr>\n",
       "      <th>_Series_C</th>\n",
       "      <td>0.004695</td>\n",
       "      <td>0.061033</td>\n",
       "    </tr>\n",
       "    <tr>\n",
       "      <th rowspan=\"3\" valign=\"top\">neohapsis</th>\n",
       "      <th>_Series_A</th>\n",
       "      <td>0.075758</td>\n",
       "      <td>0.030303</td>\n",
       "    </tr>\n",
       "    <tr>\n",
       "      <th>_Series_B</th>\n",
       "      <td>0.075758</td>\n",
       "      <td>0.030303</td>\n",
       "    </tr>\n",
       "    <tr>\n",
       "      <th>_Series_C</th>\n",
       "      <td>0.135484</td>\n",
       "      <td>0.341935</td>\n",
       "    </tr>\n",
       "    <tr>\n",
       "      <th rowspan=\"2\" valign=\"top\">oDesk</th>\n",
       "      <th>_Series_C</th>\n",
       "      <td>0.000000</td>\n",
       "      <td>0.000000</td>\n",
       "    </tr>\n",
       "    <tr>\n",
       "      <th>_Series_D</th>\n",
       "      <td>0.009615</td>\n",
       "      <td>0.038462</td>\n",
       "    </tr>\n",
       "    <tr>\n",
       "      <th rowspan=\"2\" valign=\"top\">onefinestay</th>\n",
       "      <th>_Series_A</th>\n",
       "      <td>0.069307</td>\n",
       "      <td>0.207921</td>\n",
       "    </tr>\n",
       "    <tr>\n",
       "      <th>_Series_B</th>\n",
       "      <td>0.123711</td>\n",
       "      <td>0.541237</td>\n",
       "    </tr>\n",
       "    <tr>\n",
       "      <th>qinec</th>\n",
       "      <th>_Series_B</th>\n",
       "      <td>0.000000</td>\n",
       "      <td>0.000000</td>\n",
       "    </tr>\n",
       "    <tr>\n",
       "      <th>scanR</th>\n",
       "      <th>_Series_B</th>\n",
       "      <td>0.000000</td>\n",
       "      <td>0.000000</td>\n",
       "    </tr>\n",
       "    <tr>\n",
       "      <th>sliceX</th>\n",
       "      <th>_Series_B</th>\n",
       "      <td>0.000000</td>\n",
       "      <td>0.000000</td>\n",
       "    </tr>\n",
       "    <tr>\n",
       "      <th rowspan=\"3\" valign=\"top\">thredUP</th>\n",
       "      <th>_Series_B</th>\n",
       "      <td>0.165714</td>\n",
       "      <td>0.308571</td>\n",
       "    </tr>\n",
       "    <tr>\n",
       "      <th>_Series_C</th>\n",
       "      <td>0.062147</td>\n",
       "      <td>0.141243</td>\n",
       "    </tr>\n",
       "    <tr>\n",
       "      <th>_Series_D</th>\n",
       "      <td>0.270408</td>\n",
       "      <td>0.163265</td>\n",
       "    </tr>\n",
       "    <tr>\n",
       "      <th rowspan=\"3\" valign=\"top\">uCirrus</th>\n",
       "      <th>_Series_A</th>\n",
       "      <td>0.000000</td>\n",
       "      <td>0.000000</td>\n",
       "    </tr>\n",
       "    <tr>\n",
       "      <th>_Series_B</th>\n",
       "      <td>0.307692</td>\n",
       "      <td>0.000000</td>\n",
       "    </tr>\n",
       "    <tr>\n",
       "      <th>_Series_C</th>\n",
       "      <td>0.102564</td>\n",
       "      <td>0.192308</td>\n",
       "    </tr>\n",
       "    <tr>\n",
       "      <th>uzabase</th>\n",
       "      <th>_Series_C</th>\n",
       "      <td>0.715517</td>\n",
       "      <td>0.568966</td>\n",
       "    </tr>\n",
       "    <tr>\n",
       "      <th rowspan=\"3\" valign=\"top\">vArmourNetworks</th>\n",
       "      <th>_Series_A</th>\n",
       "      <td>0.000000</td>\n",
       "      <td>0.333333</td>\n",
       "    </tr>\n",
       "    <tr>\n",
       "      <th>_Series_B</th>\n",
       "      <td>0.000000</td>\n",
       "      <td>0.333333</td>\n",
       "    </tr>\n",
       "    <tr>\n",
       "      <th>_Series_C</th>\n",
       "      <td>0.529412</td>\n",
       "      <td>0.705882</td>\n",
       "    </tr>\n",
       "    <tr>\n",
       "      <th rowspan=\"2\" valign=\"top\">vWise</th>\n",
       "      <th>_Series_C</th>\n",
       "      <td>0.065574</td>\n",
       "      <td>0.114754</td>\n",
       "    </tr>\n",
       "    <tr>\n",
       "      <th>_Series_D</th>\n",
       "      <td>0.385621</td>\n",
       "      <td>0.457516</td>\n",
       "    </tr>\n",
       "    <tr>\n",
       "      <th>viagogo</th>\n",
       "      <th>_Series_D</th>\n",
       "      <td>0.000000</td>\n",
       "      <td>0.000000</td>\n",
       "    </tr>\n",
       "  </tbody>\n",
       "</table>\n",
       "<p>3631 rows × 2 columns</p>\n",
       "</div>"
      ],
      "text/plain": [
       "                              likes  retweets\n",
       "company_name    Series                       \n",
       "140Proof        _Series_B  0.086420  0.055556\n",
       "1stdibs         _Series_C  1.863850  1.521127\n",
       "2C2P            _Series_A  0.035088  0.070175\n",
       "                _Series_B  0.274336  0.292035\n",
       "                _Series_C  0.513043  0.286957\n",
       "2tor            _Series_A  0.000000  0.000000\n",
       "                _Series_B  0.124088  0.000000\n",
       "                _Series_C  0.061728  0.197531\n",
       "365DataCenters  _Series_B  0.663158  0.642105\n",
       "365Scores       _Series_B  0.092025  0.141104\n",
       "36Kr            _Series_C  1.171717  0.343434\n",
       "3Drobotics      _Series_A  0.223958  0.406250\n",
       "                _Series_B  1.500000  2.000000\n",
       "41stParameter   _Series_D  0.000000  0.195122\n",
       "42Floors        _Series_A  0.850467  1.514019\n",
       "                _Series_B  1.470588  0.926471\n",
       "4Home           _Series_B  0.000000  0.000000\n",
       "                _Series_C  0.062500  0.000000\n",
       "500friends      _Series_A  0.010309  0.175258\n",
       "5MinMedia       _Series_B  0.000000  0.000000\n",
       "6fusion         _Series_A  0.010204  0.020408\n",
       "                _Series_B  0.011299  0.158192\n",
       "6sense          _Series_A  0.195349  0.241860\n",
       "                _Series_B  0.606742  0.561798\n",
       "8DWorld         _Series_B  0.000000  0.000000\n",
       "8Securities     _Series_A  0.139785  0.629032\n",
       "                _Series_B  0.446043  1.079137\n",
       "8thBridge       _Series_A  0.500000  2.500000\n",
       "                _Series_B  0.081081  0.432432\n",
       "908Devices      _Series_B  0.000000  1.666667\n",
       "...                             ...       ...\n",
       "myDocket        _Series_A  0.000000  0.000000\n",
       "                _Series_B  1.347826  1.000000\n",
       "myhomemove      _Series_C  0.000000  0.076923\n",
       "nanoMR          _Series_B  0.000000  0.000000\n",
       "natera          _Series_A  0.000000  0.000000\n",
       "                _Series_B  0.020305  0.025381\n",
       "                _Series_C  0.004695  0.061033\n",
       "neohapsis       _Series_A  0.075758  0.030303\n",
       "                _Series_B  0.075758  0.030303\n",
       "                _Series_C  0.135484  0.341935\n",
       "oDesk           _Series_C  0.000000  0.000000\n",
       "                _Series_D  0.009615  0.038462\n",
       "onefinestay     _Series_A  0.069307  0.207921\n",
       "                _Series_B  0.123711  0.541237\n",
       "qinec           _Series_B  0.000000  0.000000\n",
       "scanR           _Series_B  0.000000  0.000000\n",
       "sliceX          _Series_B  0.000000  0.000000\n",
       "thredUP         _Series_B  0.165714  0.308571\n",
       "                _Series_C  0.062147  0.141243\n",
       "                _Series_D  0.270408  0.163265\n",
       "uCirrus         _Series_A  0.000000  0.000000\n",
       "                _Series_B  0.307692  0.000000\n",
       "                _Series_C  0.102564  0.192308\n",
       "uzabase         _Series_C  0.715517  0.568966\n",
       "vArmourNetworks _Series_A  0.000000  0.333333\n",
       "                _Series_B  0.000000  0.333333\n",
       "                _Series_C  0.529412  0.705882\n",
       "vWise           _Series_C  0.065574  0.114754\n",
       "                _Series_D  0.385621  0.457516\n",
       "viagogo         _Series_D  0.000000  0.000000\n",
       "\n",
       "[3631 rows x 2 columns]"
      ]
     },
     "execution_count": 179,
     "metadata": {},
     "output_type": "execute_result"
    }
   ],
   "source": [
    "mean_groupby"
   ]
  },
  {
   "cell_type": "code",
   "execution_count": 172,
   "metadata": {
    "collapsed": false
   },
   "outputs": [
    {
     "data": {
      "text/plain": [
       "0.086419753086419748"
      ]
     },
     "execution_count": 172,
     "metadata": {},
     "output_type": "execute_result"
    }
   ],
   "source": [
    "temp['likes']['140Proof']['_Series_B']"
   ]
  },
  {
   "cell_type": "code",
   "execution_count": 181,
   "metadata": {
    "collapsed": false
   },
   "outputs": [
    {
     "data": {
      "text/plain": [
       "company_name     Series   \n",
       "140Proof         _Series_B    162\n",
       "1stdibs          _Series_C    213\n",
       "2C2P             _Series_A     57\n",
       "                 _Series_B    113\n",
       "                 _Series_C    115\n",
       "2tor             _Series_A     17\n",
       "                 _Series_B    137\n",
       "                 _Series_C    162\n",
       "365DataCenters   _Series_B     95\n",
       "365Scores        _Series_B    163\n",
       "36Kr             _Series_C    198\n",
       "3Drobotics       _Series_A    192\n",
       "                 _Series_B     56\n",
       "41stParameter    _Series_D     41\n",
       "42Floors         _Series_A    107\n",
       "                 _Series_B    136\n",
       "4Home            _Series_B      2\n",
       "                 _Series_C     32\n",
       "500friends       _Series_A     97\n",
       "5MinMedia        _Series_B      2\n",
       "6fusion          _Series_A     98\n",
       "                 _Series_B    177\n",
       "6sense           _Series_A    215\n",
       "                 _Series_B    178\n",
       "8DWorld          _Series_B      5\n",
       "8Securities      _Series_A    186\n",
       "                 _Series_B    139\n",
       "8thBridge        _Series_A      2\n",
       "                 _Series_B     37\n",
       "908Devices       _Series_B      6\n",
       "                             ... \n",
       "myDocket         _Series_A      2\n",
       "                 _Series_B     23\n",
       "myhomemove       _Series_C     13\n",
       "nanoMR           _Series_B      8\n",
       "natera           _Series_A     16\n",
       "                 _Series_B    197\n",
       "                 _Series_C    213\n",
       "neohapsis        _Series_A     66\n",
       "                 _Series_B     66\n",
       "                 _Series_C    155\n",
       "oDesk            _Series_C    122\n",
       "                 _Series_D    208\n",
       "onefinestay      _Series_A    202\n",
       "                 _Series_B    194\n",
       "qinec            _Series_B      4\n",
       "scanR            _Series_B      2\n",
       "sliceX           _Series_B      1\n",
       "thredUP          _Series_B    175\n",
       "                 _Series_C    177\n",
       "                 _Series_D    196\n",
       "uCirrus          _Series_A      1\n",
       "                 _Series_B     13\n",
       "                 _Series_C     78\n",
       "uzabase          _Series_C    116\n",
       "vArmourNetworks  _Series_A      3\n",
       "                 _Series_B      3\n",
       "                 _Series_C     17\n",
       "vWise            _Series_C     61\n",
       "                 _Series_D    153\n",
       "viagogo          _Series_D     33\n",
       "Name: date, dtype: int64"
      ]
     },
     "execution_count": 181,
     "metadata": {},
     "output_type": "execute_result"
    }
   ],
   "source": []
  },
  {
   "cell_type": "code",
   "execution_count": 180,
   "metadata": {
    "collapsed": false
   },
   "outputs": [],
   "source": [
    "count = tweets_df.groupby(['company_name','Series']).count()['date']"
   ]
  },
  {
   "cell_type": "code",
   "execution_count": 154,
   "metadata": {
    "collapsed": true
   },
   "outputs": [],
   "source": [
    "funding_csv = pd.read_csv('startups/funding.csv')"
   ]
  },
  {
   "cell_type": "code",
   "execution_count": 155,
   "metadata": {
    "collapsed": false
   },
   "outputs": [
    {
     "data": {
      "text/html": [
       "<div>\n",
       "<table border=\"1\" class=\"dataframe\">\n",
       "  <thead>\n",
       "    <tr style=\"text-align: right;\">\n",
       "      <th></th>\n",
       "      <th>Description</th>\n",
       "      <th>Market</th>\n",
       "      <th>Names</th>\n",
       "      <th>No_Stage_Amount</th>\n",
       "      <th>No_Stage_Date</th>\n",
       "      <th>Pitch</th>\n",
       "      <th>Seed_Amount</th>\n",
       "      <th>Seed_Date</th>\n",
       "      <th>Series_A_Amount</th>\n",
       "      <th>Series_A_Date</th>\n",
       "      <th>Series_B_Amount</th>\n",
       "      <th>Series_B_Date</th>\n",
       "      <th>Series_C_Amount</th>\n",
       "      <th>Series_C_Date</th>\n",
       "      <th>Series_D_Amount</th>\n",
       "      <th>Series_D_Date</th>\n",
       "      <th>Stage</th>\n",
       "    </tr>\n",
       "  </thead>\n",
       "  <tbody>\n",
       "    <tr>\n",
       "      <th>0</th>\n",
       "      <td>NaN</td>\n",
       "      <td>Cable</td>\n",
       "      <td>Epic-Sciences</td>\n",
       "      <td>NaN</td>\n",
       "      <td>NaN</td>\n",
       "      <td>NaN</td>\n",
       "      <td>NaN</td>\n",
       "      <td>NaN</td>\n",
       "      <td>NaN</td>\n",
       "      <td>NaN</td>\n",
       "      <td>$13,000,000</td>\n",
       "      <td>Nov 13, 2012</td>\n",
       "      <td>$30,000,000</td>\n",
       "      <td>Jul 30, 2014</td>\n",
       "      <td>NaN</td>\n",
       "      <td>NaN</td>\n",
       "      <td>Series C</td>\n",
       "    </tr>\n",
       "    <tr>\n",
       "      <th>1</th>\n",
       "      <td>NaN</td>\n",
       "      <td>All Students</td>\n",
       "      <td>Apreso-Classroom</td>\n",
       "      <td>NaN</td>\n",
       "      <td>NaN</td>\n",
       "      <td>NaN</td>\n",
       "      <td>NaN</td>\n",
       "      <td>NaN</td>\n",
       "      <td>NaN</td>\n",
       "      <td>NaN</td>\n",
       "      <td>$15,000,000</td>\n",
       "      <td>Oct 14, 2008</td>\n",
       "      <td>NaN</td>\n",
       "      <td>NaN</td>\n",
       "      <td>NaN</td>\n",
       "      <td>NaN</td>\n",
       "      <td>Series B</td>\n",
       "    </tr>\n",
       "    <tr>\n",
       "      <th>2</th>\n",
       "      <td>Visualead (视觉码) creates better interactions be...</td>\n",
       "      <td>Bridging Online and Offline</td>\n",
       "      <td>Visualead</td>\n",
       "      <td>NaN</td>\n",
       "      <td>NaN</td>\n",
       "      <td>Effective and Secure Offline to Mobile experie...</td>\n",
       "      <td>$750,000</td>\n",
       "      <td>Mar 25, 2012</td>\n",
       "      <td>$1,600,000</td>\n",
       "      <td>Aug 15, 2013</td>\n",
       "      <td>Unknown</td>\n",
       "      <td>Jan 20, 2015</td>\n",
       "      <td>NaN</td>\n",
       "      <td>NaN</td>\n",
       "      <td>NaN</td>\n",
       "      <td>NaN</td>\n",
       "      <td>Series B</td>\n",
       "    </tr>\n",
       "    <tr>\n",
       "      <th>3</th>\n",
       "      <td>NaN</td>\n",
       "      <td>Food Processing</td>\n",
       "      <td>Onshift</td>\n",
       "      <td>$7,000,000</td>\n",
       "      <td>Feb  3, 2014</td>\n",
       "      <td>NaN</td>\n",
       "      <td>NaN</td>\n",
       "      <td>NaN</td>\n",
       "      <td>NaN</td>\n",
       "      <td>NaN</td>\n",
       "      <td>$3,000,000</td>\n",
       "      <td>Feb  2, 2012</td>\n",
       "      <td>NaN</td>\n",
       "      <td>NaN</td>\n",
       "      <td>NaN</td>\n",
       "      <td>NaN</td>\n",
       "      <td>Series C</td>\n",
       "    </tr>\n",
       "    <tr>\n",
       "      <th>4</th>\n",
       "      <td>NaN</td>\n",
       "      <td>-</td>\n",
       "      <td>Xendex-Holding</td>\n",
       "      <td>NaN</td>\n",
       "      <td>NaN</td>\n",
       "      <td>NaN</td>\n",
       "      <td>NaN</td>\n",
       "      <td>NaN</td>\n",
       "      <td>Unknown</td>\n",
       "      <td>Jun 25, 2008</td>\n",
       "      <td>$3,500,000</td>\n",
       "      <td>Nov 30, 2009</td>\n",
       "      <td>NaN</td>\n",
       "      <td>NaN</td>\n",
       "      <td>NaN</td>\n",
       "      <td>NaN</td>\n",
       "      <td>Series A</td>\n",
       "    </tr>\n",
       "  </tbody>\n",
       "</table>\n",
       "</div>"
      ],
      "text/plain": [
       "                                         Description                       Market             Names No_Stage_Amount No_Stage_Date                                              Pitch Seed_Amount     Seed_Date Series_A_Amount Series_A_Date Series_B_Amount Series_B_Date Series_C_Amount Series_C_Date Series_D_Amount Series_D_Date     Stage\n",
       "0                                                NaN                        Cable     Epic-Sciences             NaN           NaN                                                NaN         NaN           NaN             NaN           NaN     $13,000,000  Nov 13, 2012     $30,000,000  Jul 30, 2014             NaN           NaN  Series C\n",
       "1                                                NaN                 All Students  Apreso-Classroom             NaN           NaN                                                NaN         NaN           NaN             NaN           NaN     $15,000,000  Oct 14, 2008             NaN           NaN             NaN           NaN  Series B\n",
       "2  Visualead (视觉码) creates better interactions be...  Bridging Online and Offline         Visualead             NaN           NaN  Effective and Secure Offline to Mobile experie...    $750,000  Mar 25, 2012      $1,600,000  Aug 15, 2013         Unknown  Jan 20, 2015             NaN           NaN             NaN           NaN  Series B\n",
       "3                                                NaN              Food Processing           Onshift      $7,000,000  Feb  3, 2014                                                NaN         NaN           NaN             NaN           NaN      $3,000,000  Feb  2, 2012             NaN           NaN             NaN           NaN  Series C\n",
       "4                                                NaN                            -    Xendex-Holding             NaN           NaN                                                NaN         NaN           NaN         Unknown  Jun 25, 2008      $3,500,000  Nov 30, 2009             NaN           NaN             NaN           NaN  Series A"
      ]
     },
     "execution_count": 155,
     "metadata": {},
     "output_type": "execute_result"
    }
   ],
   "source": [
    "funding_csv.head()"
   ]
  },
  {
   "cell_type": "code",
   "execution_count": 166,
   "metadata": {
    "collapsed": false
   },
   "outputs": [
    {
     "data": {
      "text/plain": [
       "Counter({nan: 306, 'Biotechnology': 284, 'Software': 235, '-': 191, 'Health Care': 104, 'Enterprise Software': 97, 'Clean Technology': 80, 'Hardware + Software': 76, 'Semiconductors': 74, 'Mobile': 58, 'Curated Web': 58, 'Web Hosting': 47, 'Security': 45, 'Advertising': 42, 'E-Commerce': 41, 'Games': 36, 'Finance': 34, 'Analytics': 32, 'SaaS': 26, 'Manufacturing': 26, 'Health and Wellness': 22, 'Technology': 20, 'Big Data Analytics': 20, 'Education': 19, 'Consulting': 16, 'Messaging': 15, 'Hospitality': 15, 'Marketplaces': 13, 'Networking': 13, 'Social Media': 13, 'Virtualization': 13, 'B2B': 12, 'Web Development': 12, 'Crowdsourcing': 11, 'Cloud Data Services': 11, 'Video': 11, 'Big Data': 11, 'Medical Devices': 11, 'Real Estate': 10, 'Databases': 10, 'Fashion': 10, 'Online Video Advertising': 9, 'Public Relations': 9, 'Apps': 9, 'Mobile Advertising': 9, 'Wireless': 9, 'Mobile Payments': 8, 'Advertising Platforms': 8, 'Open Source': 8, 'Small and Medium Businesses': 8, 'Android': 8, 'Travel': 8, 'Mobile Security': 8, 'News': 8, 'Cloud Infrastructure': 8, 'Audio': 8, 'Video Streaming': 7, 'Banking': 7, 'Search': 7, 'Productivity Software': 6, 'Business Services': 6, 'PaaS': 6, 'Predictive Analytics': 6, 'Graphics': 6, 'Social Network Media': 6, 'Events': 6, 'Marketing Automation': 6, 'Startups': 6, 'Online Shopping': 6, 'Restaurants': 5, 'Cloud Computing': 5, 'Finance Technology': 5, 'Personal Finance': 5, 'Television': 5, 'Marketing': 5, 'iPhone': 5, 'Public Transportation': 5, 'SEO': 5, 'Nonprofits': 5, 'Gps': 5, 'Photography': 5, 'Data Security': 5, 'Fitness': 5, 'Mobile Commerce': 5, 'Application Platforms': 5, 'Insurance': 5, 'Beauty': 5, 'Hotels': 5, 'Data Visualization': 5, 'Career Management': 5, 'Sales Automation': 5, 'Brand Marketing': 5, 'Internet Marketing': 5, 'Crowdfunding': 4, 'Incentives': 4, 'Social Media Marketing': 4, 'Reviews and Recommendations': 4, 'Flash Storage': 4, 'Ticketing': 4, 'Consumer Electronics': 4, 'Real Time': 4, 'Loyalty Programs': 4, 'Credit Cards': 4, 'Video on Demand': 4, 'Mobile Video': 4, 'Kids': 4, 'Business Intelligence': 4, 'Location Based Services': 4, 'Network Security': 4, 'Mobile Analytics': 4, 'Cyber Security': 4, 'Supply Chain Management': 4, 'Bridging Online and Offline': 4, 'Identity Management': 4, 'Accounting': 4, 'Human Resources': 4, 'Enterprise Security': 4, 'Price Comparison': 4, 'K-12 Education': 4, 'Shopping': 4, 'Nanotechnology': 4, 'Environmental Innovation': 4, 'Drones': 4, 'Mobile Games': 4, 'Optimization': 4, 'Music': 4, 'VoIP': 4, 'Risk Management': 4, 'Web CMS': 4, 'Internet Radio': 4, 'Jewelry': 4, 'Genetic Testing': 4, 'Fraud Detection': 4, 'Social Commerce': 4, 'App Marketing': 4, 'Energy Efficiency': 4, 'Tutoring': 4, 'Heathcare': 4, 'Cloud Security': 4, 'Content Delivery': 4, 'Health and Insurance': 3, 'Lighting': 3, 'Celebrity': 3, 'Online Travel': 3, 'Clinical Trials': 3, 'Automotive': 3, 'Collaboration': 3, 'Blogging Platforms': 3, 'Intellectual Asset Management': 3, 'Retail': 3, 'Ediscovery': 3, 'Marketplace Lender': 3, 'Video Games': 3, 'Shoes': 3, 'Social Business': 3, 'Subscription Businesses': 3, 'Testing': 3, 'Legal': 3, 'Sports': 3, 'Consumer ': 3, 'Boston': 3, 'Batteries': 3, 'E-Books': 3, 'Communications Hardware': 3, 'Creative': 3, 'Auctions': 3, 'Developer APIs': 3, 'Mobile Software Tools': 3, 'Mobile Health': 3, 'Facebook Applications': 3, 'Market Research': 3, 'Data Centers': 3, 'P2P Money Transfer': 3, 'Storage': 3, 'Real Estate Investors': 3, 'Digital Entertainment': 3, 'Water': 3, 'Search Marketing': 3, 'Developer Tools': 3, 'Commercial Real Estate': 3, 'Social Travel': 3, 'Cars': 3, 'Broadcasting': 3, 'Vacation Rentals': 3, 'Employment': 3, 'Stock Exchanges': 3, 'Gambling': 3, 'Collaborative Consumption': 3, 'Retail Technology': 3, 'Customer Service': 3, 'Electronic Health Records': 3, 'Gift Card': 3, 'Billing': 3, 'Online Dating': 3, 'Information Security': 3, 'File Sharing': 3, 'Parking': 3, 'Payments': 3, 'Virtual Worlds': 3, 'Performance Marketing': 2, 'Training': 2, 'Customer Support Tools': 2, 'Telecommunications': 2, 'Language Learning': 2, 'Local Based Services': 2, 'Information Services': 2, 'App Discovery': 2, 'Corporate Training': 2, 'Architecture': 2, 'Incubators': 2, 'Diabetes': 2, 'Online Gaming': 2, 'MMO Games': 2, 'Car Rental P2 P ': 2, 'Health Care Information Technology': 2, 'Digital Media': 2, 'Semiconductor Manufacturing Equipment': 2, 'Agriculture': 2, 'Physicians': 2, 'Construction': 2, 'Cloud Management': 2, 'Peer-to-Peer': 2, 'Smart Grid': 2, 'Home Owners': 2, 'Brokers': 2, 'Therapeutics': 2, 'Computers': 2, 'South East Asia': 2, 'App Stores': 2, 'Services': 2, 'Colleges': 2, '3D Technology': 2, 'Application Performance Monitoring': 2, 'Online Rental': 2, 'Social Media Platforms': 2, 'Geospatial': 2, 'Design': 2, 'Licensing': 2, 'Pharmaceuticals': 2, 'Cleaning': 2, 'Video Editing': 2, 'Logistics': 2, 'Content': 2, 'Email Marketing': 2, 'Direct Marketing': 2, 'Group Buying': 2, 'Private Equity ': 2, 'Sunglasses': 2, 'Lead Generation': 2, 'IaaS': 2, 'Teachers': 2, 'Internet Infrastructure': 2, 'Educational Games': 2, 'Trusted Networks': 2, 'Synthetic Biology': 2, 'Document Management': 2, 'Tracking': 2, 'Shipping': 2, 'Data Mining': 2, 'Private Social Networking': 2, 'Mobile Application': 2, 'MicroBlogging': 2, 'Lifestyle': 2, 'Ad Targeting': 2, 'Personalization': 2, 'Hospitals': 2, 'Point of Sale': 2, 'Seattle, Wa': 2, 'Franchises': 2, 'Entertainment': 2, 'Consumer Lending': 2, 'Data Integration': 2, 'Web Tools': 2, 'Local Businesses': 2, 'Publishing': 2, 'Renewable Energies': 2, 'Business Analytics': 2, 'China Internet': 2, 'Virtual Reality': 2, 'Artificial Intelligence': 2, 'Food and Beverages': 1, 'Inventory Management Systems': 1, 'Social Television': 1, 'Communications Infrastructure': 1, 'Medication Adherence': 1, 'Fashion Tech': 1, 'Call Center Automation': 1, 'Interface Design': 1, 'Defense': 1, 'Seattle': 1, 'RFID': 1, 'High Schools': 1, 'Meeting Software': 1, '3D': 1, 'Software Compliance': 1, 'M2M': 1, 'Game': 1, 'Distribution': 1, 'Project Management': 1, 'User Experience Design': 1, 'Specialty Chemicals': 1, 'Postal and Courier Services': 1, 'E Learn': 1, 'Gamification': 1, 'Elder Care': 1, 'Electric Vehicles': 1, 'User Interface Design': 1, 'Bioinformatics': 1, 'Neuroscience': 1, 'Photo Sharing': 1, 'Humanitarian': 1, 'Blockchains': 1, 'Monetization': 1, 'Ventures for Good': 1, 'Career Planning': 1, 'Operations ': 1, 'Connected Gadgets': 1, 'Video Conferencing': 1, 'Enterprise Application': 1, 'Middle East': 1, 'Professional Networking': 1, 'Usa': 1, 'Cable': 1, 'Power Sports': 1, 'Connected Devices': 1, 'Mobility': 1, 'Health And Safety': 1, 'IT Management': 1, 'Fleet Management': 1, 'Financial Technology': 1, 'Consumer Internet': 1, 'Nightclubs': 1, 'Health Services Industry': 1, 'Food Processing': 1, 'Eu Market': 1, 'Creative Industries': 1, 'Test and Measurement': 1, 'Smart Building': 1, 'Transportation': 1, 'Enterprises': 1, 'Freelancers': 1, 'Data': 1, 'Invest Online': 1, 'Industrial Automation': 1, 'Visual Search': 1, 'Social Recruiting': 1, 'Deep Learning': 1, 'Product Management': 1, 'Financial Services': 1, 'Sharing Economy': 1, 'Angels': 1, 'Track And Trace': 1, 'Internet of Things': 1, 'Corporate Wellness': 1, 'iPod Touch': 1, 'Social Buying': 1, 'Semantic Search': 1, 'Printing': 1, 'Employer Benefits Programs': 1, 'Homeland Security': 1, 'Service Providers': 1, 'Augmented Reality': 1, 'Groceries': 1, 'Proximity Services': 1, 'Visualization': 1, 'Local Coupons': 1, 'All Students': 1, 'Oil & Gas': 1, 'Travel & Tourism': 1, 'Translation': 1, 'Sass': 1, 'Online Marketplaces': 1, 'Wine And Spirits': 1, 'High School Students': 1, 'Guides': 1, 'Venture Capital': 1, 'Edtech': 1, 'Bicycles': 1, 'Utilities': 1, 'Task Management': 1, 'Oem': 1, 'Print On Demand': 1, 'Online Reservations': 1, 'Concerts': 1, 'Specialty Retail': 1, 'Enterprise 2.0': 1, 'Office Space': 1, 'Doctors': 1, 'Communities': 1, 'Textbooks': 1, 'Digital Currency': 1, 'Navigation': 1, 'Information Technology': 1, 'Elderly': 1, 'Biometrics': 1, 'Photo Editing': 1, 'Collectibles': 1, 'Recycling': 1, 'Specialty Foods': 1, 'Workflow': 1, 'Loans': 1, 'PC Gaming': 1, 'Medical': 1, 'Diagnostics': 1, 'Bio-Pharm': 1, 'Digital Signage': 1, 'Digital Marketing': 1, 'Surveys': 1, 'Fantasy Sports': 1, '3D Printing': 1, 'Handmade': 1, 'Bitcoin': 1, 'Pets': 1, 'Internet': 1, 'Image Recognition': 1, 'Emerging Markets': 1, 'Parenting': 1, 'Events Services': 1, 'Rental Housing': 1, 'Latin America': 1, 'Robotics': 1, 'Teenagers': 1, 'New Product Development': 1, 'Home & Garden': 1, 'Email': 1, 'Console Gaming': 1, 'Men': 1, 'Social Media Monitoring': 1, 'Social Media Advertising': 1, 'Enterprise Search': 1, 'mHealth': 1, 'Outdoors': 1, 'Game Mechanics': 1, 'Comparison Shopping': 1, 'Labor Optimization': 1, 'Artists Globally': 1, 'Content Marketing': 1, 'Digital Publishing': 1, 'Interest Graph': 1, 'Staffing Firms': 1, 'Science': 1, 'Graphic Design': 1, 'Content Syndication': 1, 'Consumer Goods': 1, 'Electronics': 1, 'Families': 1, 'College Recruiting': 1, 'Internet TV': 1, 'Data Center Infrastructure': 1, 'E-Commerce Platforms': 1, 'Disruptive Models': 1, 'Wearables': 1, 'Computer Vision': 1, 'Content Discovery': 1})"
      ]
     },
     "execution_count": 166,
     "metadata": {},
     "output_type": "execute_result"
    }
   ],
   "source": [
    "Counter(funding_csv['Market'])"
   ]
  },
  {
   "cell_type": "code",
   "execution_count": 165,
   "metadata": {
    "collapsed": false
   },
   "outputs": [
    {
     "data": {
      "text/plain": [
       "(array([ 398.,   29.,    4.,    3.,    2.,    3.,    2.,    2.,    0.,\n",
       "           2.,    0.,    1.,    2.,    0.,    0.,    1.,    1.,    0.,\n",
       "           0.,    0.,    0.,    0.,    0.,    0.,    0.,    0.,    0.,\n",
       "           0.,    0.,    0.,    0.,    1.,    0.,    0.,    0.,    0.,\n",
       "           0.,    0.,    1.,    0.,    0.,    0.,    0.,    0.,    0.,\n",
       "           0.,    1.,    0.,    0.,    1.]),\n",
       " array([   1. ,    7.1,   13.2,   19.3,   25.4,   31.5,   37.6,   43.7,\n",
       "          49.8,   55.9,   62. ,   68.1,   74.2,   80.3,   86.4,   92.5,\n",
       "          98.6,  104.7,  110.8,  116.9,  123. ,  129.1,  135.2,  141.3,\n",
       "         147.4,  153.5,  159.6,  165.7,  171.8,  177.9,  184. ,  190.1,\n",
       "         196.2,  202.3,  208.4,  214.5,  220.6,  226.7,  232.8,  238.9,\n",
       "         245. ,  251.1,  257.2,  263.3,  269.4,  275.5,  281.6,  287.7,\n",
       "         293.8,  299.9,  306. ]),\n",
       " <a list of 50 Patch objects>)"
      ]
     },
     "execution_count": 165,
     "metadata": {},
     "output_type": "execute_result"
    },
    {
     "data": {
      "image/png": "[encoded data removed]",
      "text/plain": [
       "<matplotlib.figure.Figure at 0x110d2b310>"
      ]
     },
     "metadata": {},
     "output_type": "display_data"
    }
   ],
   "source": [
    "plt.hist(Counter(funding_csv['Market']).values(),bins=50)"
   ]
  },
  {
   "cell_type": "code",
   "execution_count": null,
   "metadata": {
    "collapsed": true
   },
   "outputs": [],
   "source": []
  }
 ],
 "metadata": {
  "kernelspec": {
   "display_name": "Python 2",
   "language": "python",
   "name": "python2"
  },
  "language_info": {
   "codemirror_mode": {
    "name": "ipython",
    "version": 2
   },
   "file_extension": ".py",
   "mimetype": "text/x-python",
   "name": "python",
   "nbconvert_exporter": "python",
   "pygments_lexer": "ipython2",
   "version": "2.7.10"
  }
 },
 "nbformat": 4,
 "nbformat_minor": 0
}
