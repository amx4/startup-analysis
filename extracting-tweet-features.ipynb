{
 "cells": [
  {
   "cell_type": "code",
   "execution_count": 1,
   "metadata": {
    "collapsed": true
   },
   "outputs": [],
   "source": [
    "%matplotlib inline\n",
    "import numpy as np\n",
    "import scipy as sp\n",
    "import matplotlib as mpl\n",
    "import matplotlib.cm as cm\n",
    "import matplotlib.pyplot as plt\n",
    "import pandas as pd\n",
    "pd.set_option('display.width', 500)\n",
    "pd.set_option('display.max_columns', 100)\n",
    "pd.set_option('display.notebook_repr_html', True)\n",
    "import seaborn as sns\n",
    "sns.set_style(\"whitegrid\")\n",
    "sns.set_context(\"poster\")"
   ]
  },
  {
   "cell_type": "code",
   "execution_count": 2,
   "metadata": {
    "collapsed": true
   },
   "outputs": [],
   "source": [
    "tweets_csv = pd.read_csv(\"startups/tweets.csv\")"
   ]
  },
  {
   "cell_type": "markdown",
   "metadata": {},
   "source": [
    "We count how many tweets are related to what funding round."
   ]
  },
  {
   "cell_type": "code",
   "execution_count": 17,
   "metadata": {
    "collapsed": false
   },
   "outputs": [
    {
     "data": {
      "text/plain": [
       "Counter({'_Series_B': 173305, '_Series_A': 91071, '_Series_C': 90223, '_Series_D': 33135, nan: 113})"
      ]
     },
     "execution_count": 17,
     "metadata": {},
     "output_type": "execute_result"
    }
   ],
   "source": [
    "from collections import Counter\n",
    "Counter(tweets_csv.Series)"
   ]
  },
  {
   "cell_type": "markdown",
   "metadata": {},
   "source": [
    "Now we compute lists of number of likes, number of retweets, and range of dates. (Range of dates = among our 200 or so tweets, how many dates do they span? If they span a lot of dates, that means tweets are made quite infrequently.)\n",
    "\n",
    "Here, the purpose of get_num_first is to convert strings of integers and associated text we get from scraping (e.g. '5 Likes') into integers (e.g. 5).\n"
   ]
  },
  {
   "cell_type": "code",
   "execution_count": null,
   "metadata": {
    "collapsed": true
   },
   "outputs": [],
   "source": [
    "def get_num_first(text):\n",
    "    try:\n",
    "        return int(text.split()[0])\n",
    "    except:\n",
    "        return 0"
   ]
  },
  {
   "cell_type": "code",
   "execution_count": 82,
   "metadata": {
    "collapsed": false
   },
   "outputs": [],
   "source": [
    "likes = tweets_csv.apply(lambda row: get_num_first(row[2]), axis=1)\n",
    "retweets = tweets_csv.apply(lambda row: get_num_first(row[4]), axis=1)"
   ]
  },
  {
   "cell_type": "code",
   "execution_count": 93,
   "metadata": {
    "collapsed": false
   },
   "outputs": [],
   "source": [
    "dates = tweets_csv.apply(lambda row: get_date(row[7]), axis=1)"
   ]
  },
  {
   "cell_type": "markdown",
   "metadata": {},
   "source": [
    "When we scrape the date tweeted, we get string. We use Python's datetime library to convert it to datetime object. This will help us manipulating dates (counting, computing ranges, etc.) later."
   ]
  },
  {
   "cell_type": "code",
   "execution_count": 90,
   "metadata": {
    "collapsed": true
   },
   "outputs": [],
   "source": [
    "from datetime import datetime\n",
    "def get_date(text):\n",
    "    try:\n",
    "        return datetime.date(datetime.strptime(text, '%d %b %Y'))\n",
    "    except:\n",
    "        return 0"
   ]
  },
  {
   "cell_type": "markdown",
   "metadata": {},
   "source": [
    "We create a brand new data frame with likes and retweets replaced by integers, and dates replaced by a bunch of datetime objects. Other columns are the same."
   ]
  },
  {
   "cell_type": "code",
   "execution_count": 150,
   "metadata": {
    "collapsed": false
   },
   "outputs": [],
   "source": [
    "tweets_df = pd.DataFrame({    \n",
    "                  'company_name': tweets_csv['Company'], \n",
    "                  'tweeter_href': tweets_csv['Href'],\n",
    "                  'likes'       : likes,\n",
    "                  'tweeter_name': tweets_csv['Name'],\n",
    "                  'retweets'    : retweets,\n",
    "                  'Series'      : tweets_csv['Series'],\n",
    "                  'text'        : tweets_csv['Text'],\n",
    "                  'date'        : dates\n",
    "             })"
   ]
  },
  {
   "cell_type": "markdown",
   "metadata": {},
   "source": [
    "There are 2088 startups right now."
   ]
  },
  {
   "cell_type": "code",
   "execution_count": 290,
   "metadata": {
    "collapsed": false
   },
   "outputs": [
    {
     "data": {
      "text/plain": [
       "2088"
      ]
     },
     "execution_count": 290,
     "metadata": {},
     "output_type": "execute_result"
    }
   ],
   "source": [
    "len(tweets_df.company_name.unique())"
   ]
  },
  {
   "cell_type": "code",
   "execution_count": 248,
   "metadata": {
    "collapsed": true
   },
   "outputs": [],
   "source": [
    "# drop all the missing values\n",
    "tweets_df = tweets_df[tweets_df['text'].notnull()]\n",
    "tweets_df = tweets_df[tweets_df['date'] != 0] # we mark 0 above for missing dates\n"
   ]
  },
  {
   "cell_type": "code",
   "execution_count": 263,
   "metadata": {
    "collapsed": true
   },
   "outputs": [],
   "source": [
    "tweets_df['text_length'] = tweets_df['text'].apply(lambda text: len(text))"
   ]
  },
  {
   "cell_type": "code",
   "execution_count": 232,
   "metadata": {
    "collapsed": false
   },
   "outputs": [],
   "source": [
    "tweet_count = tweets_df.groupby(['company_name','Series']).likes.count()"
   ]
  },
  {
   "cell_type": "code",
   "execution_count": 281,
   "metadata": {
    "collapsed": true
   },
   "outputs": [],
   "source": [
    "# count @ (person tags) and # (hashtags) and links (http...)\n",
    "def get_tags(text):\n",
    "    persontags = []\n",
    "    hashtags = []\n",
    "    links = []\n",
    "    wordlist = text.split()\n",
    "    for word in wordlist:\n",
    "        if len(word) >= 2 and word[0] == '@':\n",
    "            persontags.append(word)\n",
    "        if len(word) >= 2 and word[0] == '#':\n",
    "            hashtags.append(word)\n",
    "        if len(word) >= 5 and word.startswith('http'):\n",
    "            links.append(word)\n",
    "    return {'persontags': persontags, 'hashtags': hashtags, 'links': links}\n",
    "        \n",
    "    "
   ]
  },
  {
   "cell_type": "code",
   "execution_count": 284,
   "metadata": {
    "collapsed": false
   },
   "outputs": [],
   "source": [
    "tweets_df['persontags'] = tweets_df['text'].apply(lambda text: get_tags(text)['persontags'])\n",
    "tweets_df['hashtags'] = tweets_df['text'].apply(lambda text: get_tags(text)['hashtags'])\n",
    "tweets_df['links'] = tweets_df['text'].apply(lambda text: get_tags(text)['links'])\n",
    "tweets_df['persontags_count'] = tweets_df['text'].apply(lambda text: len(get_tags(text)['persontags']))\n",
    "tweets_df['hashtags_count'] = tweets_df['text'].apply(lambda text: len(get_tags(text)['hashtags']))\n",
    "tweets_df['links_count'] = tweets_df['text'].apply(lambda text: len(get_tags(text)['links']))"
   ]
  },
  {
   "cell_type": "code",
   "execution_count": 238,
   "metadata": {
    "collapsed": false
   },
   "outputs": [],
   "source": [
    "likes_mean = tweets_df.groupby(['company_name','Series']).likes.mean()\n",
    "retweets_mean = tweets_df.groupby(['company_name','Series']).retweets.mean()"
   ]
  },
  {
   "cell_type": "code",
   "execution_count": 236,
   "metadata": {
    "collapsed": false
   },
   "outputs": [
    {
     "data": {
      "text/plain": [
       "(array([  3.62600000e+03,   3.00000000e+00,   0.00000000e+00,\n",
       "          0.00000000e+00,   1.00000000e+00,   0.00000000e+00,\n",
       "          0.00000000e+00,   0.00000000e+00,   0.00000000e+00,\n",
       "          1.00000000e+00]),\n",
       " array([  0.        ,   8.37580645,  16.7516129 ,  25.12741935,\n",
       "         33.50322581,  41.87903226,  50.25483871,  58.63064516,\n",
       "         67.00645161,  75.38225806,  83.75806452]),\n",
       " <a list of 10 Patch objects>)"
      ]
     },
     "execution_count": 236,
     "metadata": {},
     "output_type": "execute_result"
    },
    {
     "data": {
      "image/png": "[encoded data removed]",
      "text/plain": [
       "<matplotlib.figure.Figure at 0x11feef2d0>"
      ]
     },
     "metadata": {},
     "output_type": "display_data"
    }
   ],
   "source": [
    "plt.hist(likes_count)"
   ]
  },
  {
   "cell_type": "code",
   "execution_count": 113,
   "metadata": {
    "collapsed": false
   },
   "outputs": [],
   "source": [
    "# drop rows with null values\n",
    "tweets_df = tweets_df[tweets_df.text.notnull()]\n",
    "tweets_df = tweets_df[tweets_df.date != 0]"
   ]
  },
  {
   "cell_type": "code",
   "execution_count": 118,
   "metadata": {
    "collapsed": false
   },
   "outputs": [],
   "source": [
    "tweets_df['text_length'] = [len(text) for text in tweets_df.text]"
   ]
  },
  {
   "cell_type": "code",
   "execution_count": 178,
   "metadata": {
    "collapsed": false
   },
   "outputs": [],
   "source": [
    "mean_groupby = tweets_df.groupby(['company_name','Series']).mean()"
   ]
  },
  {
   "cell_type": "code",
   "execution_count": 191,
   "metadata": {
    "collapsed": true
   },
   "outputs": [],
   "source": [
    "count_groupby = tweets_df.groupby(['company_name','Series']).likes.count()"
   ]
  },
  {
   "cell_type": "code",
   "execution_count": 210,
   "metadata": {
    "collapsed": false
   },
   "outputs": [],
   "source": [
    "count_groupby = pd.DataFrame(count_groupby)\n",
    "count_groupby.columns = ['count']"
   ]
  },
  {
   "cell_type": "code",
   "execution_count": 180,
   "metadata": {
    "collapsed": false
   },
   "outputs": [],
   "source": [
    "count = tweets_df.groupby(['company_name','Series']).count()['date']"
   ]
  },
  {
   "cell_type": "code",
   "execution_count": 154,
   "metadata": {
    "collapsed": true
   },
   "outputs": [],
   "source": [
    "funding_csv = pd.read_csv('startups/funding.csv')"
   ]
  },
  {
   "cell_type": "code",
   "execution_count": 155,
   "metadata": {
    "collapsed": false
   },
   "outputs": [
    {
     "data": {
      "text/html": [
       "<div>\n",
       "<table border=\"1\" class=\"dataframe\">\n",
       "  <thead>\n",
       "    <tr style=\"text-align: right;\">\n",
       "      <th></th>\n",
       "      <th>Description</th>\n",
       "      <th>Market</th>\n",
       "      <th>Names</th>\n",
       "      <th>No_Stage_Amount</th>\n",
       "      <th>No_Stage_Date</th>\n",
       "      <th>Pitch</th>\n",
       "      <th>Seed_Amount</th>\n",
       "      <th>Seed_Date</th>\n",
       "      <th>Series_A_Amount</th>\n",
       "      <th>Series_A_Date</th>\n",
       "      <th>Series_B_Amount</th>\n",
       "      <th>Series_B_Date</th>\n",
       "      <th>Series_C_Amount</th>\n",
       "      <th>Series_C_Date</th>\n",
       "      <th>Series_D_Amount</th>\n",
       "      <th>Series_D_Date</th>\n",
       "      <th>Stage</th>\n",
       "    </tr>\n",
       "  </thead>\n",
       "  <tbody>\n",
       "    <tr>\n",
       "      <th>0</th>\n",
       "      <td>NaN</td>\n",
       "      <td>Cable</td>\n",
       "      <td>Epic-Sciences</td>\n",
       "      <td>NaN</td>\n",
       "      <td>NaN</td>\n",
       "      <td>NaN</td>\n",
       "      <td>NaN</td>\n",
       "      <td>NaN</td>\n",
       "      <td>NaN</td>\n",
       "      <td>NaN</td>\n",
       "      <td>$13,000,000</td>\n",
       "      <td>Nov 13, 2012</td>\n",
       "      <td>$30,000,000</td>\n",
       "      <td>Jul 30, 2014</td>\n",
       "      <td>NaN</td>\n",
       "      <td>NaN</td>\n",
       "      <td>Series C</td>\n",
       "    </tr>\n",
       "    <tr>\n",
       "      <th>1</th>\n",
       "      <td>NaN</td>\n",
       "      <td>All Students</td>\n",
       "      <td>Apreso-Classroom</td>\n",
       "      <td>NaN</td>\n",
       "      <td>NaN</td>\n",
       "      <td>NaN</td>\n",
       "      <td>NaN</td>\n",
       "      <td>NaN</td>\n",
       "      <td>NaN</td>\n",
       "      <td>NaN</td>\n",
       "      <td>$15,000,000</td>\n",
       "      <td>Oct 14, 2008</td>\n",
       "      <td>NaN</td>\n",
       "      <td>NaN</td>\n",
       "      <td>NaN</td>\n",
       "      <td>NaN</td>\n",
       "      <td>Series B</td>\n",
       "    </tr>\n",
       "    <tr>\n",
       "      <th>2</th>\n",
       "      <td>Visualead (视觉码) creates better interactions be...</td>\n",
       "      <td>Bridging Online and Offline</td>\n",
       "      <td>Visualead</td>\n",
       "      <td>NaN</td>\n",
       "      <td>NaN</td>\n",
       "      <td>Effective and Secure Offline to Mobile experie...</td>\n",
       "      <td>$750,000</td>\n",
       "      <td>Mar 25, 2012</td>\n",
       "      <td>$1,600,000</td>\n",
       "      <td>Aug 15, 2013</td>\n",
       "      <td>Unknown</td>\n",
       "      <td>Jan 20, 2015</td>\n",
       "      <td>NaN</td>\n",
       "      <td>NaN</td>\n",
       "      <td>NaN</td>\n",
       "      <td>NaN</td>\n",
       "      <td>Series B</td>\n",
       "    </tr>\n",
       "    <tr>\n",
       "      <th>3</th>\n",
       "      <td>NaN</td>\n",
       "      <td>Food Processing</td>\n",
       "      <td>Onshift</td>\n",
       "      <td>$7,000,000</td>\n",
       "      <td>Feb  3, 2014</td>\n",
       "      <td>NaN</td>\n",
       "      <td>NaN</td>\n",
       "      <td>NaN</td>\n",
       "      <td>NaN</td>\n",
       "      <td>NaN</td>\n",
       "      <td>$3,000,000</td>\n",
       "      <td>Feb  2, 2012</td>\n",
       "      <td>NaN</td>\n",
       "      <td>NaN</td>\n",
       "      <td>NaN</td>\n",
       "      <td>NaN</td>\n",
       "      <td>Series C</td>\n",
       "    </tr>\n",
       "    <tr>\n",
       "      <th>4</th>\n",
       "      <td>NaN</td>\n",
       "      <td>-</td>\n",
       "      <td>Xendex-Holding</td>\n",
       "      <td>NaN</td>\n",
       "      <td>NaN</td>\n",
       "      <td>NaN</td>\n",
       "      <td>NaN</td>\n",
       "      <td>NaN</td>\n",
       "      <td>Unknown</td>\n",
       "      <td>Jun 25, 2008</td>\n",
       "      <td>$3,500,000</td>\n",
       "      <td>Nov 30, 2009</td>\n",
       "      <td>NaN</td>\n",
       "      <td>NaN</td>\n",
       "      <td>NaN</td>\n",
       "      <td>NaN</td>\n",
       "      <td>Series A</td>\n",
       "    </tr>\n",
       "  </tbody>\n",
       "</table>\n",
       "</div>"
      ],
      "text/plain": [
       "                                         Description                       Market             Names No_Stage_Amount No_Stage_Date                                              Pitch Seed_Amount     Seed_Date Series_A_Amount Series_A_Date Series_B_Amount Series_B_Date Series_C_Amount Series_C_Date Series_D_Amount Series_D_Date     Stage\n",
       "0                                                NaN                        Cable     Epic-Sciences             NaN           NaN                                                NaN         NaN           NaN             NaN           NaN     $13,000,000  Nov 13, 2012     $30,000,000  Jul 30, 2014             NaN           NaN  Series C\n",
       "1                                                NaN                 All Students  Apreso-Classroom             NaN           NaN                                                NaN         NaN           NaN             NaN           NaN     $15,000,000  Oct 14, 2008             NaN           NaN             NaN           NaN  Series B\n",
       "2  Visualead (视觉码) creates better interactions be...  Bridging Online and Offline         Visualead             NaN           NaN  Effective and Secure Offline to Mobile experie...    $750,000  Mar 25, 2012      $1,600,000  Aug 15, 2013         Unknown  Jan 20, 2015             NaN           NaN             NaN           NaN  Series B\n",
       "3                                                NaN              Food Processing           Onshift      $7,000,000  Feb  3, 2014                                                NaN         NaN           NaN             NaN           NaN      $3,000,000  Feb  2, 2012             NaN           NaN             NaN           NaN  Series C\n",
       "4                                                NaN                            -    Xendex-Holding             NaN           NaN                                                NaN         NaN           NaN         Unknown  Jun 25, 2008      $3,500,000  Nov 30, 2009             NaN           NaN             NaN           NaN  Series A"
      ]
     },
     "execution_count": 155,
     "metadata": {},
     "output_type": "execute_result"
    }
   ],
   "source": [
    "funding_csv.head()"
   ]
  },
  {
   "cell_type": "code",
   "execution_count": null,
   "metadata": {
    "collapsed": true
   },
   "outputs": [],
   "source": []
  }
 ],
 "metadata": {
  "kernelspec": {
   "display_name": "Python 2",
   "language": "python",
   "name": "python2"
  },
  "language_info": {
   "codemirror_mode": {
    "name": "ipython",
    "version": 2
   },
   "file_extension": ".py",
   "mimetype": "text/x-python",
   "name": "python",
   "nbconvert_exporter": "python",
   "pygments_lexer": "ipython2",
   "version": "2.7.10"
  }
 },
 "nbformat": 4,
 "nbformat_minor": 0
}
