{
 "cells": [
  {
   "cell_type": "code",
   "execution_count": 2,
   "metadata": {
    "collapsed": true
   },
   "outputs": [],
   "source": [
    "%matplotlib inline\n",
    "from bs4 import BeautifulSoup\n",
    "import urllib2\n",
    "import urllib\n",
    "import json\n",
    "import csv\n",
    "import time\n",
    "import pickle\n",
    "import pandas as pd\n",
    "import numpy as np\n",
    "import scipy as sp\n",
    "import matplotlib as mpl\n",
    "import matplotlib.cm as cm\n",
    "import matplotlib.pyplot as plt\n",
    "import pandas as pd\n",
    "pd.set_option('display.width', 500)\n",
    "pd.set_option('display.max_columns', 100)\n",
    "pd.set_option('display.notebook_repr_html', True)\n",
    "import seaborn as sns\n",
    "sns.set_style(\"whitegrid\")\n",
    "sns.set_context(\"poster\")"
   ]
  },
  {
   "cell_type": "code",
   "execution_count": 6,
   "metadata": {
    "collapsed": false
   },
   "outputs": [
    {
     "data": {
      "text/html": [
       "<div>\n",
       "<table border=\"1\" class=\"dataframe\">\n",
       "  <thead>\n",
       "    <tr style=\"text-align: right;\">\n",
       "      <th></th>\n",
       "      <th>Description</th>\n",
       "      <th>Market</th>\n",
       "      <th>Names</th>\n",
       "      <th>No_Stage_Amount</th>\n",
       "      <th>No_Stage_Date</th>\n",
       "      <th>Pitch</th>\n",
       "      <th>Seed_Amount</th>\n",
       "      <th>Seed_Date</th>\n",
       "      <th>Series_A_Amount</th>\n",
       "      <th>Series_A_Date</th>\n",
       "      <th>Series_B_Amount</th>\n",
       "      <th>Series_B_Date</th>\n",
       "      <th>Series_C_Amount</th>\n",
       "      <th>Series_C_Date</th>\n",
       "      <th>Series_D_Amount</th>\n",
       "      <th>Series_D_Date</th>\n",
       "      <th>Stage</th>\n",
       "    </tr>\n",
       "  </thead>\n",
       "  <tbody>\n",
       "    <tr>\n",
       "      <th>0</th>\n",
       "      <td></td>\n",
       "      <td>Cable</td>\n",
       "      <td>Epic-Sciences</td>\n",
       "      <td></td>\n",
       "      <td></td>\n",
       "      <td></td>\n",
       "      <td></td>\n",
       "      <td></td>\n",
       "      <td></td>\n",
       "      <td></td>\n",
       "      <td>$13,000,000</td>\n",
       "      <td>Nov 13, 2012</td>\n",
       "      <td>$30,000,000</td>\n",
       "      <td>Jul 30, 2014</td>\n",
       "      <td></td>\n",
       "      <td></td>\n",
       "      <td>Series C</td>\n",
       "    </tr>\n",
       "    <tr>\n",
       "      <th>1</th>\n",
       "      <td></td>\n",
       "      <td>All Students</td>\n",
       "      <td>Apreso-Classroom</td>\n",
       "      <td></td>\n",
       "      <td></td>\n",
       "      <td></td>\n",
       "      <td></td>\n",
       "      <td></td>\n",
       "      <td></td>\n",
       "      <td></td>\n",
       "      <td>$15,000,000</td>\n",
       "      <td>Oct 14, 2008</td>\n",
       "      <td></td>\n",
       "      <td></td>\n",
       "      <td></td>\n",
       "      <td></td>\n",
       "      <td>Series B</td>\n",
       "    </tr>\n",
       "    <tr>\n",
       "      <th>2</th>\n",
       "      <td>Visualead (视觉码) creates better interactions be...</td>\n",
       "      <td>Bridging Online and Offline</td>\n",
       "      <td>Visualead</td>\n",
       "      <td></td>\n",
       "      <td></td>\n",
       "      <td>Effective and Secure Offline to Mobile experie...</td>\n",
       "      <td>$750,000</td>\n",
       "      <td>Mar 25, 2012</td>\n",
       "      <td>$1,600,000</td>\n",
       "      <td>Aug 15, 2013</td>\n",
       "      <td></td>\n",
       "      <td>Jan 20, 2015</td>\n",
       "      <td></td>\n",
       "      <td></td>\n",
       "      <td></td>\n",
       "      <td></td>\n",
       "      <td>Series B</td>\n",
       "    </tr>\n",
       "    <tr>\n",
       "      <th>3</th>\n",
       "      <td></td>\n",
       "      <td>Food Processing</td>\n",
       "      <td>Onshift</td>\n",
       "      <td>$7,000,000</td>\n",
       "      <td>Feb  3, 2014</td>\n",
       "      <td></td>\n",
       "      <td></td>\n",
       "      <td></td>\n",
       "      <td></td>\n",
       "      <td></td>\n",
       "      <td>$3,000,000</td>\n",
       "      <td>Feb  2, 2012</td>\n",
       "      <td></td>\n",
       "      <td></td>\n",
       "      <td></td>\n",
       "      <td></td>\n",
       "      <td>Series C</td>\n",
       "    </tr>\n",
       "    <tr>\n",
       "      <th>4</th>\n",
       "      <td></td>\n",
       "      <td>-</td>\n",
       "      <td>Xendex-Holding</td>\n",
       "      <td></td>\n",
       "      <td></td>\n",
       "      <td></td>\n",
       "      <td></td>\n",
       "      <td></td>\n",
       "      <td></td>\n",
       "      <td>Jun 25, 2008</td>\n",
       "      <td>$3,500,000</td>\n",
       "      <td>Nov 30, 2009</td>\n",
       "      <td></td>\n",
       "      <td></td>\n",
       "      <td></td>\n",
       "      <td></td>\n",
       "      <td>Series A</td>\n",
       "    </tr>\n",
       "  </tbody>\n",
       "</table>\n",
       "</div>"
      ],
      "text/plain": [
       "                                         Description                       Market             Names No_Stage_Amount No_Stage_Date                                              Pitch Seed_Amount     Seed_Date Series_A_Amount Series_A_Date Series_B_Amount Series_B_Date Series_C_Amount Series_C_Date Series_D_Amount Series_D_Date     Stage\n",
       "0                                                                           Cable     Epic-Sciences                                                                                                                                              $13,000,000  Nov 13, 2012     $30,000,000  Jul 30, 2014                                Series C\n",
       "1                                                                    All Students  Apreso-Classroom                                                                                                                                              $15,000,000  Oct 14, 2008                                                              Series B\n",
       "2  Visualead (视觉码) creates better interactions be...  Bridging Online and Offline         Visualead                                Effective and Secure Offline to Mobile experie...    $750,000  Mar 25, 2012      $1,600,000  Aug 15, 2013                  Jan 20, 2015                                                              Series B\n",
       "3                                                                 Food Processing           Onshift      $7,000,000  Feb  3, 2014                                                                                                                 $3,000,000  Feb  2, 2012                                                              Series C\n",
       "4                                                                               -    Xendex-Holding                                                                                                                             Jun 25, 2008      $3,500,000  Nov 30, 2009                                                              Series A"
      ]
     },
     "execution_count": 6,
     "metadata": {},
     "output_type": "execute_result"
    }
   ],
   "source": [
    "funding_df=pd.read_csv(\"funding.csv\")\n",
    "funding_df.fillna('', inplace=True)\n",
    "funding_df = funding_df.replace(['Unknown'], [''])\n",
    "funding_df.head()"
   ]
  },
  {
   "cell_type": "code",
   "execution_count": 9,
   "metadata": {
    "collapsed": true
   },
   "outputs": [],
   "source": [
    "from collections import Counter"
   ]
  },
  {
   "cell_type": "code",
   "execution_count": 10,
   "metadata": {
    "collapsed": true
   },
   "outputs": [],
   "source": [
    "hist(dict(Counter(funding_df['Market'])))"
   ]
  },
  {
   "cell_type": "code",
   "execution_count": 11,
   "metadata": {
    "collapsed": false
   },
   "outputs": [],
   "source": [
    "import operator\n",
    "sorted_markets = sorted(dict(Counter(funding_df['Market'])).items(), key=operator.itemgetter(1))"
   ]
  },
  {
   "cell_type": "code",
   "execution_count": 12,
   "metadata": {
    "collapsed": false
   },
   "outputs": [
    {
     "ename": "NameError",
     "evalue": "name 'markets_dict' is not defined",
     "output_type": "error",
     "traceback": [
      "\u001b[0;31m---------------------------------------------------------------------------\u001b[0m",
      "\u001b[0;31mNameError\u001b[0m                                 Traceback (most recent call last)",
      "\u001b[0;32m<ipython-input-12-c72aa919308b>\u001b[0m in \u001b[0;36m<module>\u001b[0;34m()\u001b[0m\n\u001b[0;32m----> 1\u001b[0;31m \u001b[0msorted\u001b[0m\u001b[0;34m(\u001b[0m\u001b[0mmarkets_dict\u001b[0m\u001b[0;34m,\u001b[0m \u001b[0mkey\u001b[0m\u001b[0;34m=\u001b[0m\u001b[0mmarkets_dict\u001b[0m\u001b[0;34m.\u001b[0m\u001b[0mget\u001b[0m\u001b[0;34m)\u001b[0m\u001b[0;34m\u001b[0m\u001b[0m\n\u001b[0m",
      "\u001b[0;31mNameError\u001b[0m: name 'markets_dict' is not defined"
     ]
    }
   ],
   "source": [
    "sorted(markets_dict, key=markets_dict.get)"
   ]
  },
  {
   "cell_type": "code",
   "execution_count": 14,
   "metadata": {
    "collapsed": false
   },
   "outputs": [
    {
     "data": {
      "text/plain": [
       "[('Men', 1),\n",
       " ('Surveys', 1),\n",
       " ('Food and Beverages', 1),\n",
       " ('Local Coupons', 1),\n",
       " ('Inventory Management Systems', 1),\n",
       " ('Social Television', 1),\n",
       " ('Communications Infrastructure', 1),\n",
       " ('Task Management', 1),\n",
       " ('Translation', 1),\n",
       " ('Medication Adherence', 1),\n",
       " ('Internet TV', 1),\n",
       " ('Ventures for Good', 1),\n",
       " ('Oem', 1),\n",
       " ('Sass', 1),\n",
       " ('Fashion Tech', 1),\n",
       " ('Call Center Automation', 1),\n",
       " ('Online Marketplaces', 1),\n",
       " ('Social Media Monitoring', 1),\n",
       " ('Interface Design', 1),\n",
       " ('Wine And Spirits', 1),\n",
       " ('High School Students', 1),\n",
       " ('Recycling', 1),\n",
       " ('Defense', 1),\n",
       " ('Seattle', 1),\n",
       " ('Venture Capital', 1),\n",
       " ('Enterprise 2.0', 1),\n",
       " ('RFID', 1),\n",
       " ('Bicycles', 1),\n",
       " ('High Schools', 1),\n",
       " ('Track And Trace', 1),\n",
       " ('Meeting Software', 1),\n",
       " ('3D', 1),\n",
       " ('Utilities', 1),\n",
       " ('Software Compliance', 1),\n",
       " ('M2M', 1),\n",
       " ('Game', 1),\n",
       " ('All Students', 1),\n",
       " ('Print On Demand', 1),\n",
       " ('Distribution', 1),\n",
       " ('Concerts', 1),\n",
       " ('Project Management', 1),\n",
       " ('Specialty Retail', 1),\n",
       " ('User Experience Design', 1),\n",
       " ('Specialty Chemicals', 1),\n",
       " ('Postal and Courier Services', 1),\n",
       " ('E Learn', 1),\n",
       " ('Oil & Gas', 1),\n",
       " ('Gamification', 1),\n",
       " ('Elder Care', 1),\n",
       " ('Game Mechanics', 1),\n",
       " ('Travel & Tourism', 1),\n",
       " ('Electric Vehicles', 1),\n",
       " ('User Interface Design', 1),\n",
       " ('Bioinformatics', 1),\n",
       " ('Edtech', 1),\n",
       " ('Neuroscience', 1),\n",
       " ('Photo Sharing', 1),\n",
       " ('Interest Graph', 1),\n",
       " ('Humanitarian', 1),\n",
       " ('Digital Currency', 1),\n",
       " ('Navigation', 1),\n",
       " ('Information Technology', 1),\n",
       " ('Blockchains', 1),\n",
       " ('Elderly', 1),\n",
       " ('Biometrics', 1),\n",
       " ('Photo Editing', 1),\n",
       " ('Monetization', 1),\n",
       " ('Collectibles', 1),\n",
       " ('Science', 1),\n",
       " ('Career Planning', 1),\n",
       " ('Specialty Foods', 1),\n",
       " ('Operations ', 1),\n",
       " ('Workflow', 1),\n",
       " ('Content Discovery', 1),\n",
       " ('Connected Gadgets', 1),\n",
       " ('Console Gaming', 1),\n",
       " ('Loans', 1),\n",
       " ('PC Gaming', 1),\n",
       " ('Digital Marketing', 1),\n",
       " ('Diagnostics', 1),\n",
       " ('Bio-Pharm', 1),\n",
       " ('Video Conferencing', 1),\n",
       " ('Digital Signage', 1),\n",
       " ('Visualization', 1),\n",
       " ('Fantasy Sports', 1),\n",
       " ('3D Printing', 1),\n",
       " ('Handmade', 1),\n",
       " ('Bitcoin', 1),\n",
       " ('Enterprise Application', 1),\n",
       " ('Middle East', 1),\n",
       " ('Professional Networking', 1),\n",
       " ('Internet', 1),\n",
       " ('Image Recognition', 1),\n",
       " ('Parenting', 1),\n",
       " ('Events Services', 1),\n",
       " ('Cable', 1),\n",
       " ('Rental Housing', 1),\n",
       " ('Labor Optimization', 1),\n",
       " ('Latin America', 1),\n",
       " ('Connected Devices', 1),\n",
       " ('Mobility', 1),\n",
       " ('Robotics', 1),\n",
       " ('Teenagers', 1),\n",
       " ('Health And Safety', 1),\n",
       " ('New Product Development', 1),\n",
       " ('IT Management', 1),\n",
       " ('Fleet Management', 1),\n",
       " ('Financial Technology', 1),\n",
       " ('Home & Garden', 1),\n",
       " ('Email', 1),\n",
       " ('Consumer Internet', 1),\n",
       " ('Nightclubs', 1),\n",
       " ('Health Services Industry', 1),\n",
       " ('Food Processing', 1),\n",
       " ('Social Media Advertising', 1),\n",
       " ('Medical', 1),\n",
       " ('Enterprise Search', 1),\n",
       " ('mHealth', 1),\n",
       " ('Eu Market', 1),\n",
       " ('Outdoors', 1),\n",
       " ('Creative Industries', 1),\n",
       " ('Guides', 1),\n",
       " ('Comparison Shopping', 1),\n",
       " ('Usa', 1),\n",
       " ('Power Sports', 1),\n",
       " ('Smart Building', 1),\n",
       " ('Artists Globally', 1),\n",
       " ('Content Marketing', 1),\n",
       " ('Textbooks', 1),\n",
       " ('Transportation', 1),\n",
       " ('Test and Measurement', 1),\n",
       " ('Digital Publishing', 1),\n",
       " ('Enterprises', 1),\n",
       " ('Freelancers', 1),\n",
       " ('Data', 1),\n",
       " ('Invest Online', 1),\n",
       " ('Industrial Automation', 1),\n",
       " ('Visual Search', 1),\n",
       " ('Doctors', 1),\n",
       " ('Social Recruiting', 1),\n",
       " ('Office Space', 1),\n",
       " ('Emerging Markets', 1),\n",
       " ('College Recruiting', 1),\n",
       " ('Deep Learning', 1),\n",
       " ('Product Management', 1),\n",
       " ('Staffing Firms', 1),\n",
       " ('Content Syndication', 1),\n",
       " ('Sharing Economy', 1),\n",
       " ('Consumer Goods', 1),\n",
       " ('Electronics', 1),\n",
       " ('Angels', 1),\n",
       " ('Internet of Things', 1),\n",
       " ('Families', 1),\n",
       " ('Corporate Wellness', 1),\n",
       " ('iPod Touch', 1),\n",
       " ('Communities', 1),\n",
       " ('Data Center Infrastructure', 1),\n",
       " ('E-Commerce Platforms', 1),\n",
       " ('Pets', 1),\n",
       " ('Social Buying', 1),\n",
       " ('Semantic Search', 1),\n",
       " ('Printing', 1),\n",
       " ('Disruptive Models', 1),\n",
       " ('Graphic Design', 1),\n",
       " ('Employer Benefits Programs', 1),\n",
       " ('Wearables', 1),\n",
       " ('Computer Vision', 1),\n",
       " ('Homeland Security', 1),\n",
       " ('Service Providers', 1),\n",
       " ('Augmented Reality', 1),\n",
       " ('Groceries', 1),\n",
       " ('Financial Services', 1),\n",
       " ('Online Reservations', 1),\n",
       " ('Proximity Services', 1),\n",
       " ('South East Asia', 2),\n",
       " ('Performance Marketing', 2),\n",
       " ('Services', 2),\n",
       " ('Training', 2),\n",
       " ('Consumer Lending', 2),\n",
       " ('Colleges', 2),\n",
       " ('3D Technology', 2),\n",
       " ('Customer Support Tools', 2),\n",
       " ('Telecommunications', 2),\n",
       " ('Language Learning', 2),\n",
       " ('Local Based Services', 2),\n",
       " ('Application Performance Monitoring', 2),\n",
       " ('App Stores', 2),\n",
       " ('Information Services', 2),\n",
       " ('Online Rental', 2),\n",
       " ('Social Media Platforms', 2),\n",
       " ('App Discovery', 2),\n",
       " ('Corporate Training', 2),\n",
       " ('Geospatial', 2),\n",
       " ('Design', 2),\n",
       " ('Licensing', 2),\n",
       " ('Pharmaceuticals', 2),\n",
       " ('Incubators', 2),\n",
       " ('Cleaning', 2),\n",
       " ('Video Editing', 2),\n",
       " ('Diabetes', 2),\n",
       " ('Online Gaming', 2),\n",
       " ('Logistics', 2),\n",
       " ('Content', 2),\n",
       " ('Tracking', 2),\n",
       " ('Email Marketing', 2),\n",
       " ('Direct Marketing', 2),\n",
       " ('Private Equity ', 2),\n",
       " ('Sunglasses', 2),\n",
       " ('MMO Games', 2),\n",
       " ('IaaS', 2),\n",
       " ('Group Buying', 2),\n",
       " ('Car Rental P2 P ', 2),\n",
       " ('Teachers', 2),\n",
       " ('Internet Infrastructure', 2),\n",
       " ('Synthetic Biology', 2),\n",
       " ('Lead Generation', 2),\n",
       " ('Trusted Networks', 2),\n",
       " ('Health Care Information Technology', 2),\n",
       " ('Digital Media', 2),\n",
       " ('Document Management', 2),\n",
       " ('Semiconductor Manufacturing Equipment', 2),\n",
       " ('Home Owners', 2),\n",
       " ('Entertainment', 2),\n",
       " ('Shipping', 2),\n",
       " ('Data Mining', 2),\n",
       " ('Mobile Application', 2),\n",
       " ('Agriculture', 2),\n",
       " ('Private Social Networking', 2),\n",
       " ('Physicians', 2),\n",
       " ('MicroBlogging', 2),\n",
       " ('Local Businesses', 2),\n",
       " ('Construction', 2),\n",
       " ('Lifestyle', 2),\n",
       " ('Ad Targeting', 2),\n",
       " ('Cloud Management', 2),\n",
       " ('Personalization', 2),\n",
       " ('Architecture', 2),\n",
       " ('Peer-to-Peer', 2),\n",
       " ('Seattle, Wa', 2),\n",
       " ('Point of Sale', 2),\n",
       " ('Hospitals', 2),\n",
       " ('Smart Grid', 2),\n",
       " ('Franchises', 2),\n",
       " ('Brokers', 2),\n",
       " ('Data Integration', 2),\n",
       " ('Web Tools', 2),\n",
       " ('Therapeutics', 2),\n",
       " ('Publishing', 2),\n",
       " ('Renewable Energies', 2),\n",
       " ('Educational Games', 2),\n",
       " ('Computers', 2),\n",
       " ('Business Analytics', 2),\n",
       " ('China Internet', 2),\n",
       " ('Virtual Reality', 2),\n",
       " ('Artificial Intelligence', 2),\n",
       " ('Employment', 3),\n",
       " ('Data Centers', 3),\n",
       " ('Digital Entertainment', 3),\n",
       " ('Health and Insurance', 3),\n",
       " ('Lighting', 3),\n",
       " ('Celebrity', 3),\n",
       " ('Online Travel', 3),\n",
       " ('Clinical Trials', 3),\n",
       " ('Payments', 3),\n",
       " ('Real Estate Investors', 3),\n",
       " ('Automotive', 3),\n",
       " ('Collaboration', 3),\n",
       " ('Water', 3),\n",
       " ('Parking', 3),\n",
       " ('Search Marketing', 3),\n",
       " ('Blogging Platforms', 3),\n",
       " ('Consumer ', 3),\n",
       " ('Intellectual Asset Management', 3),\n",
       " ('Cars', 3),\n",
       " ('Broadcasting', 3),\n",
       " ('Retail', 3),\n",
       " ('Ediscovery', 3),\n",
       " ('P2P Money Transfer', 3),\n",
       " ('Vacation Rentals', 3),\n",
       " ('Marketplace Lender', 3),\n",
       " ('Video Games', 3),\n",
       " ('Collaborative Consumption', 3),\n",
       " ('Electronic Health Records', 3),\n",
       " ('Shoes', 3),\n",
       " ('Developer Tools', 3),\n",
       " ('Commercial Real Estate', 3),\n",
       " ('Social Business', 3),\n",
       " ('Billing', 3),\n",
       " ('Subscription Businesses', 3),\n",
       " ('Information Security', 3),\n",
       " ('Testing', 3),\n",
       " ('Legal', 3),\n",
       " ('Sports', 3),\n",
       " ('Gambling', 3),\n",
       " ('Retail Technology', 3),\n",
       " ('Customer Service', 3),\n",
       " ('Social Travel', 3),\n",
       " ('Storage', 3),\n",
       " ('Boston', 3),\n",
       " ('Batteries', 3),\n",
       " ('E-Books', 3),\n",
       " ('Gift Card', 3),\n",
       " ('Online Dating', 3),\n",
       " ('Creative', 3),\n",
       " ('Auctions', 3),\n",
       " ('Stock Exchanges', 3),\n",
       " ('Developer APIs', 3),\n",
       " ('Mobile Software Tools', 3),\n",
       " ('Communications Hardware', 3),\n",
       " ('File Sharing', 3),\n",
       " ('Mobile Health', 3),\n",
       " ('Facebook Applications', 3),\n",
       " ('Market Research', 3),\n",
       " ('Virtual Worlds', 3),\n",
       " ('Energy Efficiency', 4),\n",
       " ('Human Resources', 4),\n",
       " ('Enterprise Security', 4),\n",
       " ('Crowdfunding', 4),\n",
       " ('Tutoring', 4),\n",
       " ('Incentives', 4),\n",
       " ('Social Media Marketing', 4),\n",
       " ('K-12 Education', 4),\n",
       " ('Reviews and Recommendations', 4),\n",
       " ('Flash Storage', 4),\n",
       " ('Network Security', 4),\n",
       " ('Ticketing', 4),\n",
       " ('Shopping', 4),\n",
       " ('Nanotechnology', 4),\n",
       " ('Environmental Innovation', 4),\n",
       " ('Music', 4),\n",
       " ('Consumer Electronics', 4),\n",
       " ('Real Time', 4),\n",
       " ('Risk Management', 4),\n",
       " ('Mobile Games', 4),\n",
       " ('Loyalty Programs', 4),\n",
       " ('App Marketing', 4),\n",
       " ('Credit Cards', 4),\n",
       " ('Price Comparison', 4),\n",
       " ('Video on Demand', 4),\n",
       " ('Web CMS', 4),\n",
       " ('Mobile Video', 4),\n",
       " ('Kids', 4),\n",
       " ('Internet Radio', 4),\n",
       " ('Content Delivery', 4),\n",
       " ('Jewelry', 4),\n",
       " ('Business Intelligence', 4),\n",
       " ('Location Based Services', 4),\n",
       " ('Genetic Testing', 4),\n",
       " ('Fraud Detection', 4),\n",
       " ('Social Commerce', 4),\n",
       " ('Mobile Analytics', 4),\n",
       " ('Cyber Security', 4),\n",
       " ('Bridging Online and Offline', 4),\n",
       " ('Supply Chain Management', 4),\n",
       " ('Optimization', 4),\n",
       " ('VoIP', 4),\n",
       " ('Drones', 4),\n",
       " ('Heathcare', 4),\n",
       " ('Cloud Security', 4),\n",
       " ('Identity Management', 4),\n",
       " ('Accounting', 4),\n",
       " ('Gps', 5),\n",
       " ('Photography', 5),\n",
       " ('Data Security', 5),\n",
       " ('Fitness', 5),\n",
       " ('Mobile Commerce', 5),\n",
       " ('Restaurants', 5),\n",
       " ('Cloud Computing', 5),\n",
       " ('Insurance', 5),\n",
       " ('Application Platforms', 5),\n",
       " ('Finance Technology', 5),\n",
       " ('Beauty', 5),\n",
       " ('Personal Finance', 5),\n",
       " ('Television', 5),\n",
       " ('Marketing', 5),\n",
       " ('Data Visualization', 5),\n",
       " ('iPhone', 5),\n",
       " ('Career Management', 5),\n",
       " ('Hotels', 5),\n",
       " ('Public Transportation', 5),\n",
       " ('Sales Automation', 5),\n",
       " ('SEO', 5),\n",
       " ('Nonprofits', 5),\n",
       " ('Brand Marketing', 5),\n",
       " ('Internet Marketing', 5),\n",
       " ('Social Network Media', 6),\n",
       " ('Marketing Automation', 6),\n",
       " ('Events', 6),\n",
       " ('Productivity Software', 6),\n",
       " ('Online Shopping', 6),\n",
       " ('Business Services', 6),\n",
       " ('PaaS', 6),\n",
       " ('Startups', 6),\n",
       " ('Predictive Analytics', 6),\n",
       " ('Graphics', 6),\n",
       " ('Video Streaming', 7),\n",
       " ('Banking', 7),\n",
       " ('Search', 7),\n",
       " ('Small and Medium Businesses', 8),\n",
       " ('Mobile Payments', 8),\n",
       " ('Travel', 8),\n",
       " ('Advertising Platforms', 8),\n",
       " ('Open Source', 8),\n",
       " ('Mobile Security', 8),\n",
       " ('News', 8),\n",
       " ('Android', 8),\n",
       " ('Audio', 8),\n",
       " ('Cloud Infrastructure', 8),\n",
       " ('Online Video Advertising', 9),\n",
       " ('Wireless', 9),\n",
       " ('Mobile Advertising', 9),\n",
       " ('Public Relations', 9),\n",
       " ('Apps', 9),\n",
       " ('Fashion', 10),\n",
       " ('Real Estate', 10),\n",
       " ('Databases', 10),\n",
       " ('Crowdsourcing', 11),\n",
       " ('Cloud Data Services', 11),\n",
       " ('Video', 11),\n",
       " ('Medical Devices', 11),\n",
       " ('Big Data', 11),\n",
       " ('B2B', 12),\n",
       " ('Web Development', 12),\n",
       " ('Marketplaces', 13),\n",
       " ('Social Media', 13),\n",
       " ('Networking', 13),\n",
       " ('Virtualization', 13),\n",
       " ('Hospitality', 15),\n",
       " ('Messaging', 15),\n",
       " ('Consulting', 16),\n",
       " ('Education', 19),\n",
       " ('Technology', 20),\n",
       " ('Big Data Analytics', 20),\n",
       " ('Health and Wellness', 22),\n",
       " ('SaaS', 26),\n",
       " ('Manufacturing', 26),\n",
       " ('Analytics', 32),\n",
       " ('Finance', 34),\n",
       " ('Games', 36),\n",
       " ('E-Commerce', 41),\n",
       " ('Advertising', 42),\n",
       " ('Security', 45),\n",
       " ('Web Hosting', 47),\n",
       " ('Curated Web', 58),\n",
       " ('Mobile', 58),\n",
       " ('Semiconductors', 74),\n",
       " ('Hardware + Software', 76),\n",
       " ('Clean Technology', 80),\n",
       " ('Enterprise Software', 97),\n",
       " ('Health Care', 104),\n",
       " ('-', 191),\n",
       " ('Software', 235),\n",
       " ('Biotechnology', 284),\n",
       " ('', 306)]"
      ]
     },
     "execution_count": 14,
     "metadata": {},
     "output_type": "execute_result"
    }
   ],
   "source": [
    "sorted_markets"
   ]
  },
  {
   "cell_type": "code",
   "execution_count": 15,
   "metadata": {
    "collapsed": false
   },
   "outputs": [],
   "source": [
    "markets_dict = dict(Counter(funding_df['Market']))"
   ]
  },
  {
   "cell_type": "code",
   "execution_count": 7,
   "metadata": {
    "collapsed": false
   },
   "outputs": [
    {
     "data": {
      "text/plain": [
       "Counter({'': 306, 'Biotechnology': 284, 'Software': 235, '-': 191, 'Health Care': 104, 'Enterprise Software': 97, 'Clean Technology': 80, 'Hardware + Software': 76, 'Semiconductors': 74, 'Mobile': 58, 'Curated Web': 58, 'Web Hosting': 47, 'Security': 45, 'Advertising': 42, 'E-Commerce': 41, 'Games': 36, 'Finance': 34, 'Analytics': 32, 'SaaS': 26, 'Manufacturing': 26, 'Health and Wellness': 22, 'Technology': 20, 'Big Data Analytics': 20, 'Education': 19, 'Consulting': 16, 'Messaging': 15, 'Hospitality': 15, 'Marketplaces': 13, 'Networking': 13, 'Social Media': 13, 'Virtualization': 13, 'B2B': 12, 'Web Development': 12, 'Crowdsourcing': 11, 'Cloud Data Services': 11, 'Video': 11, 'Big Data': 11, 'Medical Devices': 11, 'Real Estate': 10, 'Databases': 10, 'Fashion': 10, 'Online Video Advertising': 9, 'Public Relations': 9, 'Apps': 9, 'Mobile Advertising': 9, 'Wireless': 9, 'Mobile Payments': 8, 'Advertising Platforms': 8, 'Open Source': 8, 'Small and Medium Businesses': 8, 'Android': 8, 'Travel': 8, 'Mobile Security': 8, 'News': 8, 'Cloud Infrastructure': 8, 'Audio': 8, 'Video Streaming': 7, 'Banking': 7, 'Search': 7, 'Productivity Software': 6, 'Business Services': 6, 'PaaS': 6, 'Predictive Analytics': 6, 'Graphics': 6, 'Social Network Media': 6, 'Events': 6, 'Marketing Automation': 6, 'Startups': 6, 'Online Shopping': 6, 'Restaurants': 5, 'Cloud Computing': 5, 'Finance Technology': 5, 'Personal Finance': 5, 'Television': 5, 'Marketing': 5, 'iPhone': 5, 'Public Transportation': 5, 'SEO': 5, 'Nonprofits': 5, 'Gps': 5, 'Photography': 5, 'Data Security': 5, 'Fitness': 5, 'Mobile Commerce': 5, 'Application Platforms': 5, 'Insurance': 5, 'Beauty': 5, 'Hotels': 5, 'Data Visualization': 5, 'Career Management': 5, 'Sales Automation': 5, 'Brand Marketing': 5, 'Internet Marketing': 5, 'Crowdfunding': 4, 'Incentives': 4, 'Social Media Marketing': 4, 'Reviews and Recommendations': 4, 'Flash Storage': 4, 'Ticketing': 4, 'Consumer Electronics': 4, 'Real Time': 4, 'Loyalty Programs': 4, 'Credit Cards': 4, 'Video on Demand': 4, 'Mobile Video': 4, 'Kids': 4, 'Business Intelligence': 4, 'Location Based Services': 4, 'Network Security': 4, 'Mobile Analytics': 4, 'Cyber Security': 4, 'Supply Chain Management': 4, 'Bridging Online and Offline': 4, 'Identity Management': 4, 'Accounting': 4, 'Human Resources': 4, 'Enterprise Security': 4, 'Price Comparison': 4, 'K-12 Education': 4, 'Shopping': 4, 'Nanotechnology': 4, 'Environmental Innovation': 4, 'Drones': 4, 'Mobile Games': 4, 'Optimization': 4, 'Music': 4, 'VoIP': 4, 'Risk Management': 4, 'Web CMS': 4, 'Internet Radio': 4, 'Jewelry': 4, 'Genetic Testing': 4, 'Fraud Detection': 4, 'Social Commerce': 4, 'App Marketing': 4, 'Energy Efficiency': 4, 'Tutoring': 4, 'Heathcare': 4, 'Cloud Security': 4, 'Content Delivery': 4, 'Health and Insurance': 3, 'Lighting': 3, 'Celebrity': 3, 'Online Travel': 3, 'Clinical Trials': 3, 'Automotive': 3, 'Collaboration': 3, 'Blogging Platforms': 3, 'Intellectual Asset Management': 3, 'Retail': 3, 'Ediscovery': 3, 'Marketplace Lender': 3, 'Video Games': 3, 'Shoes': 3, 'Social Business': 3, 'Subscription Businesses': 3, 'Testing': 3, 'Legal': 3, 'Sports': 3, 'Consumer ': 3, 'Boston': 3, 'Batteries': 3, 'E-Books': 3, 'Communications Hardware': 3, 'Creative': 3, 'Auctions': 3, 'Developer APIs': 3, 'Mobile Software Tools': 3, 'Mobile Health': 3, 'Facebook Applications': 3, 'Market Research': 3, 'Data Centers': 3, 'P2P Money Transfer': 3, 'Storage': 3, 'Real Estate Investors': 3, 'Digital Entertainment': 3, 'Water': 3, 'Search Marketing': 3, 'Developer Tools': 3, 'Commercial Real Estate': 3, 'Social Travel': 3, 'Cars': 3, 'Broadcasting': 3, 'Vacation Rentals': 3, 'Employment': 3, 'Stock Exchanges': 3, 'Gambling': 3, 'Collaborative Consumption': 3, 'Retail Technology': 3, 'Customer Service': 3, 'Electronic Health Records': 3, 'Gift Card': 3, 'Billing': 3, 'Online Dating': 3, 'Information Security': 3, 'File Sharing': 3, 'Parking': 3, 'Payments': 3, 'Virtual Worlds': 3, 'Performance Marketing': 2, 'Training': 2, 'Customer Support Tools': 2, 'Telecommunications': 2, 'Language Learning': 2, 'Local Based Services': 2, 'Information Services': 2, 'App Discovery': 2, 'Corporate Training': 2, 'Architecture': 2, 'Incubators': 2, 'Diabetes': 2, 'Online Gaming': 2, 'MMO Games': 2, 'Car Rental P2 P ': 2, 'Health Care Information Technology': 2, 'Digital Media': 2, 'Semiconductor Manufacturing Equipment': 2, 'Agriculture': 2, 'Physicians': 2, 'Construction': 2, 'Cloud Management': 2, 'Peer-to-Peer': 2, 'Smart Grid': 2, 'Home Owners': 2, 'Brokers': 2, 'Therapeutics': 2, 'Computers': 2, 'South East Asia': 2, 'App Stores': 2, 'Services': 2, 'Colleges': 2, '3D Technology': 2, 'Application Performance Monitoring': 2, 'Online Rental': 2, 'Social Media Platforms': 2, 'Geospatial': 2, 'Design': 2, 'Licensing': 2, 'Pharmaceuticals': 2, 'Cleaning': 2, 'Video Editing': 2, 'Logistics': 2, 'Content': 2, 'Email Marketing': 2, 'Direct Marketing': 2, 'Group Buying': 2, 'Private Equity ': 2, 'Sunglasses': 2, 'Lead Generation': 2, 'IaaS': 2, 'Teachers': 2, 'Internet Infrastructure': 2, 'Educational Games': 2, 'Trusted Networks': 2, 'Synthetic Biology': 2, 'Document Management': 2, 'Tracking': 2, 'Shipping': 2, 'Data Mining': 2, 'Private Social Networking': 2, 'Mobile Application': 2, 'MicroBlogging': 2, 'Lifestyle': 2, 'Ad Targeting': 2, 'Personalization': 2, 'Hospitals': 2, 'Point of Sale': 2, 'Seattle, Wa': 2, 'Franchises': 2, 'Entertainment': 2, 'Consumer Lending': 2, 'Data Integration': 2, 'Web Tools': 2, 'Local Businesses': 2, 'Publishing': 2, 'Renewable Energies': 2, 'Business Analytics': 2, 'China Internet': 2, 'Virtual Reality': 2, 'Artificial Intelligence': 2, 'Food and Beverages': 1, 'Inventory Management Systems': 1, 'Social Television': 1, 'Communications Infrastructure': 1, 'Medication Adherence': 1, 'Fashion Tech': 1, 'Call Center Automation': 1, 'Interface Design': 1, 'Defense': 1, 'Seattle': 1, 'RFID': 1, 'High Schools': 1, 'Meeting Software': 1, '3D': 1, 'Software Compliance': 1, 'M2M': 1, 'Game': 1, 'Distribution': 1, 'Project Management': 1, 'User Experience Design': 1, 'Specialty Chemicals': 1, 'Postal and Courier Services': 1, 'E Learn': 1, 'Gamification': 1, 'Elder Care': 1, 'Electric Vehicles': 1, 'User Interface Design': 1, 'Bioinformatics': 1, 'Neuroscience': 1, 'Photo Sharing': 1, 'Humanitarian': 1, 'Blockchains': 1, 'Monetization': 1, 'Ventures for Good': 1, 'Career Planning': 1, 'Operations ': 1, 'Connected Gadgets': 1, 'Video Conferencing': 1, 'Enterprise Application': 1, 'Middle East': 1, 'Professional Networking': 1, 'Usa': 1, 'Cable': 1, 'Power Sports': 1, 'Connected Devices': 1, 'Mobility': 1, 'Health And Safety': 1, 'IT Management': 1, 'Fleet Management': 1, 'Financial Technology': 1, 'Consumer Internet': 1, 'Nightclubs': 1, 'Health Services Industry': 1, 'Food Processing': 1, 'Eu Market': 1, 'Creative Industries': 1, 'Test and Measurement': 1, 'Smart Building': 1, 'Transportation': 1, 'Enterprises': 1, 'Freelancers': 1, 'Data': 1, 'Invest Online': 1, 'Industrial Automation': 1, 'Visual Search': 1, 'Social Recruiting': 1, 'Deep Learning': 1, 'Product Management': 1, 'Financial Services': 1, 'Sharing Economy': 1, 'Angels': 1, 'Track And Trace': 1, 'Internet of Things': 1, 'Corporate Wellness': 1, 'iPod Touch': 1, 'Social Buying': 1, 'Semantic Search': 1, 'Printing': 1, 'Employer Benefits Programs': 1, 'Homeland Security': 1, 'Service Providers': 1, 'Augmented Reality': 1, 'Groceries': 1, 'Proximity Services': 1, 'Visualization': 1, 'Local Coupons': 1, 'All Students': 1, 'Oil & Gas': 1, 'Travel & Tourism': 1, 'Translation': 1, 'Sass': 1, 'Online Marketplaces': 1, 'Wine And Spirits': 1, 'High School Students': 1, 'Guides': 1, 'Venture Capital': 1, 'Edtech': 1, 'Bicycles': 1, 'Utilities': 1, 'Task Management': 1, 'Oem': 1, 'Print On Demand': 1, 'Online Reservations': 1, 'Concerts': 1, 'Specialty Retail': 1, 'Enterprise 2.0': 1, 'Office Space': 1, 'Doctors': 1, 'Communities': 1, 'Textbooks': 1, 'Digital Currency': 1, 'Navigation': 1, 'Information Technology': 1, 'Elderly': 1, 'Biometrics': 1, 'Photo Editing': 1, 'Collectibles': 1, 'Recycling': 1, 'Specialty Foods': 1, 'Workflow': 1, 'Loans': 1, 'PC Gaming': 1, 'Medical': 1, 'Diagnostics': 1, 'Bio-Pharm': 1, 'Digital Signage': 1, 'Digital Marketing': 1, 'Surveys': 1, 'Fantasy Sports': 1, '3D Printing': 1, 'Handmade': 1, 'Bitcoin': 1, 'Pets': 1, 'Internet': 1, 'Image Recognition': 1, 'Emerging Markets': 1, 'Parenting': 1, 'Events Services': 1, 'Rental Housing': 1, 'Latin America': 1, 'Robotics': 1, 'Teenagers': 1, 'New Product Development': 1, 'Home & Garden': 1, 'Email': 1, 'Console Gaming': 1, 'Men': 1, 'Social Media Monitoring': 1, 'Social Media Advertising': 1, 'Enterprise Search': 1, 'mHealth': 1, 'Outdoors': 1, 'Game Mechanics': 1, 'Comparison Shopping': 1, 'Labor Optimization': 1, 'Artists Globally': 1, 'Content Marketing': 1, 'Digital Publishing': 1, 'Interest Graph': 1, 'Staffing Firms': 1, 'Science': 1, 'Graphic Design': 1, 'Content Syndication': 1, 'Consumer Goods': 1, 'Electronics': 1, 'Families': 1, 'College Recruiting': 1, 'Internet TV': 1, 'Data Center Infrastructure': 1, 'E-Commerce Platforms': 1, 'Disruptive Models': 1, 'Wearables': 1, 'Computer Vision': 1, 'Content Discovery': 1})"
      ]
     },
     "execution_count": 7,
     "metadata": {},
     "output_type": "execute_result"
    }
   ],
   "source": [
    "from collections import Counter\n",
    "Counter(funding_df['Market'])"
   ]
  },
  {
   "cell_type": "code",
   "execution_count": 6,
   "metadata": {
    "collapsed": false
   },
   "outputs": [
    {
     "data": {
      "text/plain": [
       "0                             Cable\n",
       "1                      All Students\n",
       "2       Bridging Online and Offline\n",
       "3                   Food Processing\n",
       "4                                 -\n",
       "5                          Software\n",
       "6                                  \n",
       "7                                 -\n",
       "8                                  \n",
       "9                       Blockchains\n",
       "10                              B2B\n",
       "11                         Colleges\n",
       "12                      Advertising\n",
       "13                         Security\n",
       "14                 Mobile Analytics\n",
       "15                           Drones\n",
       "16         Online Video Advertising\n",
       "17                         Bicycles\n",
       "18                      Home Owners\n",
       "19                        Education\n",
       "20                                 \n",
       "21                              SEO\n",
       "22                              B2B\n",
       "23               P2P Money Transfer\n",
       "24                        Databases\n",
       "25                                -\n",
       "26                  Brand Marketing\n",
       "27                         Software\n",
       "28                      Photography\n",
       "29                    Biotechnology\n",
       "                   ...             \n",
       "3177            Health and Wellness\n",
       "3178                               \n",
       "3179                              -\n",
       "3180    Reviews and Recommendations\n",
       "3181                       Software\n",
       "3182                   Crowdfunding\n",
       "3183                     Networking\n",
       "3184                  Biotechnology\n",
       "3185                  Biotechnology\n",
       "3186              Energy Efficiency\n",
       "3187                              -\n",
       "3188            Hardware + Software\n",
       "3189                       Security\n",
       "3190                       Software\n",
       "3191                     E-Commerce\n",
       "3192              Educational Games\n",
       "3193                              -\n",
       "3194                              -\n",
       "3195                              -\n",
       "3196                       Big Data\n",
       "3197                       Software\n",
       "3198                  Crowdsourcing\n",
       "3199               Clean Technology\n",
       "3200                   Construction\n",
       "3201                 Virtualization\n",
       "3202                               \n",
       "3203                        Finance\n",
       "3204                            Men\n",
       "3205                      Analytics\n",
       "3206                          Games\n",
       "Name: Market, dtype: object"
      ]
     },
     "execution_count": 6,
     "metadata": {},
     "output_type": "execute_result"
    }
   ],
   "source": [
    "funding_df['Market']"
   ]
  },
  {
   "cell_type": "code",
   "execution_count": 95,
   "metadata": {
    "collapsed": false
   },
   "outputs": [
    {
     "data": {
      "text/plain": [
       "3207"
      ]
     },
     "execution_count": 95,
     "metadata": {},
     "output_type": "execute_result"
    }
   ],
   "source": [
    "len(funding_df['Description'] != '')\n",
    "len(funding_df['Description'])"
   ]
  },
  {
   "cell_type": "code",
   "execution_count": 33,
   "metadata": {
    "collapsed": false
   },
   "outputs": [
    {
     "data": {
      "text/plain": [
       "((5974206.0607361961, 5542666.9309859239, 76000000, 56300),\n",
       " (11512685.208875287, 9372374.3103021737, 85000000, 88900),\n",
       " (16317432.270710059, 12946385.665555209, 99000000, 45),\n",
       " (16693317.080402009, 12485770.709775113, 75000000, 100000))"
      ]
     },
     "execution_count": 33,
     "metadata": {},
     "output_type": "execute_result"
    }
   ],
   "source": [
    "def find_stats(funding):\n",
    "    amounts = filter(lambda x: x!='', list(funding))\n",
    "    amounts = map(lambda x: int(x[1:].replace(',', '')), amounts)\n",
    "    return np.mean(amounts), np.std(amounts), max(amounts), min(amounts)\n",
    "    \n",
    "(find_stats(funding_df.Series_A_Amount), find_stats(funding_df.Series_B_Amount), find_stats(funding_df.Series_C_Amount), find_stats(funding_df.Series_D_Amount))"
   ]
  },
  {
   "cell_type": "markdown",
   "metadata": {},
   "source": [
    "It looks like the average Series A funding round is approximately \\$6 million, the average Series B funding round is \\$11 million, the average Series C funding round is \\$16 million, and the average Series D funding round is around \\$17 million dollars. It is extremely clear though that there is a lot of variance in the amount of money raised for each company though. Let's perform some exploratory analysis by looking at some plots. "
   ]
  },
  {
   "cell_type": "code",
   "execution_count": 58,
   "metadata": {
    "collapsed": false
   },
   "outputs": [
    {
     "data": {
      "image/png": "[encoded data removed]",
      "text/plain": [
       "<matplotlib.figure.Figure at 0x10d05e950>"
      ]
     },
     "metadata": {},
     "output_type": "display_data"
    }
   ],
   "source": [
    "def create_plot(funding_df):\n",
    "    fig, axes = plt.subplots(nrows=2, ncols=2)\n",
    "    fig.tight_layout()\n",
    "    round_title = ['Series A Funding Amounts', 'Series B Funding Amounts', 'Series C Funding Amounts', 'Series D Funding Amounts']\n",
    "    rounds = [funding_df.Series_A_Amount, funding_df.Series_B_Amount, funding_df.Series_C_Amount, funding_df.Series_D_Amount]\n",
    "    for ax, i in zip(axes.ravel(), range(len(rounds))):\n",
    "        funding = rounds[i] \n",
    "        amounts = filter(lambda x: x!='', list(funding))\n",
    "        amounts = map(lambda x: int(x[1:].replace(',', '')), amounts)\n",
    "        ax.hist(amounts, color='b', alpha=0.5)\n",
    "        ax.set_title(round_title[i])\n",
    "        ax.set_xlim(0, 1e8)\n",
    "\n",
    "create_plot(funding_df)\n",
    "    "
   ]
  },
  {
   "cell_type": "code",
   "execution_count": 3,
   "metadata": {
    "collapsed": false
   },
   "outputs": [
    {
     "data": {
      "text/plain": [
       "1.0986122886681098"
      ]
     },
     "execution_count": 3,
     "metadata": {},
     "output_type": "execute_result"
    }
   ],
   "source": [
    "np.log(3)"
   ]
  },
  {
   "cell_type": "code",
   "execution_count": 24,
   "metadata": {
    "collapsed": false
   },
   "outputs": [
    {
     "data": {
      "text/plain": [
       "array([ 1.09861229,  1.38629436])"
      ]
     },
     "execution_count": 24,
     "metadata": {},
     "output_type": "execute_result"
    }
   ],
   "source": [
    "np.log([3,4])"
   ]
  },
  {
   "cell_type": "code",
   "execution_count": 25,
   "metadata": {
    "collapsed": true
   },
   "outputs": [],
   "source": [
    "def create_plot_log(funding_df):\n",
    "    fig, axes = plt.subplots(nrows=2, ncols=2)\n",
    "    fig.tight_layout()\n",
    "    round_title = ['Series A Funding Amounts', 'Series B Funding Amounts', 'Series C Funding Amounts', 'Series D Funding Amounts']\n",
    "    rounds = [funding_df.Series_A_Amount, funding_df.Series_B_Amount, funding_df.Series_C_Amount, funding_df.Series_D_Amount]\n",
    "    for ax, i in zip(axes.ravel(), range(len(rounds))):\n",
    "        funding = rounds[i] \n",
    "        amounts = filter(lambda x: x!='', list(funding))\n",
    "        amounts = map(lambda x: int(x[1:].replace(',', '')), amounts)\n",
    "        ax.hist(np.log(amounts), color='b', alpha=0.5)\n",
    "        ax.set_title(round_title[i])\n",
    "        "
   ]
  },
  {
   "cell_type": "code",
   "execution_count": 26,
   "metadata": {
    "collapsed": false
   },
   "outputs": [
    {
     "data": {
      "image/png": "[encoded data removed]",
      "text/plain": [
       "<matplotlib.figure.Figure at 0x10b559b50>"
      ]
     },
     "metadata": {},
     "output_type": "display_data"
    }
   ],
   "source": [
    "create_plot_log(funding_df)"
   ]
  },
  {
   "cell_type": "markdown",
   "metadata": {},
   "source": [
    "It seems that the funding amounts are positively skewed. The funding amounts also do not follow a normal distribution. A log transformation appears to help achieve normality."
   ]
  },
  {
   "cell_type": "markdown",
   "metadata": {},
   "source": [
    "### Naive Methods of Prediction"
   ]
  },
  {
   "cell_type": "markdown",
   "metadata": {},
   "source": [
    "Without Twitter data, let's perform the most naive way of predicting funding round amounts by predicting the average Series amount. We'll see what the root mean squared error for this method is, and use this as a baseline. "
   ]
  },
  {
   "cell_type": "code",
   "execution_count": 101,
   "metadata": {
    "collapsed": false
   },
   "outputs": [
    {
     "data": {
      "text/html": [
       "<div>\n",
       "<table border=\"1\" class=\"dataframe\">\n",
       "  <thead>\n",
       "    <tr style=\"text-align: right;\">\n",
       "      <th></th>\n",
       "      <th>Names</th>\n",
       "      <th>Series_Amount</th>\n",
       "      <th>Market</th>\n",
       "      <th>Series_Type</th>\n",
       "    </tr>\n",
       "  </thead>\n",
       "  <tbody>\n",
       "    <tr>\n",
       "      <th>2</th>\n",
       "      <td>Visualead</td>\n",
       "      <td>$1,600,000</td>\n",
       "      <td>Bridging Online and Offline</td>\n",
       "      <td>Series_A</td>\n",
       "    </tr>\n",
       "    <tr>\n",
       "      <th>5</th>\n",
       "      <td>filmloop</td>\n",
       "      <td>$5,600,000</td>\n",
       "      <td>Software</td>\n",
       "      <td>Series_A</td>\n",
       "    </tr>\n",
       "    <tr>\n",
       "      <th>6</th>\n",
       "      <td>Mochi-Media</td>\n",
       "      <td>$4,000,000</td>\n",
       "      <td></td>\n",
       "      <td>Series_A</td>\n",
       "    </tr>\n",
       "    <tr>\n",
       "      <th>7</th>\n",
       "      <td>SkyRecon-Systems</td>\n",
       "      <td>$3,730,000</td>\n",
       "      <td>-</td>\n",
       "      <td>Series_A</td>\n",
       "    </tr>\n",
       "    <tr>\n",
       "      <th>8</th>\n",
       "      <td>Lumos-Labs</td>\n",
       "      <td>$3,100,000</td>\n",
       "      <td></td>\n",
       "      <td>Series_A</td>\n",
       "    </tr>\n",
       "  </tbody>\n",
       "</table>\n",
       "</div>"
      ],
      "text/plain": [
       "              Names Series_Amount                       Market Series_Type\n",
       "2         Visualead    $1,600,000  Bridging Online and Offline    Series_A\n",
       "5          filmloop    $5,600,000                     Software    Series_A\n",
       "6       Mochi-Media    $4,000,000                                 Series_A\n",
       "7  SkyRecon-Systems    $3,730,000                            -    Series_A\n",
       "8        Lumos-Labs    $3,100,000                                 Series_A"
      ]
     },
     "execution_count": 101,
     "metadata": {},
     "output_type": "execute_result"
    }
   ],
   "source": [
    "series_A = funding_df[funding_df['Series_A_Amount'] != ''][['Names', 'Series_A_Amount', 'Market']]\n",
    "series_A.columns = ['Names', 'Series_Amount', 'Market']\n",
    "series_A['Series_Type'] = pd.Series('Series_A', index=series_A.index)\n",
    "\n",
    "series_B = funding_df[funding_df['Series_B_Amount'] != ''][['Names', 'Series_B_Amount', 'Market']]\n",
    "series_B.columns = ['Names', 'Series_Amount', 'Market']\n",
    "series_B['Series_Type'] = pd.Series('Series_B', index=series_B.index)\n",
    "\n",
    "series_C = funding_df[funding_df['Series_C_Amount'] != ''][['Names', 'Series_C_Amount', 'Market']]\n",
    "series_C.columns = ['Names', 'Series_Amount', 'Market']\n",
    "series_C['Series_Type'] = pd.Series('Series_C', index=series_C.index)\n",
    "\n",
    "series_D = funding_df[funding_df['Series_D_Amount'] != ''][['Names', 'Series_D_Amount', 'Market']]\n",
    "series_D.columns = ['Names', 'Series_Amount', 'Market']\n",
    "series_D['Series_Type'] = pd.Series('Series_D', index=series_D.index)\n",
    "\n",
    "funding_collapsed = pd.concat([series_A, series_B, series_C, series_D])\n",
    "funding_collapsed.head()"
   ]
  },
  {
   "cell_type": "markdown",
   "metadata": {},
   "source": [
    "As usual, we also create a test and train set. We will calculate the averages based off of the train set to make sure that no leakage occurs into the test set of our data. Below, we also write a root mean squared error to determine our average error. "
   ]
  },
  {
   "cell_type": "code",
   "execution_count": 118,
   "metadata": {
    "collapsed": false
   },
   "outputs": [
    {
     "data": {
      "text/html": [
       "<div>\n",
       "<table border=\"1\" class=\"dataframe\">\n",
       "  <thead>\n",
       "    <tr style=\"text-align: right;\">\n",
       "      <th></th>\n",
       "      <th>Names</th>\n",
       "      <th>Series_Amount</th>\n",
       "      <th>Market</th>\n",
       "      <th>Series_Type</th>\n",
       "    </tr>\n",
       "  </thead>\n",
       "  <tbody>\n",
       "    <tr>\n",
       "      <th>2</th>\n",
       "      <td>Visualead</td>\n",
       "      <td>$1,600,000</td>\n",
       "      <td>Bridging Online and Offline</td>\n",
       "      <td>Series_A</td>\n",
       "    </tr>\n",
       "    <tr>\n",
       "      <th>5</th>\n",
       "      <td>filmloop</td>\n",
       "      <td>$5,600,000</td>\n",
       "      <td>Software</td>\n",
       "      <td>Series_A</td>\n",
       "    </tr>\n",
       "    <tr>\n",
       "      <th>6</th>\n",
       "      <td>Mochi-Media</td>\n",
       "      <td>$4,000,000</td>\n",
       "      <td></td>\n",
       "      <td>Series_A</td>\n",
       "    </tr>\n",
       "    <tr>\n",
       "      <th>9</th>\n",
       "      <td>ROBLOX</td>\n",
       "      <td>$2,200,000</td>\n",
       "      <td>Blockchains</td>\n",
       "      <td>Series_A</td>\n",
       "    </tr>\n",
       "    <tr>\n",
       "      <th>10</th>\n",
       "      <td>SendHub</td>\n",
       "      <td>$3,000,000</td>\n",
       "      <td>B2B</td>\n",
       "      <td>Series_A</td>\n",
       "    </tr>\n",
       "  </tbody>\n",
       "</table>\n",
       "</div>"
      ],
      "text/plain": [
       "          Names Series_Amount                       Market Series_Type\n",
       "2     Visualead    $1,600,000  Bridging Online and Offline    Series_A\n",
       "5      filmloop    $5,600,000                     Software    Series_A\n",
       "6   Mochi-Media    $4,000,000                                 Series_A\n",
       "9        ROBLOX    $2,200,000                  Blockchains    Series_A\n",
       "10      SendHub    $3,000,000                          B2B    Series_A"
      ]
     },
     "execution_count": 118,
     "metadata": {},
     "output_type": "execute_result"
    }
   ],
   "source": [
    "from sklearn.cross_validation import train_test_split\n",
    "itrain, itest = train_test_split(xrange(funding_collapsed.shape[0]), train_size=0.7)\n",
    "mask=np.ones(funding_collapsed.shape[0], dtype='int')\n",
    "mask[itrain]=1\n",
    "mask[itest]=0\n",
    "mask=(mask==1)\n",
    "funding_train = funding_collapsed[mask]\n",
    "funding_test = funding_collapsed[~mask]\n",
    "funding_train.head()"
   ]
  },
  {
   "cell_type": "code",
   "execution_count": 216,
   "metadata": {
    "collapsed": false
   },
   "outputs": [
    {
     "data": {
      "text/plain": [
       "10495839.87337919"
      ]
     },
     "execution_count": 216,
     "metadata": {},
     "output_type": "execute_result"
    }
   ],
   "source": [
    "series_a_avg = find_stats(funding_train[funding_train['Series_Type'] == 'Series_A'].Series_Amount)[0]\n",
    "series_b_avg = find_stats(funding_train[funding_train['Series_Type'] == 'Series_B'].Series_Amount)[0]\n",
    "series_c_avg = find_stats(funding_train[funding_train['Series_Type'] == 'Series_C'].Series_Amount)[0]\n",
    "series_d_avg = find_stats(funding_train[funding_train['Series_Type'] == 'Series_D'].Series_Amount)[0]\n",
    "\n",
    "def return_series_avg(stage):\n",
    "    if stage == 'Series_A':\n",
    "        return series_a_avg\n",
    "    elif stage == 'Series_B':\n",
    "        return series_b_avg\n",
    "    elif stage == 'Series_C':\n",
    "        return series_c_avg \n",
    "    elif stage == 'Series_D':\n",
    "        return series_d_avg\n",
    "    else:\n",
    "        return 1\n",
    "\n",
    "def rmse(testdf):\n",
    "    return np.sqrt(np.mean(map(lambda pred, actual: (pred-int(actual[1:].replace(',', '')))**2, testdf['Predicted_Amount'], testdf['Series_Amount'])))\n",
    "    \n",
    "rmse(funding_test)"
   ]
  },
  {
   "cell_type": "markdown",
   "metadata": {},
   "source": [
    "The root mean squared error is approximately \\$10 million. This will be the baseline for the rest of our approaches through the rest of this project."
   ]
  },
  {
   "cell_type": "code",
   "execution_count": null,
   "metadata": {
    "collapsed": true
   },
   "outputs": [],
   "source": []
  }
 ],
 "metadata": {
  "kernelspec": {
   "display_name": "Python 2",
   "language": "python",
   "name": "python2"
  },
  "language_info": {
   "codemirror_mode": {
    "name": "ipython",
    "version": 2
   },
   "file_extension": ".py",
   "mimetype": "text/x-python",
   "name": "python",
   "nbconvert_exporter": "python",
   "pygments_lexer": "ipython2",
   "version": "2.7.10"
  }
 },
 "nbformat": 4,
 "nbformat_minor": 0
}
