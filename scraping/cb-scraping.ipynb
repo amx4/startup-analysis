{
 "cells": [
  {
   "cell_type": "code",
   "execution_count": null,
   "metadata": {
    "collapsed": true
   },
   "outputs": [],
   "source": [
    "from bs4 import BeautifulSoup\n",
    "import urllib2\n",
    "import urllib\n",
    "import json\n",
    "import csv\n",
    "import time\n",
    "import pickle\n",
    "\n",
    "request_headers = {\n",
    "\"Connection\": \"keep-alive\",\n",
    "\"Content-Length\": \"18\",\n",
    "\"User-Agent\": \n",
    "\"Mozilla/5.0 (compatible; MSIE 8.0; Windows NT 6.0; Trident/4.0; .NET CLR 2.7.58687; SLCC2; Media Center PC 5.0; Zune 3.4; Tablet PC 3.6; InfoPath.3)\",\n",
    "\"Content-Type\": \"application/x-www-form-urlencoded; charset=UTF-8\",\n",
    "\"Accept\": \"*/*\",\n",
    "\"X-Requested-With\": \"XMLHttpRequest\",\n",
    "\"Accept-Language\": \"en-US,en;q=0.8\",\n",
    "\"Cookie\":\"multivariate_bot=false; D_SID=18.111.93.191:XQebItn+Xbbs4fxri7rWUENSpuNpcQ10POuRhCUaoqA; ahoy_visitor=85c0aa9d-5741-41b0-90a1-66c2407480de; _gat=1; _gat_newTracker=1; __qca=P0-280926842-1448694800387; __uvt=; amplitude_idcrunchbase.com=eyJkZXZpY2VJZCI6ImZlMjZjYmRmLTBjOTMtNGRhYy04ZmFlLTAyMjA1N2M0MzE1ZiIsInVzZXJJZCI6bnVsbH0=; _ga=GA1.2.961691226.1448694800; D_PID=C2974EEC-C295-3B19-881B-3987D348B229; D_IID=A7BBC9FB-58FB-3614-BC42-DC78B9DE46E3; D_UID=176CC3F7-AB55-33C4-934C-F4E77DFD0092; D_HID=3oV+ttwuR6fu7G+eqiUjkdE6kogcj3jL6jqRRPj1Gsw; s_pers=%20s_fid%3D76E928CEE4BFCC75-18BBFE4C3FC0792F%7C1511853228786%3B%20s_getnr%3D1448694828797-New%7C1511766828797%3B%20s_nrgvo%3DNew%7C1511766828800%3B; s_sess=%20s_cc%3Dtrue%3B%20s_sq%3D%3B; uvts=3rLFEsKv57hLKgqX; ahoy_visit=3bfd8d5a-8f74-44ba-b962-9e3ec8223f7e; RT=sl=10&ss=1448694798233&tt=10870&obo=1&bcn=%2F%2F36cc248b.mpstat.us%2F&sh=1448695098621%3D10%3A1%3A10870%2C1448694830134%3D9%3A1%3A10840%2C1448694829092%3D8%3A1%3A10432%2C1448694826377%3D7%3A1%3A8406%2C1448694825821%3D6%3A1%3A8036&dm=crunchbase.com&si=60d1ff9b-5c80-4211-9ed3-061f33fd2b83&r=https%3A%2F%2Fwww.crunchbase.com%2Forganization%2Friskiq&ul=1448695104730\"\n",
    "}\n",
    "\n",
    "\n",
    "cb_request_headers = {\"Host\": \"www.crunchbase.com\",\n",
    "\"Connection\": \"keep-alive\",\n",
    "\"Cache-Control\": \"max-age=0\",\n",
    "\"Accept\": \"text/html,application/xhtml+xml,application/xml;q=0.9,image/webp,*/*;q=0.8\",\n",
    "\"Upgrade-Insecure-Requests\": \"1\",\n",
    "\"User-Agent\": \"Mozilla/5.0 (Macintosh; Intel Mac OS X 10_10_4) AppleWebKit/537.36 (KHTML, like Gecko) Chrome/46.0.2490.86 Safari/537.36\",\n",
    "\"DNT\": \"1\",\n",
    "\"Referer\": \"https://www.crunchbase.com/organization/riskiq\",\n",
    "\"Accept-Encoding\": \"gzip, deflate, sdch\",\n",
    "\"Accept-Language\": \"en-US,en;q=0.8\"}\n",
    "\n",
    "link = \"https://www.crunchbase.com/organization/riskiq\"\n",
    "request = urllib2.Request(link, headers=cb_request_headers)\n",
    "contents = urllib.urlopen(link).read()"
   ]
  },
  {
   "cell_type": "markdown",
   "metadata": {},
   "source": [
    "We creates headers the proper headers for accessing the data from Crunchbase and try to make a request. However, after running, this attempt to scrape the data does not work because of antiscraping software. "
   ]
  },
  {
   "cell_type": "code",
   "execution_count": null,
   "metadata": {
    "collapsed": true
   },
   "outputs": [],
   "source": [
    "from selenium import webdriver\n",
    "from selenium.webdriver.support.wait import WebDriverWait\n",
    "from selenium.webdriver.support import expected_conditions as EC\n",
    "from selenium.webdriver.common.by import By\n",
    "\n",
    "#cb_data = {}\n",
    "start = time.time()\n",
    "org_list = [\"riskiq\", \"pixalate\"]\n",
    "num_orgs = len(org_list)\n",
    "browser = webdriver.Firefox()\n",
    "#browser = webdriver.Chrome('/Users/candokevin/Downloads/chromedriver')\n",
    "\n",
    "for i in range(num_orgs):\n",
    "    org = org_list[i]\n",
    "    uri = \"https://www.crunchbase.com/organization/\" + org\n",
    "    browser.get(uri)\n",
    "    wait = WebDriverWait(browser, 30)\n",
    "    element = wait.until(EC.element_to_be_clickable((By.ID,'anchor-title')))\n",
    "    html_source = browser.page_source\n",
    "    soup = BeautifulSoup(html_source, \"lxml\")\n",
    "    fund_table = soup.find_all(\"div\", class_=\"funding_rounds\")\n",
    "    fund_table_rows = fund_table[0].find_all(\"tr\")    \n",
    "    description = soup.find_all(\"div\", class_=\"description-ellipsis\")\n",
    "    cb_data[org] = (description[0].text, [fund_table_rows[i].text for i in range(1, len(fund_table_rows))])\n",
    "    \n",
    "    # Timing and saving code\n",
    "    if i % 1 == 0:\n",
    "        mins = (time.time() - start) / 60\n",
    "        print 'Percent progress ' + str(100 * float(i) / num_orgs) + ' running for ' + str(mins) + ' mins'\n",
    "        backup(cb_data, i)\n",
    "    time.sleep(5)\n",
    "        \n",
    "browser.quit()"
   ]
  },
  {
   "cell_type": "markdown",
   "metadata": {},
   "source": [
    "Also attempted to run scrapers using the external library Selenium. However, Crunchbase has anti-scraping software that prevents you from using these types of methods. We requested access to the Crunchbase API, but never heard back. Consequently, we used Angel data instead."
   ]
  },
  {
   "cell_type": "code",
   "execution_count": null,
   "metadata": {
    "collapsed": true
   },
   "outputs": [],
   "source": []
  }
 ],
 "metadata": {
  "kernelspec": {
   "display_name": "Python 2",
   "language": "python",
   "name": "python2"
  },
  "language_info": {
   "codemirror_mode": {
    "name": "ipython",
    "version": 2
   },
   "file_extension": ".py",
   "mimetype": "text/x-python",
   "name": "python",
   "nbconvert_exporter": "python",
   "pygments_lexer": "ipython2",
   "version": "2.7.10"
  }
 },
 "nbformat": 4,
 "nbformat_minor": 0
}
